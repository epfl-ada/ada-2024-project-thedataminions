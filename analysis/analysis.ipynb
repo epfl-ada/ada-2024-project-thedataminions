{
 "cells": [
  {
   "cell_type": "markdown",
   "metadata": {},
   "source": [
    "# Imports"
   ]
  },
  {
   "cell_type": "code",
   "execution_count": 3,
   "metadata": {},
   "outputs": [
    {
     "data": {
      "text/plain": [
       "<module 'utils' from '/Users/lams/Desktop/ADA2024/ada-2024-project-thedataminions/analysis/utils.py'>"
      ]
     },
     "execution_count": 3,
     "metadata": {},
     "output_type": "execute_result"
    }
   ],
   "source": [
    "import pandas as pd\n",
    "import numpy as np\n",
    "import matplotlib.pyplot as plt\n",
    "import time\n",
    "import importlib\n",
    "import seaborn as sns\n",
    "import gc  # garbage collector\n",
    "import os\n",
    "\n",
    "from typing import List\n",
    "\n",
    "import utils as dp  # own functions and logic\n",
    "importlib.reload(dp)  # this makes it so that \n",
    "                      # the file with our functions is re-read every time, \n",
    "                      # in case we have made modifications"
   ]
  },
  {
   "cell_type": "markdown",
   "metadata": {},
   "source": [
    "# Configure path to data files"
   ]
  },
  {
   "cell_type": "code",
   "execution_count": 4,
   "metadata": {},
   "outputs": [],
   "source": [
    "# define the path to the folder where the YouNiverse dataset is stored here\n",
    "\n",
    "# when adding your own path, don't remove the existing path, just comment it\n",
    "# in this way, everyone can quickly uncomment their own path\n",
    "#dataset_root_path = \"/media/andreas/Backup Plus/Ada/youniverse_dataset/\"   #andreas\n",
    "#dataset_root_path = \"D:/ada_project/dataset/\"                                    #mila\n",
    "# dataset_root_path = \"/Volumes/DISQUE_SAUVEGARDE_MANON_LANDRIEUX/dataset/\"  #manon\n",
    "dataset_root_path = \"/Volumes/Backup/Youniverse_dataset/\" #Lou-Anne "
   ]
  },
  {
   "cell_type": "markdown",
   "metadata": {},
   "source": [
    "# Preprocessing\n",
    "\n",
    "## Loading the data - done in order to know how the data looks like"
   ]
  },
  {
   "cell_type": "code",
   "execution_count": 5,
   "metadata": {},
   "outputs": [],
   "source": [
    "# load channel data (no chunks needed, as the file is not very large)\n",
    "\n",
    "\n",
    "df_channels = pd.read_csv(dataset_root_path + \"df_channels_en.tsv.gz\", compression=\"infer\", sep=\"\\t\") "
   ]
  },
  {
   "cell_type": "code",
   "execution_count": 6,
   "metadata": {},
   "outputs": [],
   "source": [
    "# load a small part of video and comment data, to try functions on them etc.\n",
    "# these datasets should not be used for calculations, as they don't contain all the data\n",
    "\n",
    "# load (first 100000 rows of) video data\n",
    "\n",
    "df_videos = pd.read_json(dataset_root_path + \"yt_metadata_en.jsonl.gz\", compression=\"infer\", lines=True, nrows=100000) \n",
    "\n",
    "# load (first 1000000 rows of) comment data\n",
    "\n",
    "df_comments = pd.read_csv(dataset_root_path + \"youtube_comments.tsv.gz\", compression=\"infer\", sep=\"\\t\", nrows=1000000)"
   ]
  },
  {
   "cell_type": "code",
   "execution_count": 7,
   "metadata": {},
   "outputs": [],
   "source": [
    "def videos_in_chunks( chunksize: int = 100000) -> pd.io.json._json.JsonReader:\n",
    "    \"\"\"\n",
    "    Returns a Json reader which can be iterated through, to get chunks of the (unfiltered) video dataset.\n",
    "\n",
    "    Args:\n",
    "        chunksize: number of entries in each chunk\n",
    "\n",
    "    Returns:\n",
    "        the Json reader\n",
    "    \"\"\"\n",
    "    return pd.read_json(dataset_root_path + \"yt_metadata_en.jsonl.gz\", \n",
    "                        compression=\"infer\", lines=True, chunksize=chunksize, )\n",
    "                        # nrows=1000000, )   # uncomment this to only use the first million videos, for testing\n",
    "                                           # (remove the paranthesis above as well)\n",
    "\n",
    "def comments_in_chunks(chunksize: int = 1000000) -> pd.io.parsers.readers.TextFileReader:\n",
    "    \"\"\"\n",
    "    Returns a CSV reader which can be iterated through, to get chunks of the (unfiltered) comment dataset.\n",
    "\n",
    "    Args:\n",
    "        chunksize: number of entries in each chunk\n",
    "\n",
    "    Returns:\n",
    "        the CSV reader\n",
    "    \"\"\"\n",
    "    return pd.read_csv(dataset_root_path + \"youtube_comments.tsv.gz\", \n",
    "                       compression=\"infer\", sep=\"\\t\", chunksize=chunksize, )\n",
    "                    #    nrows = 10000000)  # uncomment this to only use the first 10 million comments, for testing\n",
    "                                            # (remove the paranthesis above as well)"
   ]
  },
  {
   "cell_type": "markdown",
   "metadata": {},
   "source": [
    "## Filtering for NaNs,empty values and possible spaces"
   ]
  },
  {
   "cell_type": "markdown",
   "metadata": {},
   "source": [
    "## 1. Analyzing if filtering is needed"
   ]
  },
  {
   "cell_type": "code",
   "execution_count": 12,
   "metadata": {},
   "outputs": [],
   "source": [
    "#to create the filepath for the different get entries below , need to have \"../generated_data\" which exists:\n",
    "\n",
    "# Define the path to the directory\n",
    "output_dir = os.path.join(dataset_root_path, \"../generated_data\")\n",
    "\n",
    "# Create the directory if it doesn't exist\n",
    "os.makedirs(output_dir, exist_ok=True)"
   ]
  },
  {
   "cell_type": "markdown",
   "metadata": {},
   "source": [
    "### a. Youtube Comments "
   ]
  },
  {
   "cell_type": "code",
   "execution_count": 28,
   "metadata": {},
   "outputs": [
    {
     "name": "stdout",
     "output_type": "stream",
     "text": [
      "Going through chunk 0...\n",
      "The first 1000000 entries have been processed. 8599000000 left.\n",
      "3.981 secs per chunk on average. Meaning  570.603 minutes left.\n",
      "Going through chunk 1...\n",
      "The first 2000000 entries have been processed. 8598000000 left.\n",
      "5.661 secs per chunk on average. Meaning  811.284 minutes left.\n",
      "Going through chunk 2...\n",
      "The first 3000000 entries have been processed. 8597000000 left.\n",
      "4.693 secs per chunk on average. Meaning  672.491 minutes left.\n",
      "Going through chunk 3...\n",
      "The first 4000000 entries have been processed. 8596000000 left.\n",
      "4.201 secs per chunk on average. Meaning  601.808 minutes left.\n",
      "Going through chunk 4...\n",
      "The first 5000000 entries have been processed. 8595000000 left.\n",
      "3.921 secs per chunk on average. Meaning  561.649 minutes left.\n",
      "Going through chunk 5...\n",
      "The first 6000000 entries have been processed. 8594000000 left.\n",
      "3.706 secs per chunk on average. Meaning  530.758 minutes left.\n",
      "Going through chunk 6...\n",
      "The first 7000000 entries have been processed. 8593000000 left.\n",
      "3.581 secs per chunk on average. Meaning  512.917 minutes left.\n",
      "Going through chunk 7...\n",
      "The first 8000000 entries have been processed. 8592000000 left.\n",
      "3.474 secs per chunk on average. Meaning  497.516 minutes left.\n",
      "Going through chunk 8...\n",
      "The first 9000000 entries have been processed. 8591000000 left.\n",
      "3.390 secs per chunk on average. Meaning  485.377 minutes left.\n",
      "Going through chunk 9...\n",
      "The first 10000000 entries have been processed. 8590000000 left.\n",
      "3.499 secs per chunk on average. Meaning  500.920 minutes left.\n",
      "Going through chunk 10...\n",
      "The first 11000000 entries have been processed. 8589000000 left.\n",
      "3.784 secs per chunk on average. Meaning  541.673 minutes left.\n",
      "Going through chunk 11...\n",
      "The first 12000000 entries have been processed. 8588000000 left.\n",
      "3.900 secs per chunk on average. Meaning  558.225 minutes left.\n",
      "Going through chunk 12...\n",
      "The first 13000000 entries have been processed. 8587000000 left.\n",
      "4.001 secs per chunk on average. Meaning  572.599 minutes left.\n",
      "Going through chunk 13...\n"
     ]
    },
    {
     "ename": "KeyboardInterrupt",
     "evalue": "",
     "output_type": "error",
     "traceback": [
      "\u001b[0;31m---------------------------------------------------------------------------\u001b[0m",
      "\u001b[0;31mFileNotFoundError\u001b[0m                         Traceback (most recent call last)",
      "Cell \u001b[0;32mIn[28], line 6\u001b[0m\n\u001b[1;32m      5\u001b[0m \u001b[38;5;28;01mtry\u001b[39;00m:  \u001b[38;5;66;03m# try to read the data from file\u001b[39;00m\n\u001b[0;32m----> 6\u001b[0m     df_nans_empty_space_in_comments \u001b[38;5;241m=\u001b[39m \u001b[43mpd\u001b[49m\u001b[38;5;241;43m.\u001b[39;49m\u001b[43mread_csv\u001b[49m\u001b[43m(\u001b[49m\u001b[43mnans_empty_space_comments_filepath\u001b[49m\u001b[43m)\u001b[49m\n\u001b[1;32m      7\u001b[0m \u001b[38;5;28;01mexcept\u001b[39;00m \u001b[38;5;167;01mFileNotFoundError\u001b[39;00m:  \u001b[38;5;66;03m# if the file is not found...\u001b[39;00m\n\u001b[1;32m      8\u001b[0m     \u001b[38;5;66;03m# ... then generate the file\u001b[39;00m\n",
      "File \u001b[0;32m~/miniforge3/envs/ada/lib/python3.11/site-packages/pandas/io/parsers/readers.py:1026\u001b[0m, in \u001b[0;36mread_csv\u001b[0;34m(filepath_or_buffer, sep, delimiter, header, names, index_col, usecols, dtype, engine, converters, true_values, false_values, skipinitialspace, skiprows, skipfooter, nrows, na_values, keep_default_na, na_filter, verbose, skip_blank_lines, parse_dates, infer_datetime_format, keep_date_col, date_parser, date_format, dayfirst, cache_dates, iterator, chunksize, compression, thousands, decimal, lineterminator, quotechar, quoting, doublequote, escapechar, comment, encoding, encoding_errors, dialect, on_bad_lines, delim_whitespace, low_memory, memory_map, float_precision, storage_options, dtype_backend)\u001b[0m\n\u001b[1;32m   1024\u001b[0m kwds\u001b[38;5;241m.\u001b[39mupdate(kwds_defaults)\n\u001b[0;32m-> 1026\u001b[0m \u001b[38;5;28;01mreturn\u001b[39;00m \u001b[43m_read\u001b[49m\u001b[43m(\u001b[49m\u001b[43mfilepath_or_buffer\u001b[49m\u001b[43m,\u001b[49m\u001b[43m \u001b[49m\u001b[43mkwds\u001b[49m\u001b[43m)\u001b[49m\n",
      "File \u001b[0;32m~/miniforge3/envs/ada/lib/python3.11/site-packages/pandas/io/parsers/readers.py:620\u001b[0m, in \u001b[0;36m_read\u001b[0;34m(filepath_or_buffer, kwds)\u001b[0m\n\u001b[1;32m    619\u001b[0m \u001b[38;5;66;03m# Create the parser.\u001b[39;00m\n\u001b[0;32m--> 620\u001b[0m parser \u001b[38;5;241m=\u001b[39m \u001b[43mTextFileReader\u001b[49m\u001b[43m(\u001b[49m\u001b[43mfilepath_or_buffer\u001b[49m\u001b[43m,\u001b[49m\u001b[43m \u001b[49m\u001b[38;5;241;43m*\u001b[39;49m\u001b[38;5;241;43m*\u001b[39;49m\u001b[43mkwds\u001b[49m\u001b[43m)\u001b[49m\n\u001b[1;32m    622\u001b[0m \u001b[38;5;28;01mif\u001b[39;00m chunksize \u001b[38;5;129;01mor\u001b[39;00m iterator:\n",
      "File \u001b[0;32m~/miniforge3/envs/ada/lib/python3.11/site-packages/pandas/io/parsers/readers.py:1620\u001b[0m, in \u001b[0;36mTextFileReader.__init__\u001b[0;34m(self, f, engine, **kwds)\u001b[0m\n\u001b[1;32m   1619\u001b[0m \u001b[38;5;28mself\u001b[39m\u001b[38;5;241m.\u001b[39mhandles: IOHandles \u001b[38;5;241m|\u001b[39m \u001b[38;5;28;01mNone\u001b[39;00m \u001b[38;5;241m=\u001b[39m \u001b[38;5;28;01mNone\u001b[39;00m\n\u001b[0;32m-> 1620\u001b[0m \u001b[38;5;28mself\u001b[39m\u001b[38;5;241m.\u001b[39m_engine \u001b[38;5;241m=\u001b[39m \u001b[38;5;28;43mself\u001b[39;49m\u001b[38;5;241;43m.\u001b[39;49m\u001b[43m_make_engine\u001b[49m\u001b[43m(\u001b[49m\u001b[43mf\u001b[49m\u001b[43m,\u001b[49m\u001b[43m \u001b[49m\u001b[38;5;28;43mself\u001b[39;49m\u001b[38;5;241;43m.\u001b[39;49m\u001b[43mengine\u001b[49m\u001b[43m)\u001b[49m\n",
      "File \u001b[0;32m~/miniforge3/envs/ada/lib/python3.11/site-packages/pandas/io/parsers/readers.py:1880\u001b[0m, in \u001b[0;36mTextFileReader._make_engine\u001b[0;34m(self, f, engine)\u001b[0m\n\u001b[1;32m   1879\u001b[0m         mode \u001b[38;5;241m+\u001b[39m\u001b[38;5;241m=\u001b[39m \u001b[38;5;124m\"\u001b[39m\u001b[38;5;124mb\u001b[39m\u001b[38;5;124m\"\u001b[39m\n\u001b[0;32m-> 1880\u001b[0m \u001b[38;5;28mself\u001b[39m\u001b[38;5;241m.\u001b[39mhandles \u001b[38;5;241m=\u001b[39m \u001b[43mget_handle\u001b[49m\u001b[43m(\u001b[49m\n\u001b[1;32m   1881\u001b[0m \u001b[43m    \u001b[49m\u001b[43mf\u001b[49m\u001b[43m,\u001b[49m\n\u001b[1;32m   1882\u001b[0m \u001b[43m    \u001b[49m\u001b[43mmode\u001b[49m\u001b[43m,\u001b[49m\n\u001b[1;32m   1883\u001b[0m \u001b[43m    \u001b[49m\u001b[43mencoding\u001b[49m\u001b[38;5;241;43m=\u001b[39;49m\u001b[38;5;28;43mself\u001b[39;49m\u001b[38;5;241;43m.\u001b[39;49m\u001b[43moptions\u001b[49m\u001b[38;5;241;43m.\u001b[39;49m\u001b[43mget\u001b[49m\u001b[43m(\u001b[49m\u001b[38;5;124;43m\"\u001b[39;49m\u001b[38;5;124;43mencoding\u001b[39;49m\u001b[38;5;124;43m\"\u001b[39;49m\u001b[43m,\u001b[49m\u001b[43m \u001b[49m\u001b[38;5;28;43;01mNone\u001b[39;49;00m\u001b[43m)\u001b[49m\u001b[43m,\u001b[49m\n\u001b[1;32m   1884\u001b[0m \u001b[43m    \u001b[49m\u001b[43mcompression\u001b[49m\u001b[38;5;241;43m=\u001b[39;49m\u001b[38;5;28;43mself\u001b[39;49m\u001b[38;5;241;43m.\u001b[39;49m\u001b[43moptions\u001b[49m\u001b[38;5;241;43m.\u001b[39;49m\u001b[43mget\u001b[49m\u001b[43m(\u001b[49m\u001b[38;5;124;43m\"\u001b[39;49m\u001b[38;5;124;43mcompression\u001b[39;49m\u001b[38;5;124;43m\"\u001b[39;49m\u001b[43m,\u001b[49m\u001b[43m \u001b[49m\u001b[38;5;28;43;01mNone\u001b[39;49;00m\u001b[43m)\u001b[49m\u001b[43m,\u001b[49m\n\u001b[1;32m   1885\u001b[0m \u001b[43m    \u001b[49m\u001b[43mmemory_map\u001b[49m\u001b[38;5;241;43m=\u001b[39;49m\u001b[38;5;28;43mself\u001b[39;49m\u001b[38;5;241;43m.\u001b[39;49m\u001b[43moptions\u001b[49m\u001b[38;5;241;43m.\u001b[39;49m\u001b[43mget\u001b[49m\u001b[43m(\u001b[49m\u001b[38;5;124;43m\"\u001b[39;49m\u001b[38;5;124;43mmemory_map\u001b[39;49m\u001b[38;5;124;43m\"\u001b[39;49m\u001b[43m,\u001b[49m\u001b[43m \u001b[49m\u001b[38;5;28;43;01mFalse\u001b[39;49;00m\u001b[43m)\u001b[49m\u001b[43m,\u001b[49m\n\u001b[1;32m   1886\u001b[0m \u001b[43m    \u001b[49m\u001b[43mis_text\u001b[49m\u001b[38;5;241;43m=\u001b[39;49m\u001b[43mis_text\u001b[49m\u001b[43m,\u001b[49m\n\u001b[1;32m   1887\u001b[0m \u001b[43m    \u001b[49m\u001b[43merrors\u001b[49m\u001b[38;5;241;43m=\u001b[39;49m\u001b[38;5;28;43mself\u001b[39;49m\u001b[38;5;241;43m.\u001b[39;49m\u001b[43moptions\u001b[49m\u001b[38;5;241;43m.\u001b[39;49m\u001b[43mget\u001b[49m\u001b[43m(\u001b[49m\u001b[38;5;124;43m\"\u001b[39;49m\u001b[38;5;124;43mencoding_errors\u001b[39;49m\u001b[38;5;124;43m\"\u001b[39;49m\u001b[43m,\u001b[49m\u001b[43m \u001b[49m\u001b[38;5;124;43m\"\u001b[39;49m\u001b[38;5;124;43mstrict\u001b[39;49m\u001b[38;5;124;43m\"\u001b[39;49m\u001b[43m)\u001b[49m\u001b[43m,\u001b[49m\n\u001b[1;32m   1888\u001b[0m \u001b[43m    \u001b[49m\u001b[43mstorage_options\u001b[49m\u001b[38;5;241;43m=\u001b[39;49m\u001b[38;5;28;43mself\u001b[39;49m\u001b[38;5;241;43m.\u001b[39;49m\u001b[43moptions\u001b[49m\u001b[38;5;241;43m.\u001b[39;49m\u001b[43mget\u001b[49m\u001b[43m(\u001b[49m\u001b[38;5;124;43m\"\u001b[39;49m\u001b[38;5;124;43mstorage_options\u001b[39;49m\u001b[38;5;124;43m\"\u001b[39;49m\u001b[43m,\u001b[49m\u001b[43m \u001b[49m\u001b[38;5;28;43;01mNone\u001b[39;49;00m\u001b[43m)\u001b[49m\u001b[43m,\u001b[49m\n\u001b[1;32m   1889\u001b[0m \u001b[43m\u001b[49m\u001b[43m)\u001b[49m\n\u001b[1;32m   1890\u001b[0m \u001b[38;5;28;01massert\u001b[39;00m \u001b[38;5;28mself\u001b[39m\u001b[38;5;241m.\u001b[39mhandles \u001b[38;5;129;01mis\u001b[39;00m \u001b[38;5;129;01mnot\u001b[39;00m \u001b[38;5;28;01mNone\u001b[39;00m\n",
      "File \u001b[0;32m~/miniforge3/envs/ada/lib/python3.11/site-packages/pandas/io/common.py:873\u001b[0m, in \u001b[0;36mget_handle\u001b[0;34m(path_or_buf, mode, encoding, compression, memory_map, is_text, errors, storage_options)\u001b[0m\n\u001b[1;32m    871\u001b[0m \u001b[38;5;28;01mif\u001b[39;00m ioargs\u001b[38;5;241m.\u001b[39mencoding \u001b[38;5;129;01mand\u001b[39;00m \u001b[38;5;124m\"\u001b[39m\u001b[38;5;124mb\u001b[39m\u001b[38;5;124m\"\u001b[39m \u001b[38;5;129;01mnot\u001b[39;00m \u001b[38;5;129;01min\u001b[39;00m ioargs\u001b[38;5;241m.\u001b[39mmode:\n\u001b[1;32m    872\u001b[0m     \u001b[38;5;66;03m# Encoding\u001b[39;00m\n\u001b[0;32m--> 873\u001b[0m     handle \u001b[38;5;241m=\u001b[39m \u001b[38;5;28mopen\u001b[39m(\n\u001b[1;32m    874\u001b[0m         handle,\n\u001b[1;32m    875\u001b[0m         ioargs\u001b[38;5;241m.\u001b[39mmode,\n\u001b[1;32m    876\u001b[0m         encoding\u001b[38;5;241m=\u001b[39mioargs\u001b[38;5;241m.\u001b[39mencoding,\n\u001b[1;32m    877\u001b[0m         errors\u001b[38;5;241m=\u001b[39merrors,\n\u001b[1;32m    878\u001b[0m         newline\u001b[38;5;241m=\u001b[39m\u001b[38;5;124m\"\u001b[39m\u001b[38;5;124m\"\u001b[39m,\n\u001b[1;32m    879\u001b[0m     )\n\u001b[1;32m    880\u001b[0m \u001b[38;5;28;01melse\u001b[39;00m:\n\u001b[1;32m    881\u001b[0m     \u001b[38;5;66;03m# Binary mode\u001b[39;00m\n",
      "\u001b[0;31mFileNotFoundError\u001b[0m: [Errno 2] No such file or directory: '/media/andreas/Backup Plus/Ada/youniverse_dataset/../generated_data/nan_empty_space_rows_in_comment_dataset.csv'",
      "\nDuring handling of the above exception, another exception occurred:\n",
      "\u001b[0;31mKeyboardInterrupt\u001b[0m                         Traceback (most recent call last)",
      "Cell \u001b[0;32mIn[28], line 9\u001b[0m\n\u001b[1;32m      6\u001b[0m     df_nans_empty_space_in_comments \u001b[38;5;241m=\u001b[39m pd\u001b[38;5;241m.\u001b[39mread_csv(nans_empty_space_comments_filepath)\n\u001b[1;32m      7\u001b[0m \u001b[38;5;28;01mexcept\u001b[39;00m \u001b[38;5;167;01mFileNotFoundError\u001b[39;00m:  \u001b[38;5;66;03m# if the file is not found...\u001b[39;00m\n\u001b[1;32m      8\u001b[0m     \u001b[38;5;66;03m# ... then generate the file\u001b[39;00m\n\u001b[0;32m----> 9\u001b[0m     df_nans_empty_space_in_comments \u001b[38;5;241m=\u001b[39m \u001b[43mdp\u001b[49m\u001b[38;5;241;43m.\u001b[39;49m\u001b[43mrun_simple_function_on_chunks_concat\u001b[49m\u001b[43m(\u001b[49m\u001b[43mcomments_in_chunks\u001b[49m\u001b[43m(\u001b[49m\u001b[38;5;241;43m1000000\u001b[39;49m\u001b[43m)\u001b[49m\u001b[43m,\u001b[49m\u001b[43m \u001b[49m\n\u001b[1;32m     10\u001b[0m \u001b[43m                                                                              \u001b[49m\u001b[38;5;28;43;01mlambda\u001b[39;49;00m\u001b[43m \u001b[49m\u001b[43mx\u001b[49m\u001b[43m:\u001b[49m\u001b[43m \u001b[49m\u001b[43mdp\u001b[49m\u001b[38;5;241;43m.\u001b[39;49m\u001b[43mget_na_empty_space_entries\u001b[49m\u001b[43m(\u001b[49m\u001b[43mx\u001b[49m\u001b[43m,\u001b[49m\u001b[43m \u001b[49m\u001b[38;5;124;43m\"\u001b[39;49m\u001b[38;5;124;43many\u001b[39;49m\u001b[38;5;124;43m\"\u001b[39;49m\u001b[43m,\u001b[49m\u001b[43m \u001b[49m\u001b[43mreverse\u001b[49m\u001b[38;5;241;43m=\u001b[39;49m\u001b[38;5;28;43;01mFalse\u001b[39;49;00m\u001b[43m)\u001b[49m\u001b[43m,\u001b[49m\n\u001b[1;32m     11\u001b[0m \u001b[43m                                                                              \u001b[49m\u001b[43mprint_time\u001b[49m\u001b[38;5;241;43m=\u001b[39;49m\u001b[43m(\u001b[49m\u001b[38;5;241;43m1000000\u001b[39;49m\u001b[43m,\u001b[49m\u001b[43m \u001b[49m\u001b[38;5;241;43m8600000000\u001b[39;49m\u001b[43m)\u001b[49m\u001b[43m)\u001b[49m\n\u001b[1;32m     13\u001b[0m     df_nans_empty_space_in_comments\u001b[38;5;241m.\u001b[39mto_csv(nans_empty_space_comments_filepath, index\u001b[38;5;241m=\u001b[39m\u001b[38;5;28;01mFalse\u001b[39;00m)\n",
      "File \u001b[0;32m~/Nextcloud/Dokumente/Uni/Module/3sem-EPFL/ada/Project/ada-2024-project-thedataminions/analysis/utils.py:84\u001b[0m, in \u001b[0;36mrun_simple_function_on_chunks_concat\u001b[0;34m(reader, fct, print_time, save, save_every, compress)\u001b[0m\n\u001b[1;32m     82\u001b[0m \u001b[38;5;28;01mfor\u001b[39;00m i, chunk \u001b[38;5;129;01min\u001b[39;00m \u001b[38;5;28menumerate\u001b[39m(reader):\n\u001b[1;32m     83\u001b[0m     \u001b[38;5;28mprint\u001b[39m(\u001b[38;5;124mf\u001b[39m\u001b[38;5;124m\"\u001b[39m\u001b[38;5;124mGoing through chunk \u001b[39m\u001b[38;5;132;01m{\u001b[39;00mi\u001b[38;5;132;01m}\u001b[39;00m\u001b[38;5;124m...\u001b[39m\u001b[38;5;124m\"\u001b[39m)\n\u001b[0;32m---> 84\u001b[0m     result \u001b[38;5;241m=\u001b[39m pd\u001b[38;5;241m.\u001b[39mconcat([result, \u001b[43mfct\u001b[49m\u001b[43m(\u001b[49m\u001b[43mchunk\u001b[49m\u001b[43m)\u001b[49m])\n\u001b[1;32m     85\u001b[0m     \u001b[38;5;28;01mif\u001b[39;00m \u001b[38;5;129;01mnot\u001b[39;00m \u001b[38;5;129;01mnot\u001b[39;00m save_every:\n\u001b[1;32m     86\u001b[0m         \u001b[38;5;28;01mif\u001b[39;00m (i\u001b[38;5;241m+\u001b[39m\u001b[38;5;241m1\u001b[39m) \u001b[38;5;241m%\u001b[39m save_every \u001b[38;5;241m==\u001b[39m \u001b[38;5;241m0\u001b[39m:\n",
      "Cell \u001b[0;32mIn[28], line 10\u001b[0m, in \u001b[0;36m<lambda>\u001b[0;34m(x)\u001b[0m\n\u001b[1;32m      6\u001b[0m     df_nans_empty_space_in_comments \u001b[38;5;241m=\u001b[39m pd\u001b[38;5;241m.\u001b[39mread_csv(nans_empty_space_comments_filepath)\n\u001b[1;32m      7\u001b[0m \u001b[38;5;28;01mexcept\u001b[39;00m \u001b[38;5;167;01mFileNotFoundError\u001b[39;00m:  \u001b[38;5;66;03m# if the file is not found...\u001b[39;00m\n\u001b[1;32m      8\u001b[0m     \u001b[38;5;66;03m# ... then generate the file\u001b[39;00m\n\u001b[1;32m      9\u001b[0m     df_nans_empty_space_in_comments \u001b[38;5;241m=\u001b[39m dp\u001b[38;5;241m.\u001b[39mrun_simple_function_on_chunks_concat(comments_in_chunks(\u001b[38;5;241m1000000\u001b[39m), \n\u001b[0;32m---> 10\u001b[0m                                                                               \u001b[38;5;28;01mlambda\u001b[39;00m x: \u001b[43mdp\u001b[49m\u001b[38;5;241;43m.\u001b[39;49m\u001b[43mget_na_empty_space_entries\u001b[49m\u001b[43m(\u001b[49m\u001b[43mx\u001b[49m\u001b[43m,\u001b[49m\u001b[43m \u001b[49m\u001b[38;5;124;43m\"\u001b[39;49m\u001b[38;5;124;43many\u001b[39;49m\u001b[38;5;124;43m\"\u001b[39;49m\u001b[43m,\u001b[49m\u001b[43m \u001b[49m\u001b[43mreverse\u001b[49m\u001b[38;5;241;43m=\u001b[39;49m\u001b[38;5;28;43;01mFalse\u001b[39;49;00m\u001b[43m)\u001b[49m,\n\u001b[1;32m     11\u001b[0m                                                                               print_time\u001b[38;5;241m=\u001b[39m(\u001b[38;5;241m1000000\u001b[39m, \u001b[38;5;241m8600000000\u001b[39m))\n\u001b[1;32m     13\u001b[0m     df_nans_empty_space_in_comments\u001b[38;5;241m.\u001b[39mto_csv(nans_empty_space_comments_filepath, index\u001b[38;5;241m=\u001b[39m\u001b[38;5;28;01mFalse\u001b[39;00m)\n",
      "File \u001b[0;32m~/Nextcloud/Dokumente/Uni/Module/3sem-EPFL/ada/Project/ada-2024-project-thedataminions/analysis/utils.py:407\u001b[0m, in \u001b[0;36mget_na_empty_space_entries\u001b[0;34m(data, col, reverse)\u001b[0m\n\u001b[1;32m    404\u001b[0m empty_entries \u001b[38;5;241m=\u001b[39m get_empty_entries(data, col, reverse)\n\u001b[1;32m    405\u001b[0m empty_entries[\u001b[38;5;124m'\u001b[39m\u001b[38;5;124mchar\u001b[39m\u001b[38;5;124m'\u001b[39m] \u001b[38;5;241m=\u001b[39m \u001b[38;5;124m'\u001b[39m\u001b[38;5;124mempty\u001b[39m\u001b[38;5;124m'\u001b[39m\n\u001b[0;32m--> 407\u001b[0m space_entries \u001b[38;5;241m=\u001b[39m \u001b[43mget_space_entries\u001b[49m\u001b[43m(\u001b[49m\u001b[43mdata\u001b[49m\u001b[43m,\u001b[49m\u001b[43m \u001b[49m\u001b[43mcol\u001b[49m\u001b[43m,\u001b[49m\u001b[43m \u001b[49m\u001b[43mreverse\u001b[49m\u001b[43m)\u001b[49m\n\u001b[1;32m    408\u001b[0m space_entries[\u001b[38;5;124m'\u001b[39m\u001b[38;5;124mchar\u001b[39m\u001b[38;5;124m'\u001b[39m] \u001b[38;5;241m=\u001b[39m \u001b[38;5;124m'\u001b[39m\u001b[38;5;124mempty\u001b[39m\u001b[38;5;124m'\u001b[39m\n\u001b[1;32m    410\u001b[0m \u001b[38;5;28;01mreturn\u001b[39;00m pd\u001b[38;5;241m.\u001b[39mconcat([na_entries,\n\u001b[1;32m    411\u001b[0m                   empty_entries,\n\u001b[1;32m    412\u001b[0m                   space_entries])\n",
      "File \u001b[0;32m~/Nextcloud/Dokumente/Uni/Module/3sem-EPFL/ada/Project/ada-2024-project-thedataminions/analysis/utils.py:365\u001b[0m, in \u001b[0;36mget_space_entries\u001b[0;34m(data, col, reverse)\u001b[0m\n\u001b[1;32m    345\u001b[0m \u001b[38;5;250m\u001b[39m\u001b[38;5;124;03m\"\"\"\u001b[39;00m\n\u001b[1;32m    346\u001b[0m \u001b[38;5;124;03mFilters a dataframe to return only rows with space elements (using specific condition).\u001b[39;00m\n\u001b[1;32m    347\u001b[0m \u001b[38;5;124;03mCan be specified to either return rows where any entry is a space, or rows where a specified column is a space, or where all columns are composed of space.\u001b[39;00m\n\u001b[0;32m   (...)\u001b[0m\n\u001b[1;32m    359\u001b[0m \u001b[38;5;124;03m    the filtered dataframe\u001b[39;00m\n\u001b[1;32m    360\u001b[0m \u001b[38;5;124;03m\"\"\"\u001b[39;00m\n\u001b[1;32m    361\u001b[0m \u001b[38;5;66;03m# # Check for empty strings ('' or ' ') by using .str.strip() to remove spaces\u001b[39;00m\n\u001b[1;32m    362\u001b[0m \u001b[38;5;66;03m# space_check = data.applymap(lambda x: str(x).strip() == ' ')\u001b[39;00m\n\u001b[1;32m    363\u001b[0m \n\u001b[1;32m    364\u001b[0m \u001b[38;5;66;03m# Check for space strings (' ')\u001b[39;00m\n\u001b[0;32m--> 365\u001b[0m space_check \u001b[38;5;241m=\u001b[39m \u001b[43mdata\u001b[49m\u001b[38;5;241;43m.\u001b[39;49m\u001b[43mmap\u001b[49m\u001b[43m(\u001b[49m\u001b[38;5;28;43;01mlambda\u001b[39;49;00m\u001b[43m \u001b[49m\u001b[43mx\u001b[49m\u001b[43m:\u001b[49m\u001b[43m \u001b[49m\u001b[38;5;28;43mstr\u001b[39;49m\u001b[43m(\u001b[49m\u001b[43mx\u001b[49m\u001b[43m)\u001b[49m\u001b[43m \u001b[49m\u001b[38;5;241;43m==\u001b[39;49m\u001b[43m \u001b[49m\u001b[38;5;124;43m'\u001b[39;49m\u001b[38;5;124;43m \u001b[39;49m\u001b[38;5;124;43m'\u001b[39;49m\u001b[43m)\u001b[49m  \u001b[38;5;66;03m# I removed the .strip() because I think it would never return anything otherwise\u001b[39;00m\n\u001b[1;32m    367\u001b[0m \u001b[38;5;28;01mif\u001b[39;00m col \u001b[38;5;241m==\u001b[39m \u001b[38;5;124m\"\u001b[39m\u001b[38;5;124many\u001b[39m\u001b[38;5;124m\"\u001b[39m:\n\u001b[1;32m    368\u001b[0m     \u001b[38;5;28;01mif\u001b[39;00m \u001b[38;5;129;01mnot\u001b[39;00m reverse:\n",
      "File \u001b[0;32m~/miniforge3/envs/ada/lib/python3.11/site-packages/pandas/core/frame.py:10468\u001b[0m, in \u001b[0;36mDataFrame.map\u001b[0;34m(self, func, na_action, **kwargs)\u001b[0m\n\u001b[1;32m  10465\u001b[0m \u001b[38;5;28;01mdef\u001b[39;00m \u001b[38;5;21minfer\u001b[39m(x):\n\u001b[1;32m  10466\u001b[0m     \u001b[38;5;28;01mreturn\u001b[39;00m x\u001b[38;5;241m.\u001b[39m_map_values(func, na_action\u001b[38;5;241m=\u001b[39mna_action)\n\u001b[0;32m> 10468\u001b[0m \u001b[38;5;28;01mreturn\u001b[39;00m \u001b[38;5;28;43mself\u001b[39;49m\u001b[38;5;241;43m.\u001b[39;49m\u001b[43mapply\u001b[49m\u001b[43m(\u001b[49m\u001b[43minfer\u001b[49m\u001b[43m)\u001b[49m\u001b[38;5;241m.\u001b[39m__finalize__(\u001b[38;5;28mself\u001b[39m, \u001b[38;5;124m\"\u001b[39m\u001b[38;5;124mmap\u001b[39m\u001b[38;5;124m\"\u001b[39m)\n",
      "File \u001b[0;32m~/miniforge3/envs/ada/lib/python3.11/site-packages/pandas/core/frame.py:10374\u001b[0m, in \u001b[0;36mDataFrame.apply\u001b[0;34m(self, func, axis, raw, result_type, args, by_row, engine, engine_kwargs, **kwargs)\u001b[0m\n\u001b[1;32m  10360\u001b[0m \u001b[38;5;28;01mfrom\u001b[39;00m \u001b[38;5;21;01mpandas\u001b[39;00m\u001b[38;5;21;01m.\u001b[39;00m\u001b[38;5;21;01mcore\u001b[39;00m\u001b[38;5;21;01m.\u001b[39;00m\u001b[38;5;21;01mapply\u001b[39;00m \u001b[38;5;28;01mimport\u001b[39;00m frame_apply\n\u001b[1;32m  10362\u001b[0m op \u001b[38;5;241m=\u001b[39m frame_apply(\n\u001b[1;32m  10363\u001b[0m     \u001b[38;5;28mself\u001b[39m,\n\u001b[1;32m  10364\u001b[0m     func\u001b[38;5;241m=\u001b[39mfunc,\n\u001b[0;32m   (...)\u001b[0m\n\u001b[1;32m  10372\u001b[0m     kwargs\u001b[38;5;241m=\u001b[39mkwargs,\n\u001b[1;32m  10373\u001b[0m )\n\u001b[0;32m> 10374\u001b[0m \u001b[38;5;28;01mreturn\u001b[39;00m \u001b[43mop\u001b[49m\u001b[38;5;241;43m.\u001b[39;49m\u001b[43mapply\u001b[49m\u001b[43m(\u001b[49m\u001b[43m)\u001b[49m\u001b[38;5;241m.\u001b[39m__finalize__(\u001b[38;5;28mself\u001b[39m, method\u001b[38;5;241m=\u001b[39m\u001b[38;5;124m\"\u001b[39m\u001b[38;5;124mapply\u001b[39m\u001b[38;5;124m\"\u001b[39m)\n",
      "File \u001b[0;32m~/miniforge3/envs/ada/lib/python3.11/site-packages/pandas/core/apply.py:916\u001b[0m, in \u001b[0;36mFrameApply.apply\u001b[0;34m(self)\u001b[0m\n\u001b[1;32m    913\u001b[0m \u001b[38;5;28;01melif\u001b[39;00m \u001b[38;5;28mself\u001b[39m\u001b[38;5;241m.\u001b[39mraw:\n\u001b[1;32m    914\u001b[0m     \u001b[38;5;28;01mreturn\u001b[39;00m \u001b[38;5;28mself\u001b[39m\u001b[38;5;241m.\u001b[39mapply_raw(engine\u001b[38;5;241m=\u001b[39m\u001b[38;5;28mself\u001b[39m\u001b[38;5;241m.\u001b[39mengine, engine_kwargs\u001b[38;5;241m=\u001b[39m\u001b[38;5;28mself\u001b[39m\u001b[38;5;241m.\u001b[39mengine_kwargs)\n\u001b[0;32m--> 916\u001b[0m \u001b[38;5;28;01mreturn\u001b[39;00m \u001b[38;5;28;43mself\u001b[39;49m\u001b[38;5;241;43m.\u001b[39;49m\u001b[43mapply_standard\u001b[49m\u001b[43m(\u001b[49m\u001b[43m)\u001b[49m\n",
      "File \u001b[0;32m~/miniforge3/envs/ada/lib/python3.11/site-packages/pandas/core/apply.py:1063\u001b[0m, in \u001b[0;36mFrameApply.apply_standard\u001b[0;34m(self)\u001b[0m\n\u001b[1;32m   1061\u001b[0m \u001b[38;5;28;01mdef\u001b[39;00m \u001b[38;5;21mapply_standard\u001b[39m(\u001b[38;5;28mself\u001b[39m):\n\u001b[1;32m   1062\u001b[0m     \u001b[38;5;28;01mif\u001b[39;00m \u001b[38;5;28mself\u001b[39m\u001b[38;5;241m.\u001b[39mengine \u001b[38;5;241m==\u001b[39m \u001b[38;5;124m\"\u001b[39m\u001b[38;5;124mpython\u001b[39m\u001b[38;5;124m\"\u001b[39m:\n\u001b[0;32m-> 1063\u001b[0m         results, res_index \u001b[38;5;241m=\u001b[39m \u001b[38;5;28;43mself\u001b[39;49m\u001b[38;5;241;43m.\u001b[39;49m\u001b[43mapply_series_generator\u001b[49m\u001b[43m(\u001b[49m\u001b[43m)\u001b[49m\n\u001b[1;32m   1064\u001b[0m     \u001b[38;5;28;01melse\u001b[39;00m:\n\u001b[1;32m   1065\u001b[0m         results, res_index \u001b[38;5;241m=\u001b[39m \u001b[38;5;28mself\u001b[39m\u001b[38;5;241m.\u001b[39mapply_series_numba()\n",
      "File \u001b[0;32m~/miniforge3/envs/ada/lib/python3.11/site-packages/pandas/core/apply.py:1081\u001b[0m, in \u001b[0;36mFrameApply.apply_series_generator\u001b[0;34m(self)\u001b[0m\n\u001b[1;32m   1078\u001b[0m \u001b[38;5;28;01mwith\u001b[39;00m option_context(\u001b[38;5;124m\"\u001b[39m\u001b[38;5;124mmode.chained_assignment\u001b[39m\u001b[38;5;124m\"\u001b[39m, \u001b[38;5;28;01mNone\u001b[39;00m):\n\u001b[1;32m   1079\u001b[0m     \u001b[38;5;28;01mfor\u001b[39;00m i, v \u001b[38;5;129;01min\u001b[39;00m \u001b[38;5;28menumerate\u001b[39m(series_gen):\n\u001b[1;32m   1080\u001b[0m         \u001b[38;5;66;03m# ignore SettingWithCopy here in case the user mutates\u001b[39;00m\n\u001b[0;32m-> 1081\u001b[0m         results[i] \u001b[38;5;241m=\u001b[39m \u001b[38;5;28;43mself\u001b[39;49m\u001b[38;5;241;43m.\u001b[39;49m\u001b[43mfunc\u001b[49m\u001b[43m(\u001b[49m\u001b[43mv\u001b[49m\u001b[43m,\u001b[49m\u001b[43m \u001b[49m\u001b[38;5;241;43m*\u001b[39;49m\u001b[38;5;28;43mself\u001b[39;49m\u001b[38;5;241;43m.\u001b[39;49m\u001b[43margs\u001b[49m\u001b[43m,\u001b[49m\u001b[43m \u001b[49m\u001b[38;5;241;43m*\u001b[39;49m\u001b[38;5;241;43m*\u001b[39;49m\u001b[38;5;28;43mself\u001b[39;49m\u001b[38;5;241;43m.\u001b[39;49m\u001b[43mkwargs\u001b[49m\u001b[43m)\u001b[49m\n\u001b[1;32m   1082\u001b[0m         \u001b[38;5;28;01mif\u001b[39;00m \u001b[38;5;28misinstance\u001b[39m(results[i], ABCSeries):\n\u001b[1;32m   1083\u001b[0m             \u001b[38;5;66;03m# If we have a view on v, we need to make a copy because\u001b[39;00m\n\u001b[1;32m   1084\u001b[0m             \u001b[38;5;66;03m#  series_generator will swap out the underlying data\u001b[39;00m\n\u001b[1;32m   1085\u001b[0m             results[i] \u001b[38;5;241m=\u001b[39m results[i]\u001b[38;5;241m.\u001b[39mcopy(deep\u001b[38;5;241m=\u001b[39m\u001b[38;5;28;01mFalse\u001b[39;00m)\n",
      "File \u001b[0;32m~/miniforge3/envs/ada/lib/python3.11/site-packages/pandas/core/frame.py:10466\u001b[0m, in \u001b[0;36mDataFrame.map.<locals>.infer\u001b[0;34m(x)\u001b[0m\n\u001b[1;32m  10465\u001b[0m \u001b[38;5;28;01mdef\u001b[39;00m \u001b[38;5;21minfer\u001b[39m(x):\n\u001b[0;32m> 10466\u001b[0m     \u001b[38;5;28;01mreturn\u001b[39;00m \u001b[43mx\u001b[49m\u001b[38;5;241;43m.\u001b[39;49m\u001b[43m_map_values\u001b[49m\u001b[43m(\u001b[49m\u001b[43mfunc\u001b[49m\u001b[43m,\u001b[49m\u001b[43m \u001b[49m\u001b[43mna_action\u001b[49m\u001b[38;5;241;43m=\u001b[39;49m\u001b[43mna_action\u001b[49m\u001b[43m)\u001b[49m\n",
      "File \u001b[0;32m~/miniforge3/envs/ada/lib/python3.11/site-packages/pandas/core/base.py:921\u001b[0m, in \u001b[0;36mIndexOpsMixin._map_values\u001b[0;34m(self, mapper, na_action, convert)\u001b[0m\n\u001b[1;32m    918\u001b[0m \u001b[38;5;28;01mif\u001b[39;00m \u001b[38;5;28misinstance\u001b[39m(arr, ExtensionArray):\n\u001b[1;32m    919\u001b[0m     \u001b[38;5;28;01mreturn\u001b[39;00m arr\u001b[38;5;241m.\u001b[39mmap(mapper, na_action\u001b[38;5;241m=\u001b[39mna_action)\n\u001b[0;32m--> 921\u001b[0m \u001b[38;5;28;01mreturn\u001b[39;00m \u001b[43malgorithms\u001b[49m\u001b[38;5;241;43m.\u001b[39;49m\u001b[43mmap_array\u001b[49m\u001b[43m(\u001b[49m\u001b[43marr\u001b[49m\u001b[43m,\u001b[49m\u001b[43m \u001b[49m\u001b[43mmapper\u001b[49m\u001b[43m,\u001b[49m\u001b[43m \u001b[49m\u001b[43mna_action\u001b[49m\u001b[38;5;241;43m=\u001b[39;49m\u001b[43mna_action\u001b[49m\u001b[43m,\u001b[49m\u001b[43m \u001b[49m\u001b[43mconvert\u001b[49m\u001b[38;5;241;43m=\u001b[39;49m\u001b[43mconvert\u001b[49m\u001b[43m)\u001b[49m\n",
      "File \u001b[0;32m~/miniforge3/envs/ada/lib/python3.11/site-packages/pandas/core/algorithms.py:1743\u001b[0m, in \u001b[0;36mmap_array\u001b[0;34m(arr, mapper, na_action, convert)\u001b[0m\n\u001b[1;32m   1741\u001b[0m values \u001b[38;5;241m=\u001b[39m arr\u001b[38;5;241m.\u001b[39mastype(\u001b[38;5;28mobject\u001b[39m, copy\u001b[38;5;241m=\u001b[39m\u001b[38;5;28;01mFalse\u001b[39;00m)\n\u001b[1;32m   1742\u001b[0m \u001b[38;5;28;01mif\u001b[39;00m na_action \u001b[38;5;129;01mis\u001b[39;00m \u001b[38;5;28;01mNone\u001b[39;00m:\n\u001b[0;32m-> 1743\u001b[0m     \u001b[38;5;28;01mreturn\u001b[39;00m \u001b[43mlib\u001b[49m\u001b[38;5;241;43m.\u001b[39;49m\u001b[43mmap_infer\u001b[49m\u001b[43m(\u001b[49m\u001b[43mvalues\u001b[49m\u001b[43m,\u001b[49m\u001b[43m \u001b[49m\u001b[43mmapper\u001b[49m\u001b[43m,\u001b[49m\u001b[43m \u001b[49m\u001b[43mconvert\u001b[49m\u001b[38;5;241;43m=\u001b[39;49m\u001b[43mconvert\u001b[49m\u001b[43m)\u001b[49m\n\u001b[1;32m   1744\u001b[0m \u001b[38;5;28;01melse\u001b[39;00m:\n\u001b[1;32m   1745\u001b[0m     \u001b[38;5;28;01mreturn\u001b[39;00m lib\u001b[38;5;241m.\u001b[39mmap_infer_mask(\n\u001b[1;32m   1746\u001b[0m         values, mapper, mask\u001b[38;5;241m=\u001b[39misna(values)\u001b[38;5;241m.\u001b[39mview(np\u001b[38;5;241m.\u001b[39muint8), convert\u001b[38;5;241m=\u001b[39mconvert\n\u001b[1;32m   1747\u001b[0m     )\n",
      "File \u001b[0;32mlib.pyx:2972\u001b[0m, in \u001b[0;36mpandas._libs.lib.map_infer\u001b[0;34m()\u001b[0m\n",
      "File \u001b[0;32m~/Nextcloud/Dokumente/Uni/Module/3sem-EPFL/ada/Project/ada-2024-project-thedataminions/analysis/utils.py:365\u001b[0m, in \u001b[0;36mget_space_entries.<locals>.<lambda>\u001b[0;34m(x)\u001b[0m\n\u001b[1;32m    345\u001b[0m \u001b[38;5;250m\u001b[39m\u001b[38;5;124;03m\"\"\"\u001b[39;00m\n\u001b[1;32m    346\u001b[0m \u001b[38;5;124;03mFilters a dataframe to return only rows with space elements (using specific condition).\u001b[39;00m\n\u001b[1;32m    347\u001b[0m \u001b[38;5;124;03mCan be specified to either return rows where any entry is a space, or rows where a specified column is a space, or where all columns are composed of space.\u001b[39;00m\n\u001b[0;32m   (...)\u001b[0m\n\u001b[1;32m    359\u001b[0m \u001b[38;5;124;03m    the filtered dataframe\u001b[39;00m\n\u001b[1;32m    360\u001b[0m \u001b[38;5;124;03m\"\"\"\u001b[39;00m\n\u001b[1;32m    361\u001b[0m \u001b[38;5;66;03m# # Check for empty strings ('' or ' ') by using .str.strip() to remove spaces\u001b[39;00m\n\u001b[1;32m    362\u001b[0m \u001b[38;5;66;03m# space_check = data.applymap(lambda x: str(x).strip() == ' ')\u001b[39;00m\n\u001b[1;32m    363\u001b[0m \n\u001b[1;32m    364\u001b[0m \u001b[38;5;66;03m# Check for space strings (' ')\u001b[39;00m\n\u001b[0;32m--> 365\u001b[0m space_check \u001b[38;5;241m=\u001b[39m data\u001b[38;5;241m.\u001b[39mmap(\u001b[38;5;28;01mlambda\u001b[39;00m x: \u001b[38;5;28mstr\u001b[39m(x) \u001b[38;5;241m==\u001b[39m \u001b[38;5;124m'\u001b[39m\u001b[38;5;124m \u001b[39m\u001b[38;5;124m'\u001b[39m)  \u001b[38;5;66;03m# I removed the .strip() because I think it would never return anything otherwise\u001b[39;00m\n\u001b[1;32m    367\u001b[0m \u001b[38;5;28;01mif\u001b[39;00m col \u001b[38;5;241m==\u001b[39m \u001b[38;5;124m\"\u001b[39m\u001b[38;5;124many\u001b[39m\u001b[38;5;124m\"\u001b[39m:\n\u001b[1;32m    368\u001b[0m     \u001b[38;5;28;01mif\u001b[39;00m \u001b[38;5;129;01mnot\u001b[39;00m reverse:\n",
      "\u001b[0;31mKeyboardInterrupt\u001b[0m: "
     ]
    }
   ],
   "source": [
    "# get the entries of the comment dataframe which have a NaN value, empty string or space in any column\n",
    "\n",
    "nans_empty_space_comments_filepath = dataset_root_path + \"../generated_data/nan_empty_space_rows_in_comment_dataset.csv\"  # path to file with nans in comment dataset\n",
    "\n",
    "try:  # try to read the data from file\n",
    "    df_nans_empty_space_in_comments = pd.read_csv(nans_empty_space_comments_filepath)\n",
    "except FileNotFoundError:  # if the file is not found...\n",
    "    # ... then generate the file\n",
    "    df_nans_empty_space_in_comments = dp.run_simple_function_on_chunks_concat(comments_in_chunks(1000000), \n",
    "                                                                              lambda x: dp.get_na_empty_space_entries(x, \"any\", reverse=False),\n",
    "                                                                              print_time=(1000000, 8600000000))\n",
    "    \n",
    "    df_nans_empty_space_in_comments.to_csv(nans_empty_space_comments_filepath, index=False)\n"
   ]
  },
  {
   "cell_type": "markdown",
   "metadata": {},
   "source": [
    "### b. Videos (youtube metadata)"
   ]
  },
  {
   "cell_type": "code",
   "execution_count": null,
   "metadata": {},
   "outputs": [
    {
     "ename": "KeyboardInterrupt",
     "evalue": "",
     "output_type": "error",
     "traceback": [
      "\u001b[0;31m---------------------------------------------------------------------------\u001b[0m",
      "\u001b[0;31mFileNotFoundError\u001b[0m                         Traceback (most recent call last)",
      "Cell \u001b[0;32mIn[63], line 6\u001b[0m\n\u001b[1;32m      5\u001b[0m \u001b[38;5;28;01mtry\u001b[39;00m:  \u001b[38;5;66;03m# try to read the data from file\u001b[39;00m\n\u001b[0;32m----> 6\u001b[0m     df_nans_empty_space_in_videos \u001b[38;5;241m=\u001b[39m pd\u001b[38;5;241m.\u001b[39mread_csv(nans_empty_space_videos_filepath)\n\u001b[1;32m      7\u001b[0m \u001b[38;5;28;01mexcept\u001b[39;00m \u001b[38;5;167;01mFileNotFoundError\u001b[39;00m:  \u001b[38;5;66;03m# if the file is not found...\u001b[39;00m\n\u001b[1;32m      8\u001b[0m     \u001b[38;5;66;03m# ... then generate the file\u001b[39;00m\n",
      "File \u001b[0;32m/opt/anaconda3/envs/ada/lib/python3.11/site-packages/pandas/io/parsers/readers.py:1026\u001b[0m, in \u001b[0;36mread_csv\u001b[0;34m(filepath_or_buffer, sep, delimiter, header, names, index_col, usecols, dtype, engine, converters, true_values, false_values, skipinitialspace, skiprows, skipfooter, nrows, na_values, keep_default_na, na_filter, verbose, skip_blank_lines, parse_dates, infer_datetime_format, keep_date_col, date_parser, date_format, dayfirst, cache_dates, iterator, chunksize, compression, thousands, decimal, lineterminator, quotechar, quoting, doublequote, escapechar, comment, encoding, encoding_errors, dialect, on_bad_lines, delim_whitespace, low_memory, memory_map, float_precision, storage_options, dtype_backend)\u001b[0m\n\u001b[1;32m   1024\u001b[0m kwds\u001b[38;5;241m.\u001b[39mupdate(kwds_defaults)\n\u001b[0;32m-> 1026\u001b[0m \u001b[38;5;28;01mreturn\u001b[39;00m _read(filepath_or_buffer, kwds)\n",
      "File \u001b[0;32m/opt/anaconda3/envs/ada/lib/python3.11/site-packages/pandas/io/parsers/readers.py:620\u001b[0m, in \u001b[0;36m_read\u001b[0;34m(filepath_or_buffer, kwds)\u001b[0m\n\u001b[1;32m    619\u001b[0m \u001b[38;5;66;03m# Create the parser.\u001b[39;00m\n\u001b[0;32m--> 620\u001b[0m parser \u001b[38;5;241m=\u001b[39m TextFileReader(filepath_or_buffer, \u001b[38;5;241m*\u001b[39m\u001b[38;5;241m*\u001b[39mkwds)\n\u001b[1;32m    622\u001b[0m \u001b[38;5;28;01mif\u001b[39;00m chunksize \u001b[38;5;129;01mor\u001b[39;00m iterator:\n",
      "File \u001b[0;32m/opt/anaconda3/envs/ada/lib/python3.11/site-packages/pandas/io/parsers/readers.py:1620\u001b[0m, in \u001b[0;36mTextFileReader.__init__\u001b[0;34m(self, f, engine, **kwds)\u001b[0m\n\u001b[1;32m   1619\u001b[0m \u001b[38;5;28mself\u001b[39m\u001b[38;5;241m.\u001b[39mhandles: IOHandles \u001b[38;5;241m|\u001b[39m \u001b[38;5;28;01mNone\u001b[39;00m \u001b[38;5;241m=\u001b[39m \u001b[38;5;28;01mNone\u001b[39;00m\n\u001b[0;32m-> 1620\u001b[0m \u001b[38;5;28mself\u001b[39m\u001b[38;5;241m.\u001b[39m_engine \u001b[38;5;241m=\u001b[39m \u001b[38;5;28mself\u001b[39m\u001b[38;5;241m.\u001b[39m_make_engine(f, \u001b[38;5;28mself\u001b[39m\u001b[38;5;241m.\u001b[39mengine)\n",
      "File \u001b[0;32m/opt/anaconda3/envs/ada/lib/python3.11/site-packages/pandas/io/parsers/readers.py:1880\u001b[0m, in \u001b[0;36mTextFileReader._make_engine\u001b[0;34m(self, f, engine)\u001b[0m\n\u001b[1;32m   1879\u001b[0m         mode \u001b[38;5;241m+\u001b[39m\u001b[38;5;241m=\u001b[39m \u001b[38;5;124m\"\u001b[39m\u001b[38;5;124mb\u001b[39m\u001b[38;5;124m\"\u001b[39m\n\u001b[0;32m-> 1880\u001b[0m \u001b[38;5;28mself\u001b[39m\u001b[38;5;241m.\u001b[39mhandles \u001b[38;5;241m=\u001b[39m get_handle(\n\u001b[1;32m   1881\u001b[0m     f,\n\u001b[1;32m   1882\u001b[0m     mode,\n\u001b[1;32m   1883\u001b[0m     encoding\u001b[38;5;241m=\u001b[39m\u001b[38;5;28mself\u001b[39m\u001b[38;5;241m.\u001b[39moptions\u001b[38;5;241m.\u001b[39mget(\u001b[38;5;124m\"\u001b[39m\u001b[38;5;124mencoding\u001b[39m\u001b[38;5;124m\"\u001b[39m, \u001b[38;5;28;01mNone\u001b[39;00m),\n\u001b[1;32m   1884\u001b[0m     compression\u001b[38;5;241m=\u001b[39m\u001b[38;5;28mself\u001b[39m\u001b[38;5;241m.\u001b[39moptions\u001b[38;5;241m.\u001b[39mget(\u001b[38;5;124m\"\u001b[39m\u001b[38;5;124mcompression\u001b[39m\u001b[38;5;124m\"\u001b[39m, \u001b[38;5;28;01mNone\u001b[39;00m),\n\u001b[1;32m   1885\u001b[0m     memory_map\u001b[38;5;241m=\u001b[39m\u001b[38;5;28mself\u001b[39m\u001b[38;5;241m.\u001b[39moptions\u001b[38;5;241m.\u001b[39mget(\u001b[38;5;124m\"\u001b[39m\u001b[38;5;124mmemory_map\u001b[39m\u001b[38;5;124m\"\u001b[39m, \u001b[38;5;28;01mFalse\u001b[39;00m),\n\u001b[1;32m   1886\u001b[0m     is_text\u001b[38;5;241m=\u001b[39mis_text,\n\u001b[1;32m   1887\u001b[0m     errors\u001b[38;5;241m=\u001b[39m\u001b[38;5;28mself\u001b[39m\u001b[38;5;241m.\u001b[39moptions\u001b[38;5;241m.\u001b[39mget(\u001b[38;5;124m\"\u001b[39m\u001b[38;5;124mencoding_errors\u001b[39m\u001b[38;5;124m\"\u001b[39m, \u001b[38;5;124m\"\u001b[39m\u001b[38;5;124mstrict\u001b[39m\u001b[38;5;124m\"\u001b[39m),\n\u001b[1;32m   1888\u001b[0m     storage_options\u001b[38;5;241m=\u001b[39m\u001b[38;5;28mself\u001b[39m\u001b[38;5;241m.\u001b[39moptions\u001b[38;5;241m.\u001b[39mget(\u001b[38;5;124m\"\u001b[39m\u001b[38;5;124mstorage_options\u001b[39m\u001b[38;5;124m\"\u001b[39m, \u001b[38;5;28;01mNone\u001b[39;00m),\n\u001b[1;32m   1889\u001b[0m )\n\u001b[1;32m   1890\u001b[0m \u001b[38;5;28;01massert\u001b[39;00m \u001b[38;5;28mself\u001b[39m\u001b[38;5;241m.\u001b[39mhandles \u001b[38;5;129;01mis\u001b[39;00m \u001b[38;5;129;01mnot\u001b[39;00m \u001b[38;5;28;01mNone\u001b[39;00m\n",
      "File \u001b[0;32m/opt/anaconda3/envs/ada/lib/python3.11/site-packages/pandas/io/common.py:873\u001b[0m, in \u001b[0;36mget_handle\u001b[0;34m(path_or_buf, mode, encoding, compression, memory_map, is_text, errors, storage_options)\u001b[0m\n\u001b[1;32m    871\u001b[0m \u001b[38;5;28;01mif\u001b[39;00m ioargs\u001b[38;5;241m.\u001b[39mencoding \u001b[38;5;129;01mand\u001b[39;00m \u001b[38;5;124m\"\u001b[39m\u001b[38;5;124mb\u001b[39m\u001b[38;5;124m\"\u001b[39m \u001b[38;5;129;01mnot\u001b[39;00m \u001b[38;5;129;01min\u001b[39;00m ioargs\u001b[38;5;241m.\u001b[39mmode:\n\u001b[1;32m    872\u001b[0m     \u001b[38;5;66;03m# Encoding\u001b[39;00m\n\u001b[0;32m--> 873\u001b[0m     handle \u001b[38;5;241m=\u001b[39m \u001b[38;5;28mopen\u001b[39m(\n\u001b[1;32m    874\u001b[0m         handle,\n\u001b[1;32m    875\u001b[0m         ioargs\u001b[38;5;241m.\u001b[39mmode,\n\u001b[1;32m    876\u001b[0m         encoding\u001b[38;5;241m=\u001b[39mioargs\u001b[38;5;241m.\u001b[39mencoding,\n\u001b[1;32m    877\u001b[0m         errors\u001b[38;5;241m=\u001b[39merrors,\n\u001b[1;32m    878\u001b[0m         newline\u001b[38;5;241m=\u001b[39m\u001b[38;5;124m\"\u001b[39m\u001b[38;5;124m\"\u001b[39m,\n\u001b[1;32m    879\u001b[0m     )\n\u001b[1;32m    880\u001b[0m \u001b[38;5;28;01melse\u001b[39;00m:\n\u001b[1;32m    881\u001b[0m     \u001b[38;5;66;03m# Binary mode\u001b[39;00m\n",
      "\u001b[0;31mFileNotFoundError\u001b[0m: [Errno 2] No such file or directory: '/Volumes/Backup/Youniverse_dataset/../generated_data/nan_empty_space_rows_in_video_dataset.csv'",
      "\nDuring handling of the above exception, another exception occurred:\n",
      "\u001b[0;31mKeyboardInterrupt\u001b[0m                         Traceback (most recent call last)",
      "Cell \u001b[0;32mIn[63], line 9\u001b[0m\n\u001b[1;32m      6\u001b[0m     df_nans_empty_space_in_videos \u001b[38;5;241m=\u001b[39m pd\u001b[38;5;241m.\u001b[39mread_csv(nans_empty_space_videos_filepath)\n\u001b[1;32m      7\u001b[0m \u001b[38;5;28;01mexcept\u001b[39;00m \u001b[38;5;167;01mFileNotFoundError\u001b[39;00m:  \u001b[38;5;66;03m# if the file is not found...\u001b[39;00m\n\u001b[1;32m      8\u001b[0m     \u001b[38;5;66;03m# ... then generate the file\u001b[39;00m\n\u001b[0;32m----> 9\u001b[0m     df_nans_empty_space_in_videos \u001b[38;5;241m=\u001b[39m dp\u001b[38;5;241m.\u001b[39mrun_simple_function_on_chunks_concat(videos_in_chunks(), \n\u001b[1;32m     10\u001b[0m                                                                             \u001b[38;5;28;01mlambda\u001b[39;00m x: dp\u001b[38;5;241m.\u001b[39mget_na_empty_space_entries(x, \u001b[38;5;124m\"\u001b[39m\u001b[38;5;124many\u001b[39m\u001b[38;5;124m\"\u001b[39m, reverse\u001b[38;5;241m=\u001b[39m\u001b[38;5;28;01mFalse\u001b[39;00m),\n\u001b[1;32m     11\u001b[0m                                                                             print_time\u001b[38;5;241m=\u001b[39m\u001b[38;5;28;01mFalse\u001b[39;00m)\n\u001b[1;32m     12\u001b[0m     df_nans_empty_space_in_videos\u001b[38;5;241m.\u001b[39mto_csv(nans_empty_space_videos_filepath, index\u001b[38;5;241m=\u001b[39m\u001b[38;5;28;01mFalse\u001b[39;00m)\n",
      "Cell \u001b[0;32mIn[4], line 1\u001b[0m, in \u001b[0;36mvideos_in_chunks\u001b[0;34m(chunksize)\u001b[0m\n\u001b[0;32m----> 1\u001b[0m \u001b[38;5;28;01mdef\u001b[39;00m \u001b[38;5;21mvideos_in_chunks\u001b[39m( chunksize: \u001b[38;5;28mint\u001b[39m \u001b[38;5;241m=\u001b[39m \u001b[38;5;241m100000\u001b[39m) \u001b[38;5;241m-\u001b[39m\u001b[38;5;241m>\u001b[39m pd\u001b[38;5;241m.\u001b[39mio\u001b[38;5;241m.\u001b[39mjson\u001b[38;5;241m.\u001b[39m_json\u001b[38;5;241m.\u001b[39mJsonReader:\n\u001b[1;32m      2\u001b[0m \u001b[38;5;250m    \u001b[39m\u001b[38;5;124;03m\"\"\"\u001b[39;00m\n\u001b[1;32m      3\u001b[0m \u001b[38;5;124;03m    Returns a Json reader which can be iterated through, to get chunks of the (unfiltered) video dataset.\u001b[39;00m\n\u001b[1;32m      4\u001b[0m \n\u001b[0;32m   (...)\u001b[0m\n\u001b[1;32m      9\u001b[0m \u001b[38;5;124;03m        the Json reader\u001b[39;00m\n\u001b[1;32m     10\u001b[0m \u001b[38;5;124;03m    \"\"\"\u001b[39;00m\n\u001b[1;32m     11\u001b[0m     \u001b[38;5;28;01mreturn\u001b[39;00m pd\u001b[38;5;241m.\u001b[39mread_json(dataset_root_path \u001b[38;5;241m+\u001b[39m \u001b[38;5;124m\"\u001b[39m\u001b[38;5;124myt_metadata_en.jsonl.gz\u001b[39m\u001b[38;5;124m\"\u001b[39m, \u001b[38;5;66;03m#andreas\u001b[39;00m\n\u001b[1;32m     12\u001b[0m     \u001b[38;5;66;03m#return pd.read_json(dataset_root_path + \"yt_metadata_en.jsonl\", #manon\u001b[39;00m\n\u001b[1;32m     13\u001b[0m                         compression\u001b[38;5;241m=\u001b[39m\u001b[38;5;124m\"\u001b[39m\u001b[38;5;124minfer\u001b[39m\u001b[38;5;124m\"\u001b[39m, lines\u001b[38;5;241m=\u001b[39m\u001b[38;5;28;01mTrue\u001b[39;00m, chunksize\u001b[38;5;241m=\u001b[39mchunksize, )\n",
      "\u001b[0;31mKeyboardInterrupt\u001b[0m: "
     ]
    }
   ],
   "source": [
    "# get the entries of the video dataframe which have a NaN value, empty string or space in any column\n",
    "\n",
    "nans_empty_space_videos_filepath = dataset_root_path + \"../generated_data/nan_empty_space_rows_in_video_dataset.csv\"  # path to file with nans in video dataset\n",
    "\n",
    "try:  # try to read the data from file\n",
    "    df_nans_empty_space_in_videos = pd.read_csv(nans_empty_space_videos_filepath)\n",
    "except FileNotFoundError:  # if the file is not found...\n",
    "    # ... then generate the file\n",
    "    df_nans_empty_space_in_videos = dp.run_simple_function_on_chunks_concat(videos_in_chunks(), \n",
    "                                                                            lambda x: dp.get_na_empty_space_entries(x, \"any\", reverse=False),\n",
    "                                                                            print_time=False)\n",
    "    df_nans_empty_space_in_videos.to_csv(nans_empty_space_videos_filepath, index=False)"
   ]
  },
  {
   "cell_type": "markdown",
   "metadata": {},
   "source": [
    "### c. Channels"
   ]
  },
  {
   "cell_type": "code",
   "execution_count": null,
   "metadata": {},
   "outputs": [
    {
     "name": "stderr",
     "output_type": "stream",
     "text": [
      "/home/andreas/Nextcloud/Dokumente/Uni/Module/3sem-EPFL/ada/Project/ada-2024-project-thedataminions/analysis/utils.py:403: SettingWithCopyWarning: \n",
      "A value is trying to be set on a copy of a slice from a DataFrame.\n",
      "Try using .loc[row_indexer,col_indexer] = value instead\n",
      "\n",
      "See the caveats in the documentation: https://pandas.pydata.org/pandas-docs/stable/user_guide/indexing.html#returning-a-view-versus-a-copy\n",
      "  na_entries['char'] = 'na'\n"
     ]
    }
   ],
   "source": [
    "# get the entries of the channel dataframe which have a NaN value, empty string or space in any column\n",
    "\n",
    "nans_empty_space_channels_filepath = dataset_root_path + \"../generated_data/nan_empty_space_rows_in_channel_dataset.csv\"  # path to file with nans in channel dataset\n",
    "\n",
    "try:  # try to read the data from file\n",
    "    df_nans_empty_space_in_channels = pd.read_csv(nans_empty_space_channels_filepath)\n",
    "except FileNotFoundError:  # if the file is not found...\n",
    "    # ... then generate the file\n",
    "    df_nans_empty_space_in_channels = dp.get_na_empty_space_entries(df_channels, \"any\", reverse=False)\n",
    "\n",
    "    df_nans_empty_space_in_channels.to_csv(nans_empty_space_channels_filepath, index=False)"
   ]
  },
  {
   "cell_type": "code",
   "execution_count": 64,
   "metadata": {},
   "outputs": [
    {
     "ename": "NameError",
     "evalue": "name 'df_nans_empty_space_in_comments' is not defined",
     "output_type": "error",
     "traceback": [
      "\u001b[0;31m---------------------------------------------------------------------------\u001b[0m",
      "\u001b[0;31mNameError\u001b[0m                                 Traceback (most recent call last)",
      "Cell \u001b[0;32mIn[64], line 3\u001b[0m\n\u001b[1;32m      1\u001b[0m \u001b[38;5;66;03m#display to be sure this are not empty, alarming us that some data need to be discard.\u001b[39;00m\n\u001b[0;32m----> 3\u001b[0m display(df_nans_empty_space_in_comments)\n\u001b[1;32m      4\u001b[0m display(df_nans_empty_space_in_videos)\n\u001b[1;32m      5\u001b[0m display(df_nans_empty_space_in_channels)\n",
      "\u001b[0;31mNameError\u001b[0m: name 'df_nans_empty_space_in_comments' is not defined"
     ]
    }
   ],
   "source": [
    "#display to be sure this are not empty, alarming us that some data need to be discard.\n",
    "\n",
    "display(df_nans_empty_space_in_comments)\n",
    "display(df_nans_empty_space_in_videos)\n",
    "display(df_nans_empty_space_in_channels)"
   ]
  },
  {
   "cell_type": "markdown",
   "metadata": {},
   "source": [
    "### Analysis\n",
    "\n",
    "One can see that a lot of data is incomplete, and that a cleaning is needed in order to make a good analysis. As dataframes that ar empty / incomplete doens't make sense to keep, we will discard all of it. The dataframes are large enough to allow that, and zthe analysis will still be accurate."
   ]
  },
  {
   "cell_type": "code",
   "execution_count": null,
   "metadata": {},
   "outputs": [
    {
     "data": {
      "text/plain": [
       "1187"
      ]
     },
     "execution_count": 52,
     "metadata": {},
     "output_type": "execute_result"
    }
   ],
   "source": [
    "# delete the dataframes with nans, as we are done with the analysis at this point and no longer need them.\n",
    "\n",
    "del df_nans_empty_space_in_comments\n",
    "del df_nans_empty_space_in_videos\n",
    "del df_nans_empty_space_in_channels\n",
    "\n",
    "\n",
    "gc.collect()"
   ]
  },
  {
   "cell_type": "markdown",
   "metadata": {},
   "source": [
    "## 2. Cleaning of files: replacing empty character '' with NaN and remove all rows containing NaN"
   ]
  },
  {
   "cell_type": "markdown",
   "metadata": {},
   "source": [
    "**df_channels** is treated separetly because the file is much smaller, it doesn't need to be treated in chuncks.\n"
   ]
  },
  {
   "cell_type": "code",
   "execution_count": 8,
   "metadata": {},
   "outputs": [
    {
     "name": "stdout",
     "output_type": "stream",
     "text": [
      "Read data from file\n"
     ]
    },
    {
     "data": {
      "text/plain": [
       "136331"
      ]
     },
     "metadata": {},
     "output_type": "display_data"
    },
    {
     "data": {
      "text/plain": [
       "136470"
      ]
     },
     "metadata": {},
     "output_type": "display_data"
    }
   ],
   "source": [
    "#clean df_channel and save \n",
    "\n",
    "channels_clean_filepath = dataset_root_path + \"../generated_data/df_channels_clean.csv\"\n",
    "\n",
    "try:\n",
    "    df_channels_clean = pd.read_csv(channels_clean_filepath)\n",
    "    print(\"Read data from file\")\n",
    "except FileNotFoundError:\n",
    "    df_channels_clean = dp.clean(df_channels, save=False)\n",
    "    df_channels_clean.to_csv(channels_clean_filepath, index=False)\n",
    "\n",
    "\n",
    "display(len(df_channels_clean))\n",
    "display(len(df_channels))\n",
    "\n",
    "#one can understand that the new dataframe that will be using from now on will be df_channels_clean"
   ]
  },
  {
   "cell_type": "markdown",
   "metadata": {},
   "source": [
    "When cleaning **chunks**, we need to use another function run_simple_function_on_chuncks_save_csv, that will iterate and clean the dataframe chunks after chunks, allowing faster code. Then, the new files are save in another dataframe. Similarly, only the clean dataframe will be used afterwards."
   ]
  },
  {
   "cell_type": "code",
   "execution_count": 9,
   "metadata": {},
   "outputs": [
    {
     "name": "stdout",
     "output_type": "stream",
     "text": [
      "File already exists, no need to generate again. Delete or rename the file to regenerate it.\n",
      "File already exists, no need to generate again. Delete or rename the file to regenerate it.\n"
     ]
    }
   ],
   "source": [
    "# clean the other two dataframes\n",
    "\n",
    "comments_clean_filepath = dataset_root_path + \"../generated_data/df_comments_clean.csv\"\n",
    "\n",
    "if os.path.isfile(comments_clean_filepath):\n",
    "    print(\"File already exists, no need to generate again. Delete or rename the file to regenerate it.\")\n",
    "else:\n",
    "    dp.run_simple_function_on_chunks_save_csv(reader=comments_in_chunks(1000000), \n",
    "                                              fct=lambda df: dp.clean(df, save=False), \n",
    "                                              filename=comments_clean_filepath,\n",
    "                                              index=False,\n",
    "                                              every=30,\n",
    "                                              overwrite=False,\n",
    "                                              print_time=(1000000, 8600000000))\n",
    "\n",
    "videos_clean_filepath = dataset_root_path + \"../generated_data/df_videos_clean.csv\"\n",
    "\n",
    "if os.path.isfile(videos_clean_filepath):\n",
    "    print(\"File already exists, no need to generate again. Delete or rename the file to regenerate it.\")\n",
    "else:\n",
    "    dp.run_simple_function_on_chunks_save_csv(reader=videos_in_chunks(100000), \n",
    "                                              fct=lambda df: dp.clean(df, save=False), \n",
    "                                              filename=videos_clean_filepath,\n",
    "                                              index=False,\n",
    "                                              every=15,\n",
    "                                              overwrite=False,\n",
    "                                              print_time=(100000, 72924794))"
   ]
  },
  {
   "cell_type": "code",
   "execution_count": 10,
   "metadata": {},
   "outputs": [],
   "source": [
    "# define new readers, as videos_in_chunks and comments_in_chunks used the uncleaned versions:\n",
    "\n",
    "def videos_in_chunks_clean(chunksize: int = 100000) -> pd.io.json._json.JsonReader:\n",
    "    \"\"\"\n",
    "    Returns a Json reader which can be iterated through, to get chunks of the video dataset, with nans etc removed (cleaned).\n",
    "\n",
    "    Args:\n",
    "        chunksize: number of entries in each chunk\n",
    "\n",
    "    Returns:\n",
    "        the Json reader\n",
    "    \"\"\"\n",
    "    return pd.read_csv(videos_clean_filepath,\n",
    "                       compression=\"infer\", chunksize=chunksize, )\n",
    "                        #nrows=1000000, )   # uncomment this to only use the first million videos, for testing\n",
    "                                          # (remove the paranthesis above as well)\n",
    "\n",
    "def comments_in_chunks_clean(chunksize: int = 1000000) -> pd.io.parsers.readers.TextFileReader:\n",
    "    \"\"\"\n",
    "    Returns a CSV reader which can be iterated through, to get chunks of the (unfiltered) comment dataset.\n",
    "\n",
    "    Args:\n",
    "        chunksize: number of entries in each chunk\n",
    "\n",
    "    Returns:\n",
    "        the CSV reader\n",
    "    \"\"\"\n",
    "    return pd.read_csv(comments_clean_filepath,\n",
    "                       compression=\"infer\", chunksize=chunksize, )\n",
    "                         #nrows = 10000000)  # uncomment this to only use the first 10 million comments, for testing\n",
    "                                            # (remove the paranthesis above as well)"
   ]
  },
  {
   "cell_type": "markdown",
   "metadata": {},
   "source": [
    "# Why News and Politics ?\n",
    "\n",
    "With this analysis we want to investigate how popular the News&Politics category is both in videos and channels. \n",
    "News and Politics were chosen as it is a interesting subject to see if groups are isolated. But what is its position among all Youtube categories?"
   ]
  },
  {
   "cell_type": "markdown",
   "metadata": {},
   "source": [
    "#### 1. Distribution of categories for the channels"
   ]
  },
  {
   "cell_type": "code",
   "execution_count": 11,
   "metadata": {},
   "outputs": [
    {
     "name": "stdout",
     "output_type": "stream",
     "text": [
      "Loaded data from file\n"
     ]
    },
    {
     "data": {
      "text/html": [
       "<div>\n",
       "<style scoped>\n",
       "    .dataframe tbody tr th:only-of-type {\n",
       "        vertical-align: middle;\n",
       "    }\n",
       "\n",
       "    .dataframe tbody tr th {\n",
       "        vertical-align: top;\n",
       "    }\n",
       "\n",
       "    .dataframe thead th {\n",
       "        text-align: right;\n",
       "    }\n",
       "</style>\n",
       "<table border=\"1\" class=\"dataframe\">\n",
       "  <thead>\n",
       "    <tr style=\"text-align: right;\">\n",
       "      <th></th>\n",
       "      <th>category_cc</th>\n",
       "      <th>number_of_channels</th>\n",
       "    </tr>\n",
       "  </thead>\n",
       "  <tbody>\n",
       "    <tr>\n",
       "      <th>0</th>\n",
       "      <td>Autos &amp; Vehicles</td>\n",
       "      <td>3705</td>\n",
       "    </tr>\n",
       "    <tr>\n",
       "      <th>1</th>\n",
       "      <td>Comedy</td>\n",
       "      <td>3767</td>\n",
       "    </tr>\n",
       "    <tr>\n",
       "      <th>2</th>\n",
       "      <td>Education</td>\n",
       "      <td>7803</td>\n",
       "    </tr>\n",
       "    <tr>\n",
       "      <th>3</th>\n",
       "      <td>Entertainment</td>\n",
       "      <td>22944</td>\n",
       "    </tr>\n",
       "    <tr>\n",
       "      <th>4</th>\n",
       "      <td>Film and Animation</td>\n",
       "      <td>6875</td>\n",
       "    </tr>\n",
       "    <tr>\n",
       "      <th>5</th>\n",
       "      <td>Gaming</td>\n",
       "      <td>20141</td>\n",
       "    </tr>\n",
       "    <tr>\n",
       "      <th>6</th>\n",
       "      <td>Howto &amp; Style</td>\n",
       "      <td>11875</td>\n",
       "    </tr>\n",
       "    <tr>\n",
       "      <th>7</th>\n",
       "      <td>Music</td>\n",
       "      <td>24283</td>\n",
       "    </tr>\n",
       "    <tr>\n",
       "      <th>8</th>\n",
       "      <td>News &amp; Politics</td>\n",
       "      <td>2263</td>\n",
       "    </tr>\n",
       "    <tr>\n",
       "      <th>9</th>\n",
       "      <td>Nonprofits &amp; Activism</td>\n",
       "      <td>969</td>\n",
       "    </tr>\n",
       "    <tr>\n",
       "      <th>10</th>\n",
       "      <td>People &amp; Blogs</td>\n",
       "      <td>18413</td>\n",
       "    </tr>\n",
       "    <tr>\n",
       "      <th>11</th>\n",
       "      <td>Pets &amp; Animals</td>\n",
       "      <td>1292</td>\n",
       "    </tr>\n",
       "    <tr>\n",
       "      <th>12</th>\n",
       "      <td>Science &amp; Technology</td>\n",
       "      <td>4864</td>\n",
       "    </tr>\n",
       "    <tr>\n",
       "      <th>13</th>\n",
       "      <td>Sports</td>\n",
       "      <td>5148</td>\n",
       "    </tr>\n",
       "    <tr>\n",
       "      <th>14</th>\n",
       "      <td>Travel &amp; Events</td>\n",
       "      <td>1989</td>\n",
       "    </tr>\n",
       "  </tbody>\n",
       "</table>\n",
       "</div>"
      ],
      "text/plain": [
       "              category_cc  number_of_channels\n",
       "0        Autos & Vehicles                3705\n",
       "1                  Comedy                3767\n",
       "2               Education                7803\n",
       "3           Entertainment               22944\n",
       "4      Film and Animation                6875\n",
       "5                  Gaming               20141\n",
       "6           Howto & Style               11875\n",
       "7                   Music               24283\n",
       "8         News & Politics                2263\n",
       "9   Nonprofits & Activism                 969\n",
       "10         People & Blogs               18413\n",
       "11         Pets & Animals                1292\n",
       "12   Science & Technology                4864\n",
       "13                 Sports                5148\n",
       "14        Travel & Events                1989"
      ]
     },
     "metadata": {},
     "output_type": "display_data"
    },
    {
     "data": {
      "image/png": "[encoded data removed]",
      "text/plain": [
       "<Figure size 640x480 with 1 Axes>"
      ]
     },
     "metadata": {},
     "output_type": "display_data"
    }
   ],
   "source": [
    "channels_by_category_filepath = dataset_root_path + \"../generated_data/channel_count_per_category.csv\"\n",
    "\n",
    "try:  # try to read data from file\n",
    "    channels_per_category = pd.read_csv(channels_by_category_filepath)\n",
    "    print(\"Loaded data from file\")\n",
    "except FileNotFoundError:  # if file does not exist, generate it and save\n",
    "    channels_per_category = df_channels_clean.groupby('category_cc').agg(number_of_channels=('category_cc', 'size')).reset_index()\n",
    "    channels_per_category.to_csv(channels_by_category_filepath, index=False)\n",
    "\n",
    "display(channels_per_category)\n",
    "\n",
    "\n",
    "ax = sns.barplot(x=\"category_cc\", y=\"number_of_channels\", data=channels_per_category,hue=\"category_cc\", palette='Set2')\n",
    "plt.xticks(rotation=90)\n",
    "plt.title(\"Distribution of channels in the different available categories on YouTube.\")\n",
    "plt.xlabel(\"Channel category (most frequent category of the channel's videos)\")\n",
    "plt.ylabel(\"Number of channels\")\n",
    "plt.show()"
   ]
  },
  {
   "cell_type": "markdown",
   "metadata": {},
   "source": [
    " \n",
    "One can see that the number of channels corresponding to News&Politics category is very low ! This category is even one of the smallest. What about the number of corresponding videos ?"
   ]
  },
  {
   "cell_type": "markdown",
   "metadata": {},
   "source": [
    "#### 1. Distribution of categories for the channels"
   ]
  },
  {
   "cell_type": "code",
   "execution_count": 12,
   "metadata": {
    "collapsed": true,
    "jupyter": {
     "outputs_hidden": true
    }
   },
   "outputs": [
    {
     "name": "stdout",
     "output_type": "stream",
     "text": [
      "Going through chunk 0...\n",
      "The first 100000 entries have been processed. 72824794 left.\n",
      "1.918 secs per chunk on average. Meaning  23.281 minutes left.\n",
      "Going through chunk 1...\n",
      "The first 200000 entries have been processed. 72724794 left.\n",
      "2.020 secs per chunk on average. Meaning  24.479 minutes left.\n"
     ]
    },
    {
     "ename": "KeyboardInterrupt",
     "evalue": "",
     "output_type": "error",
     "traceback": [
      "\u001b[0;31m---------------------------------------------------------------------------\u001b[0m",
      "\u001b[0;31mFileNotFoundError\u001b[0m                         Traceback (most recent call last)",
      "Cell \u001b[0;32mIn[12], line 14\u001b[0m\n\u001b[1;32m     13\u001b[0m \u001b[38;5;28;01mtry\u001b[39;00m:  \u001b[38;5;66;03m# try to read the data from file\u001b[39;00m\n\u001b[0;32m---> 14\u001b[0m     videos_per_category_counts_total \u001b[38;5;241m=\u001b[39m pd\u001b[38;5;241m.\u001b[39mread_csv(videos_by_category_filepath)\n\u001b[1;32m     15\u001b[0m     \u001b[38;5;28mprint\u001b[39m(\u001b[38;5;124m\"\u001b[39m\u001b[38;5;124mData read from file\u001b[39m\u001b[38;5;124m\"\u001b[39m)\n",
      "File \u001b[0;32m/opt/anaconda3/envs/ada/lib/python3.11/site-packages/pandas/io/parsers/readers.py:1026\u001b[0m, in \u001b[0;36mread_csv\u001b[0;34m(filepath_or_buffer, sep, delimiter, header, names, index_col, usecols, dtype, engine, converters, true_values, false_values, skipinitialspace, skiprows, skipfooter, nrows, na_values, keep_default_na, na_filter, verbose, skip_blank_lines, parse_dates, infer_datetime_format, keep_date_col, date_parser, date_format, dayfirst, cache_dates, iterator, chunksize, compression, thousands, decimal, lineterminator, quotechar, quoting, doublequote, escapechar, comment, encoding, encoding_errors, dialect, on_bad_lines, delim_whitespace, low_memory, memory_map, float_precision, storage_options, dtype_backend)\u001b[0m\n\u001b[1;32m   1024\u001b[0m kwds\u001b[38;5;241m.\u001b[39mupdate(kwds_defaults)\n\u001b[0;32m-> 1026\u001b[0m \u001b[38;5;28;01mreturn\u001b[39;00m _read(filepath_or_buffer, kwds)\n",
      "File \u001b[0;32m/opt/anaconda3/envs/ada/lib/python3.11/site-packages/pandas/io/parsers/readers.py:620\u001b[0m, in \u001b[0;36m_read\u001b[0;34m(filepath_or_buffer, kwds)\u001b[0m\n\u001b[1;32m    619\u001b[0m \u001b[38;5;66;03m# Create the parser.\u001b[39;00m\n\u001b[0;32m--> 620\u001b[0m parser \u001b[38;5;241m=\u001b[39m TextFileReader(filepath_or_buffer, \u001b[38;5;241m*\u001b[39m\u001b[38;5;241m*\u001b[39mkwds)\n\u001b[1;32m    622\u001b[0m \u001b[38;5;28;01mif\u001b[39;00m chunksize \u001b[38;5;129;01mor\u001b[39;00m iterator:\n",
      "File \u001b[0;32m/opt/anaconda3/envs/ada/lib/python3.11/site-packages/pandas/io/parsers/readers.py:1620\u001b[0m, in \u001b[0;36mTextFileReader.__init__\u001b[0;34m(self, f, engine, **kwds)\u001b[0m\n\u001b[1;32m   1619\u001b[0m \u001b[38;5;28mself\u001b[39m\u001b[38;5;241m.\u001b[39mhandles: IOHandles \u001b[38;5;241m|\u001b[39m \u001b[38;5;28;01mNone\u001b[39;00m \u001b[38;5;241m=\u001b[39m \u001b[38;5;28;01mNone\u001b[39;00m\n\u001b[0;32m-> 1620\u001b[0m \u001b[38;5;28mself\u001b[39m\u001b[38;5;241m.\u001b[39m_engine \u001b[38;5;241m=\u001b[39m \u001b[38;5;28mself\u001b[39m\u001b[38;5;241m.\u001b[39m_make_engine(f, \u001b[38;5;28mself\u001b[39m\u001b[38;5;241m.\u001b[39mengine)\n",
      "File \u001b[0;32m/opt/anaconda3/envs/ada/lib/python3.11/site-packages/pandas/io/parsers/readers.py:1880\u001b[0m, in \u001b[0;36mTextFileReader._make_engine\u001b[0;34m(self, f, engine)\u001b[0m\n\u001b[1;32m   1879\u001b[0m         mode \u001b[38;5;241m+\u001b[39m\u001b[38;5;241m=\u001b[39m \u001b[38;5;124m\"\u001b[39m\u001b[38;5;124mb\u001b[39m\u001b[38;5;124m\"\u001b[39m\n\u001b[0;32m-> 1880\u001b[0m \u001b[38;5;28mself\u001b[39m\u001b[38;5;241m.\u001b[39mhandles \u001b[38;5;241m=\u001b[39m get_handle(\n\u001b[1;32m   1881\u001b[0m     f,\n\u001b[1;32m   1882\u001b[0m     mode,\n\u001b[1;32m   1883\u001b[0m     encoding\u001b[38;5;241m=\u001b[39m\u001b[38;5;28mself\u001b[39m\u001b[38;5;241m.\u001b[39moptions\u001b[38;5;241m.\u001b[39mget(\u001b[38;5;124m\"\u001b[39m\u001b[38;5;124mencoding\u001b[39m\u001b[38;5;124m\"\u001b[39m, \u001b[38;5;28;01mNone\u001b[39;00m),\n\u001b[1;32m   1884\u001b[0m     compression\u001b[38;5;241m=\u001b[39m\u001b[38;5;28mself\u001b[39m\u001b[38;5;241m.\u001b[39moptions\u001b[38;5;241m.\u001b[39mget(\u001b[38;5;124m\"\u001b[39m\u001b[38;5;124mcompression\u001b[39m\u001b[38;5;124m\"\u001b[39m, \u001b[38;5;28;01mNone\u001b[39;00m),\n\u001b[1;32m   1885\u001b[0m     memory_map\u001b[38;5;241m=\u001b[39m\u001b[38;5;28mself\u001b[39m\u001b[38;5;241m.\u001b[39moptions\u001b[38;5;241m.\u001b[39mget(\u001b[38;5;124m\"\u001b[39m\u001b[38;5;124mmemory_map\u001b[39m\u001b[38;5;124m\"\u001b[39m, \u001b[38;5;28;01mFalse\u001b[39;00m),\n\u001b[1;32m   1886\u001b[0m     is_text\u001b[38;5;241m=\u001b[39mis_text,\n\u001b[1;32m   1887\u001b[0m     errors\u001b[38;5;241m=\u001b[39m\u001b[38;5;28mself\u001b[39m\u001b[38;5;241m.\u001b[39moptions\u001b[38;5;241m.\u001b[39mget(\u001b[38;5;124m\"\u001b[39m\u001b[38;5;124mencoding_errors\u001b[39m\u001b[38;5;124m\"\u001b[39m, \u001b[38;5;124m\"\u001b[39m\u001b[38;5;124mstrict\u001b[39m\u001b[38;5;124m\"\u001b[39m),\n\u001b[1;32m   1888\u001b[0m     storage_options\u001b[38;5;241m=\u001b[39m\u001b[38;5;28mself\u001b[39m\u001b[38;5;241m.\u001b[39moptions\u001b[38;5;241m.\u001b[39mget(\u001b[38;5;124m\"\u001b[39m\u001b[38;5;124mstorage_options\u001b[39m\u001b[38;5;124m\"\u001b[39m, \u001b[38;5;28;01mNone\u001b[39;00m),\n\u001b[1;32m   1889\u001b[0m )\n\u001b[1;32m   1890\u001b[0m \u001b[38;5;28;01massert\u001b[39;00m \u001b[38;5;28mself\u001b[39m\u001b[38;5;241m.\u001b[39mhandles \u001b[38;5;129;01mis\u001b[39;00m \u001b[38;5;129;01mnot\u001b[39;00m \u001b[38;5;28;01mNone\u001b[39;00m\n",
      "File \u001b[0;32m/opt/anaconda3/envs/ada/lib/python3.11/site-packages/pandas/io/common.py:873\u001b[0m, in \u001b[0;36mget_handle\u001b[0;34m(path_or_buf, mode, encoding, compression, memory_map, is_text, errors, storage_options)\u001b[0m\n\u001b[1;32m    871\u001b[0m \u001b[38;5;28;01mif\u001b[39;00m ioargs\u001b[38;5;241m.\u001b[39mencoding \u001b[38;5;129;01mand\u001b[39;00m \u001b[38;5;124m\"\u001b[39m\u001b[38;5;124mb\u001b[39m\u001b[38;5;124m\"\u001b[39m \u001b[38;5;129;01mnot\u001b[39;00m \u001b[38;5;129;01min\u001b[39;00m ioargs\u001b[38;5;241m.\u001b[39mmode:\n\u001b[1;32m    872\u001b[0m     \u001b[38;5;66;03m# Encoding\u001b[39;00m\n\u001b[0;32m--> 873\u001b[0m     handle \u001b[38;5;241m=\u001b[39m \u001b[38;5;28mopen\u001b[39m(\n\u001b[1;32m    874\u001b[0m         handle,\n\u001b[1;32m    875\u001b[0m         ioargs\u001b[38;5;241m.\u001b[39mmode,\n\u001b[1;32m    876\u001b[0m         encoding\u001b[38;5;241m=\u001b[39mioargs\u001b[38;5;241m.\u001b[39mencoding,\n\u001b[1;32m    877\u001b[0m         errors\u001b[38;5;241m=\u001b[39merrors,\n\u001b[1;32m    878\u001b[0m         newline\u001b[38;5;241m=\u001b[39m\u001b[38;5;124m\"\u001b[39m\u001b[38;5;124m\"\u001b[39m,\n\u001b[1;32m    879\u001b[0m     )\n\u001b[1;32m    880\u001b[0m \u001b[38;5;28;01melse\u001b[39;00m:\n\u001b[1;32m    881\u001b[0m     \u001b[38;5;66;03m# Binary mode\u001b[39;00m\n",
      "\u001b[0;31mFileNotFoundError\u001b[0m: [Errno 2] No such file or directory: '/Volumes/Backup/Youniverse_dataset/../generated_data/video_count_by_category.csv'",
      "\nDuring handling of the above exception, another exception occurred:\n",
      "\u001b[0;31mKeyboardInterrupt\u001b[0m                         Traceback (most recent call last)",
      "Cell \u001b[0;32mIn[12], line 19\u001b[0m\n\u001b[1;32m     15\u001b[0m     \u001b[38;5;28mprint\u001b[39m(\u001b[38;5;124m\"\u001b[39m\u001b[38;5;124mData read from file\u001b[39m\u001b[38;5;124m\"\u001b[39m)\n\u001b[1;32m     16\u001b[0m \u001b[38;5;28;01mexcept\u001b[39;00m \u001b[38;5;167;01mFileNotFoundError\u001b[39;00m:  \u001b[38;5;66;03m# otherwise, generate it and save\u001b[39;00m\n\u001b[1;32m     17\u001b[0m \n\u001b[1;32m     18\u001b[0m     \u001b[38;5;66;03m# Apply the function to all chunks and get the results concatenated\u001b[39;00m\n\u001b[0;32m---> 19\u001b[0m     videos_per_category_counts_per_chunk \u001b[38;5;241m=\u001b[39m dp\u001b[38;5;241m.\u001b[39mrun_simple_function_on_chunks_concat(\n\u001b[1;32m     20\u001b[0m         videos_in_chunks_clean(chunksize\u001b[38;5;241m=\u001b[39m\u001b[38;5;241m100000\u001b[39m), \n\u001b[1;32m     21\u001b[0m         count_videos_by_category,\n\u001b[1;32m     22\u001b[0m         print_time\u001b[38;5;241m=\u001b[39m(\u001b[38;5;241m100000\u001b[39m, \u001b[38;5;241m72924794\u001b[39m)\n\u001b[1;32m     23\u001b[0m         )\n\u001b[1;32m     25\u001b[0m     \u001b[38;5;66;03m# Sum the counts across all chunks to get the total count of videos per category\u001b[39;00m\n\u001b[1;32m     26\u001b[0m     videos_per_category_counts_total \u001b[38;5;241m=\u001b[39m videos_per_category_counts_per_chunk\u001b[38;5;241m.\u001b[39msum()\u001b[38;5;241m.\u001b[39mto_frame(name\u001b[38;5;241m=\u001b[39m\u001b[38;5;124m'\u001b[39m\u001b[38;5;124mtotal_count\u001b[39m\u001b[38;5;124m'\u001b[39m)\u001b[38;5;241m.\u001b[39mreset_index()\n",
      "File \u001b[0;32m~/Desktop/ADA2024/ada-2024-project-thedataminions/analysis/utils.py:82\u001b[0m, in \u001b[0;36mrun_simple_function_on_chunks_concat\u001b[0;34m(reader, fct, print_time, save, save_every, compress)\u001b[0m\n\u001b[1;32m     80\u001b[0m \u001b[38;5;28;01melse\u001b[39;00m:\n\u001b[1;32m     81\u001b[0m     time_start_global \u001b[38;5;241m=\u001b[39m time\u001b[38;5;241m.\u001b[39mtime()\n\u001b[0;32m---> 82\u001b[0m     \u001b[38;5;28;01mfor\u001b[39;00m i, chunk \u001b[38;5;129;01min\u001b[39;00m \u001b[38;5;28menumerate\u001b[39m(reader):\n\u001b[1;32m     83\u001b[0m         \u001b[38;5;28mprint\u001b[39m(\u001b[38;5;124mf\u001b[39m\u001b[38;5;124m\"\u001b[39m\u001b[38;5;124mGoing through chunk \u001b[39m\u001b[38;5;132;01m{\u001b[39;00mi\u001b[38;5;132;01m}\u001b[39;00m\u001b[38;5;124m...\u001b[39m\u001b[38;5;124m\"\u001b[39m)\n\u001b[1;32m     84\u001b[0m         result \u001b[38;5;241m=\u001b[39m pd\u001b[38;5;241m.\u001b[39mconcat([result, fct(chunk)])\n",
      "File \u001b[0;32m/opt/anaconda3/envs/ada/lib/python3.11/site-packages/pandas/io/parsers/readers.py:1843\u001b[0m, in \u001b[0;36mTextFileReader.__next__\u001b[0;34m(self)\u001b[0m\n\u001b[1;32m   1841\u001b[0m \u001b[38;5;28;01mdef\u001b[39;00m \u001b[38;5;21m__next__\u001b[39m(\u001b[38;5;28mself\u001b[39m) \u001b[38;5;241m-\u001b[39m\u001b[38;5;241m>\u001b[39m DataFrame:\n\u001b[1;32m   1842\u001b[0m     \u001b[38;5;28;01mtry\u001b[39;00m:\n\u001b[0;32m-> 1843\u001b[0m         \u001b[38;5;28;01mreturn\u001b[39;00m \u001b[38;5;28mself\u001b[39m\u001b[38;5;241m.\u001b[39mget_chunk()\n\u001b[1;32m   1844\u001b[0m     \u001b[38;5;28;01mexcept\u001b[39;00m \u001b[38;5;167;01mStopIteration\u001b[39;00m:\n\u001b[1;32m   1845\u001b[0m         \u001b[38;5;28mself\u001b[39m\u001b[38;5;241m.\u001b[39mclose()\n",
      "File \u001b[0;32m/opt/anaconda3/envs/ada/lib/python3.11/site-packages/pandas/io/parsers/readers.py:1985\u001b[0m, in \u001b[0;36mTextFileReader.get_chunk\u001b[0;34m(self, size)\u001b[0m\n\u001b[1;32m   1983\u001b[0m         \u001b[38;5;28;01mraise\u001b[39;00m \u001b[38;5;167;01mStopIteration\u001b[39;00m\n\u001b[1;32m   1984\u001b[0m     size \u001b[38;5;241m=\u001b[39m \u001b[38;5;28mmin\u001b[39m(size, \u001b[38;5;28mself\u001b[39m\u001b[38;5;241m.\u001b[39mnrows \u001b[38;5;241m-\u001b[39m \u001b[38;5;28mself\u001b[39m\u001b[38;5;241m.\u001b[39m_currow)\n\u001b[0;32m-> 1985\u001b[0m \u001b[38;5;28;01mreturn\u001b[39;00m \u001b[38;5;28mself\u001b[39m\u001b[38;5;241m.\u001b[39mread(nrows\u001b[38;5;241m=\u001b[39msize)\n",
      "File \u001b[0;32m/opt/anaconda3/envs/ada/lib/python3.11/site-packages/pandas/io/parsers/readers.py:1923\u001b[0m, in \u001b[0;36mTextFileReader.read\u001b[0;34m(self, nrows)\u001b[0m\n\u001b[1;32m   1916\u001b[0m nrows \u001b[38;5;241m=\u001b[39m validate_integer(\u001b[38;5;124m\"\u001b[39m\u001b[38;5;124mnrows\u001b[39m\u001b[38;5;124m\"\u001b[39m, nrows)\n\u001b[1;32m   1917\u001b[0m \u001b[38;5;28;01mtry\u001b[39;00m:\n\u001b[1;32m   1918\u001b[0m     \u001b[38;5;66;03m# error: \"ParserBase\" has no attribute \"read\"\u001b[39;00m\n\u001b[1;32m   1919\u001b[0m     (\n\u001b[1;32m   1920\u001b[0m         index,\n\u001b[1;32m   1921\u001b[0m         columns,\n\u001b[1;32m   1922\u001b[0m         col_dict,\n\u001b[0;32m-> 1923\u001b[0m     ) \u001b[38;5;241m=\u001b[39m \u001b[38;5;28mself\u001b[39m\u001b[38;5;241m.\u001b[39m_engine\u001b[38;5;241m.\u001b[39mread(  \u001b[38;5;66;03m# type: ignore[attr-defined]\u001b[39;00m\n\u001b[1;32m   1924\u001b[0m         nrows\n\u001b[1;32m   1925\u001b[0m     )\n\u001b[1;32m   1926\u001b[0m \u001b[38;5;28;01mexcept\u001b[39;00m \u001b[38;5;167;01mException\u001b[39;00m:\n\u001b[1;32m   1927\u001b[0m     \u001b[38;5;28mself\u001b[39m\u001b[38;5;241m.\u001b[39mclose()\n",
      "File \u001b[0;32m/opt/anaconda3/envs/ada/lib/python3.11/site-packages/pandas/io/parsers/c_parser_wrapper.py:234\u001b[0m, in \u001b[0;36mCParserWrapper.read\u001b[0;34m(self, nrows)\u001b[0m\n\u001b[1;32m    232\u001b[0m \u001b[38;5;28;01mtry\u001b[39;00m:\n\u001b[1;32m    233\u001b[0m     \u001b[38;5;28;01mif\u001b[39;00m \u001b[38;5;28mself\u001b[39m\u001b[38;5;241m.\u001b[39mlow_memory:\n\u001b[0;32m--> 234\u001b[0m         chunks \u001b[38;5;241m=\u001b[39m \u001b[38;5;28mself\u001b[39m\u001b[38;5;241m.\u001b[39m_reader\u001b[38;5;241m.\u001b[39mread_low_memory(nrows)\n\u001b[1;32m    235\u001b[0m         \u001b[38;5;66;03m# destructive to chunks\u001b[39;00m\n\u001b[1;32m    236\u001b[0m         data \u001b[38;5;241m=\u001b[39m _concatenate_chunks(chunks)\n",
      "File \u001b[0;32mparsers.pyx:850\u001b[0m, in \u001b[0;36mpandas._libs.parsers.TextReader.read_low_memory\u001b[0;34m()\u001b[0m\n",
      "File \u001b[0;32mparsers.pyx:905\u001b[0m, in \u001b[0;36mpandas._libs.parsers.TextReader._read_rows\u001b[0;34m()\u001b[0m\n",
      "File \u001b[0;32mparsers.pyx:874\u001b[0m, in \u001b[0;36mpandas._libs.parsers.TextReader._tokenize_rows\u001b[0;34m()\u001b[0m\n",
      "File \u001b[0;32mparsers.pyx:891\u001b[0m, in \u001b[0;36mpandas._libs.parsers.TextReader._check_tokenize_status\u001b[0;34m()\u001b[0m\n",
      "File \u001b[0;32mparsers.pyx:2053\u001b[0m, in \u001b[0;36mpandas._libs.parsers.raise_parser_error\u001b[0;34m()\u001b[0m\n",
      "\u001b[0;31mKeyboardInterrupt\u001b[0m: "
     ]
    }
   ],
   "source": [
    "#distribution categories of videos over the whole (cleaned) dataset per chunck\n",
    "\n",
    "# Define a function that processes a single chunk\n",
    "def count_videos_by_category(chunk):\n",
    "    \n",
    "    # Count videos in each category within the chunk\n",
    "    category_counts = chunk['categories'].value_counts().to_frame().T  # Get counts and transpose for one-row DataFrame\n",
    "    category_counts.columns.name = None  # Remove column name for easy concatenation\n",
    "    return category_counts\n",
    "\n",
    "videos_by_category_filepath = dataset_root_path + \"../generated_data/video_count_by_category.csv\"\n",
    "\n",
    "try:  # try to read the data from file\n",
    "    videos_per_category_counts_total = pd.read_csv(videos_by_category_filepath)\n",
    "    print(\"Data read from file\")\n",
    "except FileNotFoundError:  # otherwise, generate it and save\n",
    "\n",
    "    # Apply the function to all chunks and get the results concatenated\n",
    "    videos_per_category_counts_per_chunk = dp.run_simple_function_on_chunks_concat(\n",
    "        videos_in_chunks_clean(chunksize=100000), \n",
    "        count_videos_by_category,\n",
    "        print_time=(100000, 72924794)\n",
    "        )\n",
    "\n",
    "    # Sum the counts across all chunks to get the total count of videos per category\n",
    "    videos_per_category_counts_total = videos_per_category_counts_per_chunk.sum().to_frame(name='total_count').reset_index()\n",
    "    videos_per_category_counts_total.columns = ['category', 'total_count']\n",
    "\n",
    "    videos_per_category_counts_total.to_csv(videos_by_category_filepath,)  # save the created dataframe so we don't have to generate it again\n",
    "\n",
    "\n",
    "# Display the final distribution\n",
    "print(videos_per_category_counts_total)\n",
    "\n",
    "ax = sns.barplot(x=\"category\", y=\"total_count\", hue='category', legend=False, data=videos_per_category_counts_total, palette='Set2')\n",
    "plt.xticks(rotation=90)\n",
    "plt.title(\"Distribution of videos in the different available categories on YouTube.\")\n",
    "plt.xlabel(\"Video category\")\n",
    "plt.ylabel(\"Number of videos\")\n",
    "plt.show()"
   ]
  },
  {
   "cell_type": "markdown",
   "metadata": {},
   "source": [
    "### Analysis \n",
    "\n",
    "It is apparent that there are fewer News & Politics channels compared to other categories. However, the proportion of News & Politics videos is much higher. This suggests that News & Politics channels are relatively active in posting content.\n",
    "\n",
    "Therefore, studying News & Politics videos seems to be a worthwhile pursuit, even though it may not fully represent the broader YouTube community. One might also question whether a smaller category, like News & Politics, could be even more interesting than a larger one. A smaller category may become more isolated, potentially forming its own bubbles.\n",
    "\n",
    "\n"
   ]
  },
  {
   "cell_type": "code",
   "execution_count": 19,
   "metadata": {},
   "outputs": [],
   "source": [
    "# delete the datasets, as we don't need them anymore\n",
    "\n",
    "del videos_per_category_counts_total\n",
    "del channels_per_category"
   ]
  },
  {
   "cell_type": "markdown",
   "metadata": {},
   "source": [
    "## Filtering the datasets to our needs - News & Politics\n",
    "\n",
    "### Filtering **videos** by category 'News & Politics'"
   ]
  },
  {
   "cell_type": "code",
   "execution_count": 13,
   "metadata": {},
   "outputs": [
    {
     "name": "stdout",
     "output_type": "stream",
     "text": [
      "File already exists, no need to generate again.\n",
      "Delete or rename the existing file in order to regenerate it.\n"
     ]
    }
   ],
   "source": [
    "# filter the video dataframe to only include videos from n&p category\n",
    "\n",
    "videos_in_news_pol_filepath = dataset_root_path + \"../generated_data/videos_in_news_pol.csv\"\n",
    "\n",
    "if os.path.isfile(videos_in_news_pol_filepath):  # if the file already exists\n",
    "    print(\"File already exists, no need to generate again.\\nDelete or rename the existing file in order to regenerate it.\")\n",
    "else:  # if not, generate the file. The data is directly saved to a new dataframe, \n",
    "       # because it would be to big to load in memory at once\n",
    "    dp.run_simple_function_on_chunks_save_csv(videos_in_chunks_clean(chunksize=100000),\n",
    "                                              lambda x: x[x.categories == \"News & Politics\"], \n",
    "                                              filename=videos_in_news_pol_filepath,\n",
    "                                              index=False,\n",
    "                                              overwrite=False,  # will not overwrite existing files\n",
    "                                              every=15,  # will save to the csv every 15 chunks\n",
    "                                              print_time=(100000, 72924794))\n",
    "    \n",
    "# a new filtered file is saved, this dataframe will be used from now on."
   ]
  },
  {
   "cell_type": "code",
   "execution_count": 14,
   "metadata": {},
   "outputs": [
    {
     "name": "stdout",
     "output_type": "stream",
     "text": [
      "News and politics videos:\n",
      "\n",
      "Head of chunk 0: \n",
      "Empty DataFrame\n",
      "Columns: [categories, channel_id, crawl_date, description, dislike_count, display_id, duration, like_count, tags, title, upload_date, view_count]\n",
      "Index: []\n"
     ]
    },
    {
     "data": {
      "text/html": [
       "<div>\n",
       "<style scoped>\n",
       "    .dataframe tbody tr th:only-of-type {\n",
       "        vertical-align: middle;\n",
       "    }\n",
       "\n",
       "    .dataframe tbody tr th {\n",
       "        vertical-align: top;\n",
       "    }\n",
       "\n",
       "    .dataframe thead th {\n",
       "        text-align: right;\n",
       "    }\n",
       "</style>\n",
       "<table border=\"1\" class=\"dataframe\">\n",
       "  <thead>\n",
       "    <tr style=\"text-align: right;\">\n",
       "      <th></th>\n",
       "      <th>categories</th>\n",
       "      <th>channel_id</th>\n",
       "      <th>crawl_date</th>\n",
       "      <th>description</th>\n",
       "      <th>dislike_count</th>\n",
       "      <th>display_id</th>\n",
       "      <th>duration</th>\n",
       "      <th>like_count</th>\n",
       "      <th>tags</th>\n",
       "      <th>title</th>\n",
       "      <th>upload_date</th>\n",
       "      <th>view_count</th>\n",
       "    </tr>\n",
       "  </thead>\n",
       "  <tbody>\n",
       "    <tr>\n",
       "      <th>0</th>\n",
       "      <td>News &amp; Politics</td>\n",
       "      <td>UCzWm1-4XF7AHxVUTkHCM1uw</td>\n",
       "      <td>2019-11-17 06:28:42.593675</td>\n",
       "      <td>retrogamer3.com</td>\n",
       "      <td>16.0</td>\n",
       "      <td>dfa8RRkKoa4</td>\n",
       "      <td>9251</td>\n",
       "      <td>25.0</td>\n",
       "      <td>RetroGamer3,Live Stream,politics,Trump</td>\n",
       "      <td>Retrogamer3 Political Stream</td>\n",
       "      <td>2018-08-23 00:00:00</td>\n",
       "      <td>478.0</td>\n",
       "    </tr>\n",
       "    <tr>\n",
       "      <th>1</th>\n",
       "      <td>News &amp; Politics</td>\n",
       "      <td>UCzWLsxDD373D4tY8kN-0LGQ</td>\n",
       "      <td>2019-11-05 00:42:33.012228</td>\n",
       "      <td>What are the forces at work that have created ...</td>\n",
       "      <td>0.0</td>\n",
       "      <td>_dIIEMvH86k</td>\n",
       "      <td>309</td>\n",
       "      <td>9.0</td>\n",
       "      <td>NWO,Ebola,Ukraine,Mainstream,Media,Pyschology</td>\n",
       "      <td>Adam Curtis describes the Surkow Strategy of M...</td>\n",
       "      <td>2015-01-04 00:00:00</td>\n",
       "      <td>865.0</td>\n",
       "    </tr>\n",
       "    <tr>\n",
       "      <th>2</th>\n",
       "      <td>News &amp; Politics</td>\n",
       "      <td>UCzVBu6oqlrAix0oq9T2rBFg</td>\n",
       "      <td>2019-11-19 20:40:22.403775</td>\n",
       "      <td>Social Media:\\n\\nFacebook.com/thebookoflaura\\n...</td>\n",
       "      <td>89.0</td>\n",
       "      <td>eWXefhNB2po</td>\n",
       "      <td>707</td>\n",
       "      <td>625.0</td>\n",
       "      <td>michael jackson,lyrics,music video,court,child...</td>\n",
       "      <td>my thoughts on the michael jackson documentary.</td>\n",
       "      <td>2019-04-24 00:00:00</td>\n",
       "      <td>12780.0</td>\n",
       "    </tr>\n",
       "    <tr>\n",
       "      <th>3</th>\n",
       "      <td>News &amp; Politics</td>\n",
       "      <td>UCzUV5283-l5c0oKRtyenj6Q</td>\n",
       "      <td>2019-11-22 08:47:10.520209</td>\n",
       "      <td>👕 Order your shirts here: https://Teespring.co...</td>\n",
       "      <td>195.0</td>\n",
       "      <td>MBgzne7djFU</td>\n",
       "      <td>378</td>\n",
       "      <td>47027.0</td>\n",
       "      <td>Funny,Entertainment,Fun,Laughing,Educational,L...</td>\n",
       "      <td>Elizabeth Warren Gets a Big Surprise at the Ai...</td>\n",
       "      <td>2019-10-03 00:00:00</td>\n",
       "      <td>374711.0</td>\n",
       "    </tr>\n",
       "    <tr>\n",
       "      <th>4</th>\n",
       "      <td>News &amp; Politics</td>\n",
       "      <td>UCzUV5283-l5c0oKRtyenj6Q</td>\n",
       "      <td>2019-11-22 08:46:16.481889</td>\n",
       "      <td>👕 Order your shirts here: https://Teespring.co...</td>\n",
       "      <td>114.0</td>\n",
       "      <td>AbH3pJnFgY8</td>\n",
       "      <td>278</td>\n",
       "      <td>36384.0</td>\n",
       "      <td>Funny,Entertainment,Fun,Laughing,Educational,L...</td>\n",
       "      <td>No More Twitter? 😂</td>\n",
       "      <td>2019-10-02 00:00:00</td>\n",
       "      <td>245617.0</td>\n",
       "    </tr>\n",
       "  </tbody>\n",
       "</table>\n",
       "</div>"
      ],
      "text/plain": [
       "        categories                channel_id                  crawl_date  \\\n",
       "0  News & Politics  UCzWm1-4XF7AHxVUTkHCM1uw  2019-11-17 06:28:42.593675   \n",
       "1  News & Politics  UCzWLsxDD373D4tY8kN-0LGQ  2019-11-05 00:42:33.012228   \n",
       "2  News & Politics  UCzVBu6oqlrAix0oq9T2rBFg  2019-11-19 20:40:22.403775   \n",
       "3  News & Politics  UCzUV5283-l5c0oKRtyenj6Q  2019-11-22 08:47:10.520209   \n",
       "4  News & Politics  UCzUV5283-l5c0oKRtyenj6Q  2019-11-22 08:46:16.481889   \n",
       "\n",
       "                                         description  dislike_count  \\\n",
       "0                                    retrogamer3.com           16.0   \n",
       "1  What are the forces at work that have created ...            0.0   \n",
       "2  Social Media:\\n\\nFacebook.com/thebookoflaura\\n...           89.0   \n",
       "3  👕 Order your shirts here: https://Teespring.co...          195.0   \n",
       "4  👕 Order your shirts here: https://Teespring.co...          114.0   \n",
       "\n",
       "    display_id  duration  like_count  \\\n",
       "0  dfa8RRkKoa4      9251        25.0   \n",
       "1  _dIIEMvH86k       309         9.0   \n",
       "2  eWXefhNB2po       707       625.0   \n",
       "3  MBgzne7djFU       378     47027.0   \n",
       "4  AbH3pJnFgY8       278     36384.0   \n",
       "\n",
       "                                                tags  \\\n",
       "0             RetroGamer3,Live Stream,politics,Trump   \n",
       "1      NWO,Ebola,Ukraine,Mainstream,Media,Pyschology   \n",
       "2  michael jackson,lyrics,music video,court,child...   \n",
       "3  Funny,Entertainment,Fun,Laughing,Educational,L...   \n",
       "4  Funny,Entertainment,Fun,Laughing,Educational,L...   \n",
       "\n",
       "                                               title          upload_date  \\\n",
       "0                       Retrogamer3 Political Stream  2018-08-23 00:00:00   \n",
       "1  Adam Curtis describes the Surkow Strategy of M...  2015-01-04 00:00:00   \n",
       "2    my thoughts on the michael jackson documentary.  2019-04-24 00:00:00   \n",
       "3  Elizabeth Warren Gets a Big Surprise at the Ai...  2019-10-03 00:00:00   \n",
       "4                                 No More Twitter? 😂  2019-10-02 00:00:00   \n",
       "\n",
       "   view_count  \n",
       "0       478.0  \n",
       "1       865.0  \n",
       "2     12780.0  \n",
       "3    374711.0  \n",
       "4    245617.0  "
      ]
     },
     "metadata": {},
     "output_type": "display_data"
    },
    {
     "name": "stdout",
     "output_type": "stream",
     "text": [
      "The shapes of all chunks:\n",
      "Shape of chunk number 0: (100000, 12)\n",
      "Shape of chunk number 1: (100000, 12)\n",
      "Shape of chunk number 2: (100000, 12)\n",
      "Shape of chunk number 3: (100000, 12)\n",
      "Shape of chunk number 4: (100000, 12)\n",
      "Shape of chunk number 5: (100000, 12)\n",
      "Shape of chunk number 6: (100000, 12)\n",
      "Shape of chunk number 7: (100000, 12)\n",
      "Shape of chunk number 8: (100000, 12)\n",
      "Shape of chunk number 9: (100000, 12)\n",
      "Shape of chunk number 10: (100000, 12)\n",
      "Shape of chunk number 11: (100000, 12)\n",
      "Shape of chunk number 12: (100000, 12)\n",
      "Shape of chunk number 13: (100000, 12)\n",
      "Shape of chunk number 14: (100000, 12)\n",
      "Shape of chunk number 15: (100000, 12)\n",
      "Shape of chunk number 16: (100000, 12)\n",
      "Shape of chunk number 17: (100000, 12)\n",
      "Shape of chunk number 18: (100000, 12)\n",
      "Shape of chunk number 19: (100000, 12)\n",
      "Shape of chunk number 20: (100000, 12)\n",
      "Shape of chunk number 21: (100000, 12)\n",
      "Shape of chunk number 22: (100000, 12)\n",
      "Shape of chunk number 23: (100000, 12)\n",
      "Shape of chunk number 24: (100000, 12)\n",
      "Shape of chunk number 25: (100000, 12)\n",
      "Shape of chunk number 26: (100000, 12)\n",
      "Shape of chunk number 27: (100000, 12)\n",
      "Shape of chunk number 28: (100000, 12)\n",
      "Shape of chunk number 29: (100000, 12)\n",
      "Shape of chunk number 30: (100000, 12)\n",
      "Shape of chunk number 31: (100000, 12)\n",
      "Shape of chunk number 32: (100000, 12)\n",
      "Shape of chunk number 33: (100000, 12)\n",
      "Shape of chunk number 34: (100000, 12)\n",
      "Shape of chunk number 35: (100000, 12)\n",
      "Shape of chunk number 36: (100000, 12)\n",
      "Shape of chunk number 37: (100000, 12)\n",
      "Shape of chunk number 38: (100000, 12)\n",
      "Shape of chunk number 39: (100000, 12)\n",
      "Shape of chunk number 40: (100000, 12)\n",
      "Shape of chunk number 41: (100000, 12)\n",
      "Shape of chunk number 42: (100000, 12)\n",
      "Shape of chunk number 43: (100000, 12)\n",
      "Shape of chunk number 44: (100000, 12)\n",
      "Shape of chunk number 45: (100000, 12)\n",
      "Shape of chunk number 46: (100000, 12)\n",
      "Shape of chunk number 47: (100000, 12)\n",
      "Shape of chunk number 48: (100000, 12)\n",
      "Shape of chunk number 49: (100000, 12)\n",
      "Shape of chunk number 50: (100000, 12)\n",
      "Shape of chunk number 51: (100000, 12)\n",
      "Shape of chunk number 52: (100000, 12)\n",
      "Shape of chunk number 53: (100000, 12)\n",
      "Shape of chunk number 54: (100000, 12)\n",
      "Shape of chunk number 55: (100000, 12)\n",
      "Shape of chunk number 56: (100000, 12)\n",
      "Shape of chunk number 57: (100000, 12)\n",
      "Shape of chunk number 58: (100000, 12)\n",
      "Shape of chunk number 59: (100000, 12)\n",
      "Shape of chunk number 60: (100000, 12)\n",
      "Shape of chunk number 61: (100000, 12)\n",
      "Shape of chunk number 62: (100000, 12)\n",
      "Shape of chunk number 63: (100000, 12)\n"
     ]
    },
    {
     "name": "stderr",
     "output_type": "stream",
     "text": [
      "/var/folders/xn/s7sjqvj94tx3n1l14fcw6f240000gq/T/ipykernel_3459/187265695.py:7: DtypeWarning: Columns (5,9,10) have mixed types. Specify dtype option on import or set low_memory=False.\n",
      "  for i, chunk in enumerate(pd.read_csv(dataset_root_path + \"/../generated_data/videos_in_news_pol.csv\", chunksize=100000)):\n"
     ]
    },
    {
     "name": "stdout",
     "output_type": "stream",
     "text": [
      "Shape of chunk number 64: (100000, 12)\n"
     ]
    },
    {
     "name": "stderr",
     "output_type": "stream",
     "text": [
      "/var/folders/xn/s7sjqvj94tx3n1l14fcw6f240000gq/T/ipykernel_3459/187265695.py:7: DtypeWarning: Columns (4,6,7) have mixed types. Specify dtype option on import or set low_memory=False.\n",
      "  for i, chunk in enumerate(pd.read_csv(dataset_root_path + \"/../generated_data/videos_in_news_pol.csv\", chunksize=100000)):\n"
     ]
    },
    {
     "name": "stdout",
     "output_type": "stream",
     "text": [
      "Shape of chunk number 65: (100000, 12)\n",
      "Shape of chunk number 66: (100000, 12)\n",
      "Shape of chunk number 67: (100000, 12)\n",
      "Shape of chunk number 68: (100000, 12)\n"
     ]
    },
    {
     "name": "stderr",
     "output_type": "stream",
     "text": [
      "/var/folders/xn/s7sjqvj94tx3n1l14fcw6f240000gq/T/ipykernel_3459/187265695.py:7: DtypeWarning: Columns (4,6,7) have mixed types. Specify dtype option on import or set low_memory=False.\n",
      "  for i, chunk in enumerate(pd.read_csv(dataset_root_path + \"/../generated_data/videos_in_news_pol.csv\", chunksize=100000)):\n"
     ]
    },
    {
     "name": "stdout",
     "output_type": "stream",
     "text": [
      "Shape of chunk number 69: (100000, 12)\n",
      "Shape of chunk number 70: (100000, 12)\n"
     ]
    },
    {
     "name": "stderr",
     "output_type": "stream",
     "text": [
      "/var/folders/xn/s7sjqvj94tx3n1l14fcw6f240000gq/T/ipykernel_3459/187265695.py:7: DtypeWarning: Columns (4,6,7) have mixed types. Specify dtype option on import or set low_memory=False.\n",
      "  for i, chunk in enumerate(pd.read_csv(dataset_root_path + \"/../generated_data/videos_in_news_pol.csv\", chunksize=100000)):\n"
     ]
    },
    {
     "name": "stdout",
     "output_type": "stream",
     "text": [
      "Shape of chunk number 71: (100000, 12)\n",
      "Shape of chunk number 72: (100000, 12)\n",
      "Shape of chunk number 73: (100000, 12)\n",
      "Shape of chunk number 74: (100000, 12)\n",
      "Shape of chunk number 75: (51328, 12)\n",
      "In total 7551328 rows, which takes up 76 chunks.\n",
      "2609 garbages collected.\n"
     ]
    }
   ],
   "source": [
    "# load the (large) csv file that was just written, containing the videos in news and politics, in chunks, \n",
    "# and print the head of the first chunk and the shape of each chunk (this is just to show that it worked)\n",
    "\n",
    "print(\"News and politics videos:\\n\")\n",
    "\n",
    "total_length = 0\n",
    "for i, chunk in enumerate(pd.read_csv(dataset_root_path + \"/../generated_data/videos_in_news_pol.csv\", chunksize=100000)):\n",
    "    \n",
    "    if i == 0:\n",
    "        print(f\"Head of chunk 0: \")\n",
    "        print(chunk[chunk.channel_id == \"UCupvZG-5ko_eiXAupbDfxWw\"])\n",
    "\n",
    "        display(chunk.head())\n",
    "        print(\"The shapes of all chunks:\")\n",
    "    print(f\"Shape of chunk number {i}: {chunk.shape}\")\n",
    "    total_length += chunk.shape[0]\n",
    "\n",
    "print(f\"In total {total_length} rows, which takes up {i+1} chunks.\")\n",
    "del chunk\n",
    "\n",
    "print(f\"{gc.collect()} garbages collected.\")"
   ]
  },
  {
   "cell_type": "markdown",
   "metadata": {},
   "source": [
    "## Extracting just the *Video IDs* of the Videos in News & Politics in as a Series\n",
    "(In order to be able to use this without loading the entire Videos in News & Politics DataFrame)"
   ]
  },
  {
   "cell_type": "code",
   "execution_count": 15,
   "metadata": {},
   "outputs": [
    {
     "name": "stdout",
     "output_type": "stream",
     "text": [
      "Read data from file\n"
     ]
    }
   ],
   "source": [
    "videos_news_pol_display_ids_filepath = dataset_root_path + \"../generated_data/videos_news_pol_display_ids.csv\"\n",
    "\n",
    "try:\n",
    "    df_videos_news_pol_display_ids = pd.read_csv(videos_news_pol_display_ids_filepath)\n",
    "    print(\"Read data from file\")\n",
    "except FileNotFoundError:\n",
    "    df_videos_news_pol_display_ids = dp.run_simple_function_on_chunks_concat(pd.read_csv(videos_in_news_pol_filepath, chunksize=100000),\n",
    "                                                                                 fct = lambda df: df['display_id'],\n",
    "                                                                                 print_time=True\n",
    "                                                                                 )['display_id']\n",
    "    df_videos_news_pol_display_ids.to_csv(videos_news_pol_display_ids_filepath, index=False)"
   ]
  },
  {
   "cell_type": "markdown",
   "metadata": {},
   "source": [
    "### Filtering **channels** by category News & Politics"
   ]
  },
  {
   "cell_type": "code",
   "execution_count": 16,
   "metadata": {},
   "outputs": [
    {
     "name": "stdout",
     "output_type": "stream",
     "text": [
      "Read data from file\n"
     ]
    }
   ],
   "source": [
    "#filter channels dataset to only include n&p\n",
    "\n",
    "# Note: because the channel dataset is much smaller than the video dataset, we don't need to worry about chunks here\n",
    "# Also, the results can be saved in a single file without a problem.\n",
    "\n",
    "channels_news_pol_filepath = dataset_root_path + \"../generated_data/channels_in_news_pol.csv\"\n",
    "\n",
    "try:\n",
    "    df_channels_news_pol = pd.read_csv(channels_news_pol_filepath)\n",
    "    print(\"Read data from file\")\n",
    "except FileNotFoundError:\n",
    "    df_channels_news_pol = df_channels_clean[df_channels_clean.category_cc == \"News & Politics\"]\n",
    "    df_channels_news_pol.to_csv(channels_news_pol_filepath, index=False)\n",
    "\n",
    "#this file will be used from now on"
   ]
  },
  {
   "cell_type": "code",
   "execution_count": 17,
   "metadata": {},
   "outputs": [
    {
     "data": {
      "text/html": [
       "<div>\n",
       "<style scoped>\n",
       "    .dataframe tbody tr th:only-of-type {\n",
       "        vertical-align: middle;\n",
       "    }\n",
       "\n",
       "    .dataframe tbody tr th {\n",
       "        vertical-align: top;\n",
       "    }\n",
       "\n",
       "    .dataframe thead th {\n",
       "        text-align: right;\n",
       "    }\n",
       "</style>\n",
       "<table border=\"1\" class=\"dataframe\">\n",
       "  <thead>\n",
       "    <tr style=\"text-align: right;\">\n",
       "      <th></th>\n",
       "      <th>category_cc</th>\n",
       "      <th>join_date</th>\n",
       "      <th>channel</th>\n",
       "      <th>name_cc</th>\n",
       "      <th>subscribers_cc</th>\n",
       "      <th>videos_cc</th>\n",
       "      <th>subscriber_rank_sb</th>\n",
       "      <th>weights</th>\n",
       "    </tr>\n",
       "  </thead>\n",
       "  <tbody>\n",
       "    <tr>\n",
       "      <th>0</th>\n",
       "      <td>News &amp; Politics</td>\n",
       "      <td>2006-08-26</td>\n",
       "      <td>UCttspZesZIDEwwpVIgoZtWQ</td>\n",
       "      <td>IndiaTV</td>\n",
       "      <td>15177282</td>\n",
       "      <td>139814</td>\n",
       "      <td>199.0</td>\n",
       "      <td>2.087</td>\n",
       "    </tr>\n",
       "    <tr>\n",
       "      <th>1</th>\n",
       "      <td>News &amp; Politics</td>\n",
       "      <td>2012-06-01</td>\n",
       "      <td>UCRWFSbif-RFENbBrSiez1DA</td>\n",
       "      <td>ABP NEWS</td>\n",
       "      <td>16274836</td>\n",
       "      <td>129027</td>\n",
       "      <td>207.0</td>\n",
       "      <td>2.087</td>\n",
       "    </tr>\n",
       "    <tr>\n",
       "      <th>2</th>\n",
       "      <td>News &amp; Politics</td>\n",
       "      <td>2017-03-03</td>\n",
       "      <td>UCmphdqZNmqL72WJ2uyiNw5w</td>\n",
       "      <td>ABP NEWS HINDI</td>\n",
       "      <td>10800000</td>\n",
       "      <td>51298</td>\n",
       "      <td>340.0</td>\n",
       "      <td>2.087</td>\n",
       "    </tr>\n",
       "    <tr>\n",
       "      <th>3</th>\n",
       "      <td>News &amp; Politics</td>\n",
       "      <td>2015-03-23</td>\n",
       "      <td>UCx8Z14PpntdaxCt2hakbQLQ</td>\n",
       "      <td>The Lallantop</td>\n",
       "      <td>9120000</td>\n",
       "      <td>9423</td>\n",
       "      <td>438.0</td>\n",
       "      <td>2.087</td>\n",
       "    </tr>\n",
       "    <tr>\n",
       "      <th>4</th>\n",
       "      <td>News &amp; Politics</td>\n",
       "      <td>2007-06-19</td>\n",
       "      <td>UCIvaYmXn910QMdemBG3v1pQ</td>\n",
       "      <td>Zee News</td>\n",
       "      <td>9280000</td>\n",
       "      <td>102648</td>\n",
       "      <td>549.0</td>\n",
       "      <td>2.087</td>\n",
       "    </tr>\n",
       "  </tbody>\n",
       "</table>\n",
       "</div>"
      ],
      "text/plain": [
       "       category_cc   join_date                   channel         name_cc  \\\n",
       "0  News & Politics  2006-08-26  UCttspZesZIDEwwpVIgoZtWQ         IndiaTV   \n",
       "1  News & Politics  2012-06-01  UCRWFSbif-RFENbBrSiez1DA        ABP NEWS   \n",
       "2  News & Politics  2017-03-03  UCmphdqZNmqL72WJ2uyiNw5w  ABP NEWS HINDI   \n",
       "3  News & Politics  2015-03-23  UCx8Z14PpntdaxCt2hakbQLQ   The Lallantop   \n",
       "4  News & Politics  2007-06-19  UCIvaYmXn910QMdemBG3v1pQ        Zee News   \n",
       "\n",
       "   subscribers_cc  videos_cc  subscriber_rank_sb  weights  \n",
       "0        15177282     139814               199.0    2.087  \n",
       "1        16274836     129027               207.0    2.087  \n",
       "2        10800000      51298               340.0    2.087  \n",
       "3         9120000       9423               438.0    2.087  \n",
       "4         9280000     102648               549.0    2.087  "
      ]
     },
     "metadata": {},
     "output_type": "display_data"
    },
    {
     "data": {
      "text/plain": [
       "(2263, 8)"
      ]
     },
     "metadata": {},
     "output_type": "display_data"
    }
   ],
   "source": [
    "display(df_channels_news_pol.head())\n",
    "display(df_channels_news_pol.shape)"
   ]
  },
  {
   "cell_type": "markdown",
   "metadata": {},
   "source": [
    "### Checking whether all videos in News and Politics are also uploaded by a channel in that category"
   ]
  },
  {
   "cell_type": "code",
   "execution_count": 18,
   "metadata": {},
   "outputs": [
    {
     "name": "stdout",
     "output_type": "stream",
     "text": [
      "Read data from file\n"
     ]
    },
    {
     "name": "stderr",
     "output_type": "stream",
     "text": [
      "/var/folders/xn/s7sjqvj94tx3n1l14fcw6f240000gq/T/ipykernel_3459/3977544599.py:7: DtypeWarning: Columns (4,6,7) have mixed types. Specify dtype option on import or set low_memory=False.\n",
      "  df_videos_news_pol__channel_not_news_pol = pd.read_csv(videos_news_pol__channel_not_news_pol_filepath)\n"
     ]
    },
    {
     "data": {
      "text/html": [
       "<div>\n",
       "<style scoped>\n",
       "    .dataframe tbody tr th:only-of-type {\n",
       "        vertical-align: middle;\n",
       "    }\n",
       "\n",
       "    .dataframe tbody tr th {\n",
       "        vertical-align: top;\n",
       "    }\n",
       "\n",
       "    .dataframe thead th {\n",
       "        text-align: right;\n",
       "    }\n",
       "</style>\n",
       "<table border=\"1\" class=\"dataframe\">\n",
       "  <thead>\n",
       "    <tr style=\"text-align: right;\">\n",
       "      <th></th>\n",
       "      <th>categories</th>\n",
       "      <th>channel_id</th>\n",
       "      <th>crawl_date</th>\n",
       "      <th>description</th>\n",
       "      <th>dislike_count</th>\n",
       "      <th>display_id</th>\n",
       "      <th>duration</th>\n",
       "      <th>like_count</th>\n",
       "      <th>tags</th>\n",
       "      <th>title</th>\n",
       "      <th>upload_date</th>\n",
       "      <th>view_count</th>\n",
       "    </tr>\n",
       "  </thead>\n",
       "  <tbody>\n",
       "    <tr>\n",
       "      <th>0</th>\n",
       "      <td>News &amp; Politics</td>\n",
       "      <td>UCzWm1-4XF7AHxVUTkHCM1uw</td>\n",
       "      <td>2019-11-17 06:28:42.593675</td>\n",
       "      <td>retrogamer3.com</td>\n",
       "      <td>16.0</td>\n",
       "      <td>dfa8RRkKoa4</td>\n",
       "      <td>9251</td>\n",
       "      <td>25.0</td>\n",
       "      <td>RetroGamer3,Live Stream,politics,Trump</td>\n",
       "      <td>Retrogamer3 Political Stream</td>\n",
       "      <td>2018-08-23 00:00:00</td>\n",
       "      <td>478.0</td>\n",
       "    </tr>\n",
       "    <tr>\n",
       "      <th>1</th>\n",
       "      <td>News &amp; Politics</td>\n",
       "      <td>UCzWLsxDD373D4tY8kN-0LGQ</td>\n",
       "      <td>2019-11-05 00:42:33.012228</td>\n",
       "      <td>What are the forces at work that have created ...</td>\n",
       "      <td>0.0</td>\n",
       "      <td>_dIIEMvH86k</td>\n",
       "      <td>309</td>\n",
       "      <td>9.0</td>\n",
       "      <td>NWO,Ebola,Ukraine,Mainstream,Media,Pyschology</td>\n",
       "      <td>Adam Curtis describes the Surkow Strategy of M...</td>\n",
       "      <td>2015-01-04 00:00:00</td>\n",
       "      <td>865.0</td>\n",
       "    </tr>\n",
       "    <tr>\n",
       "      <th>2</th>\n",
       "      <td>News &amp; Politics</td>\n",
       "      <td>UCzVBu6oqlrAix0oq9T2rBFg</td>\n",
       "      <td>2019-11-19 20:40:22.403775</td>\n",
       "      <td>Social Media:\\n\\nFacebook.com/thebookoflaura\\n...</td>\n",
       "      <td>89.0</td>\n",
       "      <td>eWXefhNB2po</td>\n",
       "      <td>707</td>\n",
       "      <td>625.0</td>\n",
       "      <td>michael jackson,lyrics,music video,court,child...</td>\n",
       "      <td>my thoughts on the michael jackson documentary.</td>\n",
       "      <td>2019-04-24 00:00:00</td>\n",
       "      <td>12780.0</td>\n",
       "    </tr>\n",
       "    <tr>\n",
       "      <th>3</th>\n",
       "      <td>News &amp; Politics</td>\n",
       "      <td>UCzTmNzBxLEHbpZNOCpUTWbA</td>\n",
       "      <td>2019-11-03 04:38:01.617657</td>\n",
       "      <td>A young man is living a normal life with no ca...</td>\n",
       "      <td>16.0</td>\n",
       "      <td>ck6Yl8TNoWs</td>\n",
       "      <td>1257</td>\n",
       "      <td>452.0</td>\n",
       "      <td>JoiRida,Cheatham,JoiRidaCheatham,Accepted,Detr...</td>\n",
       "      <td>Accepted - Award Winning Short Film</td>\n",
       "      <td>2013-10-13 00:00:00</td>\n",
       "      <td>27366.0</td>\n",
       "    </tr>\n",
       "    <tr>\n",
       "      <th>4</th>\n",
       "      <td>News &amp; Politics</td>\n",
       "      <td>UCzTmNzBxLEHbpZNOCpUTWbA</td>\n",
       "      <td>2019-11-03 04:38:06.565138</td>\n",
       "      <td>Short Film</td>\n",
       "      <td>1.0</td>\n",
       "      <td>tjUajxZAIZ8</td>\n",
       "      <td>422</td>\n",
       "      <td>15.0</td>\n",
       "      <td>Joi.Rida,Cheatham,joiridacheatham,dread,loc,up...</td>\n",
       "      <td>JoiRida Twin Visit (Introducing Jive Viper)</td>\n",
       "      <td>2010-03-04 00:00:00</td>\n",
       "      <td>987.0</td>\n",
       "    </tr>\n",
       "  </tbody>\n",
       "</table>\n",
       "</div>"
      ],
      "text/plain": [
       "        categories                channel_id                  crawl_date  \\\n",
       "0  News & Politics  UCzWm1-4XF7AHxVUTkHCM1uw  2019-11-17 06:28:42.593675   \n",
       "1  News & Politics  UCzWLsxDD373D4tY8kN-0LGQ  2019-11-05 00:42:33.012228   \n",
       "2  News & Politics  UCzVBu6oqlrAix0oq9T2rBFg  2019-11-19 20:40:22.403775   \n",
       "3  News & Politics  UCzTmNzBxLEHbpZNOCpUTWbA  2019-11-03 04:38:01.617657   \n",
       "4  News & Politics  UCzTmNzBxLEHbpZNOCpUTWbA  2019-11-03 04:38:06.565138   \n",
       "\n",
       "                                         description dislike_count  \\\n",
       "0                                    retrogamer3.com          16.0   \n",
       "1  What are the forces at work that have created ...           0.0   \n",
       "2  Social Media:\\n\\nFacebook.com/thebookoflaura\\n...          89.0   \n",
       "3  A young man is living a normal life with no ca...          16.0   \n",
       "4                                         Short Film           1.0   \n",
       "\n",
       "    display_id duration like_count  \\\n",
       "0  dfa8RRkKoa4     9251       25.0   \n",
       "1  _dIIEMvH86k      309        9.0   \n",
       "2  eWXefhNB2po      707      625.0   \n",
       "3  ck6Yl8TNoWs     1257      452.0   \n",
       "4  tjUajxZAIZ8      422       15.0   \n",
       "\n",
       "                                                tags  \\\n",
       "0             RetroGamer3,Live Stream,politics,Trump   \n",
       "1      NWO,Ebola,Ukraine,Mainstream,Media,Pyschology   \n",
       "2  michael jackson,lyrics,music video,court,child...   \n",
       "3  JoiRida,Cheatham,JoiRidaCheatham,Accepted,Detr...   \n",
       "4  Joi.Rida,Cheatham,joiridacheatham,dread,loc,up...   \n",
       "\n",
       "                                               title          upload_date  \\\n",
       "0                       Retrogamer3 Political Stream  2018-08-23 00:00:00   \n",
       "1  Adam Curtis describes the Surkow Strategy of M...  2015-01-04 00:00:00   \n",
       "2    my thoughts on the michael jackson documentary.  2019-04-24 00:00:00   \n",
       "3                Accepted - Award Winning Short Film  2013-10-13 00:00:00   \n",
       "4        JoiRida Twin Visit (Introducing Jive Viper)  2010-03-04 00:00:00   \n",
       "\n",
       "   view_count  \n",
       "0       478.0  \n",
       "1       865.0  \n",
       "2     12780.0  \n",
       "3     27366.0  \n",
       "4       987.0  "
      ]
     },
     "metadata": {},
     "output_type": "display_data"
    },
    {
     "data": {
      "text/plain": [
       "(541172, 12)"
      ]
     },
     "metadata": {},
     "output_type": "display_data"
    }
   ],
   "source": [
    "# check if all videos we found in news&pol are also published by a channel in category n&p\n",
    "\n",
    "videos_news_pol__channel_not_news_pol_filepath = dataset_root_path + \"../generated_data/videos_in_news_pol__channel_not_in_news_pol.csv\"\n",
    "\n",
    "\n",
    "try:\n",
    "    df_videos_news_pol__channel_not_news_pol = pd.read_csv(videos_news_pol__channel_not_news_pol_filepath)\n",
    "    print(\"Read data from file\")\n",
    "except FileNotFoundError:\n",
    "    # go through the large file of news and politics videos in chunks, \n",
    "    # and extract all videos which were not uploaded by a News & Politics channel\n",
    "\n",
    "    df_videos_news_pol__channel_not_news_pol = dp.run_simple_function_on_chunks_concat(\n",
    "        reader=pd.read_csv(dataset_root_path + \"../generated_data/videos_in_news_pol.csv\", chunksize=100000),\n",
    "        fct=lambda chunk: chunk[np.logical_not(chunk.channel_id.isin(df_channels_news_pol.channel))],\n",
    "        print_time=True\n",
    "        )\n",
    "\n",
    "    # save the resuls to a csv\n",
    "    df_videos_news_pol__channel_not_news_pol.to_csv(videos_news_pol__channel_not_news_pol_filepath, index=False)\n",
    "\n",
    "        \n",
    "display(df_videos_news_pol__channel_not_news_pol.head())\n",
    "display(df_videos_news_pol__channel_not_news_pol.shape)\n",
    "\n"
   ]
  },
  {
   "cell_type": "markdown",
   "metadata": {},
   "source": [
    "**We see that indeed, not all videos in the news and politics category belong to a channel in this category!**\n",
    "A google search shows that apparently, you don't have to have the same category for all videos, but you set a \"default\" channel category which will be used for videos if you don't change it manually. Also, you can probably change the default category after a while if you want.\n",
    "\n",
    "This is the reason why most of the news&pol videos are uploaded by a news&pol channel, but not all.\n",
    "\n",
    "In the paper about the YouNiverse dataset, the authors say that the channel category is actually the \"most frequent category\". We believe that the video categories are the most relevant, as they are the 'true' categories of the content."
   ]
  },
  {
   "cell_type": "markdown",
   "metadata": {},
   "source": [
    "### Filtering the N&P videos by a list of channels"
   ]
  },
  {
   "cell_type": "code",
   "execution_count": 20,
   "metadata": {},
   "outputs": [],
   "source": [
    "# define variables for the channel ids of CNN, ABC, BBC, Al Jazeera English and Fox\n",
    "channel_id_cnn = \"UCupvZG-5ko_eiXAupbDfxWw\"  # CNN\n",
    "channel_id_abc = \"UCBi2mrWuNuyYy4gbM6fU18Q\"  # ABC News\n",
    "channel_id_bbc = \"UC16niRr50-MSBwiO3YDb3RA\"  # BBC News\n",
    "channel_id_aje = \"UCNye-wNBqNL5ZzHSJj3l8Bg\"  # Al Jazeera English\n",
    "channel_id_fox = \"UCXIJgqnII2ZOINSWNOGFThA\"  # Fox News\n",
    "\n",
    "selected_channel_ids = [channel_id_cnn,\n",
    "                        channel_id_abc,\n",
    "                        channel_id_bbc,\n",
    "                        channel_id_aje,\n",
    "                        channel_id_fox]\n"
   ]
  },
  {
   "cell_type": "code",
   "execution_count": 21,
   "metadata": {},
   "outputs": [
    {
     "name": "stdout",
     "output_type": "stream",
     "text": [
      "Read data from file\n"
     ]
    },
    {
     "name": "stderr",
     "output_type": "stream",
     "text": [
      "/var/folders/xn/s7sjqvj94tx3n1l14fcw6f240000gq/T/ipykernel_3459/3738770184.py:6: DtypeWarning: Columns (4,6,7) have mixed types. Specify dtype option on import or set low_memory=False.\n",
      "  df_videos_news_pol_manually_selected = pd.read_csv(videos_news_pol_manual_selection_filepath)\n"
     ]
    },
    {
     "data": {
      "text/html": [
       "<div>\n",
       "<style scoped>\n",
       "    .dataframe tbody tr th:only-of-type {\n",
       "        vertical-align: middle;\n",
       "    }\n",
       "\n",
       "    .dataframe tbody tr th {\n",
       "        vertical-align: top;\n",
       "    }\n",
       "\n",
       "    .dataframe thead th {\n",
       "        text-align: right;\n",
       "    }\n",
       "</style>\n",
       "<table border=\"1\" class=\"dataframe\">\n",
       "  <thead>\n",
       "    <tr style=\"text-align: right;\">\n",
       "      <th></th>\n",
       "      <th>categories</th>\n",
       "      <th>channel_id</th>\n",
       "      <th>crawl_date</th>\n",
       "      <th>description</th>\n",
       "      <th>dislike_count</th>\n",
       "      <th>display_id</th>\n",
       "      <th>duration</th>\n",
       "      <th>like_count</th>\n",
       "      <th>tags</th>\n",
       "      <th>title</th>\n",
       "      <th>upload_date</th>\n",
       "      <th>view_count</th>\n",
       "    </tr>\n",
       "  </thead>\n",
       "  <tbody>\n",
       "    <tr>\n",
       "      <th>0</th>\n",
       "      <td>News &amp; Politics</td>\n",
       "      <td>UCXIJgqnII2ZOINSWNOGFThA</td>\n",
       "      <td>2019-11-01 09:25:52.312339</td>\n",
       "      <td>God's not Dead' now available on DVD\\nWatch th...</td>\n",
       "      <td>3.0</td>\n",
       "      <td>Tu8LeamtOmc</td>\n",
       "      <td>252</td>\n",
       "      <td>6.0</td>\n",
       "      <td>Fox Friends,Clayton Morris,Famous Faces,Faith,...</td>\n",
       "      <td>'Duck Dynasty' stars talk faith in entertainment</td>\n",
       "      <td>2014-12-29 00:00:00</td>\n",
       "      <td>344.0</td>\n",
       "    </tr>\n",
       "    <tr>\n",
       "      <th>1</th>\n",
       "      <td>News &amp; Politics</td>\n",
       "      <td>UCXIJgqnII2ZOINSWNOGFThA</td>\n",
       "      <td>2019-11-01 09:25:55.983188</td>\n",
       "      <td>Shocking new tape reveals 15-year-old woman di...</td>\n",
       "      <td>2.0</td>\n",
       "      <td>a9RXcMkahu8</td>\n",
       "      <td>347</td>\n",
       "      <td>11.0</td>\n",
       "      <td>Bill Oreilly,Oreilly Factor,Personal Freedoms,...</td>\n",
       "      <td>Planned Parenthood Controversy</td>\n",
       "      <td>2014-12-29 00:00:00</td>\n",
       "      <td>1057.0</td>\n",
       "    </tr>\n",
       "    <tr>\n",
       "      <th>2</th>\n",
       "      <td>News &amp; Politics</td>\n",
       "      <td>UCXIJgqnII2ZOINSWNOGFThA</td>\n",
       "      <td>2019-11-01 09:26:01.107518</td>\n",
       "      <td>Watters asks the folks of Cambridge, Massachus...</td>\n",
       "      <td>89.0</td>\n",
       "      <td>KrQu5grf5v8</td>\n",
       "      <td>277</td>\n",
       "      <td>1958.0</td>\n",
       "      <td>Oreilly Factor,Bill Oreilly,Jesse Watters,Watt...</td>\n",
       "      <td>Watters' World: Free stuff edition</td>\n",
       "      <td>2014-12-29 00:00:00</td>\n",
       "      <td>244169.0</td>\n",
       "    </tr>\n",
       "    <tr>\n",
       "      <th>3</th>\n",
       "      <td>News &amp; Politics</td>\n",
       "      <td>UCXIJgqnII2ZOINSWNOGFThA</td>\n",
       "      <td>2019-11-01 09:26:07.440358</td>\n",
       "      <td>New Pew poll shows 44 percent say they are not...</td>\n",
       "      <td>6.0</td>\n",
       "      <td>CVzmKWI2OXQ</td>\n",
       "      <td>283</td>\n",
       "      <td>12.0</td>\n",
       "      <td>Bill Oreilly,Charles Krauthammer,Oreilly Facto...</td>\n",
       "      <td>What happened to patriotism?</td>\n",
       "      <td>2014-12-29 00:00:00</td>\n",
       "      <td>798.0</td>\n",
       "    </tr>\n",
       "    <tr>\n",
       "      <th>4</th>\n",
       "      <td>News &amp; Politics</td>\n",
       "      <td>UCXIJgqnII2ZOINSWNOGFThA</td>\n",
       "      <td>2019-11-01 09:25:50.948588</td>\n",
       "      <td>Jesse Watters ventures into the National Organ...</td>\n",
       "      <td>12.0</td>\n",
       "      <td>J9A7_Gjjzzg</td>\n",
       "      <td>294</td>\n",
       "      <td>448.0</td>\n",
       "      <td>Oreilly Factor,Bill Oreilly,Jesse Watters,Watt...</td>\n",
       "      <td>Watters' World: NOW edition</td>\n",
       "      <td>2014-12-29 00:00:00</td>\n",
       "      <td>43412.0</td>\n",
       "    </tr>\n",
       "  </tbody>\n",
       "</table>\n",
       "</div>"
      ],
      "text/plain": [
       "        categories                channel_id                  crawl_date  \\\n",
       "0  News & Politics  UCXIJgqnII2ZOINSWNOGFThA  2019-11-01 09:25:52.312339   \n",
       "1  News & Politics  UCXIJgqnII2ZOINSWNOGFThA  2019-11-01 09:25:55.983188   \n",
       "2  News & Politics  UCXIJgqnII2ZOINSWNOGFThA  2019-11-01 09:26:01.107518   \n",
       "3  News & Politics  UCXIJgqnII2ZOINSWNOGFThA  2019-11-01 09:26:07.440358   \n",
       "4  News & Politics  UCXIJgqnII2ZOINSWNOGFThA  2019-11-01 09:25:50.948588   \n",
       "\n",
       "                                         description dislike_count  \\\n",
       "0  God's not Dead' now available on DVD\\nWatch th...           3.0   \n",
       "1  Shocking new tape reveals 15-year-old woman di...           2.0   \n",
       "2  Watters asks the folks of Cambridge, Massachus...          89.0   \n",
       "3  New Pew poll shows 44 percent say they are not...           6.0   \n",
       "4  Jesse Watters ventures into the National Organ...          12.0   \n",
       "\n",
       "    display_id duration like_count  \\\n",
       "0  Tu8LeamtOmc      252        6.0   \n",
       "1  a9RXcMkahu8      347       11.0   \n",
       "2  KrQu5grf5v8      277     1958.0   \n",
       "3  CVzmKWI2OXQ      283       12.0   \n",
       "4  J9A7_Gjjzzg      294      448.0   \n",
       "\n",
       "                                                tags  \\\n",
       "0  Fox Friends,Clayton Morris,Famous Faces,Faith,...   \n",
       "1  Bill Oreilly,Oreilly Factor,Personal Freedoms,...   \n",
       "2  Oreilly Factor,Bill Oreilly,Jesse Watters,Watt...   \n",
       "3  Bill Oreilly,Charles Krauthammer,Oreilly Facto...   \n",
       "4  Oreilly Factor,Bill Oreilly,Jesse Watters,Watt...   \n",
       "\n",
       "                                              title          upload_date  \\\n",
       "0  'Duck Dynasty' stars talk faith in entertainment  2014-12-29 00:00:00   \n",
       "1                    Planned Parenthood Controversy  2014-12-29 00:00:00   \n",
       "2                Watters' World: Free stuff edition  2014-12-29 00:00:00   \n",
       "3                      What happened to patriotism?  2014-12-29 00:00:00   \n",
       "4                       Watters' World: NOW edition  2014-12-29 00:00:00   \n",
       "\n",
       "   view_count  \n",
       "0       344.0  \n",
       "1      1057.0  \n",
       "2    244169.0  \n",
       "3       798.0  \n",
       "4     43412.0  "
      ]
     },
     "metadata": {},
     "output_type": "display_data"
    },
    {
     "data": {
      "text/plain": [
       "(162278, 12)"
      ]
     },
     "metadata": {},
     "output_type": "display_data"
    },
    {
     "name": "stdout",
     "output_type": "stream",
     "text": [
      "['UCXIJgqnII2ZOINSWNOGFThA' 'UCNye-wNBqNL5ZzHSJj3l8Bg'\n",
      " 'UCBi2mrWuNuyYy4gbM6fU18Q' 'UCupvZG-5ko_eiXAupbDfxWw'\n",
      " 'UC16niRr50-MSBwiO3YDb3RA']\n"
     ]
    }
   ],
   "source": [
    "# form the filtered N&P videos dataframe, keep those posted by channels manually selected (here CNN, ABC News, BBC News, Al Jazeera English and Fox News)\n",
    "\n",
    "videos_news_pol_manual_selection_filepath = dataset_root_path + \"../generated_data/videos_from_news_pol_from_selected_channels.csv\"\n",
    "\n",
    "try:\n",
    "    df_videos_news_pol_manually_selected = pd.read_csv(videos_news_pol_manual_selection_filepath)\n",
    "    print(\"Read data from file\")\n",
    "except FileNotFoundError:\n",
    "    # go through the large file with videos in news and politics, \n",
    "    # and select those videos which are uploaded by one of our selected channels\n",
    "    \n",
    "    df_videos_news_pol_manually_selected = dp.run_simple_function_on_chunks_concat(\n",
    "        reader=pd.read_csv(dataset_root_path + \"../generated_data/videos_in_news_pol.csv\", chunksize=100000), \n",
    "        fct=lambda chunk: chunk[chunk.channel_id.isin(selected_channel_ids)],\n",
    "        print_time=False)\n",
    "    \n",
    "    # save the results to a csv\n",
    "    df_videos_news_pol_manually_selected.to_csv(videos_news_pol_manual_selection_filepath, index=False)\n",
    "\n",
    "display(df_videos_news_pol_manually_selected.head())\n",
    "display(df_videos_news_pol_manually_selected.shape)\n",
    "\n",
    "\n",
    "#checking if all channels are here and have videos\n",
    "channel_ids = df_videos_news_pol_manually_selected.channel_id.unique()\n",
    "print(channel_ids)"
   ]
  },
  {
   "cell_type": "markdown",
   "metadata": {},
   "source": [
    "### Split the selected news & pol **videos** in the five channels"
   ]
  },
  {
   "cell_type": "code",
   "execution_count": 22,
   "metadata": {},
   "outputs": [
    {
     "name": "stdout",
     "output_type": "stream",
     "text": [
      "Data read from file\n",
      "Data read from file\n",
      "Data read from file\n",
      "Data read from file\n",
      "Data read from file\n"
     ]
    }
   ],
   "source": [
    "# filter the video dataset to get only videos from each of our selected channels\n",
    "\n",
    "# define the filepaths for the data\n",
    "videos_news_pol_cnn_filepath = dataset_root_path + \"../generated_data/videos_news_pol_cnn.csv\"\n",
    "videos_news_pol_abc_filepath = dataset_root_path + \"../generated_data/videos_news_pol_abc.csv\"\n",
    "videos_news_pol_bbc_filepath = dataset_root_path + \"../generated_data/videos_news_pol_bbc.csv\"\n",
    "videos_news_pol_aje_filepath = dataset_root_path + \"../generated_data/videos_news_pol_aje.csv\"\n",
    "videos_news_pol_fox_filepath = dataset_root_path + \"../generated_data/videos_news_pol_fox.csv\"\n",
    "\n",
    "# for each of the 5 channels...\n",
    "# CNN\n",
    "try:  # ... try to load the data from file\n",
    "    df_videos_news_pol_cnn = pd.read_csv(videos_news_pol_cnn_filepath)\n",
    "    print(\"Data read from file\")\n",
    "except FileNotFoundError:  # otherwise, generate it and save\n",
    "    df_videos_news_pol_cnn = df_videos_news_pol_manually_selected.loc[\n",
    "        df_videos_news_pol_manually_selected.channel_id == channel_id_cnn]\n",
    "    df_videos_news_pol_cnn.to_csv(videos_news_pol_cnn_filepath, index=False)\n",
    "\n",
    "# ABC News\n",
    "try:\n",
    "    df_videos_news_pol_abc = pd.read_csv(videos_news_pol_cnn_filepath)\n",
    "    print(\"Data read from file\")\n",
    "except FileNotFoundError:\n",
    "    df_videos_news_pol_abc = df_videos_news_pol_manually_selected.loc[\n",
    "        df_videos_news_pol_manually_selected.channel_id == channel_id_abc]\n",
    "    df_videos_news_pol_abc.to_csv(videos_news_pol_abc_filepath, index=False)\n",
    "    \n",
    "# BBC News\n",
    "try:\n",
    "    df_videos_news_pol_bbc = pd.read_csv(videos_news_pol_cnn_filepath)\n",
    "    print(\"Data read from file\")\n",
    "except FileNotFoundError:\n",
    "    df_videos_news_pol_bbc = df_videos_news_pol_manually_selected.loc[\n",
    "        df_videos_news_pol_manually_selected.channel_id == channel_id_bbc]\n",
    "    df_videos_news_pol_bbc.to_csv(videos_news_pol_bbc_filepath, index=False)\n",
    "\n",
    "# Al Jazeera English\n",
    "try:\n",
    "    df_videos_news_pol_aje = pd.read_csv(videos_news_pol_cnn_filepath)\n",
    "    print(\"Data read from file\")\n",
    "except FileNotFoundError:\n",
    "    df_videos_news_pol_aje = df_videos_news_pol_manually_selected.loc[\n",
    "        df_videos_news_pol_manually_selected.channel_id == channel_id_aje]\n",
    "    df_videos_news_pol_aje.to_csv(videos_news_pol_aje_filepath, index=False)\n",
    "\n",
    "# Fox News\n",
    "try:\n",
    "    df_videos_news_pol_fox = pd.read_csv(videos_news_pol_cnn_filepath)\n",
    "    print(\"Data read from file\")\n",
    "except FileNotFoundError:\n",
    "    df_videos_news_pol_fox = df_videos_news_pol_manually_selected.loc[\n",
    "        df_videos_news_pol_manually_selected.channel_id == channel_id_fox]\n",
    "    df_videos_news_pol_fox.to_csv(videos_news_pol_fox_filepath, index=False)"
   ]
  },
  {
   "cell_type": "markdown",
   "metadata": {},
   "source": [
    "### Filtering **comments** from all n&p videos"
   ]
  },
  {
   "cell_type": "code",
   "execution_count": 23,
   "metadata": {},
   "outputs": [
    {
     "name": "stdout",
     "output_type": "stream",
     "text": [
      "File already exists, no need to generate again.\n"
     ]
    }
   ],
   "source": [
    "# get comments on all (n&p) videos from our selected channels\n",
    "\n",
    "comments_news_pol_videos_filepath = dataset_root_path + \"../generated_data/comments_news_pol_videos.csv\"\n",
    "\n",
    "if os.path.isfile(comments_news_pol_videos_filepath):\n",
    "    print(\"File already exists, no need to generate again.\")\n",
    "else:\n",
    "\n",
    "    # get all the comments made on a video in the News&Pol category\n",
    "    dp.run_simple_function_on_chunks_save_csv(\n",
    "        comments_in_chunks_clean(chunksize=1000000), \n",
    "        lambda comment_df: comment_df.loc[comment_df['video_id'].isin(df_videos_news_pol_display_ids.display_id)],\n",
    "        comments_news_pol_videos_filepath,\n",
    "        index=False,\n",
    "        every=30,\n",
    "        print_time=(1000000, 8600000000))"
   ]
  },
  {
   "cell_type": "markdown",
   "metadata": {},
   "source": [
    "### Filtering **comments** of the 5 channels using n&p video ids obtained above"
   ]
  },
  {
   "cell_type": "code",
   "execution_count": 24,
   "metadata": {},
   "outputs": [
    {
     "name": "stdout",
     "output_type": "stream",
     "text": [
      "Read data from file\n"
     ]
    }
   ],
   "source": [
    "# get comments on (n&p) videos from our selected channels using the ids from filtered video dataset from the selected channels\n",
    "# Check if all 5 channels are in the video dataset before filtering\n",
    "\n",
    "comments_news_pol_selected_channels_filepath = dataset_root_path + \"../generated_data/comments_news_pol_selected_channels.csv\"\n",
    "\n",
    "try:\n",
    "    df_comments_news_pol_manually_selected = pd.read_csv(comments_news_pol_selected_channels_filepath)\n",
    "    print(\"Read data from file\")\n",
    "except FileNotFoundError:\n",
    "\n",
    "    # get all the comments made on a video uploaded by one of our selected channels\n",
    "    df_comments_news_pol_manually_selected = dp.run_simple_function_on_chunks_concat(\n",
    "        pd.read_csv(comments_news_pol_videos_filepath, chunksize=1000000),  # only go through news and pol videos \n",
    "        lambda comment_df: comment_df.loc[comment_df['video_id'].isin(df_videos_news_pol_manually_selected.display_id)],\n",
    "        print_time=(1000000, 8600000000))\n",
    "    \n",
    "    # merge it with the video data of the selected channels, to get the channel id directly in the comment df\n",
    "    df_comments_news_pol_manually_selected = df_comments_news_pol_manually_selected.merge(\n",
    "        df_videos_news_pol_manually_selected[[\"display_id\", \"channel_id\"]], \n",
    "        left_on=\"video_id\", right_on=\"display_id\")\n",
    "    # save as csv\n",
    "    df_comments_news_pol_manually_selected.to_csv(comments_news_pol_selected_channels_filepath, index=False)"
   ]
  },
  {
   "cell_type": "code",
   "execution_count": 25,
   "metadata": {},
   "outputs": [
    {
     "data": {
      "text/html": [
       "<div>\n",
       "<style scoped>\n",
       "    .dataframe tbody tr th:only-of-type {\n",
       "        vertical-align: middle;\n",
       "    }\n",
       "\n",
       "    .dataframe tbody tr th {\n",
       "        vertical-align: top;\n",
       "    }\n",
       "\n",
       "    .dataframe thead th {\n",
       "        text-align: right;\n",
       "    }\n",
       "</style>\n",
       "<table border=\"1\" class=\"dataframe\">\n",
       "  <thead>\n",
       "    <tr style=\"text-align: right;\">\n",
       "      <th></th>\n",
       "      <th>author</th>\n",
       "      <th>video_id</th>\n",
       "      <th>likes</th>\n",
       "      <th>replies</th>\n",
       "      <th>display_id</th>\n",
       "      <th>channel_id</th>\n",
       "    </tr>\n",
       "  </thead>\n",
       "  <tbody>\n",
       "    <tr>\n",
       "      <th>0</th>\n",
       "      <td>30</td>\n",
       "      <td>HqBtIWFW-0k</td>\n",
       "      <td>2</td>\n",
       "      <td>2</td>\n",
       "      <td>HqBtIWFW-0k</td>\n",
       "      <td>UCBi2mrWuNuyYy4gbM6fU18Q</td>\n",
       "    </tr>\n",
       "    <tr>\n",
       "      <th>1</th>\n",
       "      <td>30</td>\n",
       "      <td>HqBtIWFW-0k</td>\n",
       "      <td>0</td>\n",
       "      <td>0</td>\n",
       "      <td>HqBtIWFW-0k</td>\n",
       "      <td>UCBi2mrWuNuyYy4gbM6fU18Q</td>\n",
       "    </tr>\n",
       "    <tr>\n",
       "      <th>2</th>\n",
       "      <td>269</td>\n",
       "      <td>anah_4blbyU</td>\n",
       "      <td>0</td>\n",
       "      <td>0</td>\n",
       "      <td>anah_4blbyU</td>\n",
       "      <td>UCupvZG-5ko_eiXAupbDfxWw</td>\n",
       "    </tr>\n",
       "    <tr>\n",
       "      <th>3</th>\n",
       "      <td>269</td>\n",
       "      <td>vtVvnL5SbDA</td>\n",
       "      <td>3</td>\n",
       "      <td>0</td>\n",
       "      <td>vtVvnL5SbDA</td>\n",
       "      <td>UCBi2mrWuNuyYy4gbM6fU18Q</td>\n",
       "    </tr>\n",
       "    <tr>\n",
       "      <th>4</th>\n",
       "      <td>336</td>\n",
       "      <td>IC1gAi0BmhM</td>\n",
       "      <td>0</td>\n",
       "      <td>0</td>\n",
       "      <td>IC1gAi0BmhM</td>\n",
       "      <td>UCBi2mrWuNuyYy4gbM6fU18Q</td>\n",
       "    </tr>\n",
       "  </tbody>\n",
       "</table>\n",
       "</div>"
      ],
      "text/plain": [
       "   author     video_id  likes  replies   display_id                channel_id\n",
       "0      30  HqBtIWFW-0k      2        2  HqBtIWFW-0k  UCBi2mrWuNuyYy4gbM6fU18Q\n",
       "1      30  HqBtIWFW-0k      0        0  HqBtIWFW-0k  UCBi2mrWuNuyYy4gbM6fU18Q\n",
       "2     269  anah_4blbyU      0        0  anah_4blbyU  UCupvZG-5ko_eiXAupbDfxWw\n",
       "3     269  vtVvnL5SbDA      3        0  vtVvnL5SbDA  UCBi2mrWuNuyYy4gbM6fU18Q\n",
       "4     336  IC1gAi0BmhM      0        0  IC1gAi0BmhM  UCBi2mrWuNuyYy4gbM6fU18Q"
      ]
     },
     "metadata": {},
     "output_type": "display_data"
    },
    {
     "data": {
      "text/plain": [
       "(11729336, 6)"
      ]
     },
     "metadata": {},
     "output_type": "display_data"
    },
    {
     "name": "stdout",
     "output_type": "stream",
     "text": [
      "['UCBi2mrWuNuyYy4gbM6fU18Q' 'UCupvZG-5ko_eiXAupbDfxWw'\n",
      " 'UCXIJgqnII2ZOINSWNOGFThA' 'UCNye-wNBqNL5ZzHSJj3l8Bg']\n"
     ]
    }
   ],
   "source": [
    "display(df_comments_news_pol_manually_selected.head())\n",
    "display(df_comments_news_pol_manually_selected.shape)\n",
    "\n",
    "#checking if all channels are here and have videos\n",
    "channel_ids = df_comments_news_pol_manually_selected.channel_id.unique()\n",
    "print(channel_ids)"
   ]
  },
  {
   "cell_type": "markdown",
   "metadata": {},
   "source": [
    "### Split the comments in the five channels"
   ]
  },
  {
   "cell_type": "code",
   "execution_count": 26,
   "metadata": {},
   "outputs": [
    {
     "name": "stdout",
     "output_type": "stream",
     "text": [
      "Read 5 dfs from file\n"
     ]
    }
   ],
   "source": [
    "# define the file paths for the files for comments from each of the channels\n",
    "\n",
    "comments_news_pol_selected_channels_filepaths = [\n",
    "    dataset_root_path + \"../generated_data/comments_news_pol_\" + channel + \".csv\" \n",
    "    for channel in [\"cnn\", \"abc\", \"aje\", \"fox\"]\n",
    "    ]\n",
    "\n",
    "# check if all of the files already exist\n",
    "if np.all([os.path.isfile(filepath) for filepath in comments_news_pol_selected_channels_filepaths]):\n",
    "    df_comments_news_pol_cnn = pd.read_csv(comments_news_pol_selected_channels_filepaths[0])\n",
    "    df_comments_news_pol_abc = pd.read_csv(comments_news_pol_selected_channels_filepaths[1])\n",
    "    #df_comments_news_pol_bbc = pd.read_csv(comments_news_pol_selected_channels_filepaths[2])\n",
    "    df_comments_news_pol_aje = pd.read_csv(comments_news_pol_selected_channels_filepaths[2])\n",
    "    df_comments_news_pol_fox = pd.read_csv(comments_news_pol_selected_channels_filepaths[3])\n",
    "    print(\"Read 5 dfs from file\")\n",
    "else:\n",
    "    # group the comments by channel\n",
    "    df_comments_news_pol_manually_selected_grouped = df_comments_news_pol_manually_selected.groupby(\"channel_id\")\n",
    "    \n",
    "    # save the groups to new dfs\n",
    "    (df_comments_news_pol_cnn,\n",
    "     df_comments_news_pol_abc,\n",
    "     #df_comments_news_pol_bbc,\n",
    "     df_comments_news_pol_aje,\n",
    "     df_comments_news_pol_fox) = (df_comments_news_pol_manually_selected_grouped.get_group(x) \n",
    "                                  for x, _ in df_comments_news_pol_manually_selected_grouped)\n",
    "    \n",
    "    # save the new dfs to csv\n",
    "    df_comments_news_pol_cnn.to_csv(comments_news_pol_selected_channels_filepaths[0], index=False)\n",
    "    df_comments_news_pol_abc.to_csv(comments_news_pol_selected_channels_filepaths[1], index=False)\n",
    "    #df_comments_news_pol_bbc.to_csv(comments_news_pol_selected_channels_filepaths[2], index=False)\n",
    "    df_comments_news_pol_aje.to_csv(comments_news_pol_selected_channels_filepaths[2], index=False)\n",
    "    df_comments_news_pol_fox.to_csv(comments_news_pol_selected_channels_filepaths[3], index=False)"
   ]
  },
  {
   "cell_type": "code",
   "execution_count": 27,
   "metadata": {},
   "outputs": [
    {
     "data": {
      "text/html": [
       "<div>\n",
       "<style scoped>\n",
       "    .dataframe tbody tr th:only-of-type {\n",
       "        vertical-align: middle;\n",
       "    }\n",
       "\n",
       "    .dataframe tbody tr th {\n",
       "        vertical-align: top;\n",
       "    }\n",
       "\n",
       "    .dataframe thead th {\n",
       "        text-align: right;\n",
       "    }\n",
       "</style>\n",
       "<table border=\"1\" class=\"dataframe\">\n",
       "  <thead>\n",
       "    <tr style=\"text-align: right;\">\n",
       "      <th></th>\n",
       "      <th>author</th>\n",
       "      <th>video_id</th>\n",
       "      <th>likes</th>\n",
       "      <th>replies</th>\n",
       "      <th>display_id</th>\n",
       "      <th>channel_id</th>\n",
       "    </tr>\n",
       "  </thead>\n",
       "  <tbody>\n",
       "    <tr>\n",
       "      <th>0</th>\n",
       "      <td>30</td>\n",
       "      <td>HqBtIWFW-0k</td>\n",
       "      <td>2</td>\n",
       "      <td>2</td>\n",
       "      <td>HqBtIWFW-0k</td>\n",
       "      <td>UCBi2mrWuNuyYy4gbM6fU18Q</td>\n",
       "    </tr>\n",
       "    <tr>\n",
       "      <th>1</th>\n",
       "      <td>30</td>\n",
       "      <td>HqBtIWFW-0k</td>\n",
       "      <td>0</td>\n",
       "      <td>0</td>\n",
       "      <td>HqBtIWFW-0k</td>\n",
       "      <td>UCBi2mrWuNuyYy4gbM6fU18Q</td>\n",
       "    </tr>\n",
       "    <tr>\n",
       "      <th>2</th>\n",
       "      <td>269</td>\n",
       "      <td>vtVvnL5SbDA</td>\n",
       "      <td>3</td>\n",
       "      <td>0</td>\n",
       "      <td>vtVvnL5SbDA</td>\n",
       "      <td>UCBi2mrWuNuyYy4gbM6fU18Q</td>\n",
       "    </tr>\n",
       "    <tr>\n",
       "      <th>3</th>\n",
       "      <td>336</td>\n",
       "      <td>IC1gAi0BmhM</td>\n",
       "      <td>0</td>\n",
       "      <td>0</td>\n",
       "      <td>IC1gAi0BmhM</td>\n",
       "      <td>UCBi2mrWuNuyYy4gbM6fU18Q</td>\n",
       "    </tr>\n",
       "    <tr>\n",
       "      <th>4</th>\n",
       "      <td>466</td>\n",
       "      <td>VH4kbybo60Y</td>\n",
       "      <td>0</td>\n",
       "      <td>0</td>\n",
       "      <td>VH4kbybo60Y</td>\n",
       "      <td>UCBi2mrWuNuyYy4gbM6fU18Q</td>\n",
       "    </tr>\n",
       "    <tr>\n",
       "      <th>...</th>\n",
       "      <td>...</td>\n",
       "      <td>...</td>\n",
       "      <td>...</td>\n",
       "      <td>...</td>\n",
       "      <td>...</td>\n",
       "      <td>...</td>\n",
       "    </tr>\n",
       "    <tr>\n",
       "      <th>2518289</th>\n",
       "      <td>146672301</td>\n",
       "      <td>xpeT5PXMcyo</td>\n",
       "      <td>0</td>\n",
       "      <td>0</td>\n",
       "      <td>xpeT5PXMcyo</td>\n",
       "      <td>UCBi2mrWuNuyYy4gbM6fU18Q</td>\n",
       "    </tr>\n",
       "    <tr>\n",
       "      <th>2518290</th>\n",
       "      <td>146672301</td>\n",
       "      <td>xpeT5PXMcyo</td>\n",
       "      <td>1</td>\n",
       "      <td>0</td>\n",
       "      <td>xpeT5PXMcyo</td>\n",
       "      <td>UCBi2mrWuNuyYy4gbM6fU18Q</td>\n",
       "    </tr>\n",
       "    <tr>\n",
       "      <th>2518291</th>\n",
       "      <td>146672301</td>\n",
       "      <td>xpeT5PXMcyo</td>\n",
       "      <td>789</td>\n",
       "      <td>12</td>\n",
       "      <td>xpeT5PXMcyo</td>\n",
       "      <td>UCBi2mrWuNuyYy4gbM6fU18Q</td>\n",
       "    </tr>\n",
       "    <tr>\n",
       "      <th>2518292</th>\n",
       "      <td>146672593</td>\n",
       "      <td>gaBPqHkUal4</td>\n",
       "      <td>0</td>\n",
       "      <td>0</td>\n",
       "      <td>gaBPqHkUal4</td>\n",
       "      <td>UCBi2mrWuNuyYy4gbM6fU18Q</td>\n",
       "    </tr>\n",
       "    <tr>\n",
       "      <th>2518293</th>\n",
       "      <td>146672593</td>\n",
       "      <td>6fTXY0N355Y</td>\n",
       "      <td>1179</td>\n",
       "      <td>34</td>\n",
       "      <td>6fTXY0N355Y</td>\n",
       "      <td>UCBi2mrWuNuyYy4gbM6fU18Q</td>\n",
       "    </tr>\n",
       "  </tbody>\n",
       "</table>\n",
       "<p>2518294 rows × 6 columns</p>\n",
       "</div>"
      ],
      "text/plain": [
       "            author     video_id  likes  replies   display_id  \\\n",
       "0               30  HqBtIWFW-0k      2        2  HqBtIWFW-0k   \n",
       "1               30  HqBtIWFW-0k      0        0  HqBtIWFW-0k   \n",
       "2              269  vtVvnL5SbDA      3        0  vtVvnL5SbDA   \n",
       "3              336  IC1gAi0BmhM      0        0  IC1gAi0BmhM   \n",
       "4              466  VH4kbybo60Y      0        0  VH4kbybo60Y   \n",
       "...            ...          ...    ...      ...          ...   \n",
       "2518289  146672301  xpeT5PXMcyo      0        0  xpeT5PXMcyo   \n",
       "2518290  146672301  xpeT5PXMcyo      1        0  xpeT5PXMcyo   \n",
       "2518291  146672301  xpeT5PXMcyo    789       12  xpeT5PXMcyo   \n",
       "2518292  146672593  gaBPqHkUal4      0        0  gaBPqHkUal4   \n",
       "2518293  146672593  6fTXY0N355Y   1179       34  6fTXY0N355Y   \n",
       "\n",
       "                       channel_id  \n",
       "0        UCBi2mrWuNuyYy4gbM6fU18Q  \n",
       "1        UCBi2mrWuNuyYy4gbM6fU18Q  \n",
       "2        UCBi2mrWuNuyYy4gbM6fU18Q  \n",
       "3        UCBi2mrWuNuyYy4gbM6fU18Q  \n",
       "4        UCBi2mrWuNuyYy4gbM6fU18Q  \n",
       "...                           ...  \n",
       "2518289  UCBi2mrWuNuyYy4gbM6fU18Q  \n",
       "2518290  UCBi2mrWuNuyYy4gbM6fU18Q  \n",
       "2518291  UCBi2mrWuNuyYy4gbM6fU18Q  \n",
       "2518292  UCBi2mrWuNuyYy4gbM6fU18Q  \n",
       "2518293  UCBi2mrWuNuyYy4gbM6fU18Q  \n",
       "\n",
       "[2518294 rows x 6 columns]"
      ]
     },
     "execution_count": 27,
     "metadata": {},
     "output_type": "execute_result"
    }
   ],
   "source": [
    "df_comments_news_pol_cnn"
   ]
  },
  {
   "cell_type": "markdown",
   "metadata": {},
   "source": [
    "## Initial Analysis\n",
    "\n",
    "Now that we have new dataframes of comments and videos for the 5 main channels, we explore the plots."
   ]
  },
  {
   "cell_type": "markdown",
   "metadata": {},
   "source": [
    "### Total number of subscribers, users (i.e commenters) and comments in the 5 channels"
   ]
  },
  {
   "cell_type": "code",
   "execution_count": 28,
   "metadata": {},
   "outputs": [
    {
     "data": {
      "image/png": "[encoded data removed]",
      "text/plain": [
       "<Figure size 1500x900 with 1 Axes>"
      ]
     },
     "metadata": {},
     "output_type": "display_data"
    }
   ],
   "source": [
    "channels = ['cnn', 'abc', 'aje', 'fox']\n",
    "comments = [len(df_comments_news_pol_cnn), \n",
    "            #len(df_comments_news_pol_bbc), \n",
    "            len(df_comments_news_pol_abc), \n",
    "            len(df_comments_news_pol_aje), \n",
    "            len(df_comments_news_pol_fox)]\n",
    "subscribers = [df_channels_news_pol[df_channels_news_pol.channel == channel_id_cnn].subscribers_cc.values[0], \n",
    "               #channel_id_bbc.subscribers_cc, \n",
    "               df_channels_news_pol[df_channels_news_pol.channel == channel_id_abc].subscribers_cc.values[0], \n",
    "               df_channels_news_pol[df_channels_news_pol.channel == channel_id_aje].subscribers_cc.values[0], \n",
    "               df_channels_news_pol[df_channels_news_pol.channel == channel_id_fox].subscribers_cc.values[0]]\n",
    "# Calculate the number of unique authors that commented for each dataframe\n",
    "commenters = [\n",
    "    df_comments_news_pol_cnn['author'].nunique(),\n",
    "    #df_comments_news_pol_bbc['author'].nunique(),\n",
    "    df_comments_news_pol_abc['author'].nunique(),\n",
    "    df_comments_news_pol_aje['author'].nunique(),\n",
    "    df_comments_news_pol_fox['author'].nunique()\n",
    "]\n",
    "\n",
    "# Bar width\n",
    "bar_width = 0.25\n",
    "index = np.arange(len(channels))\n",
    "\n",
    "# Fig\n",
    "fig, ax = plt.subplots(figsize=(15, 9))\n",
    "\n",
    "bar1 = ax.bar(index - bar_width, subscribers, bar_width, label='Subscribers', color='blue')\n",
    "bar2 = ax.bar(index, commenters, bar_width, label='Commenters', color='green')\n",
    "bar3 = ax.bar(index + bar_width, comments, bar_width, label='Numbers of commenters', color='red')\n",
    "\n",
    "# Labels and title\n",
    "ax.set_xlabel('Channels')\n",
    "ax.set_ylabel('Values')\n",
    "ax.set_title('Plot of the numbers of subscribers, commenters and comments depending on the main channel')\n",
    "ax.set_xticks(index + bar_width / 2)\n",
    "ax.set_xticklabels(channels)\n",
    "\n",
    "# Legend display\n",
    "ax.legend()\n",
    "\n",
    "plt.show()\n"
   ]
  },
  {
   "cell_type": "markdown",
   "metadata": {},
   "source": [
    "### Distribution of comments - How many people comment frequently?"
   ]
  },
  {
   "cell_type": "code",
   "execution_count": null,
   "metadata": {},
   "outputs": [
    {
     "name": "stdout",
     "output_type": "stream",
     "text": [
      "grouping done\n"
     ]
    }
   ],
   "source": [
    "#Plotting the distribution for each channels\n",
    "\n",
    "#Grouping by author, i.e. commenters\n",
    "comment_counts_cnn = df_comments_news_pol_cnn.groupby('author').size()\n",
    "#comment_counts_bbc = df_comments_news_pol_bbc.groupby('author').size()\n",
    "comment_counts_abc = df_comments_news_pol_abc.groupby('author').size()\n",
    "comment_counts_aje = df_comments_news_pol_aje.groupby('author').size()\n",
    "comment_counts_fox = df_comments_news_pol_fox.groupby('author').size()\n",
    "\n",
    "print(\"grouping done\")\n",
    "fig, axes = plt.subplots(1, 5, figsize=(25, 6))  \n",
    "\n",
    "# Plot \n",
    "axes[0].bar(comment_counts_cnn.index, comment_counts_cnn.values)\n",
    "axes[0].set_xlabel('Author')\n",
    "axes[0].set_ylabel('Number of Comments')\n",
    "axes[0].set_title('CNN Channels')\n",
    "\n",
    "\"\"\"\n",
    "axes[1].bar(comment_counts_bbc.index, comment_counts_bbc.values)\n",
    "axes[1].set_xlabel('Author')\n",
    "axes[1].set_ylabel('Number of Comments')\n",
    "axes[1].set_title('BBC Channels')\n",
    "\"\"\"\n",
    "axes[1].bar(comment_counts_abc.index, comment_counts_abc.values)\n",
    "axes[1].set_xlabel('Author')\n",
    "axes[1].set_ylabel('Number of Comments')\n",
    "axes[1].set_title('ABC Channels')\n",
    "\n",
    "axes[2].bar(comment_counts_aje.index, comment_counts_aje.values)\n",
    "axes[2].set_xlabel('Author')\n",
    "axes[2].set_ylabel('Number of Comments')\n",
    "axes[2].set_title('AJE Channels')\n",
    "\n",
    "axes[3].bar(comment_counts_fox.index, comment_counts_fox.values)\n",
    "axes[3].set_xlabel('Author')\n",
    "axes[3].set_ylabel('Number of Comments')\n",
    "axes[3].set_title('FOX Channels')\n",
    "\n",
    "# avoid overlap\n",
    "plt.tight_layout()\n",
    "\n",
    "\n",
    "plt.show()\n",
    "\n",
    "\n"
   ]
  },
  {
   "cell_type": "markdown",
   "metadata": {},
   "source": [
    "## Selecting the cluster of users in a specific channel \n",
    "\n",
    "(flexible function where you give the threshold of x comments)\n"
   ]
  },
  {
   "cell_type": "code",
   "execution_count": null,
   "metadata": {},
   "outputs": [
    {
     "data": {
      "text/html": [
       "<div>\n",
       "<style scoped>\n",
       "    .dataframe tbody tr th:only-of-type {\n",
       "        vertical-align: middle;\n",
       "    }\n",
       "\n",
       "    .dataframe tbody tr th {\n",
       "        vertical-align: top;\n",
       "    }\n",
       "\n",
       "    .dataframe thead th {\n",
       "        text-align: right;\n",
       "    }\n",
       "</style>\n",
       "<table border=\"1\" class=\"dataframe\">\n",
       "  <thead>\n",
       "    <tr style=\"text-align: right;\">\n",
       "      <th></th>\n",
       "      <th>author</th>\n",
       "      <th>number_of_comments</th>\n",
       "      <th>number_of_videos</th>\n",
       "    </tr>\n",
       "  </thead>\n",
       "  <tbody>\n",
       "    <tr>\n",
       "      <th>0</th>\n",
       "      <td>453667</td>\n",
       "      <td>1</td>\n",
       "      <td>1</td>\n",
       "    </tr>\n",
       "    <tr>\n",
       "      <th>1</th>\n",
       "      <td>468696</td>\n",
       "      <td>1</td>\n",
       "      <td>1</td>\n",
       "    </tr>\n",
       "    <tr>\n",
       "      <th>2</th>\n",
       "      <td>594074</td>\n",
       "      <td>1</td>\n",
       "      <td>1</td>\n",
       "    </tr>\n",
       "  </tbody>\n",
       "</table>\n",
       "</div>"
      ],
      "text/plain": [
       "   author  number_of_comments  number_of_videos\n",
       "0  453667                   1                 1\n",
       "1  468696                   1                 1\n",
       "2  594074                   1                 1"
      ]
     },
     "metadata": {},
     "output_type": "display_data"
    }
   ],
   "source": [
    "#returns df with users_id and total number of comments made in a specific channel\n",
    "def get_metadata_commenters(comment_data: pd.DataFrame, threshold: int = 0) -> pd.DataFrame:\n",
    "    \"\"\"\n",
    "    Generates a dataframe with comment count and number of videos commented under, \n",
    "    for each person that has commented.\n",
    "    Works on any df containing a set of comment data \n",
    "    (e.g., filtered to contain only comments under videos from a certain channel).\n",
    "\n",
    "    Args:\n",
    "        comment_data: df containing the comments for which to generate metadata\n",
    "        threshold: (default 0) only commenters with more than this amount of comments \n",
    "            will be included in the dataframe.\n",
    "\n",
    "    Returns:\n",
    "        df with columns author, number of comments and number of videos\n",
    "    \"\"\"\n",
    "\n",
    "    metadata_commenters = comment_data.groupby('author').agg(number_of_comments=('author', 'size')).reset_index()\n",
    "    metadata_commenters['number_of_videos']= comment_data.groupby('author')['video_id'].nunique().values\n",
    "    \n",
    "    #keep users that wrote more than <threshold> comments \n",
    "    metadata_commenters=metadata_commenters[metadata_commenters['number_of_comments']>=threshold]\n",
    "    return metadata_commenters\n",
    "\n",
    "\n",
    "threshold = 10  # decide this based on the distributions of comments for the 5 channels\n",
    "\n",
    "metadata_commenters_news_pol_selected_channels_filepaths = [\n",
    "    dataset_root_path + \"../generated_data/metadata_commenters_news_pol_\" + channel + \".csv\" \n",
    "    for channel in [\"cnn\", \"abc\", \"bbc\", \"aje\", \"fox\"]\n",
    "    ]\n",
    "\n",
    "if np.all([os.path.isfile(filepath) for filepath in metadata_commenters_news_pol_selected_channels_filepaths]):\n",
    "    metadata_commenters_news_pol_cnn = pd.read_csv(metadata_commenters_news_pol_selected_channels_filepaths[0])\n",
    "    metadata_commenters_news_pol_abc = pd.read_csv(metadata_commenters_news_pol_selected_channels_filepaths[1])\n",
    "    metadata_commenters_news_pol_bbc = pd.read_csv(metadata_commenters_news_pol_selected_channels_filepaths[2])\n",
    "    metadata_commenters_news_pol_aje = pd.read_csv(metadata_commenters_news_pol_selected_channels_filepaths[3])\n",
    "    metadata_commenters_news_pol_fox = pd.read_csv(metadata_commenters_news_pol_selected_channels_filepaths[4])\n",
    "    print(\"Read 5 dfs from file\")\n",
    "else:\n",
    "    # group the comments by channel\n",
    "    df_comments_news_pol_manually_selected_grouped = df_comments_news_pol_manually_selected.groupby(\"channel_id\")\n",
    "    \n",
    "    # save the groups to new dfs\n",
    "    (metadata_commenters_news_pol_cnn,\n",
    "     metadata_commenters_news_pol_abc,\n",
    "     metadata_commenters_news_pol_bbc,\n",
    "     metadata_commenters_news_pol_aje,\n",
    "     metadata_commenters_news_pol_fox) = (get_metadata_commenters(df_comments, threshold)\n",
    "                                          for df_comments in [df_comments_news_pol_cnn,\n",
    "                                                              df_comments_news_pol_abc,\n",
    "                                                              df_comments_news_pol_bbc,\n",
    "                                                              df_comments_news_pol_aje,\n",
    "                                                              df_comments_news_pol_fox])\n",
    "    \n",
    "    # save the new dfs to csv\n",
    "    metadata_commenters_news_pol_cnn.to_csv(metadata_commenters_news_pol_selected_channels_filepaths[0], index=False)\n",
    "    metadata_commenters_news_pol_abc.to_csv(metadata_commenters_news_pol_selected_channels_filepaths[1], index=False)\n",
    "    metadata_commenters_news_pol_bbc.to_csv(metadata_commenters_news_pol_selected_channels_filepaths[2], index=False)\n",
    "    metadata_commenters_news_pol_aje.to_csv(metadata_commenters_news_pol_selected_channels_filepaths[3], index=False)\n",
    "    metadata_commenters_news_pol_fox.to_csv(metadata_commenters_news_pol_selected_channels_filepaths[4], index=False)\n",
    "\n",
    "metadata_commenters_news_pol_cnn = get_metadata_commenters(df_comments_news_pol_cnn,0)\n",
    "\n",
    "metadata_commenters_news_pol_cnn.to_csv(dataset_root_path + \"../generated_data/commenter_metadata_news_pol_cnn.csv\", index=False)\n",
    "\n",
    "# display cnn data as an example\n",
    "display(metadata_commenters_news_pol_cnn.head())\n",
    "# display sizes of all 5 dfs\n",
    "display(metadata_commenters_news_pol_cnn.shape)\n",
    "display(metadata_commenters_news_pol_abc.shape)\n",
    "display(metadata_commenters_news_pol_bbc.shape)\n",
    "display(metadata_commenters_news_pol_aje.shape)\n",
    "display(metadata_commenters_news_pol_fox.shape)"
   ]
  },
  {
   "cell_type": "markdown",
   "metadata": {},
   "source": [
    "### Plot of cnn cluster, thresold to define depending on this \n",
    "--> if it works i'll do the same for other channels"
   ]
  },
  {
   "cell_type": "code",
   "execution_count": 1,
   "metadata": {},
   "outputs": [
    {
     "ename": "NameError",
     "evalue": "name 'plt' is not defined",
     "output_type": "error",
     "traceback": [
      "\u001b[0;31m---------------------------------------------------------------------------\u001b[0m",
      "\u001b[0;31mNameError\u001b[0m                                 Traceback (most recent call last)",
      "Cell \u001b[0;32mIn[1], line 2\u001b[0m\n\u001b[1;32m      1\u001b[0m \u001b[38;5;66;03m# Create the figure and the primary axis (for number of comments)\u001b[39;00m\n\u001b[0;32m----> 2\u001b[0m fig, ax1 \u001b[38;5;241m=\u001b[39m plt\u001b[38;5;241m.\u001b[39msubplots(figsize\u001b[38;5;241m=\u001b[39m(\u001b[38;5;241m12\u001b[39m, \u001b[38;5;241m6\u001b[39m))\n\u001b[1;32m      4\u001b[0m sns\u001b[38;5;241m.\u001b[39mbarplot(x\u001b[38;5;241m=\u001b[39m\u001b[38;5;124m'\u001b[39m\u001b[38;5;124mauthor\u001b[39m\u001b[38;5;124m'\u001b[39m, y\u001b[38;5;241m=\u001b[39m\u001b[38;5;124m'\u001b[39m\u001b[38;5;124mnumber_of_comments\u001b[39m\u001b[38;5;124m'\u001b[39m, data\u001b[38;5;241m=\u001b[39mmetadata_commenters_news_pol_cnn, ax\u001b[38;5;241m=\u001b[39max1, color\u001b[38;5;241m=\u001b[39m\u001b[38;5;124m'\u001b[39m\u001b[38;5;124mb\u001b[39m\u001b[38;5;124m'\u001b[39m)\n\u001b[1;32m      6\u001b[0m \u001b[38;5;66;03m#first axis\u001b[39;00m\n",
      "\u001b[0;31mNameError\u001b[0m: name 'plt' is not defined"
     ]
    }
   ],
   "source": [
    "\n",
    "# Create the figure and the primary axis (for number of comments)\n",
    "fig, ax1 = plt.subplots(figsize=(12, 6))\n",
    "\n",
    "sns.barplot(x='author', y='number_of_comments', data=metadata_commenters_news_pol_cnn, ax=ax1, color='b')\n",
    "\n",
    "#first axis\n",
    "ax1.set_xlabel('Author')\n",
    "ax1.set_ylabel('Number of Comments', color='b')\n",
    "ax1.tick_params(axis='y', labelcolor='b')\n",
    "ax1.set_xticklabels(ax1.get_xticklabels(), rotation=90)\n",
    "\n",
    "# second axis \n",
    "ax2 = ax1.twinx()\n",
    "\n",
    "sns.barplot(x='author', y='number_of_videos', data=metadata_commenters_news_pol_cnn, ax=ax2, color='g')\n",
    "\n",
    "ax2.set_ylabel('Number of Videos Commented On', color='g')\n",
    "ax2.tick_params(axis='y', labelcolor='g')\n",
    "\n",
    "\n",
    "plt.title('Number of Comments and Videos Commented On per Author for CNN Channel')\n",
    "\n",
    "plt.tight_layout()\n",
    "\n",
    "plt.show()"
   ]
  },
  {
   "cell_type": "markdown",
   "metadata": {},
   "source": [
    "### Plots\n",
    "1. Venn diagram with clusters of the channels and underline overlaps"
   ]
  },
  {
   "cell_type": "markdown",
   "metadata": {},
   "source": [
    "# Deeper analysis and statistics\n",
    "Todo: \n",
    "\n",
    "use dataset of all comments which are under any video in the news and politics category to get the list of videos under which each of the users we found (in our defined clusters) have made a comment\n",
    "\n",
    "for each pair of users, calculate \"number of videos in common (under which both have commented) / min number of videos both users have commented on\"\n",
    "(example: mila commented on 10 videos, andreas on 100 videos, they have 8 videos they both commented on, so the value we calculate is 8/10 = 0.8)\n"
   ]
  },
  {
   "cell_type": "markdown",
   "metadata": {},
   "source": [
    "## Problem here:\n",
    "\n",
    "Everything is too big to do at the same time. Trying to create a dataframe with the list of videos commented on for all users in a cluster seems to not work, because it is just too much data. Or at least it is very slow. But I did this using the full set of commenters under cnn etc, so threshold=0. With a higher threshold it would be bigger, but don't know if it is going to work then (bc it's still very many videos).\n",
    "\n",
    "So another idea was togo through the comments in chunks and calculate the overlap directly, without saving a dataframe with lists of videos. But this doesn't really work, you cannot compare the overlap of videos, because you are only looking at one chunk at a time (the user you are comparing with maybe has commented on the same video as you, but that comment is in another chunk, so it will never be noticed.)\n",
    "\n",
    "So I guess we will have to try to do number one, but I guess with saving to disk as csv in between or smth, so this will be a bit complicated and will take a very long time, so we will not have this for P2 I think.\n",
    "\n",
    "But maybe, I can describe how I would implement it (maybe even reference what went wrong doing it like this, and thereby explaining why we would do it in another way?)."
   ]
  },
  {
   "cell_type": "markdown",
   "metadata": {},
   "source": [
    "**The remaining code is garbage :(**\n",
    "But I left it for now, if I need to look at it for \"inspiration\" about what went wrong and why"
   ]
  },
  {
   "cell_type": "code",
   "execution_count": null,
   "metadata": {},
   "outputs": [],
   "source": [
    "def get_video_list_for_given_users(comment_data: pd.DataFrame, users: pd.DataFrame, video_ids: pd.DataFrame)-> pd.DataFrame:\n",
    "    \"\"\"\n",
    "    Creates a df with one column for users \n",
    "    and one column with the list of videos that user has commented on.\n",
    "    Args:\n",
    "        comment_data: a df containing the comments to go through\n",
    "        users: the list of users to do this for\n",
    "        \n",
    "    Returns:\n",
    "        df as described above\n",
    "    \"\"\"\n",
    "    # display(comment_data['video_id'])\n",
    "    comments_by_given_users_grouped = comment_data.loc[comment_data.author.isin(users)].groupby(\"author\")\n",
    "    video_ids_of_comments_by_given_users_grouped = comments_by_given_users_grouped['video_id']\n",
    "\n",
    "    result = pd.DataFrame()\n",
    "\n",
    "    for user_i, vid_indices_i in video_ids_of_comments_by_given_users_grouped.groups.items():\n",
    "        for user_j, vid_indices_j in video_ids_of_comments_by_given_users_grouped.groups.items():\n",
    "            result['length_i'] = \n",
    "\n",
    "    # display(video_ids_of_comments_by_given_users_grouped.groups)\n",
    "    time_start_unique=time.time()\n",
    "    unique_videos = video_ids.display_id.drop_duplicates()\n",
    "    time_end_unique=time.time()\n",
    "    print(f\"time finding unique: {time_end_unique - time_start_unique}\")\n",
    "    return pd.DataFrame({user: unique_videos.isin([comment_data.loc[vid_indices].video_id ]) \n",
    "                         for (user, vid_indices) in video_ids_of_comments_by_given_users_grouped.groups.items()},\n",
    "                         index=unique_videos)\n",
    "\n",
    "    # return pd.DataFrame({'author': video_ids_of_comments_by_given_users_grouped.groups.keys(), \n",
    "    #                      'video_list': [comment_data.loc[vid_ids] for vid_ids in video_ids_of_comments_by_given_users_grouped.groups.values()]})\n",
    "                        #  [video_ids_of_comments_by_given_users_grouped.get_group(name) \n",
    "                        #                for name in video_ids_of_comments_by_given_users_grouped.groups.keys()]})\n",
    "\n",
    "# df_video_list_for_cnn_cluster = dp.run_simple_function_on_chunks_concat(reader=pd.read_csv(comments_news_pol_videos_filepath, chunksize=1000000),  # go through all comments in news & pol videos\n",
    "#                                                                         fct= lambda df: get_video_list_for_given_users(df, df_comments_news_pol_cnn.author),  # get the video list for users in cnn cluster\n",
    "#                                                                         print_time=True)\n",
    "\n",
    "df_video_list_for_cnn_cluster = pd.DataFrame()\n",
    "\n",
    "for i, df_comments_news_pol_chunk in enumerate(pd.read_csv(comments_news_pol_videos_filepath, chunksize=1000000)):\n",
    "    print(f\"Processing chunk {i}\")\n",
    "    time_start = time.time()\n",
    "    df_video_list_for_cnn_cluster = (df_video_list_for_cnn_cluster) & (get_video_list_for_given_users(df_comments_news_pol_chunk, df_comments_news_pol_cnn.author, df_videos_news_pol_display_ids))\n",
    "    time_end = time.time()\n",
    "    print(f\"Done. This took {time_end - time_start} seconds.\")\n",
    "    # df_comments_news_pol_chunk_cnn_users_grouped = df_comments_news_pol_chunk.loc[df_comments_news_pol_chunk.user_id.isin(df_comments_news_pol_cnn.user_id)].groupby(\"user_id\")\n",
    "    # df_videos_commented_by_cnn_clustermembers = pd.DataFrame({user_id: video_list for user_id, video_list in df_comments_news_pol_chunk_cnn_users_grouped['video_id']})"
   ]
  },
  {
   "cell_type": "code",
   "execution_count": null,
   "metadata": {},
   "outputs": [
    {
     "name": "stdout",
     "output_type": "stream",
     "text": [
      "Processing chunk 0\n",
      "time finding unique: 6.467015504837036\n"
     ]
    }
   ],
   "source": [
    "def get_video_list_for_given_users(comment_data: pd.DataFrame, users: pd.DataFrame)-> pd.DataFrame:\n",
    "    \"\"\"\n",
    "    Creates a df with one column for users \n",
    "    and one column with the list of videos that user has commented on.\n",
    "    Args:\n",
    "        comment_data: a df containing the comments to go through\n",
    "        users: the list of users to do this for\n",
    "        \n",
    "    Returns:\n",
    "        df as described above\n",
    "    \"\"\"\n",
    "    # display(comment_data['video_id'])\n",
    "    comments_by_given_users_grouped = comment_data.loc[comment_data.author.isin(users)].groupby(\"author\")\n",
    "    video_ids_of_comments_by_given_users_grouped = comments_by_given_users_grouped['video_id']\n",
    "\n",
    "    # display(video_ids_of_comments_by_given_users_grouped.groups)\n",
    "    video_lists_of_users_in_chunk = pd.DataFrame({'author': video_ids_of_comments_by_given_users_grouped.groups.keys(), \n",
    "                                                  'video_list': video_ids_of_comments_by_given_users_grouped.groups.values() }) # [comment_data.loc[vid_indices] for vid_indices in video_ids_of_comments_by_given_users_grouped.groups.values()]})\n",
    "    \n",
    "    result = pd.DataFrame(index=[users[i] + \"_\" + users[j] for j in range(i+1, len(video_lists_of_users_in_chunk)) for i in range(len(video_lists_of_users_in_chunk))])\n",
    "\n",
    "    for i in range(len(video_lists_of_users_in_chunk)):\n",
    "        for j in range(i+1, len(video_lists_of_users_in_chunk)):\n",
    "            result[video_lists_of_users_in_chunk.author.iloc[i] + \"_\" + video_lists_of_users_in_chunk.author.iloc[j], \"len_i\"] += len(video_lists_of_users_in_chunk.video_list.iloc[i])\n",
    "            result[video_lists_of_users_in_chunk.author.iloc[i] + \"_\" + video_lists_of_users_in_chunk.author.iloc[j], \"len_j\"] += len(video_lists_of_users_in_chunk.video_list.iloc[j])\n",
    "            result[video_lists_of_users_in_chunk.author.iloc[i] + \"_\" + video_lists_of_users_in_chunk.author.iloc[j], \"common\"] += len(video_lists_of_users_in_chunk.video_list.iloc[i])\n",
    "\n",
    "\n",
    "            result = pd.concat([result, pd.DataFrame({\"len_i\": len(video_lists_of_users_in_chunk.video_list.iloc[i]),\n",
    "                                                      \"len_j\": len(video_lists_of_users_in_chunk.video_list.iloc[j]),\n",
    "                                                      \"common\": sum(video_lists_of_users_in_chunk.video_list.iloc[i].isin(video_lists_of_users_in_chunk.video_list.iloc[j]))},\n",
    "                                                      index=[video_lists_of_users_in_chunk.author.iloc[i] + \"_\" + video_lists_of_users_in_chunk.author.iloc[j]])])\n",
    "\n",
    "    result['min_len'] = result[['len_i', 'len_j']].min(axis=1)\n",
    "    result['common_frac'] = result.common / result.min_len\n",
    "\n",
    "    return result\n",
    "                        #  [video_ids_of_comments_by_given_users_grouped.get_group(name) \n",
    "                        #                for name in video_ids_of_comments_by_given_users_grouped.groups.keys()]})\n",
    "\n",
    "df_video_list_for_cnn_cluster = dp.run_simple_function_on_chunks_concat(reader=pd.read_csv(comments_news_pol_videos_filepath, chunksize=1000000),  # go through all comments in news & pol videos\n",
    "                                                                        fct= lambda df: get_video_list_for_given_users(df, df_comments_news_pol_cnn.author),  # get the video list for users in cnn cluster\n",
    "                                                                        print_time=True)\n",
    "\n",
    "# for df_comments_news_pol_chunk in pd.read_csv(comments_news_pol_videos_filepath, chunksize=1000000):\n",
    "    \n",
    "#     df_comments_news_pol_chunk_cnn_users_grouped = df_comments_news_pol_chunk.loc[df_comments_news_pol_chunk.user_id.isin(df_comments_news_pol_cnn.user_id)].groupby(\"user_id\")\n",
    "#     df_videos_commented_by_cnn_clustermembers = pd.DataFrame({user_id: video_list for user_id, video_list in df_comments_news_pol_chunk_cnn_users_grouped['video_id']})"
   ]
  },
  {
   "cell_type": "code",
   "execution_count": null,
   "metadata": {},
   "outputs": [],
   "source": [
    "def get_video_list_for_given_users(comment_data: pd.DataFrame, users: pd.DataFrame, video_ids: pd.DataFrame)-> pd.DataFrame:\n",
    "    \"\"\"\n",
    "    Creates a df with one column for users \n",
    "    and one column with the list of videos that user has commented on.\n",
    "    Args:\n",
    "        comment_data: a df containing the comments to go through\n",
    "        users: the list of users to do this for\n",
    "        \n",
    "    Returns:\n",
    "        df as described above\n",
    "    \"\"\"\n",
    "    # display(comment_data['video_id'])\n",
    "    comments_by_given_users_grouped = comment_data.loc[comment_data.author.isin(users)].groupby(\"author\")\n",
    "    video_ids_of_comments_by_given_users_grouped = comments_by_given_users_grouped['video_id']\n",
    "\n",
    "    # display(video_ids_of_comments_by_given_users_grouped.groups)\n",
    "    time_start_unique=time.time()\n",
    "    unique_videos = video_ids.display_id.drop_duplicates()\n",
    "    time_end_unique=time.time()\n",
    "    print(f\"time finding unique: {time_end_unique - time_start_unique}\")\n",
    "    return pd.DataFrame({user: unique_videos.isin([comment_data.loc[vid_indices].video_id ]) \n",
    "                         for (user, vid_indices) in video_ids_of_comments_by_given_users_grouped.groups.items()},\n",
    "                         index=unique_videos)\n",
    "\n",
    "    # return pd.DataFrame({'author': video_ids_of_comments_by_given_users_grouped.groups.keys(), \n",
    "    #                      'video_list': [comment_data.loc[vid_ids] for vid_ids in video_ids_of_comments_by_given_users_grouped.groups.values()]})\n",
    "                        #  [video_ids_of_comments_by_given_users_grouped.get_group(name) \n",
    "                        #                for name in video_ids_of_comments_by_given_users_grouped.groups.keys()]})\n",
    "\n",
    "# df_video_list_for_cnn_cluster = dp.run_simple_function_on_chunks_concat(reader=pd.read_csv(comments_news_pol_videos_filepath, chunksize=1000000),  # go through all comments in news & pol videos\n",
    "#                                                                         fct= lambda df: get_video_list_for_given_users(df, df_comments_news_pol_cnn.author),  # get the video list for users in cnn cluster\n",
    "#                                                                         print_time=True)\n",
    "\n",
    "df_video_list_for_cnn_cluster = pd.DataFrame()\n",
    "\n",
    "for i, df_comments_news_pol_chunk in enumerate(pd.read_csv(comments_news_pol_videos_filepath, chunksize=1000000)):\n",
    "    print(f\"Processing chunk {i}\")\n",
    "    time_start = time.time()\n",
    "    df_video_list_for_cnn_cluster = (df_video_list_for_cnn_cluster) & (get_video_list_for_given_users(df_comments_news_pol_chunk, df_comments_news_pol_cnn.author, df_videos_news_pol_display_ids))\n",
    "    time_end = time.time()\n",
    "    print(f\"Done. This took {time_end - time_start} seconds.\")\n",
    "    # df_comments_news_pol_chunk_cnn_users_grouped = df_comments_news_pol_chunk.loc[df_comments_news_pol_chunk.user_id.isin(df_comments_news_pol_cnn.user_id)].groupby(\"user_id\")\n",
    "    # df_videos_commented_by_cnn_clustermembers = pd.DataFrame({user_id: video_list for user_id, video_list in df_comments_news_pol_chunk_cnn_users_grouped['video_id']})"
   ]
  },
  {
   "cell_type": "code",
   "execution_count": 164,
   "metadata": {},
   "outputs": [
    {
     "data": {
      "text/html": [
       "<div>\n",
       "<style scoped>\n",
       "    .dataframe tbody tr th:only-of-type {\n",
       "        vertical-align: middle;\n",
       "    }\n",
       "\n",
       "    .dataframe tbody tr th {\n",
       "        vertical-align: top;\n",
       "    }\n",
       "\n",
       "    .dataframe thead th {\n",
       "        text-align: right;\n",
       "    }\n",
       "</style>\n",
       "<table border=\"1\" class=\"dataframe\">\n",
       "  <thead>\n",
       "    <tr style=\"text-align: right;\">\n",
       "      <th></th>\n",
       "      <th>author</th>\n",
       "      <th>video_list</th>\n",
       "    </tr>\n",
       "  </thead>\n",
       "  <tbody>\n",
       "    <tr>\n",
       "      <th>0</th>\n",
       "      <td>30</td>\n",
       "      <td>Index([3, 4, 5], dtype='int64')</td>\n",
       "    </tr>\n",
       "    <tr>\n",
       "      <th>1</th>\n",
       "      <td>269</td>\n",
       "      <td>Index([45, 46, 47, 48, 49], dtype='int64')</td>\n",
       "    </tr>\n",
       "    <tr>\n",
       "      <th>2</th>\n",
       "      <td>336</td>\n",
       "      <td>Index([62], dtype='int64')</td>\n",
       "    </tr>\n",
       "    <tr>\n",
       "      <th>3</th>\n",
       "      <td>466</td>\n",
       "      <td>Index([71], dtype='int64')</td>\n",
       "    </tr>\n",
       "    <tr>\n",
       "      <th>4</th>\n",
       "      <td>617</td>\n",
       "      <td>Index([99, 100, 101, 102], dtype='int64')</td>\n",
       "    </tr>\n",
       "    <tr>\n",
       "      <th>...</th>\n",
       "      <td>...</td>\n",
       "      <td>...</td>\n",
       "    </tr>\n",
       "    <tr>\n",
       "      <th>6414</th>\n",
       "      <td>46205861</td>\n",
       "      <td>Index([29724244, 29724245, 29724246, 29724247,...</td>\n",
       "    </tr>\n",
       "    <tr>\n",
       "      <th>6415</th>\n",
       "      <td>46206002</td>\n",
       "      <td>Index([29724284, 29724285, 29724286, 29724287,...</td>\n",
       "    </tr>\n",
       "    <tr>\n",
       "      <th>6416</th>\n",
       "      <td>46206010</td>\n",
       "      <td>Index([29724296, 29724297, 29724298, 29724299]...</td>\n",
       "    </tr>\n",
       "    <tr>\n",
       "      <th>6417</th>\n",
       "      <td>46206058</td>\n",
       "      <td>Index([29724357, 29724358, 29724359, 29724360,...</td>\n",
       "    </tr>\n",
       "    <tr>\n",
       "      <th>6418</th>\n",
       "      <td>46206246</td>\n",
       "      <td>Index([29724503, 29724504], dtype='int64')</td>\n",
       "    </tr>\n",
       "  </tbody>\n",
       "</table>\n",
       "<p>266668 rows × 2 columns</p>\n",
       "</div>"
      ],
      "text/plain": [
       "        author                                         video_list\n",
       "0           30                    Index([3, 4, 5], dtype='int64')\n",
       "1          269         Index([45, 46, 47, 48, 49], dtype='int64')\n",
       "2          336                         Index([62], dtype='int64')\n",
       "3          466                         Index([71], dtype='int64')\n",
       "4          617          Index([99, 100, 101, 102], dtype='int64')\n",
       "...        ...                                                ...\n",
       "6414  46205861  Index([29724244, 29724245, 29724246, 29724247,...\n",
       "6415  46206002  Index([29724284, 29724285, 29724286, 29724287,...\n",
       "6416  46206010  Index([29724296, 29724297, 29724298, 29724299]...\n",
       "6417  46206058  Index([29724357, 29724358, 29724359, 29724360,...\n",
       "6418  46206246         Index([29724503, 29724504], dtype='int64')\n",
       "\n",
       "[266668 rows x 2 columns]"
      ]
     },
     "metadata": {},
     "output_type": "display_data"
    }
   ],
   "source": [
    "display(df_video_list_for_cnn_cluster)"
   ]
  },
  {
   "cell_type": "markdown",
   "metadata": {},
   "source": []
  },
  {
   "cell_type": "markdown",
   "metadata": {},
   "source": []
  },
  {
   "cell_type": "markdown",
   "metadata": {},
   "source": []
  }
 ],
 "metadata": {
  "kernelspec": {
   "display_name": "ada",
   "language": "python",
   "name": "python3"
  },
  "language_info": {
   "codemirror_mode": {
    "name": "ipython",
    "version": 3
   },
   "file_extension": ".py",
   "mimetype": "text/x-python",
   "name": "python",
   "nbconvert_exporter": "python",
   "pygments_lexer": "ipython3",
   "version": "3.11.10"
  }
 },
 "nbformat": 4,
 "nbformat_minor": 4
}
