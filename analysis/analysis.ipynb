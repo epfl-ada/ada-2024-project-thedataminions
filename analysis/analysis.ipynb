{
 "cells": [
  {
   "cell_type": "markdown",
   "metadata": {},
   "source": [
    "# Imports"
   ]
  },
  {
   "cell_type": "code",
   "execution_count": 65,
   "metadata": {},
   "outputs": [
    {
     "data": {
      "text/plain": [
       "<module 'data_processing' from '/home/andreas/Nextcloud/Dokumente/Uni/Module/3sem-EPFL/ada/Project/ada-2024-project-thedataminions/analysis/data_processing.py'>"
      ]
     },
     "execution_count": 65,
     "metadata": {},
     "output_type": "execute_result"
    }
   ],
   "source": [
    "import pandas as pd\n",
    "import numpy as np\n",
    "import matplotlib.pyplot as plt\n",
    "import time\n",
    "import importlib\n",
    "import seaborn as sns\n",
    "import gc  # garbage collector\n",
    "import os\n",
    "\n",
    "from typing import List\n",
    "\n",
    "import data_processing as dp  # own functions and logic\n",
    "importlib.reload(dp)  # this makes it so that \n",
    "                      # the file with our functions is re-read every time, \n",
    "                      # in case we have made modifications"
   ]
  },
  {
   "cell_type": "markdown",
   "metadata": {},
   "source": [
    "# Configure path to data files"
   ]
  },
  {
   "cell_type": "code",
   "execution_count": 66,
   "metadata": {},
   "outputs": [],
   "source": [
    "# define the path to the folder where the YouNiverse dataset is stored here\n",
    "\n",
    "# when adding your own path, don't remove the existing path, just comment it\n",
    "# in this way, everyone can quickly uncomment their own path\n",
    "dataset_root_path = \"/media/andreas/Backup Plus/Ada/youniverse_dataset/\"   #andreas\n",
    "# dataset_root_path = \"D:/ada_project/dataset/\"                                    #mila\n",
    "# dataset_root_path = \"/Volumes/DISQUE_SAUVEGARDE_MANON_LANDRIEUX/dataset/\"  #manon\n",
    "# dataset_root_path = \"/Volumes/Backup/Youniverse dataset/\"\n"
   ]
  },
  {
   "cell_type": "markdown",
   "metadata": {},
   "source": [
    "# Preprocessing\n",
    "\n",
    "## Loading the data"
   ]
  },
  {
   "cell_type": "code",
   "execution_count": 67,
   "metadata": {},
   "outputs": [],
   "source": [
    "# load channel data (no chunks needed, as the file is not very large)\n",
    "#df_channels = pd.read_csv(dataset_root_path + \"df_channels_en.tsv.gz\", compression=\"infer\", sep=\"\\t\") #andreas \n",
    "df_channels = pd.read_csv(dataset_root_path + \"df_channels_en.tsv\", compression=\"infer\", sep=\"\\t\") # manon "
   ]
  },
  {
   "cell_type": "code",
   "execution_count": 68,
   "metadata": {},
   "outputs": [
    {
     "name": "stderr",
     "output_type": "stream",
     "text": [
      "/tmp/ipykernel_16378/3095569619.py:6: FutureWarning: Passing literal json to 'read_json' is deprecated and will be removed in a future version. To read from a literal string, wrap it in a 'StringIO' object.\n",
      "  df_videos = pd.read_json(dataset_root_path + \"yt_metadata_en.jsonl\", compression=\"infer\", lines=True, nrows=1000000) #manon\n"
     ]
    },
    {
     "ename": "ValueError",
     "evalue": "Expected object or value",
     "output_type": "error",
     "traceback": [
      "\u001b[0;31m---------------------------------------------------------------------------\u001b[0m",
      "\u001b[0;31mValueError\u001b[0m                                Traceback (most recent call last)",
      "Cell \u001b[0;32mIn[68], line 6\u001b[0m\n\u001b[1;32m      1\u001b[0m \u001b[38;5;66;03m# load a small part of video and comment data, to try functions on them etc.\u001b[39;00m\n\u001b[1;32m      2\u001b[0m \u001b[38;5;66;03m# these datasets should not be used for calculations, as they don't contain all the data\u001b[39;00m\n\u001b[1;32m      3\u001b[0m \n\u001b[1;32m      4\u001b[0m \u001b[38;5;66;03m# load (first 100000 rows of) video data\u001b[39;00m\n\u001b[1;32m      5\u001b[0m \u001b[38;5;66;03m#df_videos = pd.read_json(dataset_root_path + \"yt_metadata_en.jsonl.gz\", compression=\"infer\", lines=True, nrows=100000) #andreas \u001b[39;00m\n\u001b[0;32m----> 6\u001b[0m df_videos \u001b[38;5;241m=\u001b[39m \u001b[43mpd\u001b[49m\u001b[38;5;241;43m.\u001b[39;49m\u001b[43mread_json\u001b[49m\u001b[43m(\u001b[49m\u001b[43mdataset_root_path\u001b[49m\u001b[43m \u001b[49m\u001b[38;5;241;43m+\u001b[39;49m\u001b[43m \u001b[49m\u001b[38;5;124;43m\"\u001b[39;49m\u001b[38;5;124;43myt_metadata_en.jsonl\u001b[39;49m\u001b[38;5;124;43m\"\u001b[39;49m\u001b[43m,\u001b[49m\u001b[43m \u001b[49m\u001b[43mcompression\u001b[49m\u001b[38;5;241;43m=\u001b[39;49m\u001b[38;5;124;43m\"\u001b[39;49m\u001b[38;5;124;43minfer\u001b[39;49m\u001b[38;5;124;43m\"\u001b[39;49m\u001b[43m,\u001b[49m\u001b[43m \u001b[49m\u001b[43mlines\u001b[49m\u001b[38;5;241;43m=\u001b[39;49m\u001b[38;5;28;43;01mTrue\u001b[39;49;00m\u001b[43m,\u001b[49m\u001b[43m \u001b[49m\u001b[43mnrows\u001b[49m\u001b[38;5;241;43m=\u001b[39;49m\u001b[38;5;241;43m1000000\u001b[39;49m\u001b[43m)\u001b[49m \u001b[38;5;66;03m#manon\u001b[39;00m\n\u001b[1;32m      7\u001b[0m \u001b[38;5;66;03m# load (first 1000000 rows of) comment data\u001b[39;00m\n\u001b[1;32m      8\u001b[0m \u001b[38;5;66;03m#df_comments = pd.read_csv(dataset_root_path + \"youtube_comments.tsv.gz\", compression=\"infer\", sep=\"\\t\", nrows=1000000) #andreas\u001b[39;00m\n\u001b[1;32m      9\u001b[0m df_comments \u001b[38;5;241m=\u001b[39m pd\u001b[38;5;241m.\u001b[39mread_csv(dataset_root_path \u001b[38;5;241m+\u001b[39m \u001b[38;5;124m\"\u001b[39m\u001b[38;5;124myoutube_comments.tsv\u001b[39m\u001b[38;5;124m\"\u001b[39m, compression\u001b[38;5;241m=\u001b[39m\u001b[38;5;124m\"\u001b[39m\u001b[38;5;124minfer\u001b[39m\u001b[38;5;124m\"\u001b[39m, sep\u001b[38;5;241m=\u001b[39m\u001b[38;5;124m\"\u001b[39m\u001b[38;5;130;01m\\t\u001b[39;00m\u001b[38;5;124m\"\u001b[39m, nrows\u001b[38;5;241m=\u001b[39m\u001b[38;5;241m1000000\u001b[39m) \u001b[38;5;66;03m#manon\u001b[39;00m\n",
      "File \u001b[0;32m~/miniforge3/envs/ada/lib/python3.11/site-packages/pandas/io/json/_json.py:815\u001b[0m, in \u001b[0;36mread_json\u001b[0;34m(path_or_buf, orient, typ, dtype, convert_axes, convert_dates, keep_default_dates, precise_float, date_unit, encoding, encoding_errors, lines, chunksize, compression, nrows, storage_options, dtype_backend, engine)\u001b[0m\n\u001b[1;32m    813\u001b[0m     \u001b[38;5;28;01mreturn\u001b[39;00m json_reader\n\u001b[1;32m    814\u001b[0m \u001b[38;5;28;01melse\u001b[39;00m:\n\u001b[0;32m--> 815\u001b[0m     \u001b[38;5;28;01mreturn\u001b[39;00m \u001b[43mjson_reader\u001b[49m\u001b[38;5;241;43m.\u001b[39;49m\u001b[43mread\u001b[49m\u001b[43m(\u001b[49m\u001b[43m)\u001b[49m\n",
      "File \u001b[0;32m~/miniforge3/envs/ada/lib/python3.11/site-packages/pandas/io/json/_json.py:1019\u001b[0m, in \u001b[0;36mJsonReader.read\u001b[0;34m(self)\u001b[0m\n\u001b[1;32m   1017\u001b[0m     lines \u001b[38;5;241m=\u001b[39m \u001b[38;5;28mlist\u001b[39m(islice(\u001b[38;5;28mself\u001b[39m\u001b[38;5;241m.\u001b[39mdata, \u001b[38;5;28mself\u001b[39m\u001b[38;5;241m.\u001b[39mnrows))\n\u001b[1;32m   1018\u001b[0m     lines_json \u001b[38;5;241m=\u001b[39m \u001b[38;5;28mself\u001b[39m\u001b[38;5;241m.\u001b[39m_combine_lines(lines)\n\u001b[0;32m-> 1019\u001b[0m     obj \u001b[38;5;241m=\u001b[39m \u001b[38;5;28;43mself\u001b[39;49m\u001b[38;5;241;43m.\u001b[39;49m\u001b[43m_get_object_parser\u001b[49m\u001b[43m(\u001b[49m\u001b[43mlines_json\u001b[49m\u001b[43m)\u001b[49m\n\u001b[1;32m   1020\u001b[0m \u001b[38;5;28;01melse\u001b[39;00m:\n\u001b[1;32m   1021\u001b[0m     data \u001b[38;5;241m=\u001b[39m ensure_str(\u001b[38;5;28mself\u001b[39m\u001b[38;5;241m.\u001b[39mdata)\n",
      "File \u001b[0;32m~/miniforge3/envs/ada/lib/python3.11/site-packages/pandas/io/json/_json.py:1051\u001b[0m, in \u001b[0;36mJsonReader._get_object_parser\u001b[0;34m(self, json)\u001b[0m\n\u001b[1;32m   1049\u001b[0m obj \u001b[38;5;241m=\u001b[39m \u001b[38;5;28;01mNone\u001b[39;00m\n\u001b[1;32m   1050\u001b[0m \u001b[38;5;28;01mif\u001b[39;00m typ \u001b[38;5;241m==\u001b[39m \u001b[38;5;124m\"\u001b[39m\u001b[38;5;124mframe\u001b[39m\u001b[38;5;124m\"\u001b[39m:\n\u001b[0;32m-> 1051\u001b[0m     obj \u001b[38;5;241m=\u001b[39m \u001b[43mFrameParser\u001b[49m\u001b[43m(\u001b[49m\u001b[43mjson\u001b[49m\u001b[43m,\u001b[49m\u001b[43m \u001b[49m\u001b[38;5;241;43m*\u001b[39;49m\u001b[38;5;241;43m*\u001b[39;49m\u001b[43mkwargs\u001b[49m\u001b[43m)\u001b[49m\u001b[38;5;241;43m.\u001b[39;49m\u001b[43mparse\u001b[49m\u001b[43m(\u001b[49m\u001b[43m)\u001b[49m\n\u001b[1;32m   1053\u001b[0m \u001b[38;5;28;01mif\u001b[39;00m typ \u001b[38;5;241m==\u001b[39m \u001b[38;5;124m\"\u001b[39m\u001b[38;5;124mseries\u001b[39m\u001b[38;5;124m\"\u001b[39m \u001b[38;5;129;01mor\u001b[39;00m obj \u001b[38;5;129;01mis\u001b[39;00m \u001b[38;5;28;01mNone\u001b[39;00m:\n\u001b[1;32m   1054\u001b[0m     \u001b[38;5;28;01mif\u001b[39;00m \u001b[38;5;129;01mnot\u001b[39;00m \u001b[38;5;28misinstance\u001b[39m(dtype, \u001b[38;5;28mbool\u001b[39m):\n",
      "File \u001b[0;32m~/miniforge3/envs/ada/lib/python3.11/site-packages/pandas/io/json/_json.py:1187\u001b[0m, in \u001b[0;36mParser.parse\u001b[0;34m(self)\u001b[0m\n\u001b[1;32m   1185\u001b[0m \u001b[38;5;129m@final\u001b[39m\n\u001b[1;32m   1186\u001b[0m \u001b[38;5;28;01mdef\u001b[39;00m \u001b[38;5;21mparse\u001b[39m(\u001b[38;5;28mself\u001b[39m):\n\u001b[0;32m-> 1187\u001b[0m     \u001b[38;5;28;43mself\u001b[39;49m\u001b[38;5;241;43m.\u001b[39;49m\u001b[43m_parse\u001b[49m\u001b[43m(\u001b[49m\u001b[43m)\u001b[49m\n\u001b[1;32m   1189\u001b[0m     \u001b[38;5;28;01mif\u001b[39;00m \u001b[38;5;28mself\u001b[39m\u001b[38;5;241m.\u001b[39mobj \u001b[38;5;129;01mis\u001b[39;00m \u001b[38;5;28;01mNone\u001b[39;00m:\n\u001b[1;32m   1190\u001b[0m         \u001b[38;5;28;01mreturn\u001b[39;00m \u001b[38;5;28;01mNone\u001b[39;00m\n",
      "File \u001b[0;32m~/miniforge3/envs/ada/lib/python3.11/site-packages/pandas/io/json/_json.py:1403\u001b[0m, in \u001b[0;36mFrameParser._parse\u001b[0;34m(self)\u001b[0m\n\u001b[1;32m   1399\u001b[0m orient \u001b[38;5;241m=\u001b[39m \u001b[38;5;28mself\u001b[39m\u001b[38;5;241m.\u001b[39morient\n\u001b[1;32m   1401\u001b[0m \u001b[38;5;28;01mif\u001b[39;00m orient \u001b[38;5;241m==\u001b[39m \u001b[38;5;124m\"\u001b[39m\u001b[38;5;124mcolumns\u001b[39m\u001b[38;5;124m\"\u001b[39m:\n\u001b[1;32m   1402\u001b[0m     \u001b[38;5;28mself\u001b[39m\u001b[38;5;241m.\u001b[39mobj \u001b[38;5;241m=\u001b[39m DataFrame(\n\u001b[0;32m-> 1403\u001b[0m         \u001b[43mujson_loads\u001b[49m\u001b[43m(\u001b[49m\u001b[43mjson\u001b[49m\u001b[43m,\u001b[49m\u001b[43m \u001b[49m\u001b[43mprecise_float\u001b[49m\u001b[38;5;241;43m=\u001b[39;49m\u001b[38;5;28;43mself\u001b[39;49m\u001b[38;5;241;43m.\u001b[39;49m\u001b[43mprecise_float\u001b[49m\u001b[43m)\u001b[49m, dtype\u001b[38;5;241m=\u001b[39m\u001b[38;5;28;01mNone\u001b[39;00m\n\u001b[1;32m   1404\u001b[0m     )\n\u001b[1;32m   1405\u001b[0m \u001b[38;5;28;01melif\u001b[39;00m orient \u001b[38;5;241m==\u001b[39m \u001b[38;5;124m\"\u001b[39m\u001b[38;5;124msplit\u001b[39m\u001b[38;5;124m\"\u001b[39m:\n\u001b[1;32m   1406\u001b[0m     decoded \u001b[38;5;241m=\u001b[39m {\n\u001b[1;32m   1407\u001b[0m         \u001b[38;5;28mstr\u001b[39m(k): v\n\u001b[1;32m   1408\u001b[0m         \u001b[38;5;28;01mfor\u001b[39;00m k, v \u001b[38;5;129;01min\u001b[39;00m ujson_loads(json, precise_float\u001b[38;5;241m=\u001b[39m\u001b[38;5;28mself\u001b[39m\u001b[38;5;241m.\u001b[39mprecise_float)\u001b[38;5;241m.\u001b[39mitems()\n\u001b[1;32m   1409\u001b[0m     }\n",
      "\u001b[0;31mValueError\u001b[0m: Expected object or value"
     ]
    }
   ],
   "source": [
    "# load a small part of video and comment data, to try functions on them etc.\n",
    "# these datasets should not be used for calculations, as they don't contain all the data\n",
    "\n",
    "# load (first 100000 rows of) video data\n",
    "#df_videos = pd.read_json(dataset_root_path + \"yt_metadata_en.jsonl.gz\", compression=\"infer\", lines=True, nrows=100000) #andreas \n",
    "df_videos = pd.read_json(dataset_root_path + \"yt_metadata_en.jsonl\", compression=\"infer\", lines=True, nrows=1000000) #manon\n",
    "# load (first 1000000 rows of) comment data\n",
    "#df_comments = pd.read_csv(dataset_root_path + \"youtube_comments.tsv.gz\", compression=\"infer\", sep=\"\\t\", nrows=1000000) #andreas\n",
    "df_comments = pd.read_csv(dataset_root_path + \"youtube_comments.tsv\", compression=\"infer\", sep=\"\\t\", nrows=1000000) #manon"
   ]
  },
  {
   "cell_type": "code",
   "execution_count": 69,
   "metadata": {},
   "outputs": [],
   "source": [
    "# definition of \"readers\", i.e., objects that we can iterate through \n",
    "# and always get a chunk of the dataframe in each iteration\n",
    "\n",
    "def videos_in_chunks(chunksize: int = 100000) -> pd.io.json._json.JsonReader:\n",
    "    \"\"\"\n",
    "    Returns a Json reader which can be iterated through, to get chunks of the (unfiltered) video dataset.\n",
    "\n",
    "    Args:\n",
    "        chunksize: number of entries in each chunk\n",
    "\n",
    "    Returns:\n",
    "        the Json reader\n",
    "    \"\"\"\n",
    "    #return pd.read_json(dataset_root_path + \"yt_metadata_en.jsonl.gz\", #andreas\n",
    "    return pd.read_json(dataset_root_path + \"yt_metadata_en.jsonl\", #manon\n",
    "                        compression=\"infer\", lines=True, chunksize=chunksize, )\n",
    "                        # nrows=1000000, )   # uncomment this to only use the first million videos, for testing\n",
    "                                           # (remove the paranthesis above as well)\n",
    "\n",
    "def comments_in_chunks(chunksize: int = 1000000) -> pd.io.parsers.readers.TextFileReader:\n",
    "    \"\"\"\n",
    "    Returns a CSV reader which can be iterated through, to get chunks of the (unfiltered) comment dataset.\n",
    "\n",
    "    Args:\n",
    "        chunksize: number of entries in each chunk\n",
    "\n",
    "    Returns:\n",
    "        the CSV reader\n",
    "    \"\"\"\n",
    "    #return pd.read_csv(dataset_root_path + \"youtube_comments.tsv.gz\", #andreas\n",
    "    return pd.read_csv(dataset_root_path + \"youtube_comments.tsv\", #manon\n",
    "                       compression=\"infer\", sep=\"\\t\", chunksize=chunksize, )\n",
    "                        # nrows = 10000000)  # uncomment this to only use the first 10 million comments, for testing\n",
    "                                            # (remove the paranthesis above as well)"
   ]
  },
  {
   "cell_type": "markdown",
   "metadata": {},
   "source": [
    "## Filtering for NaNs and empty values ' ' "
   ]
  },
  {
   "cell_type": "markdown",
   "metadata": {},
   "source": [
    "#### 1. First, look at NaN and '' rows "
   ]
  },
  {
   "cell_type": "markdown",
   "metadata": {},
   "source": [
    "## Todo:\n",
    "Here, we are so far only extracting rows with NaN values in all three datasets.\n",
    "This should be changed so that we also extract rows with e.g. \"\" or \" \".\n",
    "Maybe this could be done by modifying the function dp.get_na_entries\n",
    "\n",
    "(Note: below, we already have code which deletes rows with \"\" in them, so that's already done, it's only missing that\n",
    "we extract these rows in beforehand here, so that we can say something about the rows we are deleting.)"
   ]
  },
  {
   "cell_type": "code",
   "execution_count": 70,
   "metadata": {},
   "outputs": [],
   "source": [
    "#to create the filepath for the different get entries below , neeed to have \"../generated_data\" which exists:\n",
    "\n",
    "# Define the path to the directory\n",
    "output_dir = os.path.join(dataset_root_path, \"../generated_data\")\n",
    "\n",
    "# Create the directory if it doesn't exist\n",
    "os.makedirs(output_dir, exist_ok=True)"
   ]
  },
  {
   "cell_type": "code",
   "execution_count": 42,
   "metadata": {},
   "outputs": [
    {
     "name": "stdout",
     "output_type": "stream",
     "text": [
      "Going through chunk 0...\n",
      "The first 1000000 entries have been processed. 8599000000 left.\n",
      "0.224 secs per chunk on average. Meaning  32.165 minutes left.\n",
      "Going through chunk 1...\n",
      "The first 2000000 entries have been processed. 8598000000 left.\n",
      "0.213 secs per chunk on average. Meaning  30.481 minutes left.\n",
      "Going through chunk 2...\n",
      "The first 3000000 entries have been processed. 8597000000 left.\n",
      "0.218 secs per chunk on average. Meaning  31.211 minutes left.\n",
      "Going through chunk 3...\n",
      "The first 4000000 entries have been processed. 8596000000 left.\n",
      "0.216 secs per chunk on average. Meaning  30.957 minutes left.\n",
      "Going through chunk 4...\n",
      "The first 5000000 entries have been processed. 8595000000 left.\n",
      "0.215 secs per chunk on average. Meaning  30.864 minutes left.\n",
      "Going through chunk 5...\n",
      "The first 6000000 entries have been processed. 8594000000 left.\n",
      "0.215 secs per chunk on average. Meaning  30.746 minutes left.\n",
      "Going through chunk 6...\n",
      "The first 7000000 entries have been processed. 8593000000 left.\n",
      "0.215 secs per chunk on average. Meaning  30.743 minutes left.\n",
      "Going through chunk 7...\n",
      "The first 8000000 entries have been processed. 8592000000 left.\n",
      "0.215 secs per chunk on average. Meaning  30.781 minutes left.\n",
      "Going through chunk 8...\n",
      "The first 9000000 entries have been processed. 8591000000 left.\n",
      "0.214 secs per chunk on average. Meaning  30.675 minutes left.\n",
      "Going through chunk 9...\n",
      "The first 10000000 entries have been processed. 8590000000 left.\n",
      "0.215 secs per chunk on average. Meaning  30.722 minutes left.\n"
     ]
    }
   ],
   "source": [
    "# get the entries of the comment dataframe which have a NaN value in any column\n",
    "\n",
    "nans_comments_filepath = dataset_root_path + \"../generated_data/nan_rows_in_comment_dataset.csv\"  # path to file with nans in comment dataset\n",
    "\n",
    "try:  # try to read the data from file\n",
    "    df_nans_in_comments = pd.read_csv(nans_comments_filepath)\n",
    "except FileNotFoundError:  # if the file is not found...\n",
    "    # ... then generate the file\n",
    "    df_nans_in_comments = dp.run_simple_function_on_chunks_concat(comments_in_chunks(), \n",
    "                                                                  lambda x: dp.get_na_entries(x, \"any\", reverse=False),\n",
    "                                                                  print_time=(1000000, 8600000000))\n",
    "    df_nans_in_comments.to_csv(nans_comments_filepath)\n"
   ]
  },
  {
   "cell_type": "code",
   "execution_count": 52,
   "metadata": {},
   "outputs": [
    {
     "name": "stdout",
     "output_type": "stream",
     "text": [
      "Going through chunk 0...\n"
     ]
    },
    {
     "name": "stderr",
     "output_type": "stream",
     "text": [
      "/Users/manonlaralandrieux/ADA2024/ada-2024-project-thedataminions/analysis/data_processing.py:320: FutureWarning: DataFrame.applymap has been deprecated. Use DataFrame.map instead.\n"
     ]
    },
    {
     "name": "stdout",
     "output_type": "stream",
     "text": [
      "The first 1000000 entries have been processed. 8599000000 left.\n",
      "0.649 secs per chunk on average. Meaning  92.955 minutes left.\n",
      "Going through chunk 1...\n"
     ]
    },
    {
     "name": "stderr",
     "output_type": "stream",
     "text": [
      "/Users/manonlaralandrieux/ADA2024/ada-2024-project-thedataminions/analysis/data_processing.py:320: FutureWarning: DataFrame.applymap has been deprecated. Use DataFrame.map instead.\n"
     ]
    },
    {
     "name": "stdout",
     "output_type": "stream",
     "text": [
      "The first 2000000 entries have been processed. 8598000000 left.\n",
      "0.690 secs per chunk on average. Meaning  98.869 minutes left.\n",
      "Going through chunk 2...\n"
     ]
    },
    {
     "name": "stderr",
     "output_type": "stream",
     "text": [
      "/Users/manonlaralandrieux/ADA2024/ada-2024-project-thedataminions/analysis/data_processing.py:320: FutureWarning: DataFrame.applymap has been deprecated. Use DataFrame.map instead.\n"
     ]
    },
    {
     "name": "stdout",
     "output_type": "stream",
     "text": [
      "The first 3000000 entries have been processed. 8597000000 left.\n",
      "0.698 secs per chunk on average. Meaning  100.082 minutes left.\n",
      "Going through chunk 3...\n"
     ]
    },
    {
     "name": "stderr",
     "output_type": "stream",
     "text": [
      "/Users/manonlaralandrieux/ADA2024/ada-2024-project-thedataminions/analysis/data_processing.py:320: FutureWarning: DataFrame.applymap has been deprecated. Use DataFrame.map instead.\n"
     ]
    },
    {
     "name": "stdout",
     "output_type": "stream",
     "text": [
      "The first 4000000 entries have been processed. 8596000000 left.\n",
      "0.683 secs per chunk on average. Meaning  97.824 minutes left.\n",
      "Going through chunk 4...\n"
     ]
    },
    {
     "name": "stderr",
     "output_type": "stream",
     "text": [
      "/Users/manonlaralandrieux/ADA2024/ada-2024-project-thedataminions/analysis/data_processing.py:320: FutureWarning: DataFrame.applymap has been deprecated. Use DataFrame.map instead.\n"
     ]
    },
    {
     "name": "stdout",
     "output_type": "stream",
     "text": [
      "The first 5000000 entries have been processed. 8595000000 left.\n",
      "0.681 secs per chunk on average. Meaning  97.551 minutes left.\n",
      "Going through chunk 5...\n"
     ]
    },
    {
     "name": "stderr",
     "output_type": "stream",
     "text": [
      "/Users/manonlaralandrieux/ADA2024/ada-2024-project-thedataminions/analysis/data_processing.py:320: FutureWarning: DataFrame.applymap has been deprecated. Use DataFrame.map instead.\n"
     ]
    },
    {
     "name": "stdout",
     "output_type": "stream",
     "text": [
      "The first 6000000 entries have been processed. 8594000000 left.\n",
      "0.684 secs per chunk on average. Meaning  98.033 minutes left.\n",
      "Going through chunk 6...\n"
     ]
    },
    {
     "name": "stderr",
     "output_type": "stream",
     "text": [
      "/Users/manonlaralandrieux/ADA2024/ada-2024-project-thedataminions/analysis/data_processing.py:320: FutureWarning: DataFrame.applymap has been deprecated. Use DataFrame.map instead.\n"
     ]
    },
    {
     "name": "stdout",
     "output_type": "stream",
     "text": [
      "The first 7000000 entries have been processed. 8593000000 left.\n",
      "0.681 secs per chunk on average. Meaning  97.482 minutes left.\n",
      "Going through chunk 7...\n"
     ]
    },
    {
     "name": "stderr",
     "output_type": "stream",
     "text": [
      "/Users/manonlaralandrieux/ADA2024/ada-2024-project-thedataminions/analysis/data_processing.py:320: FutureWarning: DataFrame.applymap has been deprecated. Use DataFrame.map instead.\n"
     ]
    },
    {
     "name": "stdout",
     "output_type": "stream",
     "text": [
      "The first 8000000 entries have been processed. 8592000000 left.\n",
      "0.682 secs per chunk on average. Meaning  97.640 minutes left.\n",
      "Going through chunk 8...\n"
     ]
    },
    {
     "name": "stderr",
     "output_type": "stream",
     "text": [
      "/Users/manonlaralandrieux/ADA2024/ada-2024-project-thedataminions/analysis/data_processing.py:320: FutureWarning: DataFrame.applymap has been deprecated. Use DataFrame.map instead.\n"
     ]
    },
    {
     "name": "stdout",
     "output_type": "stream",
     "text": [
      "The first 9000000 entries have been processed. 8591000000 left.\n",
      "0.688 secs per chunk on average. Meaning  98.501 minutes left.\n",
      "Going through chunk 9...\n"
     ]
    },
    {
     "name": "stderr",
     "output_type": "stream",
     "text": [
      "/Users/manonlaralandrieux/ADA2024/ada-2024-project-thedataminions/analysis/data_processing.py:320: FutureWarning: DataFrame.applymap has been deprecated. Use DataFrame.map instead.\n"
     ]
    },
    {
     "name": "stdout",
     "output_type": "stream",
     "text": [
      "The first 10000000 entries have been processed. 8590000000 left.\n",
      "0.685 secs per chunk on average. Meaning  98.059 minutes left.\n"
     ]
    }
   ],
   "source": [
    "# get the entries of the comment dataframe which have an empty value in any column\n",
    "\n",
    "empty_comments_filepath = dataset_root_path + \"../generated_data/empty_rows_in_comment_dataset.csv\"  # path to file with nans in comment dataset\n",
    "\n",
    "try:  # try to read the data from file\n",
    "    df_empty_in_comments = pd.read_csv(empty_comments_filepath)\n",
    "except FileNotFoundError:  # if the file is not found...\n",
    "    # ... then generate the file\n",
    "    df_empty_in_comments = dp.run_simple_function_on_chunks_concat(comments_in_chunks(), \n",
    "                                                                  lambda x: dp.get_empty_entries(x, \"any\", reverse=False),\n",
    "                                                                  print_time=(1000000, 8600000000))\n",
    "    df_empty_in_comments.to_csv(empty_comments_filepath)"
   ]
  },
  {
   "cell_type": "code",
   "execution_count": 53,
   "metadata": {},
   "outputs": [
    {
     "name": "stdout",
     "output_type": "stream",
     "text": [
      "Going through chunk 0...\n"
     ]
    },
    {
     "name": "stderr",
     "output_type": "stream",
     "text": [
      "/Users/manonlaralandrieux/ADA2024/ada-2024-project-thedataminions/analysis/data_processing.py:355: FutureWarning: DataFrame.applymap has been deprecated. Use DataFrame.map instead.\n"
     ]
    },
    {
     "name": "stdout",
     "output_type": "stream",
     "text": [
      "The first 1000000 entries have been processed. 8599000000 left.\n",
      "0.572 secs per chunk on average. Meaning  82.018 minutes left.\n",
      "Going through chunk 1...\n"
     ]
    },
    {
     "name": "stderr",
     "output_type": "stream",
     "text": [
      "/Users/manonlaralandrieux/ADA2024/ada-2024-project-thedataminions/analysis/data_processing.py:355: FutureWarning: DataFrame.applymap has been deprecated. Use DataFrame.map instead.\n"
     ]
    },
    {
     "name": "stdout",
     "output_type": "stream",
     "text": [
      "The first 2000000 entries have been processed. 8598000000 left.\n",
      "0.593 secs per chunk on average. Meaning  85.010 minutes left.\n",
      "Going through chunk 2...\n"
     ]
    },
    {
     "name": "stderr",
     "output_type": "stream",
     "text": [
      "/Users/manonlaralandrieux/ADA2024/ada-2024-project-thedataminions/analysis/data_processing.py:355: FutureWarning: DataFrame.applymap has been deprecated. Use DataFrame.map instead.\n"
     ]
    },
    {
     "name": "stdout",
     "output_type": "stream",
     "text": [
      "The first 3000000 entries have been processed. 8597000000 left.\n",
      "0.590 secs per chunk on average. Meaning  84.586 minutes left.\n",
      "Going through chunk 3...\n"
     ]
    },
    {
     "name": "stderr",
     "output_type": "stream",
     "text": [
      "/Users/manonlaralandrieux/ADA2024/ada-2024-project-thedataminions/analysis/data_processing.py:355: FutureWarning: DataFrame.applymap has been deprecated. Use DataFrame.map instead.\n"
     ]
    },
    {
     "name": "stdout",
     "output_type": "stream",
     "text": [
      "The first 4000000 entries have been processed. 8596000000 left.\n",
      "0.589 secs per chunk on average. Meaning  84.313 minutes left.\n",
      "Going through chunk 4...\n"
     ]
    },
    {
     "name": "stderr",
     "output_type": "stream",
     "text": [
      "/Users/manonlaralandrieux/ADA2024/ada-2024-project-thedataminions/analysis/data_processing.py:355: FutureWarning: DataFrame.applymap has been deprecated. Use DataFrame.map instead.\n"
     ]
    },
    {
     "name": "stdout",
     "output_type": "stream",
     "text": [
      "The first 5000000 entries have been processed. 8595000000 left.\n",
      "0.586 secs per chunk on average. Meaning  83.928 minutes left.\n",
      "Going through chunk 5...\n"
     ]
    },
    {
     "name": "stderr",
     "output_type": "stream",
     "text": [
      "/Users/manonlaralandrieux/ADA2024/ada-2024-project-thedataminions/analysis/data_processing.py:355: FutureWarning: DataFrame.applymap has been deprecated. Use DataFrame.map instead.\n"
     ]
    },
    {
     "name": "stdout",
     "output_type": "stream",
     "text": [
      "The first 6000000 entries have been processed. 8594000000 left.\n",
      "0.586 secs per chunk on average. Meaning  83.878 minutes left.\n",
      "Going through chunk 6...\n"
     ]
    },
    {
     "name": "stderr",
     "output_type": "stream",
     "text": [
      "/Users/manonlaralandrieux/ADA2024/ada-2024-project-thedataminions/analysis/data_processing.py:355: FutureWarning: DataFrame.applymap has been deprecated. Use DataFrame.map instead.\n"
     ]
    },
    {
     "name": "stdout",
     "output_type": "stream",
     "text": [
      "The first 7000000 entries have been processed. 8593000000 left.\n",
      "0.586 secs per chunk on average. Meaning  83.991 minutes left.\n",
      "Going through chunk 7...\n"
     ]
    },
    {
     "name": "stderr",
     "output_type": "stream",
     "text": [
      "/Users/manonlaralandrieux/ADA2024/ada-2024-project-thedataminions/analysis/data_processing.py:355: FutureWarning: DataFrame.applymap has been deprecated. Use DataFrame.map instead.\n"
     ]
    },
    {
     "name": "stdout",
     "output_type": "stream",
     "text": [
      "The first 8000000 entries have been processed. 8592000000 left.\n",
      "0.589 secs per chunk on average. Meaning  84.319 minutes left.\n",
      "Going through chunk 8...\n"
     ]
    },
    {
     "name": "stderr",
     "output_type": "stream",
     "text": [
      "/Users/manonlaralandrieux/ADA2024/ada-2024-project-thedataminions/analysis/data_processing.py:355: FutureWarning: DataFrame.applymap has been deprecated. Use DataFrame.map instead.\n"
     ]
    },
    {
     "name": "stdout",
     "output_type": "stream",
     "text": [
      "The first 9000000 entries have been processed. 8591000000 left.\n",
      "0.587 secs per chunk on average. Meaning  84.061 minutes left.\n",
      "Going through chunk 9...\n"
     ]
    },
    {
     "name": "stderr",
     "output_type": "stream",
     "text": [
      "/Users/manonlaralandrieux/ADA2024/ada-2024-project-thedataminions/analysis/data_processing.py:355: FutureWarning: DataFrame.applymap has been deprecated. Use DataFrame.map instead.\n"
     ]
    },
    {
     "name": "stdout",
     "output_type": "stream",
     "text": [
      "The first 10000000 entries have been processed. 8590000000 left.\n",
      "0.587 secs per chunk on average. Meaning  84.029 minutes left.\n"
     ]
    }
   ],
   "source": [
    "# get the entries of the comment dataframe which have an empty value in any column\n",
    "\n",
    "space_comments_filepath = dataset_root_path + \"../generated_data/space_rows_in_comment_dataset.csv\"  # path to file with nans in comment dataset\n",
    "\n",
    "try:  # try to read the data from file\n",
    "    df_space_in_comments = pd.read_csv(space_comments_filepath)\n",
    "except FileNotFoundError:  # if the file is not found...\n",
    "    # ... then generate the file\n",
    "    df_space_in_comments = dp.run_simple_function_on_chunks_concat(comments_in_chunks(), \n",
    "                                                                  lambda x: dp.get_space_entries(x, \"any\", reverse=False),\n",
    "                                                                  print_time=(1000000, 8600000000))\n",
    "    df_space_in_comments.to_csv(space_comments_filepath)"
   ]
  },
  {
   "cell_type": "code",
   "execution_count": 54,
   "metadata": {},
   "outputs": [
    {
     "name": "stdout",
     "output_type": "stream",
     "text": [
      "Going through chunk 0...\n",
      "The first 1000000 entries have been processed. 8599000000 left.\n",
      "1.936 secs per chunk on average. Meaning  277.530 minutes left.\n",
      "Going through chunk 1...\n",
      "The first 2000000 entries have been processed. 8598000000 left.\n",
      "1.905 secs per chunk on average. Meaning  273.011 minutes left.\n",
      "Going through chunk 2...\n",
      "The first 3000000 entries have been processed. 8597000000 left.\n",
      "1.957 secs per chunk on average. Meaning  280.422 minutes left.\n",
      "Going through chunk 3...\n",
      "The first 4000000 entries have been processed. 8596000000 left.\n",
      "1.629 secs per chunk on average. Meaning  233.408 minutes left.\n",
      "Going through chunk 4...\n",
      "The first 5000000 entries have been processed. 8595000000 left.\n",
      "1.422 secs per chunk on average. Meaning  203.641 minutes left.\n",
      "Going through chunk 5...\n",
      "The first 6000000 entries have been processed. 8594000000 left.\n",
      "1.276 secs per chunk on average. Meaning  182.733 minutes left.\n",
      "Going through chunk 6...\n",
      "The first 7000000 entries have been processed. 8593000000 left.\n",
      "1.178 secs per chunk on average. Meaning  168.722 minutes left.\n",
      "Going through chunk 7...\n",
      "The first 8000000 entries have been processed. 8592000000 left.\n",
      "1.099 secs per chunk on average. Meaning  157.323 minutes left.\n",
      "Going through chunk 8...\n",
      "The first 9000000 entries have been processed. 8591000000 left.\n",
      "1.050 secs per chunk on average. Meaning  150.360 minutes left.\n",
      "Going through chunk 9...\n",
      "The first 10000000 entries have been processed. 8590000000 left.\n",
      "1.014 secs per chunk on average. Meaning  145.138 minutes left.\n"
     ]
    }
   ],
   "source": [
    "# get the entries of the video dataframe which have a NaN value in any column\n",
    "\n",
    "nans_videos_filepath = dataset_root_path + \"../generated_data/nan_rows_in_video_dataset.csv\"  # path to file with nans in video dataset\n",
    "\n",
    "try:  # try to read the data from file\n",
    "    df_nans_in_videos = pd.read_csv(nans_videos_filepath)\n",
    "except FileNotFoundError:  # if the file is not found...\n",
    "    # ... then generate the file\n",
    "    df_nans_in_videos = dp.run_simple_function_on_chunks_concat(videos_in_chunks(), \n",
    "                                                                lambda x: dp.get_na_entries(x, \"any\", reverse=False),\n",
    "                                                                print_time=(1000000, 8600000000))\n",
    "    df_nans_in_videos.to_csv(nans_videos_filepath)"
   ]
  },
  {
   "cell_type": "code",
   "execution_count": 55,
   "metadata": {},
   "outputs": [
    {
     "name": "stdout",
     "output_type": "stream",
     "text": [
      "Going through chunk 0...\n",
      "The first 1000000 entries have been processed. 8599000000 left.\n",
      "0.825 secs per chunk on average. Meaning  118.172 minutes left.\n"
     ]
    },
    {
     "name": "stderr",
     "output_type": "stream",
     "text": [
      "/Users/manonlaralandrieux/ADA2024/ada-2024-project-thedataminions/analysis/data_processing.py:320: FutureWarning: DataFrame.applymap has been deprecated. Use DataFrame.map instead.\n"
     ]
    },
    {
     "name": "stdout",
     "output_type": "stream",
     "text": [
      "Going through chunk 1...\n",
      "The first 2000000 entries have been processed. 8598000000 left.\n",
      "0.799 secs per chunk on average. Meaning  114.495 minutes left.\n"
     ]
    },
    {
     "name": "stderr",
     "output_type": "stream",
     "text": [
      "/Users/manonlaralandrieux/ADA2024/ada-2024-project-thedataminions/analysis/data_processing.py:320: FutureWarning: DataFrame.applymap has been deprecated. Use DataFrame.map instead.\n"
     ]
    },
    {
     "name": "stdout",
     "output_type": "stream",
     "text": [
      "Going through chunk 2...\n",
      "The first 3000000 entries have been processed. 8597000000 left.\n",
      "0.797 secs per chunk on average. Meaning  114.172 minutes left.\n"
     ]
    },
    {
     "name": "stderr",
     "output_type": "stream",
     "text": [
      "/Users/manonlaralandrieux/ADA2024/ada-2024-project-thedataminions/analysis/data_processing.py:320: FutureWarning: DataFrame.applymap has been deprecated. Use DataFrame.map instead.\n"
     ]
    },
    {
     "name": "stdout",
     "output_type": "stream",
     "text": [
      "Going through chunk 3...\n",
      "The first 4000000 entries have been processed. 8596000000 left.\n",
      "0.791 secs per chunk on average. Meaning  113.359 minutes left.\n"
     ]
    },
    {
     "name": "stderr",
     "output_type": "stream",
     "text": [
      "/Users/manonlaralandrieux/ADA2024/ada-2024-project-thedataminions/analysis/data_processing.py:320: FutureWarning: DataFrame.applymap has been deprecated. Use DataFrame.map instead.\n"
     ]
    },
    {
     "name": "stdout",
     "output_type": "stream",
     "text": [
      "Going through chunk 4...\n",
      "The first 5000000 entries have been processed. 8595000000 left.\n",
      "0.771 secs per chunk on average. Meaning  110.457 minutes left.\n"
     ]
    },
    {
     "name": "stderr",
     "output_type": "stream",
     "text": [
      "/Users/manonlaralandrieux/ADA2024/ada-2024-project-thedataminions/analysis/data_processing.py:320: FutureWarning: DataFrame.applymap has been deprecated. Use DataFrame.map instead.\n"
     ]
    },
    {
     "name": "stdout",
     "output_type": "stream",
     "text": [
      "Going through chunk 5...\n",
      "The first 6000000 entries have been processed. 8594000000 left.\n",
      "0.755 secs per chunk on average. Meaning  108.084 minutes left.\n"
     ]
    },
    {
     "name": "stderr",
     "output_type": "stream",
     "text": [
      "/Users/manonlaralandrieux/ADA2024/ada-2024-project-thedataminions/analysis/data_processing.py:320: FutureWarning: DataFrame.applymap has been deprecated. Use DataFrame.map instead.\n"
     ]
    },
    {
     "name": "stdout",
     "output_type": "stream",
     "text": [
      "Going through chunk 6...\n",
      "The first 7000000 entries have been processed. 8593000000 left.\n",
      "0.749 secs per chunk on average. Meaning  107.312 minutes left.\n"
     ]
    },
    {
     "name": "stderr",
     "output_type": "stream",
     "text": [
      "/Users/manonlaralandrieux/ADA2024/ada-2024-project-thedataminions/analysis/data_processing.py:320: FutureWarning: DataFrame.applymap has been deprecated. Use DataFrame.map instead.\n"
     ]
    },
    {
     "name": "stdout",
     "output_type": "stream",
     "text": [
      "Going through chunk 7...\n",
      "The first 8000000 entries have been processed. 8592000000 left.\n",
      "0.742 secs per chunk on average. Meaning  106.300 minutes left.\n"
     ]
    },
    {
     "name": "stderr",
     "output_type": "stream",
     "text": [
      "/Users/manonlaralandrieux/ADA2024/ada-2024-project-thedataminions/analysis/data_processing.py:320: FutureWarning: DataFrame.applymap has been deprecated. Use DataFrame.map instead.\n"
     ]
    },
    {
     "name": "stdout",
     "output_type": "stream",
     "text": [
      "Going through chunk 8...\n",
      "The first 9000000 entries have been processed. 8591000000 left.\n",
      "0.747 secs per chunk on average. Meaning  106.979 minutes left.\n"
     ]
    },
    {
     "name": "stderr",
     "output_type": "stream",
     "text": [
      "/Users/manonlaralandrieux/ADA2024/ada-2024-project-thedataminions/analysis/data_processing.py:320: FutureWarning: DataFrame.applymap has been deprecated. Use DataFrame.map instead.\n"
     ]
    },
    {
     "name": "stdout",
     "output_type": "stream",
     "text": [
      "Going through chunk 9...\n",
      "The first 10000000 entries have been processed. 8590000000 left.\n",
      "0.751 secs per chunk on average. Meaning  107.522 minutes left.\n"
     ]
    },
    {
     "name": "stderr",
     "output_type": "stream",
     "text": [
      "/Users/manonlaralandrieux/ADA2024/ada-2024-project-thedataminions/analysis/data_processing.py:320: FutureWarning: DataFrame.applymap has been deprecated. Use DataFrame.map instead.\n"
     ]
    }
   ],
   "source": [
    "# get the entries of the video dataframe which have an empty value in any column\n",
    "\n",
    "empty_video_filepath = dataset_root_path + \"../generated_data/empty_rows_in_video_dataset.csv\"  # path to file with nans in comment dataset\n",
    "\n",
    "try:  # try to read the data from file\n",
    "    df_empty_in_video = pd.read_csv(empty_video_filepath)\n",
    "except FileNotFoundError:  # if the file is not found...\n",
    "    # ... then generate the file\n",
    "    df_empty_in_video = dp.run_simple_function_on_chunks_concat(videos_in_chunks(), \n",
    "                                                                  lambda x: dp.get_empty_entries(x, \"any\", reverse=False),\n",
    "                                                                  print_time=(1000000, 8600000000))\n",
    "    df_empty_in_video.to_csv(empty_video_filepath)"
   ]
  },
  {
   "cell_type": "code",
   "execution_count": 56,
   "metadata": {},
   "outputs": [
    {
     "name": "stdout",
     "output_type": "stream",
     "text": [
      "Going through chunk 0...\n",
      "The first 1000000 entries have been processed. 8599000000 left.\n",
      "0.899 secs per chunk on average. Meaning  128.809 minutes left.\n"
     ]
    },
    {
     "name": "stderr",
     "output_type": "stream",
     "text": [
      "/Users/manonlaralandrieux/ADA2024/ada-2024-project-thedataminions/analysis/data_processing.py:355: FutureWarning: DataFrame.applymap has been deprecated. Use DataFrame.map instead.\n"
     ]
    },
    {
     "name": "stdout",
     "output_type": "stream",
     "text": [
      "Going through chunk 1...\n",
      "The first 2000000 entries have been processed. 8598000000 left.\n",
      "0.858 secs per chunk on average. Meaning  122.884 minutes left.\n"
     ]
    },
    {
     "name": "stderr",
     "output_type": "stream",
     "text": [
      "/Users/manonlaralandrieux/ADA2024/ada-2024-project-thedataminions/analysis/data_processing.py:355: FutureWarning: DataFrame.applymap has been deprecated. Use DataFrame.map instead.\n"
     ]
    },
    {
     "name": "stdout",
     "output_type": "stream",
     "text": [
      "Going through chunk 2...\n",
      "The first 3000000 entries have been processed. 8597000000 left.\n",
      "0.843 secs per chunk on average. Meaning  120.832 minutes left.\n"
     ]
    },
    {
     "name": "stderr",
     "output_type": "stream",
     "text": [
      "/Users/manonlaralandrieux/ADA2024/ada-2024-project-thedataminions/analysis/data_processing.py:355: FutureWarning: DataFrame.applymap has been deprecated. Use DataFrame.map instead.\n"
     ]
    },
    {
     "name": "stdout",
     "output_type": "stream",
     "text": [
      "Going through chunk 3...\n",
      "The first 4000000 entries have been processed. 8596000000 left.\n",
      "0.829 secs per chunk on average. Meaning  118.748 minutes left.\n"
     ]
    },
    {
     "name": "stderr",
     "output_type": "stream",
     "text": [
      "/Users/manonlaralandrieux/ADA2024/ada-2024-project-thedataminions/analysis/data_processing.py:355: FutureWarning: DataFrame.applymap has been deprecated. Use DataFrame.map instead.\n"
     ]
    },
    {
     "name": "stdout",
     "output_type": "stream",
     "text": [
      "Going through chunk 4...\n",
      "The first 5000000 entries have been processed. 8595000000 left.\n",
      "0.800 secs per chunk on average. Meaning  114.578 minutes left.\n"
     ]
    },
    {
     "name": "stderr",
     "output_type": "stream",
     "text": [
      "/Users/manonlaralandrieux/ADA2024/ada-2024-project-thedataminions/analysis/data_processing.py:355: FutureWarning: DataFrame.applymap has been deprecated. Use DataFrame.map instead.\n"
     ]
    },
    {
     "name": "stdout",
     "output_type": "stream",
     "text": [
      "Going through chunk 5...\n",
      "The first 6000000 entries have been processed. 8594000000 left.\n",
      "0.778 secs per chunk on average. Meaning  111.401 minutes left.\n"
     ]
    },
    {
     "name": "stderr",
     "output_type": "stream",
     "text": [
      "/Users/manonlaralandrieux/ADA2024/ada-2024-project-thedataminions/analysis/data_processing.py:355: FutureWarning: DataFrame.applymap has been deprecated. Use DataFrame.map instead.\n"
     ]
    },
    {
     "name": "stdout",
     "output_type": "stream",
     "text": [
      "Going through chunk 6...\n",
      "The first 7000000 entries have been processed. 8593000000 left.\n",
      "0.766 secs per chunk on average. Meaning  109.772 minutes left.\n"
     ]
    },
    {
     "name": "stderr",
     "output_type": "stream",
     "text": [
      "/Users/manonlaralandrieux/ADA2024/ada-2024-project-thedataminions/analysis/data_processing.py:355: FutureWarning: DataFrame.applymap has been deprecated. Use DataFrame.map instead.\n"
     ]
    },
    {
     "name": "stdout",
     "output_type": "stream",
     "text": [
      "Going through chunk 7...\n",
      "The first 8000000 entries have been processed. 8592000000 left.\n",
      "0.752 secs per chunk on average. Meaning  107.703 minutes left.\n"
     ]
    },
    {
     "name": "stderr",
     "output_type": "stream",
     "text": [
      "/Users/manonlaralandrieux/ADA2024/ada-2024-project-thedataminions/analysis/data_processing.py:355: FutureWarning: DataFrame.applymap has been deprecated. Use DataFrame.map instead.\n"
     ]
    },
    {
     "name": "stdout",
     "output_type": "stream",
     "text": [
      "Going through chunk 8...\n",
      "The first 9000000 entries have been processed. 8591000000 left.\n",
      "0.752 secs per chunk on average. Meaning  107.687 minutes left.\n"
     ]
    },
    {
     "name": "stderr",
     "output_type": "stream",
     "text": [
      "/Users/manonlaralandrieux/ADA2024/ada-2024-project-thedataminions/analysis/data_processing.py:355: FutureWarning: DataFrame.applymap has been deprecated. Use DataFrame.map instead.\n"
     ]
    },
    {
     "name": "stdout",
     "output_type": "stream",
     "text": [
      "Going through chunk 9...\n",
      "The first 10000000 entries have been processed. 8590000000 left.\n",
      "0.753 secs per chunk on average. Meaning  107.865 minutes left.\n"
     ]
    },
    {
     "name": "stderr",
     "output_type": "stream",
     "text": [
      "/Users/manonlaralandrieux/ADA2024/ada-2024-project-thedataminions/analysis/data_processing.py:355: FutureWarning: DataFrame.applymap has been deprecated. Use DataFrame.map instead.\n"
     ]
    }
   ],
   "source": [
    "# get the entries of the video dataframe which have an space value in any column\n",
    "\n",
    "space_video_filepath = dataset_root_path + \"../generated_data/space_rows_in_video_dataset.csv\"  # path to file with nans in comment dataset\n",
    "\n",
    "try:  # try to read the data from file\n",
    "    df_space_in_video = pd.read_csv(space_video_filepath)\n",
    "except FileNotFoundError:  # if the file is not found...\n",
    "    # ... then generate the file\n",
    "    df_space_in_video = dp.run_simple_function_on_chunks_concat(videos_in_chunks(), \n",
    "                                                                  lambda x: dp.get_space_entries(x, \"any\", reverse=False),\n",
    "                                                                  print_time=(1000000, 8600000000))\n",
    "    df_space_in_video.to_csv(space_video_filepath)"
   ]
  },
  {
   "cell_type": "code",
   "execution_count": 57,
   "metadata": {},
   "outputs": [],
   "source": [
    "# get the entries of the channel dataframe which have a NaN value in any column\n",
    "\n",
    "nans_channels_filepath = dataset_root_path + \"../generated_data/nan_rows_in_channel_dataset.csv\"  # path to file with nans in channel dataset\n",
    "\n",
    "try:  # try to read the data from file\n",
    "    df_nans_in_channels = pd.read_csv(nans_channels_filepath)\n",
    "except FileNotFoundError:  # if the file is not found...\n",
    "    # ... then generate the file\n",
    "    df_nans_in_channels = dp.get_na_entries(df_channels, \"any\", reverse=False)\n",
    "\n",
    "    df_nans_in_channels.to_csv(nans_channels_filepath)"
   ]
  },
  {
   "cell_type": "code",
   "execution_count": 59,
   "metadata": {},
   "outputs": [
    {
     "name": "stderr",
     "output_type": "stream",
     "text": [
      "/Users/manonlaralandrieux/ADA2024/ada-2024-project-thedataminions/analysis/data_processing.py:320: FutureWarning: DataFrame.applymap has been deprecated. Use DataFrame.map instead.\n"
     ]
    }
   ],
   "source": [
    "# get the entries of the channel dataframe which have an empty value in any column\n",
    "\n",
    "empty_channels_filepath = dataset_root_path + \"../generated_data/empty_rows_in_channel_dataset.csv\"  # path to file with nans in channel dataset\n",
    "\n",
    "try:  # try to read the data from file\n",
    "    df_empty_in_channels = pd.read_csv(empty_channels_filepath)\n",
    "except FileNotFoundError:  # if the file is not found...\n",
    "    # ... then generate the file\n",
    "    df_empty_in_channels = dp.get_empty_entries(df_channels, \"any\", reverse=False)\n",
    "\n",
    "    df_empty_in_channels.to_csv(empty_channels_filepath)"
   ]
  },
  {
   "cell_type": "code",
   "execution_count": 61,
   "metadata": {},
   "outputs": [
    {
     "name": "stderr",
     "output_type": "stream",
     "text": [
      "/Users/manonlaralandrieux/ADA2024/ada-2024-project-thedataminions/analysis/data_processing.py:355: FutureWarning: DataFrame.applymap has been deprecated. Use DataFrame.map instead.\n"
     ]
    }
   ],
   "source": [
    "# get the entries of the channel dataframe which have an empty value in any column\n",
    "\n",
    "space_channels_filepath = dataset_root_path + \"../generated_data/space_rows_in_channel_dataset.csv\"  # path to file with nans in channel dataset\n",
    "\n",
    "try:  # try to read the data from file\n",
    "    df_space_in_channels = pd.read_csv(space_channels_filepath)\n",
    "except FileNotFoundError:  # if the file is not found...\n",
    "    # ... then generate the file\n",
    "    df_space_in_channels = dp.get_space_entries(df_channels, \"any\", reverse=False)\n",
    "\n",
    "    df_space_in_channels.to_csv(space_channels_filepath)"
   ]
  },
  {
   "cell_type": "code",
   "execution_count": 62,
   "metadata": {},
   "outputs": [
    {
     "data": {
      "text/html": [
       "<div>\n",
       "<style scoped>\n",
       "    .dataframe tbody tr th:only-of-type {\n",
       "        vertical-align: middle;\n",
       "    }\n",
       "\n",
       "    .dataframe tbody tr th {\n",
       "        vertical-align: top;\n",
       "    }\n",
       "\n",
       "    .dataframe thead th {\n",
       "        text-align: right;\n",
       "    }\n",
       "</style>\n",
       "<table border=\"1\" class=\"dataframe\">\n",
       "  <thead>\n",
       "    <tr style=\"text-align: right;\">\n",
       "      <th></th>\n",
       "      <th>author</th>\n",
       "      <th>video_id</th>\n",
       "      <th>likes</th>\n",
       "      <th>replies</th>\n",
       "    </tr>\n",
       "  </thead>\n",
       "  <tbody>\n",
       "  </tbody>\n",
       "</table>\n",
       "</div>"
      ],
      "text/plain": [
       "Empty DataFrame\n",
       "Columns: [author, video_id, likes, replies]\n",
       "Index: []"
      ]
     },
     "metadata": {},
     "output_type": "display_data"
    },
    {
     "data": {
      "text/html": [
       "<div>\n",
       "<style scoped>\n",
       "    .dataframe tbody tr th:only-of-type {\n",
       "        vertical-align: middle;\n",
       "    }\n",
       "\n",
       "    .dataframe tbody tr th {\n",
       "        vertical-align: top;\n",
       "    }\n",
       "\n",
       "    .dataframe thead th {\n",
       "        text-align: right;\n",
       "    }\n",
       "</style>\n",
       "<table border=\"1\" class=\"dataframe\">\n",
       "  <thead>\n",
       "    <tr style=\"text-align: right;\">\n",
       "      <th></th>\n",
       "      <th>categories</th>\n",
       "      <th>channel_id</th>\n",
       "      <th>crawl_date</th>\n",
       "      <th>description</th>\n",
       "      <th>dislike_count</th>\n",
       "      <th>display_id</th>\n",
       "      <th>duration</th>\n",
       "      <th>like_count</th>\n",
       "      <th>tags</th>\n",
       "      <th>title</th>\n",
       "      <th>upload_date</th>\n",
       "      <th>view_count</th>\n",
       "    </tr>\n",
       "  </thead>\n",
       "  <tbody>\n",
       "    <tr>\n",
       "      <th>2037</th>\n",
       "      <td>Gaming</td>\n",
       "      <td>UCzWm1-4XF7AHxVUTkHCM1uw</td>\n",
       "      <td>2019-11-17 06:29:13.871524</td>\n",
       "      <td>Play all my games at http://www.retrogamer3.co...</td>\n",
       "      <td>NaN</td>\n",
       "      <td>KdoFvAgj2pA</td>\n",
       "      <td>647</td>\n",
       "      <td>NaN</td>\n",
       "      <td>NES,Disassemble,RetroGamer3,72,pin,card,replac...</td>\n",
       "      <td>NES Disassemble by RetroGamer3</td>\n",
       "      <td>2011-10-25 00:00:00</td>\n",
       "      <td>16742.0</td>\n",
       "    </tr>\n",
       "    <tr>\n",
       "      <th>2615</th>\n",
       "      <td>Gaming</td>\n",
       "      <td>UCzWfqsjlvzAOUozsGFR3kbg</td>\n",
       "      <td>2019-10-31 15:41:40.351811</td>\n",
       "      <td>FREE POKECOINS HERE!\\nStep by Step Guide:\\n1. ...</td>\n",
       "      <td>NaN</td>\n",
       "      <td>Rigecg1Tw3Q</td>\n",
       "      <td>87</td>\n",
       "      <td>NaN</td>\n",
       "      <td>Pokemon Go,Pokemon,go,free,pokemon go pokecoin...</td>\n",
       "      <td>FREE UNLIMITED POKECOINS :: POKEMON GO :: MORE...</td>\n",
       "      <td>2016-07-12 00:00:00</td>\n",
       "      <td>46635.0</td>\n",
       "    </tr>\n",
       "    <tr>\n",
       "      <th>7937</th>\n",
       "      <td>Music</td>\n",
       "      <td>UCzWLloEwMWZYnUErRF5WWCg</td>\n",
       "      <td>2019-11-19 14:22:01.132899</td>\n",
       "      <td>DOWNLOAD FOR FREE MY 10 TIPS CHECKLIST TO HELP...</td>\n",
       "      <td>NaN</td>\n",
       "      <td>z1IBWQusOWc</td>\n",
       "      <td>55</td>\n",
       "      <td>NaN</td>\n",
       "      <td>piano,pianist,cover,live,musician,creative,tut...</td>\n",
       "      <td>50 Cent - In Da Club (Piano Tutorial)</td>\n",
       "      <td>2019-04-24 00:00:00</td>\n",
       "      <td>5790.0</td>\n",
       "    </tr>\n",
       "    <tr>\n",
       "      <th>7977</th>\n",
       "      <td>Music</td>\n",
       "      <td>UCzWLloEwMWZYnUErRF5WWCg</td>\n",
       "      <td>2019-11-19 14:22:30.010478</td>\n",
       "      <td>DOWNLOAD FOR FREE MY 10 TIPS CHECKLIST TO HELP...</td>\n",
       "      <td>NaN</td>\n",
       "      <td>gIm1ETMO-hE</td>\n",
       "      <td>269</td>\n",
       "      <td>NaN</td>\n",
       "      <td>piano,pianist,cover,live,musician,creative,tut...</td>\n",
       "      <td>Awolnation - Sail (Piano Tutorial)</td>\n",
       "      <td>2019-04-14 00:00:00</td>\n",
       "      <td>15617.0</td>\n",
       "    </tr>\n",
       "    <tr>\n",
       "      <th>7987</th>\n",
       "      <td>Music</td>\n",
       "      <td>UCzWLloEwMWZYnUErRF5WWCg</td>\n",
       "      <td>2019-11-19 14:21:37.516545</td>\n",
       "      <td>DOWNLOAD FOR FREE MY 10 TIPS CHECKLIST TO HELP...</td>\n",
       "      <td>NaN</td>\n",
       "      <td>cLJw8DHyJBE</td>\n",
       "      <td>149</td>\n",
       "      <td>NaN</td>\n",
       "      <td>piano,pianist,cover,live,musician,creative,tut...</td>\n",
       "      <td>Fortnite Better Give Me My Kids Back (Fgteev) ...</td>\n",
       "      <td>2019-03-13 00:00:00</td>\n",
       "      <td>18663.0</td>\n",
       "    </tr>\n",
       "    <tr>\n",
       "      <th>...</th>\n",
       "      <td>...</td>\n",
       "      <td>...</td>\n",
       "      <td>...</td>\n",
       "      <td>...</td>\n",
       "      <td>...</td>\n",
       "      <td>...</td>\n",
       "      <td>...</td>\n",
       "      <td>...</td>\n",
       "      <td>...</td>\n",
       "      <td>...</td>\n",
       "      <td>...</td>\n",
       "      <td>...</td>\n",
       "    </tr>\n",
       "    <tr>\n",
       "      <th>997537</th>\n",
       "      <td>Gaming</td>\n",
       "      <td>UCrVBB-ecSJdwHGYH264c6mA</td>\n",
       "      <td>2019-11-03 12:36:13.457494</td>\n",
       "      <td>Here's a guide on how to get to the starter is...</td>\n",
       "      <td>NaN</td>\n",
       "      <td>l8JVpKEV1dY</td>\n",
       "      <td>642</td>\n",
       "      <td>NaN</td>\n",
       "      <td>ESO,Elder Scrolls Online,MissBizz,The Elder Sc...</td>\n",
       "      <td>ESO Getting to the Starter Islands</td>\n",
       "      <td>2015-07-04 00:00:00</td>\n",
       "      <td>5733.0</td>\n",
       "    </tr>\n",
       "    <tr>\n",
       "      <th>997556</th>\n",
       "      <td>Gaming</td>\n",
       "      <td>UCrVBB-ecSJdwHGYH264c6mA</td>\n",
       "      <td>2019-11-03 12:36:24.161000</td>\n",
       "      <td>A quick run through of the new wailing prison ...</td>\n",
       "      <td>NaN</td>\n",
       "      <td>7UVK_YIPV08</td>\n",
       "      <td>1341</td>\n",
       "      <td>NaN</td>\n",
       "      <td>eso,Elder Scrolls Online,Lone Wolf Help,MissBizz</td>\n",
       "      <td>Wailing Prison Tutorial</td>\n",
       "      <td>2015-03-08 00:00:00</td>\n",
       "      <td>301.0</td>\n",
       "    </tr>\n",
       "    <tr>\n",
       "      <th>997557</th>\n",
       "      <td>Gaming</td>\n",
       "      <td>UCrVBB-ecSJdwHGYH264c6mA</td>\n",
       "      <td>2019-11-03 12:36:24.728201</td>\n",
       "      <td>A quick run through of me creating an Argonian...</td>\n",
       "      <td>NaN</td>\n",
       "      <td>STgLPWQdHTg</td>\n",
       "      <td>1742</td>\n",
       "      <td>NaN</td>\n",
       "      <td>eso,Elder Scrolls Online,Lone Wolf Help,MissBi...</td>\n",
       "      <td>Character Creation</td>\n",
       "      <td>2015-03-08 00:00:00</td>\n",
       "      <td>443.0</td>\n",
       "    </tr>\n",
       "    <tr>\n",
       "      <th>999955</th>\n",
       "      <td>Howto &amp; Style</td>\n",
       "      <td>UCrUfjMyHTAMQ8_OnM2nJFlw</td>\n",
       "      <td>2019-11-22 20:07:05.734691</td>\n",
       "      <td></td>\n",
       "      <td>NaN</td>\n",
       "      <td>P-b9O9WwPaY</td>\n",
       "      <td>1530</td>\n",
       "      <td>NaN</td>\n",
       "      <td></td>\n",
       "      <td>Answers to Q&amp;A - Pen Spinning Stuff</td>\n",
       "      <td>2015-05-24 00:00:00</td>\n",
       "      <td>9298.0</td>\n",
       "    </tr>\n",
       "    <tr>\n",
       "      <th>999966</th>\n",
       "      <td>Howto &amp; Style</td>\n",
       "      <td>UCrUfjMyHTAMQ8_OnM2nJFlw</td>\n",
       "      <td>2019-11-22 20:07:12.949485</td>\n",
       "      <td>Congratulations to the winner! You have one we...</td>\n",
       "      <td>NaN</td>\n",
       "      <td>B0DRnEHE9Lk</td>\n",
       "      <td>15</td>\n",
       "      <td>NaN</td>\n",
       "      <td>KTrinh93,UPSB,PenSpinning,PSing,Pen Spinning,B...</td>\n",
       "      <td>Buster Giveaway Winner 2</td>\n",
       "      <td>2013-08-03 00:00:00</td>\n",
       "      <td>1123.0</td>\n",
       "    </tr>\n",
       "  </tbody>\n",
       "</table>\n",
       "<p>19680 rows × 12 columns</p>\n",
       "</div>"
      ],
      "text/plain": [
       "           categories                channel_id                  crawl_date  \\\n",
       "2037           Gaming  UCzWm1-4XF7AHxVUTkHCM1uw  2019-11-17 06:29:13.871524   \n",
       "2615           Gaming  UCzWfqsjlvzAOUozsGFR3kbg  2019-10-31 15:41:40.351811   \n",
       "7937            Music  UCzWLloEwMWZYnUErRF5WWCg  2019-11-19 14:22:01.132899   \n",
       "7977            Music  UCzWLloEwMWZYnUErRF5WWCg  2019-11-19 14:22:30.010478   \n",
       "7987            Music  UCzWLloEwMWZYnUErRF5WWCg  2019-11-19 14:21:37.516545   \n",
       "...               ...                       ...                         ...   \n",
       "997537         Gaming  UCrVBB-ecSJdwHGYH264c6mA  2019-11-03 12:36:13.457494   \n",
       "997556         Gaming  UCrVBB-ecSJdwHGYH264c6mA  2019-11-03 12:36:24.161000   \n",
       "997557         Gaming  UCrVBB-ecSJdwHGYH264c6mA  2019-11-03 12:36:24.728201   \n",
       "999955  Howto & Style  UCrUfjMyHTAMQ8_OnM2nJFlw  2019-11-22 20:07:05.734691   \n",
       "999966  Howto & Style  UCrUfjMyHTAMQ8_OnM2nJFlw  2019-11-22 20:07:12.949485   \n",
       "\n",
       "                                              description  dislike_count  \\\n",
       "2037    Play all my games at http://www.retrogamer3.co...            NaN   \n",
       "2615    FREE POKECOINS HERE!\\nStep by Step Guide:\\n1. ...            NaN   \n",
       "7937    DOWNLOAD FOR FREE MY 10 TIPS CHECKLIST TO HELP...            NaN   \n",
       "7977    DOWNLOAD FOR FREE MY 10 TIPS CHECKLIST TO HELP...            NaN   \n",
       "7987    DOWNLOAD FOR FREE MY 10 TIPS CHECKLIST TO HELP...            NaN   \n",
       "...                                                   ...            ...   \n",
       "997537  Here's a guide on how to get to the starter is...            NaN   \n",
       "997556  A quick run through of the new wailing prison ...            NaN   \n",
       "997557  A quick run through of me creating an Argonian...            NaN   \n",
       "999955                                                               NaN   \n",
       "999966  Congratulations to the winner! You have one we...            NaN   \n",
       "\n",
       "         display_id  duration  like_count  \\\n",
       "2037    KdoFvAgj2pA       647         NaN   \n",
       "2615    Rigecg1Tw3Q        87         NaN   \n",
       "7937    z1IBWQusOWc        55         NaN   \n",
       "7977    gIm1ETMO-hE       269         NaN   \n",
       "7987    cLJw8DHyJBE       149         NaN   \n",
       "...             ...       ...         ...   \n",
       "997537  l8JVpKEV1dY       642         NaN   \n",
       "997556  7UVK_YIPV08      1341         NaN   \n",
       "997557  STgLPWQdHTg      1742         NaN   \n",
       "999955  P-b9O9WwPaY      1530         NaN   \n",
       "999966  B0DRnEHE9Lk        15         NaN   \n",
       "\n",
       "                                                     tags  \\\n",
       "2037    NES,Disassemble,RetroGamer3,72,pin,card,replac...   \n",
       "2615    Pokemon Go,Pokemon,go,free,pokemon go pokecoin...   \n",
       "7937    piano,pianist,cover,live,musician,creative,tut...   \n",
       "7977    piano,pianist,cover,live,musician,creative,tut...   \n",
       "7987    piano,pianist,cover,live,musician,creative,tut...   \n",
       "...                                                   ...   \n",
       "997537  ESO,Elder Scrolls Online,MissBizz,The Elder Sc...   \n",
       "997556   eso,Elder Scrolls Online,Lone Wolf Help,MissBizz   \n",
       "997557  eso,Elder Scrolls Online,Lone Wolf Help,MissBi...   \n",
       "999955                                                      \n",
       "999966  KTrinh93,UPSB,PenSpinning,PSing,Pen Spinning,B...   \n",
       "\n",
       "                                                    title  \\\n",
       "2037                       NES Disassemble by RetroGamer3   \n",
       "2615    FREE UNLIMITED POKECOINS :: POKEMON GO :: MORE...   \n",
       "7937                50 Cent - In Da Club (Piano Tutorial)   \n",
       "7977                   Awolnation - Sail (Piano Tutorial)   \n",
       "7987    Fortnite Better Give Me My Kids Back (Fgteev) ...   \n",
       "...                                                   ...   \n",
       "997537                 ESO Getting to the Starter Islands   \n",
       "997556                            Wailing Prison Tutorial   \n",
       "997557                                 Character Creation   \n",
       "999955                Answers to Q&A - Pen Spinning Stuff   \n",
       "999966                           Buster Giveaway Winner 2   \n",
       "\n",
       "                upload_date  view_count  \n",
       "2037    2011-10-25 00:00:00     16742.0  \n",
       "2615    2016-07-12 00:00:00     46635.0  \n",
       "7937    2019-04-24 00:00:00      5790.0  \n",
       "7977    2019-04-14 00:00:00     15617.0  \n",
       "7987    2019-03-13 00:00:00     18663.0  \n",
       "...                     ...         ...  \n",
       "997537  2015-07-04 00:00:00      5733.0  \n",
       "997556  2015-03-08 00:00:00       301.0  \n",
       "997557  2015-03-08 00:00:00       443.0  \n",
       "999955  2015-05-24 00:00:00      9298.0  \n",
       "999966  2013-08-03 00:00:00      1123.0  \n",
       "\n",
       "[19680 rows x 12 columns]"
      ]
     },
     "metadata": {},
     "output_type": "display_data"
    },
    {
     "data": {
      "text/html": [
       "<div>\n",
       "<style scoped>\n",
       "    .dataframe tbody tr th:only-of-type {\n",
       "        vertical-align: middle;\n",
       "    }\n",
       "\n",
       "    .dataframe tbody tr th {\n",
       "        vertical-align: top;\n",
       "    }\n",
       "\n",
       "    .dataframe thead th {\n",
       "        text-align: right;\n",
       "    }\n",
       "</style>\n",
       "<table border=\"1\" class=\"dataframe\">\n",
       "  <thead>\n",
       "    <tr style=\"text-align: right;\">\n",
       "      <th></th>\n",
       "      <th>category_cc</th>\n",
       "      <th>join_date</th>\n",
       "      <th>channel</th>\n",
       "      <th>name_cc</th>\n",
       "      <th>subscribers_cc</th>\n",
       "      <th>videos_cc</th>\n",
       "      <th>subscriber_rank_sb</th>\n",
       "      <th>weights</th>\n",
       "    </tr>\n",
       "  </thead>\n",
       "  <tbody>\n",
       "    <tr>\n",
       "      <th>62</th>\n",
       "      <td>Entertainment</td>\n",
       "      <td>NaN</td>\n",
       "      <td>UCBR8-60-B28hp2BmDPdntcQ</td>\n",
       "      <td>YouTube</td>\n",
       "      <td>28200000</td>\n",
       "      <td>301</td>\n",
       "      <td>110.0</td>\n",
       "      <td>2.0870</td>\n",
       "    </tr>\n",
       "    <tr>\n",
       "      <th>6941</th>\n",
       "      <td>NaN</td>\n",
       "      <td>2009-05-12</td>\n",
       "      <td>UCa_4DcdTB9QfK0LY9-7qWuQ</td>\n",
       "      <td>AbbaVEVO</td>\n",
       "      <td>995000</td>\n",
       "      <td>36</td>\n",
       "      <td>17265.0</td>\n",
       "      <td>2.8200</td>\n",
       "    </tr>\n",
       "    <tr>\n",
       "      <th>8295</th>\n",
       "      <td>NaN</td>\n",
       "      <td>2012-12-23</td>\n",
       "      <td>UCVOftvvuyipcn7102TUFsSQ</td>\n",
       "      <td>Baka Oppai</td>\n",
       "      <td>760128</td>\n",
       "      <td>27</td>\n",
       "      <td>21172.0</td>\n",
       "      <td>2.9225</td>\n",
       "    </tr>\n",
       "    <tr>\n",
       "      <th>8885</th>\n",
       "      <td>NaN</td>\n",
       "      <td>2009-06-05</td>\n",
       "      <td>UCqH2YMSzMaGN92Vc3VkhWnQ</td>\n",
       "      <td>Sony Pictures Home E...</td>\n",
       "      <td>770000</td>\n",
       "      <td>6561</td>\n",
       "      <td>22799.0</td>\n",
       "      <td>2.9595</td>\n",
       "    </tr>\n",
       "    <tr>\n",
       "      <th>10449</th>\n",
       "      <td>NaN</td>\n",
       "      <td>2009-10-15</td>\n",
       "      <td>UCnzCV_PxVZ-hsOrTy2NGxJw</td>\n",
       "      <td>EuropeVEVO</td>\n",
       "      <td>654000</td>\n",
       "      <td>19</td>\n",
       "      <td>27450.0</td>\n",
       "      <td>2.9825</td>\n",
       "    </tr>\n",
       "    <tr>\n",
       "      <th>...</th>\n",
       "      <td>...</td>\n",
       "      <td>...</td>\n",
       "      <td>...</td>\n",
       "      <td>...</td>\n",
       "      <td>...</td>\n",
       "      <td>...</td>\n",
       "      <td>...</td>\n",
       "      <td>...</td>\n",
       "    </tr>\n",
       "    <tr>\n",
       "      <th>135072</th>\n",
       "      <td>NaN</td>\n",
       "      <td>2012-02-04</td>\n",
       "      <td>UCfRjxraogo4vwPSajqZUnhg</td>\n",
       "      <td>Johnny Marsiglia &amp; B...</td>\n",
       "      <td>10300</td>\n",
       "      <td>22</td>\n",
       "      <td>935163.0</td>\n",
       "      <td>24.2090</td>\n",
       "    </tr>\n",
       "    <tr>\n",
       "      <th>135287</th>\n",
       "      <td>NaN</td>\n",
       "      <td>2009-03-18</td>\n",
       "      <td>UCBkyyLkDRd_iql_OWY87BOA</td>\n",
       "      <td>SHARKSANDCREATURES</td>\n",
       "      <td>10500</td>\n",
       "      <td>139</td>\n",
       "      <td>937947.0</td>\n",
       "      <td>28.1220</td>\n",
       "    </tr>\n",
       "    <tr>\n",
       "      <th>135326</th>\n",
       "      <td>NaN</td>\n",
       "      <td>2016-07-24</td>\n",
       "      <td>UCfL3FVHRncVVoBnVI_EI8vw</td>\n",
       "      <td>spoiled milk</td>\n",
       "      <td>10600</td>\n",
       "      <td>33</td>\n",
       "      <td>938514.0</td>\n",
       "      <td>28.9550</td>\n",
       "    </tr>\n",
       "    <tr>\n",
       "      <th>136264</th>\n",
       "      <td>NaN</td>\n",
       "      <td>2013-01-28</td>\n",
       "      <td>UC1uzi-DavAwqFp4SWR3XKfA</td>\n",
       "      <td>THEKONDOR</td>\n",
       "      <td>10300</td>\n",
       "      <td>108</td>\n",
       "      <td>977157.0</td>\n",
       "      <td>53.1435</td>\n",
       "    </tr>\n",
       "    <tr>\n",
       "      <th>136292</th>\n",
       "      <td>NaN</td>\n",
       "      <td>2014-02-17</td>\n",
       "      <td>UCDhrs5GhG2t1Ov3oya3K4tg</td>\n",
       "      <td>TwitchPlaysPokemon</td>\n",
       "      <td>10300</td>\n",
       "      <td>342</td>\n",
       "      <td>977938.0</td>\n",
       "      <td>53.1435</td>\n",
       "    </tr>\n",
       "  </tbody>\n",
       "</table>\n",
       "<p>139 rows × 8 columns</p>\n",
       "</div>"
      ],
      "text/plain": [
       "          category_cc   join_date                   channel  \\\n",
       "62      Entertainment         NaN  UCBR8-60-B28hp2BmDPdntcQ   \n",
       "6941              NaN  2009-05-12  UCa_4DcdTB9QfK0LY9-7qWuQ   \n",
       "8295              NaN  2012-12-23  UCVOftvvuyipcn7102TUFsSQ   \n",
       "8885              NaN  2009-06-05  UCqH2YMSzMaGN92Vc3VkhWnQ   \n",
       "10449             NaN  2009-10-15  UCnzCV_PxVZ-hsOrTy2NGxJw   \n",
       "...               ...         ...                       ...   \n",
       "135072            NaN  2012-02-04  UCfRjxraogo4vwPSajqZUnhg   \n",
       "135287            NaN  2009-03-18  UCBkyyLkDRd_iql_OWY87BOA   \n",
       "135326            NaN  2016-07-24  UCfL3FVHRncVVoBnVI_EI8vw   \n",
       "136264            NaN  2013-01-28  UC1uzi-DavAwqFp4SWR3XKfA   \n",
       "136292            NaN  2014-02-17  UCDhrs5GhG2t1Ov3oya3K4tg   \n",
       "\n",
       "                        name_cc  subscribers_cc  videos_cc  \\\n",
       "62                      YouTube        28200000        301   \n",
       "6941                   AbbaVEVO          995000         36   \n",
       "8295                 Baka Oppai          760128         27   \n",
       "8885    Sony Pictures Home E...          770000       6561   \n",
       "10449                EuropeVEVO          654000         19   \n",
       "...                         ...             ...        ...   \n",
       "135072  Johnny Marsiglia & B...           10300         22   \n",
       "135287       SHARKSANDCREATURES           10500        139   \n",
       "135326             spoiled milk           10600         33   \n",
       "136264                THEKONDOR           10300        108   \n",
       "136292       TwitchPlaysPokemon           10300        342   \n",
       "\n",
       "        subscriber_rank_sb  weights  \n",
       "62                   110.0   2.0870  \n",
       "6941               17265.0   2.8200  \n",
       "8295               21172.0   2.9225  \n",
       "8885               22799.0   2.9595  \n",
       "10449              27450.0   2.9825  \n",
       "...                    ...      ...  \n",
       "135072            935163.0  24.2090  \n",
       "135287            937947.0  28.1220  \n",
       "135326            938514.0  28.9550  \n",
       "136264            977157.0  53.1435  \n",
       "136292            977938.0  53.1435  \n",
       "\n",
       "[139 rows x 8 columns]"
      ]
     },
     "metadata": {},
     "output_type": "display_data"
    }
   ],
   "source": [
    "display(df_nans_in_comments)\n",
    "display(df_nans_in_videos)\n",
    "display(df_nans_in_channels)\n"
   ]
  },
  {
   "cell_type": "code",
   "execution_count": 63,
   "metadata": {},
   "outputs": [
    {
     "data": {
      "text/html": [
       "<div>\n",
       "<style scoped>\n",
       "    .dataframe tbody tr th:only-of-type {\n",
       "        vertical-align: middle;\n",
       "    }\n",
       "\n",
       "    .dataframe tbody tr th {\n",
       "        vertical-align: top;\n",
       "    }\n",
       "\n",
       "    .dataframe thead th {\n",
       "        text-align: right;\n",
       "    }\n",
       "</style>\n",
       "<table border=\"1\" class=\"dataframe\">\n",
       "  <thead>\n",
       "    <tr style=\"text-align: right;\">\n",
       "      <th></th>\n",
       "      <th>author</th>\n",
       "      <th>video_id</th>\n",
       "      <th>likes</th>\n",
       "      <th>replies</th>\n",
       "    </tr>\n",
       "  </thead>\n",
       "  <tbody>\n",
       "  </tbody>\n",
       "</table>\n",
       "</div>"
      ],
      "text/plain": [
       "Empty DataFrame\n",
       "Columns: [author, video_id, likes, replies]\n",
       "Index: []"
      ]
     },
     "metadata": {},
     "output_type": "display_data"
    },
    {
     "data": {
      "text/html": [
       "<div>\n",
       "<style scoped>\n",
       "    .dataframe tbody tr th:only-of-type {\n",
       "        vertical-align: middle;\n",
       "    }\n",
       "\n",
       "    .dataframe tbody tr th {\n",
       "        vertical-align: top;\n",
       "    }\n",
       "\n",
       "    .dataframe thead th {\n",
       "        text-align: right;\n",
       "    }\n",
       "</style>\n",
       "<table border=\"1\" class=\"dataframe\">\n",
       "  <thead>\n",
       "    <tr style=\"text-align: right;\">\n",
       "      <th></th>\n",
       "      <th>categories</th>\n",
       "      <th>channel_id</th>\n",
       "      <th>crawl_date</th>\n",
       "      <th>description</th>\n",
       "      <th>dislike_count</th>\n",
       "      <th>display_id</th>\n",
       "      <th>duration</th>\n",
       "      <th>like_count</th>\n",
       "      <th>tags</th>\n",
       "      <th>title</th>\n",
       "      <th>upload_date</th>\n",
       "      <th>view_count</th>\n",
       "    </tr>\n",
       "  </thead>\n",
       "  <tbody>\n",
       "    <tr>\n",
       "      <th>1282</th>\n",
       "      <td>Comedy</td>\n",
       "      <td>UCzWoOpdzQ-Lwv3ZiWGMDbGg</td>\n",
       "      <td>2019-11-19 16:38:04.081509</td>\n",
       "      <td>The opening theme I edited for a my SAO Abridg...</td>\n",
       "      <td>9.0</td>\n",
       "      <td>p2fwQw6O5qQ</td>\n",
       "      <td>25</td>\n",
       "      <td>1714.0</td>\n",
       "      <td></td>\n",
       "      <td>SAOA OP</td>\n",
       "      <td>2013-01-22 00:00:00</td>\n",
       "      <td>81394.0</td>\n",
       "    </tr>\n",
       "    <tr>\n",
       "      <th>1293</th>\n",
       "      <td>Sports</td>\n",
       "      <td>UCzWn_gTaXyH5Idyo8Raf7_A</td>\n",
       "      <td>2019-11-03 16:39:58.108323</td>\n",
       "      <td></td>\n",
       "      <td>15.0</td>\n",
       "      <td>EPMLTw2zINw</td>\n",
       "      <td>355</td>\n",
       "      <td>1297.0</td>\n",
       "      <td></td>\n",
       "      <td>big cat</td>\n",
       "      <td>2019-10-01 00:00:00</td>\n",
       "      <td>19999.0</td>\n",
       "    </tr>\n",
       "    <tr>\n",
       "      <th>1315</th>\n",
       "      <td>Sports</td>\n",
       "      <td>UCzWn_gTaXyH5Idyo8Raf7_A</td>\n",
       "      <td>2019-11-03 16:39:07.090032</td>\n",
       "      <td></td>\n",
       "      <td>49.0</td>\n",
       "      <td>SH9QftD3gx8</td>\n",
       "      <td>2185</td>\n",
       "      <td>1279.0</td>\n",
       "      <td></td>\n",
       "      <td>🔴 Catfishing Gear Set up, Rigs and My Fishing ...</td>\n",
       "      <td>2019-06-05 00:00:00</td>\n",
       "      <td>42557.0</td>\n",
       "    </tr>\n",
       "    <tr>\n",
       "      <th>1335</th>\n",
       "      <td>Sports</td>\n",
       "      <td>UCzWn_gTaXyH5Idyo8Raf7_A</td>\n",
       "      <td>2019-11-03 16:39:21.795108</td>\n",
       "      <td></td>\n",
       "      <td>45.0</td>\n",
       "      <td>l3wcBC4-LMI</td>\n",
       "      <td>4255</td>\n",
       "      <td>887.0</td>\n",
       "      <td></td>\n",
       "      <td>🔴Catfish &amp; Carp Q&amp;A - new fishing gear. Fishin...</td>\n",
       "      <td>2019-01-21 00:00:00</td>\n",
       "      <td>32119.0</td>\n",
       "    </tr>\n",
       "    <tr>\n",
       "      <th>1394</th>\n",
       "      <td>Sports</td>\n",
       "      <td>UCzWn_gTaXyH5Idyo8Raf7_A</td>\n",
       "      <td>2019-11-03 16:40:04.587791</td>\n",
       "      <td>OK so I accidentally live streamed this on the...</td>\n",
       "      <td>12.0</td>\n",
       "      <td>W5xynVT5Wyo</td>\n",
       "      <td>1662</td>\n",
       "      <td>621.0</td>\n",
       "      <td></td>\n",
       "      <td>🔴 Fishing ROD &amp; Reel Giveaway</td>\n",
       "      <td>2017-12-22 00:00:00</td>\n",
       "      <td>11037.0</td>\n",
       "    </tr>\n",
       "    <tr>\n",
       "      <th>...</th>\n",
       "      <td>...</td>\n",
       "      <td>...</td>\n",
       "      <td>...</td>\n",
       "      <td>...</td>\n",
       "      <td>...</td>\n",
       "      <td>...</td>\n",
       "      <td>...</td>\n",
       "      <td>...</td>\n",
       "      <td>...</td>\n",
       "      <td>...</td>\n",
       "      <td>...</td>\n",
       "      <td>...</td>\n",
       "    </tr>\n",
       "    <tr>\n",
       "      <th>999876</th>\n",
       "      <td>People &amp; Blogs</td>\n",
       "      <td>UCrUkgG9ychiQ0WvbiwdlP1w</td>\n",
       "      <td>2019-11-13 20:40:53.349743</td>\n",
       "      <td>Support future streams: Buy me a Ko-fi!\\nhttps...</td>\n",
       "      <td>8.0</td>\n",
       "      <td>q9hFysLAjUk</td>\n",
       "      <td>8397</td>\n",
       "      <td>351.0</td>\n",
       "      <td></td>\n",
       "      <td>Goth GF Starfire Mukbang</td>\n",
       "      <td>2018-03-31 00:00:00</td>\n",
       "      <td>38147.0</td>\n",
       "    </tr>\n",
       "    <tr>\n",
       "      <th>999953</th>\n",
       "      <td>Howto &amp; Style</td>\n",
       "      <td>UCrUfjMyHTAMQ8_OnM2nJFlw</td>\n",
       "      <td>2019-11-22 20:07:59.554309</td>\n",
       "      <td>http://twitch.tv/thekingkevin\\n\\nSubscribe to ...</td>\n",
       "      <td>0.0</td>\n",
       "      <td>BMG0qrEiP3Q</td>\n",
       "      <td>25</td>\n",
       "      <td>34.0</td>\n",
       "      <td></td>\n",
       "      <td>I'm on Twitch?! [Updated]</td>\n",
       "      <td>2016-02-15 00:00:00</td>\n",
       "      <td>1653.0</td>\n",
       "    </tr>\n",
       "    <tr>\n",
       "      <th>999955</th>\n",
       "      <td>Howto &amp; Style</td>\n",
       "      <td>UCrUfjMyHTAMQ8_OnM2nJFlw</td>\n",
       "      <td>2019-11-22 20:07:05.734691</td>\n",
       "      <td></td>\n",
       "      <td>NaN</td>\n",
       "      <td>P-b9O9WwPaY</td>\n",
       "      <td>1530</td>\n",
       "      <td>NaN</td>\n",
       "      <td></td>\n",
       "      <td>Answers to Q&amp;A - Pen Spinning Stuff</td>\n",
       "      <td>2015-05-24 00:00:00</td>\n",
       "      <td>9298.0</td>\n",
       "    </tr>\n",
       "    <tr>\n",
       "      <th>999958</th>\n",
       "      <td>Science &amp; Technology</td>\n",
       "      <td>UCrUfjMyHTAMQ8_OnM2nJFlw</td>\n",
       "      <td>2019-11-22 20:07:07.629776</td>\n",
       "      <td>So as many of you probably know, the new iPhon...</td>\n",
       "      <td>6.0</td>\n",
       "      <td>tFhgS6EX-CM</td>\n",
       "      <td>13</td>\n",
       "      <td>285.0</td>\n",
       "      <td></td>\n",
       "      <td>Pen Spinning at 120fps (iPhone 5S)</td>\n",
       "      <td>2013-10-26 00:00:00</td>\n",
       "      <td>20570.0</td>\n",
       "    </tr>\n",
       "    <tr>\n",
       "      <th>999965</th>\n",
       "      <td>Howto &amp; Style</td>\n",
       "      <td>UCrUfjMyHTAMQ8_OnM2nJFlw</td>\n",
       "      <td>2019-11-22 20:07:12.352746</td>\n",
       "      <td>626ryu claimed the Buster. The giveaway is off...</td>\n",
       "      <td>4.0</td>\n",
       "      <td>l3rdcy949QI</td>\n",
       "      <td>10</td>\n",
       "      <td>5.0</td>\n",
       "      <td></td>\n",
       "      <td>Buster Giveaway is Officially OVER</td>\n",
       "      <td>2013-08-06 00:00:00</td>\n",
       "      <td>533.0</td>\n",
       "    </tr>\n",
       "  </tbody>\n",
       "</table>\n",
       "<p>107342 rows × 12 columns</p>\n",
       "</div>"
      ],
      "text/plain": [
       "                  categories                channel_id  \\\n",
       "1282                  Comedy  UCzWoOpdzQ-Lwv3ZiWGMDbGg   \n",
       "1293                  Sports  UCzWn_gTaXyH5Idyo8Raf7_A   \n",
       "1315                  Sports  UCzWn_gTaXyH5Idyo8Raf7_A   \n",
       "1335                  Sports  UCzWn_gTaXyH5Idyo8Raf7_A   \n",
       "1394                  Sports  UCzWn_gTaXyH5Idyo8Raf7_A   \n",
       "...                      ...                       ...   \n",
       "999876        People & Blogs  UCrUkgG9ychiQ0WvbiwdlP1w   \n",
       "999953         Howto & Style  UCrUfjMyHTAMQ8_OnM2nJFlw   \n",
       "999955         Howto & Style  UCrUfjMyHTAMQ8_OnM2nJFlw   \n",
       "999958  Science & Technology  UCrUfjMyHTAMQ8_OnM2nJFlw   \n",
       "999965         Howto & Style  UCrUfjMyHTAMQ8_OnM2nJFlw   \n",
       "\n",
       "                        crawl_date  \\\n",
       "1282    2019-11-19 16:38:04.081509   \n",
       "1293    2019-11-03 16:39:58.108323   \n",
       "1315    2019-11-03 16:39:07.090032   \n",
       "1335    2019-11-03 16:39:21.795108   \n",
       "1394    2019-11-03 16:40:04.587791   \n",
       "...                            ...   \n",
       "999876  2019-11-13 20:40:53.349743   \n",
       "999953  2019-11-22 20:07:59.554309   \n",
       "999955  2019-11-22 20:07:05.734691   \n",
       "999958  2019-11-22 20:07:07.629776   \n",
       "999965  2019-11-22 20:07:12.352746   \n",
       "\n",
       "                                              description  dislike_count  \\\n",
       "1282    The opening theme I edited for a my SAO Abridg...            9.0   \n",
       "1293                                                                15.0   \n",
       "1315                                                                49.0   \n",
       "1335                                                                45.0   \n",
       "1394    OK so I accidentally live streamed this on the...           12.0   \n",
       "...                                                   ...            ...   \n",
       "999876  Support future streams: Buy me a Ko-fi!\\nhttps...            8.0   \n",
       "999953  http://twitch.tv/thekingkevin\\n\\nSubscribe to ...            0.0   \n",
       "999955                                                               NaN   \n",
       "999958  So as many of you probably know, the new iPhon...            6.0   \n",
       "999965  626ryu claimed the Buster. The giveaway is off...            4.0   \n",
       "\n",
       "         display_id  duration  like_count tags  \\\n",
       "1282    p2fwQw6O5qQ        25      1714.0        \n",
       "1293    EPMLTw2zINw       355      1297.0        \n",
       "1315    SH9QftD3gx8      2185      1279.0        \n",
       "1335    l3wcBC4-LMI      4255       887.0        \n",
       "1394    W5xynVT5Wyo      1662       621.0        \n",
       "...             ...       ...         ...  ...   \n",
       "999876  q9hFysLAjUk      8397       351.0        \n",
       "999953  BMG0qrEiP3Q        25        34.0        \n",
       "999955  P-b9O9WwPaY      1530         NaN        \n",
       "999958  tFhgS6EX-CM        13       285.0        \n",
       "999965  l3rdcy949QI        10         5.0        \n",
       "\n",
       "                                                    title  \\\n",
       "1282                                              SAOA OP   \n",
       "1293                                              big cat   \n",
       "1315    🔴 Catfishing Gear Set up, Rigs and My Fishing ...   \n",
       "1335    🔴Catfish & Carp Q&A - new fishing gear. Fishin...   \n",
       "1394                        🔴 Fishing ROD & Reel Giveaway   \n",
       "...                                                   ...   \n",
       "999876                           Goth GF Starfire Mukbang   \n",
       "999953                          I'm on Twitch?! [Updated]   \n",
       "999955                Answers to Q&A - Pen Spinning Stuff   \n",
       "999958                 Pen Spinning at 120fps (iPhone 5S)   \n",
       "999965                 Buster Giveaway is Officially OVER   \n",
       "\n",
       "                upload_date  view_count  \n",
       "1282    2013-01-22 00:00:00     81394.0  \n",
       "1293    2019-10-01 00:00:00     19999.0  \n",
       "1315    2019-06-05 00:00:00     42557.0  \n",
       "1335    2019-01-21 00:00:00     32119.0  \n",
       "1394    2017-12-22 00:00:00     11037.0  \n",
       "...                     ...         ...  \n",
       "999876  2018-03-31 00:00:00     38147.0  \n",
       "999953  2016-02-15 00:00:00      1653.0  \n",
       "999955  2015-05-24 00:00:00      9298.0  \n",
       "999958  2013-10-26 00:00:00     20570.0  \n",
       "999965  2013-08-06 00:00:00       533.0  \n",
       "\n",
       "[107342 rows x 12 columns]"
      ]
     },
     "metadata": {},
     "output_type": "display_data"
    },
    {
     "data": {
      "text/html": [
       "<div>\n",
       "<style scoped>\n",
       "    .dataframe tbody tr th:only-of-type {\n",
       "        vertical-align: middle;\n",
       "    }\n",
       "\n",
       "    .dataframe tbody tr th {\n",
       "        vertical-align: top;\n",
       "    }\n",
       "\n",
       "    .dataframe thead th {\n",
       "        text-align: right;\n",
       "    }\n",
       "</style>\n",
       "<table border=\"1\" class=\"dataframe\">\n",
       "  <thead>\n",
       "    <tr style=\"text-align: right;\">\n",
       "      <th></th>\n",
       "      <th>category_cc</th>\n",
       "      <th>join_date</th>\n",
       "      <th>channel</th>\n",
       "      <th>name_cc</th>\n",
       "      <th>subscribers_cc</th>\n",
       "      <th>videos_cc</th>\n",
       "      <th>subscriber_rank_sb</th>\n",
       "      <th>weights</th>\n",
       "    </tr>\n",
       "  </thead>\n",
       "  <tbody>\n",
       "  </tbody>\n",
       "</table>\n",
       "</div>"
      ],
      "text/plain": [
       "Empty DataFrame\n",
       "Columns: [category_cc, join_date, channel, name_cc, subscribers_cc, videos_cc, subscriber_rank_sb, weights]\n",
       "Index: []"
      ]
     },
     "metadata": {},
     "output_type": "display_data"
    }
   ],
   "source": [
    "display(df_empty_in_comments)\n",
    "display(df_empty_in_video)\n",
    "display(df_empty_in_channels)"
   ]
  },
  {
   "cell_type": "code",
   "execution_count": 64,
   "metadata": {},
   "outputs": [
    {
     "data": {
      "text/html": [
       "<div>\n",
       "<style scoped>\n",
       "    .dataframe tbody tr th:only-of-type {\n",
       "        vertical-align: middle;\n",
       "    }\n",
       "\n",
       "    .dataframe tbody tr th {\n",
       "        vertical-align: top;\n",
       "    }\n",
       "\n",
       "    .dataframe thead th {\n",
       "        text-align: right;\n",
       "    }\n",
       "</style>\n",
       "<table border=\"1\" class=\"dataframe\">\n",
       "  <thead>\n",
       "    <tr style=\"text-align: right;\">\n",
       "      <th></th>\n",
       "      <th>author</th>\n",
       "      <th>video_id</th>\n",
       "      <th>likes</th>\n",
       "      <th>replies</th>\n",
       "    </tr>\n",
       "  </thead>\n",
       "  <tbody>\n",
       "  </tbody>\n",
       "</table>\n",
       "</div>"
      ],
      "text/plain": [
       "Empty DataFrame\n",
       "Columns: [author, video_id, likes, replies]\n",
       "Index: []"
      ]
     },
     "metadata": {},
     "output_type": "display_data"
    },
    {
     "data": {
      "text/html": [
       "<div>\n",
       "<style scoped>\n",
       "    .dataframe tbody tr th:only-of-type {\n",
       "        vertical-align: middle;\n",
       "    }\n",
       "\n",
       "    .dataframe tbody tr th {\n",
       "        vertical-align: top;\n",
       "    }\n",
       "\n",
       "    .dataframe thead th {\n",
       "        text-align: right;\n",
       "    }\n",
       "</style>\n",
       "<table border=\"1\" class=\"dataframe\">\n",
       "  <thead>\n",
       "    <tr style=\"text-align: right;\">\n",
       "      <th></th>\n",
       "      <th>categories</th>\n",
       "      <th>channel_id</th>\n",
       "      <th>crawl_date</th>\n",
       "      <th>description</th>\n",
       "      <th>dislike_count</th>\n",
       "      <th>display_id</th>\n",
       "      <th>duration</th>\n",
       "      <th>like_count</th>\n",
       "      <th>tags</th>\n",
       "      <th>title</th>\n",
       "      <th>upload_date</th>\n",
       "      <th>view_count</th>\n",
       "    </tr>\n",
       "  </thead>\n",
       "  <tbody>\n",
       "  </tbody>\n",
       "</table>\n",
       "</div>"
      ],
      "text/plain": [
       "Empty DataFrame\n",
       "Columns: [categories, channel_id, crawl_date, description, dislike_count, display_id, duration, like_count, tags, title, upload_date, view_count]\n",
       "Index: []"
      ]
     },
     "metadata": {},
     "output_type": "display_data"
    },
    {
     "data": {
      "text/html": [
       "<div>\n",
       "<style scoped>\n",
       "    .dataframe tbody tr th:only-of-type {\n",
       "        vertical-align: middle;\n",
       "    }\n",
       "\n",
       "    .dataframe tbody tr th {\n",
       "        vertical-align: top;\n",
       "    }\n",
       "\n",
       "    .dataframe thead th {\n",
       "        text-align: right;\n",
       "    }\n",
       "</style>\n",
       "<table border=\"1\" class=\"dataframe\">\n",
       "  <thead>\n",
       "    <tr style=\"text-align: right;\">\n",
       "      <th></th>\n",
       "      <th>category_cc</th>\n",
       "      <th>join_date</th>\n",
       "      <th>channel</th>\n",
       "      <th>name_cc</th>\n",
       "      <th>subscribers_cc</th>\n",
       "      <th>videos_cc</th>\n",
       "      <th>subscriber_rank_sb</th>\n",
       "      <th>weights</th>\n",
       "    </tr>\n",
       "  </thead>\n",
       "  <tbody>\n",
       "  </tbody>\n",
       "</table>\n",
       "</div>"
      ],
      "text/plain": [
       "Empty DataFrame\n",
       "Columns: [category_cc, join_date, channel, name_cc, subscribers_cc, videos_cc, subscriber_rank_sb, weights]\n",
       "Index: []"
      ]
     },
     "metadata": {},
     "output_type": "display_data"
    }
   ],
   "source": [
    "display(df_space_in_comments)\n",
    "display(df_space_in_video)\n",
    "display(df_space_in_channels)"
   ]
  },
  {
   "cell_type": "markdown",
   "metadata": {},
   "source": [
    "## Todo:\n",
    "Here (after we have also extracted rows with \"\" etc., see above), we need to say something about what we see.\n",
    "How many rows with NaN values do we have, do they have anything in common, can we safely delete them and in that case why??"
   ]
  },
  {
   "cell_type": "code",
   "execution_count": null,
   "metadata": {},
   "outputs": [],
   "source": [
    "# delete the dataframes with nans, as we are done with the analysis at this point and no longer need them.\n",
    "\n",
    "del df_nans_in_comments\n",
    "del df_nans_in_videos\n",
    "del df_nans_in_channels\n",
    "\n",
    "del df_empty_in_comments\n",
    "del df_empty_in_video\n",
    "del df_empty_in_channels\n",
    "\n",
    "del df_space_in_comments\n",
    "del df_space_in_video\n",
    "del df_space_in_channels\n",
    "gc.collect()"
   ]
  },
  {
   "cell_type": "markdown",
   "metadata": {},
   "source": [
    "#### 2. Then, clean files by replacing empty character '' with NaN and remove all rows containing NaN"
   ]
  },
  {
   "cell_type": "markdown",
   "metadata": {},
   "source": [
    "The following function **clean** gets rid of empty an NaN values in a the given object (small dataframe or chunk)"
   ]
  },
  {
   "cell_type": "code",
   "execution_count": 12,
   "metadata": {},
   "outputs": [],
   "source": [
    "def clean (df, save):\n",
    "    \"\"\"\n",
    "    Cleans a given df form empty and NaN values. Can be applied to a small df that we want to save in a clean version, as well as temporary chunks when reading a huge df.\n",
    "\n",
    "    Args:\n",
    "        df: df to clean\n",
    "        save: if True, activates the 'inplace' parameter of replace() and dropna(), meaning that the given df will be modified (use this when applying on chunks).\n",
    "              if False, the modified df has to be saved in a new parameter ! \n",
    "\n",
    "    \"\"\"\n",
    "    #check initial length of the chunk\n",
    "    #print(len(df))\n",
    "\n",
    "    if save==True:\n",
    "        # replace empty values with NaNs\n",
    "        df.replace('', np.nan, inplace = save)\n",
    "        # delete NaN columns\n",
    "        df.dropna(inplace= save)\n",
    "        #check final length of the chunk to see if NaN have been removed\n",
    "        #print(len(df))\n",
    "\n",
    "    if save==False:\n",
    "        return df.replace('', np.nan).dropna()"
   ]
  },
  {
   "cell_type": "markdown",
   "metadata": {},
   "source": [
    "For example, **df_channel** doesn't need to be treated in chunks. Here we save a clean version of it without changing the original data (set save = False).\n",
    "The clean data will be used in the 'topics distribution' plots."
   ]
  },
  {
   "cell_type": "code",
   "execution_count": null,
   "metadata": {},
   "outputs": [
    {
     "data": {
      "text/html": [
       "<div>\n",
       "<style scoped>\n",
       "    .dataframe tbody tr th:only-of-type {\n",
       "        vertical-align: middle;\n",
       "    }\n",
       "\n",
       "    .dataframe tbody tr th {\n",
       "        vertical-align: top;\n",
       "    }\n",
       "\n",
       "    .dataframe thead th {\n",
       "        text-align: right;\n",
       "    }\n",
       "</style>\n",
       "<table border=\"1\" class=\"dataframe\">\n",
       "  <thead>\n",
       "    <tr style=\"text-align: right;\">\n",
       "      <th></th>\n",
       "      <th>category_cc</th>\n",
       "      <th>join_date</th>\n",
       "      <th>channel</th>\n",
       "      <th>name_cc</th>\n",
       "      <th>subscribers_cc</th>\n",
       "      <th>videos_cc</th>\n",
       "      <th>subscriber_rank_sb</th>\n",
       "      <th>weights</th>\n",
       "    </tr>\n",
       "  </thead>\n",
       "  <tbody>\n",
       "    <tr>\n",
       "      <th>0</th>\n",
       "      <td>Gaming</td>\n",
       "      <td>2010-04-29</td>\n",
       "      <td>UC-lHJZR3Gqxm24_Vd_AJ5Yw</td>\n",
       "      <td>PewDiePie</td>\n",
       "      <td>101000000</td>\n",
       "      <td>3956</td>\n",
       "      <td>3.0</td>\n",
       "      <td>2.0870</td>\n",
       "    </tr>\n",
       "    <tr>\n",
       "      <th>1</th>\n",
       "      <td>Education</td>\n",
       "      <td>2006-09-01</td>\n",
       "      <td>UCbCmjCuTUZos6Inko4u57UQ</td>\n",
       "      <td>Cocomelon - Nursery ...</td>\n",
       "      <td>60100000</td>\n",
       "      <td>458</td>\n",
       "      <td>7.0</td>\n",
       "      <td>2.0870</td>\n",
       "    </tr>\n",
       "    <tr>\n",
       "      <th>2</th>\n",
       "      <td>Entertainment</td>\n",
       "      <td>2006-09-20</td>\n",
       "      <td>UCpEhnqL0y41EpW2TvWAHD7Q</td>\n",
       "      <td>SET India</td>\n",
       "      <td>56018869</td>\n",
       "      <td>32661</td>\n",
       "      <td>8.0</td>\n",
       "      <td>2.0870</td>\n",
       "    </tr>\n",
       "    <tr>\n",
       "      <th>3</th>\n",
       "      <td>Howto &amp; Style</td>\n",
       "      <td>2016-11-15</td>\n",
       "      <td>UC295-Dw_tDNtZXFeAPAW6Aw</td>\n",
       "      <td>5-Minute Crafts</td>\n",
       "      <td>60600000</td>\n",
       "      <td>3591</td>\n",
       "      <td>9.0</td>\n",
       "      <td>2.0870</td>\n",
       "    </tr>\n",
       "    <tr>\n",
       "      <th>4</th>\n",
       "      <td>Sports</td>\n",
       "      <td>2007-05-11</td>\n",
       "      <td>UCJ5v_MCY6GNUBTO8-D3XoAg</td>\n",
       "      <td>WWE</td>\n",
       "      <td>48400000</td>\n",
       "      <td>43421</td>\n",
       "      <td>11.0</td>\n",
       "      <td>2.0870</td>\n",
       "    </tr>\n",
       "    <tr>\n",
       "      <th>...</th>\n",
       "      <td>...</td>\n",
       "      <td>...</td>\n",
       "      <td>...</td>\n",
       "      <td>...</td>\n",
       "      <td>...</td>\n",
       "      <td>...</td>\n",
       "      <td>...</td>\n",
       "      <td>...</td>\n",
       "    </tr>\n",
       "    <tr>\n",
       "      <th>136465</th>\n",
       "      <td>Music</td>\n",
       "      <td>2016-10-06</td>\n",
       "      <td>UCuM-9AajUOwKw6ipOzu2DRQ</td>\n",
       "      <td>GONE.Fludd - Topic</td>\n",
       "      <td>10128</td>\n",
       "      <td>105</td>\n",
       "      <td>1008139.0</td>\n",
       "      <td>53.1435</td>\n",
       "    </tr>\n",
       "    <tr>\n",
       "      <th>136466</th>\n",
       "      <td>People &amp; Blogs</td>\n",
       "      <td>2013-10-17</td>\n",
       "      <td>UCtW9jp5TH0YrgYpwiRf9t-Q</td>\n",
       "      <td>saidthestory</td>\n",
       "      <td>10100</td>\n",
       "      <td>352</td>\n",
       "      <td>1008644.0</td>\n",
       "      <td>53.1435</td>\n",
       "    </tr>\n",
       "    <tr>\n",
       "      <th>136467</th>\n",
       "      <td>Gaming</td>\n",
       "      <td>2015-05-08</td>\n",
       "      <td>UCTsxFTIUs8vFDzGccDm6i7Q</td>\n",
       "      <td>Omni H</td>\n",
       "      <td>10000</td>\n",
       "      <td>475</td>\n",
       "      <td>1009505.0</td>\n",
       "      <td>53.1435</td>\n",
       "    </tr>\n",
       "    <tr>\n",
       "      <th>136468</th>\n",
       "      <td>Music</td>\n",
       "      <td>2011-04-13</td>\n",
       "      <td>UC1HOArgRCMGPjlcmkThERwA</td>\n",
       "      <td>TĀLĀ</td>\n",
       "      <td>10000</td>\n",
       "      <td>15</td>\n",
       "      <td>1025119.0</td>\n",
       "      <td>53.1435</td>\n",
       "    </tr>\n",
       "    <tr>\n",
       "      <th>136469</th>\n",
       "      <td>People &amp; Blogs</td>\n",
       "      <td>2006-11-11</td>\n",
       "      <td>UCITKvry4fW50iU4FSw9WERQ</td>\n",
       "      <td>Tangleblog</td>\n",
       "      <td>10000</td>\n",
       "      <td>159</td>\n",
       "      <td>1030844.0</td>\n",
       "      <td>53.1435</td>\n",
       "    </tr>\n",
       "  </tbody>\n",
       "</table>\n",
       "<p>136331 rows × 8 columns</p>\n",
       "</div>"
      ],
      "text/plain": [
       "           category_cc   join_date                   channel  \\\n",
       "0               Gaming  2010-04-29  UC-lHJZR3Gqxm24_Vd_AJ5Yw   \n",
       "1            Education  2006-09-01  UCbCmjCuTUZos6Inko4u57UQ   \n",
       "2        Entertainment  2006-09-20  UCpEhnqL0y41EpW2TvWAHD7Q   \n",
       "3        Howto & Style  2016-11-15  UC295-Dw_tDNtZXFeAPAW6Aw   \n",
       "4               Sports  2007-05-11  UCJ5v_MCY6GNUBTO8-D3XoAg   \n",
       "...                ...         ...                       ...   \n",
       "136465           Music  2016-10-06  UCuM-9AajUOwKw6ipOzu2DRQ   \n",
       "136466  People & Blogs  2013-10-17  UCtW9jp5TH0YrgYpwiRf9t-Q   \n",
       "136467          Gaming  2015-05-08  UCTsxFTIUs8vFDzGccDm6i7Q   \n",
       "136468           Music  2011-04-13  UC1HOArgRCMGPjlcmkThERwA   \n",
       "136469  People & Blogs  2006-11-11  UCITKvry4fW50iU4FSw9WERQ   \n",
       "\n",
       "                        name_cc  subscribers_cc  videos_cc  \\\n",
       "0                     PewDiePie       101000000       3956   \n",
       "1       Cocomelon - Nursery ...        60100000        458   \n",
       "2                     SET India        56018869      32661   \n",
       "3               5-Minute Crafts        60600000       3591   \n",
       "4                           WWE        48400000      43421   \n",
       "...                         ...             ...        ...   \n",
       "136465       GONE.Fludd - Topic           10128        105   \n",
       "136466             saidthestory           10100        352   \n",
       "136467                   Omni H           10000        475   \n",
       "136468                     TĀLĀ           10000         15   \n",
       "136469               Tangleblog           10000        159   \n",
       "\n",
       "        subscriber_rank_sb  weights  \n",
       "0                      3.0   2.0870  \n",
       "1                      7.0   2.0870  \n",
       "2                      8.0   2.0870  \n",
       "3                      9.0   2.0870  \n",
       "4                     11.0   2.0870  \n",
       "...                    ...      ...  \n",
       "136465           1008139.0  53.1435  \n",
       "136466           1008644.0  53.1435  \n",
       "136467           1009505.0  53.1435  \n",
       "136468           1025119.0  53.1435  \n",
       "136469           1030844.0  53.1435  \n",
       "\n",
       "[136331 rows x 8 columns]"
      ]
     },
     "metadata": {},
     "output_type": "display_data"
    }
   ],
   "source": [
    "#clean df_channel and save copy without changing original df_channel\n",
    "\n",
    "channels_clean_filepath = dataset_root_path + \"../generated_data/df_channels_clean.csv\"\n",
    "\n",
    "try:\n",
    "    df_channels_clean = pd.read_csv(channels_clean_filepath)\n",
    "    print(\"Read data from file\")\n",
    "except FileNotFoundError:\n",
    "    df_channels_clean = clean(df_channels, save=False)\n",
    "    df_channels_clean.to_csv(channels_clean_filepath, index=False)\n",
    "\n",
    "# clean_df_channels = clean(df_channels, save = False)\n",
    "\n",
    "display(df_channels_clean)"
   ]
  },
  {
   "cell_type": "code",
   "execution_count": 35,
   "metadata": {},
   "outputs": [
    {
     "data": {
      "text/html": [
       "<div>\n",
       "<style scoped>\n",
       "    .dataframe tbody tr th:only-of-type {\n",
       "        vertical-align: middle;\n",
       "    }\n",
       "\n",
       "    .dataframe tbody tr th {\n",
       "        vertical-align: top;\n",
       "    }\n",
       "\n",
       "    .dataframe thead th {\n",
       "        text-align: right;\n",
       "    }\n",
       "</style>\n",
       "<table border=\"1\" class=\"dataframe\">\n",
       "  <thead>\n",
       "    <tr style=\"text-align: right;\">\n",
       "      <th></th>\n",
       "      <th>category_cc</th>\n",
       "      <th>join_date</th>\n",
       "      <th>channel</th>\n",
       "      <th>name_cc</th>\n",
       "      <th>subscribers_cc</th>\n",
       "      <th>videos_cc</th>\n",
       "      <th>subscriber_rank_sb</th>\n",
       "      <th>weights</th>\n",
       "    </tr>\n",
       "  </thead>\n",
       "  <tbody>\n",
       "    <tr>\n",
       "      <th>0</th>\n",
       "      <td>Gaming</td>\n",
       "      <td>2010-04-29</td>\n",
       "      <td>UC-lHJZR3Gqxm24_Vd_AJ5Yw</td>\n",
       "      <td>PewDiePie</td>\n",
       "      <td>101000000</td>\n",
       "      <td>3956</td>\n",
       "      <td>3.0</td>\n",
       "      <td>2.0870</td>\n",
       "    </tr>\n",
       "    <tr>\n",
       "      <th>1</th>\n",
       "      <td>Education</td>\n",
       "      <td>2006-09-01</td>\n",
       "      <td>UCbCmjCuTUZos6Inko4u57UQ</td>\n",
       "      <td>Cocomelon - Nursery ...</td>\n",
       "      <td>60100000</td>\n",
       "      <td>458</td>\n",
       "      <td>7.0</td>\n",
       "      <td>2.0870</td>\n",
       "    </tr>\n",
       "    <tr>\n",
       "      <th>2</th>\n",
       "      <td>Entertainment</td>\n",
       "      <td>2006-09-20</td>\n",
       "      <td>UCpEhnqL0y41EpW2TvWAHD7Q</td>\n",
       "      <td>SET India</td>\n",
       "      <td>56018869</td>\n",
       "      <td>32661</td>\n",
       "      <td>8.0</td>\n",
       "      <td>2.0870</td>\n",
       "    </tr>\n",
       "    <tr>\n",
       "      <th>3</th>\n",
       "      <td>Howto &amp; Style</td>\n",
       "      <td>2016-11-15</td>\n",
       "      <td>UC295-Dw_tDNtZXFeAPAW6Aw</td>\n",
       "      <td>5-Minute Crafts</td>\n",
       "      <td>60600000</td>\n",
       "      <td>3591</td>\n",
       "      <td>9.0</td>\n",
       "      <td>2.0870</td>\n",
       "    </tr>\n",
       "    <tr>\n",
       "      <th>4</th>\n",
       "      <td>Sports</td>\n",
       "      <td>2007-05-11</td>\n",
       "      <td>UCJ5v_MCY6GNUBTO8-D3XoAg</td>\n",
       "      <td>WWE</td>\n",
       "      <td>48400000</td>\n",
       "      <td>43421</td>\n",
       "      <td>11.0</td>\n",
       "      <td>2.0870</td>\n",
       "    </tr>\n",
       "    <tr>\n",
       "      <th>...</th>\n",
       "      <td>...</td>\n",
       "      <td>...</td>\n",
       "      <td>...</td>\n",
       "      <td>...</td>\n",
       "      <td>...</td>\n",
       "      <td>...</td>\n",
       "      <td>...</td>\n",
       "      <td>...</td>\n",
       "    </tr>\n",
       "    <tr>\n",
       "      <th>136465</th>\n",
       "      <td>Music</td>\n",
       "      <td>2016-10-06</td>\n",
       "      <td>UCuM-9AajUOwKw6ipOzu2DRQ</td>\n",
       "      <td>GONE.Fludd - Topic</td>\n",
       "      <td>10128</td>\n",
       "      <td>105</td>\n",
       "      <td>1008139.0</td>\n",
       "      <td>53.1435</td>\n",
       "    </tr>\n",
       "    <tr>\n",
       "      <th>136466</th>\n",
       "      <td>People &amp; Blogs</td>\n",
       "      <td>2013-10-17</td>\n",
       "      <td>UCtW9jp5TH0YrgYpwiRf9t-Q</td>\n",
       "      <td>saidthestory</td>\n",
       "      <td>10100</td>\n",
       "      <td>352</td>\n",
       "      <td>1008644.0</td>\n",
       "      <td>53.1435</td>\n",
       "    </tr>\n",
       "    <tr>\n",
       "      <th>136467</th>\n",
       "      <td>Gaming</td>\n",
       "      <td>2015-05-08</td>\n",
       "      <td>UCTsxFTIUs8vFDzGccDm6i7Q</td>\n",
       "      <td>Omni H</td>\n",
       "      <td>10000</td>\n",
       "      <td>475</td>\n",
       "      <td>1009505.0</td>\n",
       "      <td>53.1435</td>\n",
       "    </tr>\n",
       "    <tr>\n",
       "      <th>136468</th>\n",
       "      <td>Music</td>\n",
       "      <td>2011-04-13</td>\n",
       "      <td>UC1HOArgRCMGPjlcmkThERwA</td>\n",
       "      <td>TĀLĀ</td>\n",
       "      <td>10000</td>\n",
       "      <td>15</td>\n",
       "      <td>1025119.0</td>\n",
       "      <td>53.1435</td>\n",
       "    </tr>\n",
       "    <tr>\n",
       "      <th>136469</th>\n",
       "      <td>People &amp; Blogs</td>\n",
       "      <td>2006-11-11</td>\n",
       "      <td>UCITKvry4fW50iU4FSw9WERQ</td>\n",
       "      <td>Tangleblog</td>\n",
       "      <td>10000</td>\n",
       "      <td>159</td>\n",
       "      <td>1030844.0</td>\n",
       "      <td>53.1435</td>\n",
       "    </tr>\n",
       "  </tbody>\n",
       "</table>\n",
       "<p>136470 rows × 8 columns</p>\n",
       "</div>"
      ],
      "text/plain": [
       "           category_cc   join_date                   channel  \\\n",
       "0               Gaming  2010-04-29  UC-lHJZR3Gqxm24_Vd_AJ5Yw   \n",
       "1            Education  2006-09-01  UCbCmjCuTUZos6Inko4u57UQ   \n",
       "2        Entertainment  2006-09-20  UCpEhnqL0y41EpW2TvWAHD7Q   \n",
       "3        Howto & Style  2016-11-15  UC295-Dw_tDNtZXFeAPAW6Aw   \n",
       "4               Sports  2007-05-11  UCJ5v_MCY6GNUBTO8-D3XoAg   \n",
       "...                ...         ...                       ...   \n",
       "136465           Music  2016-10-06  UCuM-9AajUOwKw6ipOzu2DRQ   \n",
       "136466  People & Blogs  2013-10-17  UCtW9jp5TH0YrgYpwiRf9t-Q   \n",
       "136467          Gaming  2015-05-08  UCTsxFTIUs8vFDzGccDm6i7Q   \n",
       "136468           Music  2011-04-13  UC1HOArgRCMGPjlcmkThERwA   \n",
       "136469  People & Blogs  2006-11-11  UCITKvry4fW50iU4FSw9WERQ   \n",
       "\n",
       "                        name_cc  subscribers_cc  videos_cc  \\\n",
       "0                     PewDiePie       101000000       3956   \n",
       "1       Cocomelon - Nursery ...        60100000        458   \n",
       "2                     SET India        56018869      32661   \n",
       "3               5-Minute Crafts        60600000       3591   \n",
       "4                           WWE        48400000      43421   \n",
       "...                         ...             ...        ...   \n",
       "136465       GONE.Fludd - Topic           10128        105   \n",
       "136466             saidthestory           10100        352   \n",
       "136467                   Omni H           10000        475   \n",
       "136468                     TĀLĀ           10000         15   \n",
       "136469               Tangleblog           10000        159   \n",
       "\n",
       "        subscriber_rank_sb  weights  \n",
       "0                      3.0   2.0870  \n",
       "1                      7.0   2.0870  \n",
       "2                      8.0   2.0870  \n",
       "3                      9.0   2.0870  \n",
       "4                     11.0   2.0870  \n",
       "...                    ...      ...  \n",
       "136465           1008139.0  53.1435  \n",
       "136466           1008644.0  53.1435  \n",
       "136467           1009505.0  53.1435  \n",
       "136468           1025119.0  53.1435  \n",
       "136469           1030844.0  53.1435  \n",
       "\n",
       "[136470 rows x 8 columns]"
      ]
     },
     "metadata": {},
     "output_type": "display_data"
    }
   ],
   "source": [
    "# Still original channel dataframe, note that the number of rows is higher than in the cleaned df\n",
    "display(df_channels)"
   ]
  },
  {
   "cell_type": "markdown",
   "metadata": {},
   "source": [
    "When cleaning **chunks**, we can directly modify the raw chunk and work with it, since it is already a 'copy' of the original data (i.e it's a reader). Thus set the parameter 'save = True'."
   ]
  },
  {
   "cell_type": "code",
   "execution_count": null,
   "metadata": {},
   "outputs": [],
   "source": [
    "# clean the other two dataframes\n",
    "\n",
    "comments_clean_filepath = dataset_root_path + \"../generated_data/df_comments_clean.csv\"\n",
    "\n",
    "if os.path.isfile(comments_clean_filepath):\n",
    "    print(\"File already exists, no need to generate again. Delete or rename the file to regenerate it.\")\n",
    "else:\n",
    "    dp.run_simple_function_on_chunks_save_csv(reader=comments_in_chunks(1000000), \n",
    "                                              fct=lambda df: clean(df, save=True), \n",
    "                                              filename=comments_clean_filepath,\n",
    "                                              index=False,\n",
    "                                              every=30,\n",
    "                                              overwrite=False,\n",
    "                                              print_time=(1000000, 8600000000))\n",
    "\n",
    "videos_clean_filepath = dataset_root_path + \"../generated_data/df_videos_clean.csv\"\n",
    "\n",
    "if os.path.isfile(videos_clean_filepath):\n",
    "    print(\"File already exists, no need to generate again. Delete or rename the file to regenerate it.\")\n",
    "else:\n",
    "    dp.run_simple_function_on_chunks_save_csv(reader=videos_in_chunks(100000), \n",
    "                                              fct=lambda df: clean(df, save=True), \n",
    "                                              filename=videos_clean_filepath,\n",
    "                                              index=False,\n",
    "                                              every=30,\n",
    "                                              overwrite=False,\n",
    "                                              print_time=(100000, 72924794))"
   ]
  },
  {
   "cell_type": "code",
   "execution_count": 72,
   "metadata": {},
   "outputs": [],
   "source": [
    "# define new readers, as videos_in_chunks and comments_in_chunks use the uncleaned versions:\n",
    "\n",
    "def videos_in_chunks_clean(chunksize: int = 100000) -> pd.io.json._json.JsonReader:\n",
    "    \"\"\"\n",
    "    Returns a Json reader which can be iterated through, to get chunks of the video dataset, with nans etc removed (cleaned).\n",
    "\n",
    "    Args:\n",
    "        chunksize: number of entries in each chunk\n",
    "\n",
    "    Returns:\n",
    "        the Json reader\n",
    "    \"\"\"\n",
    "    return pd.read_csv(videos_clean_filepath, #andreas\n",
    "    # return pd.read_json(dataset_root_path + \"yt_metadata_en.jsonl\", #manon\n",
    "                       compression=\"infer\", lines=True, chunksize=chunksize, )\n",
    "                       # nrows=1000000, )   # uncomment this to only use the first million videos, for testing\n",
    "                                          # (remove the paranthesis above as well)\n",
    "\n",
    "def comments_in_chunks_clean(chunksize: int = 1000000) -> pd.io.parsers.readers.TextFileReader:\n",
    "    \"\"\"\n",
    "    Returns a CSV reader which can be iterated through, to get chunks of the (unfiltered) comment dataset.\n",
    "\n",
    "    Args:\n",
    "        chunksize: number of entries in each chunk\n",
    "\n",
    "    Returns:\n",
    "        the CSV reader\n",
    "    \"\"\"\n",
    "    return pd.read_csv(comments_clean_filepath, #andreas\n",
    "    # return pd.read_csv(dataset_root_path + \"youtube_comments.tsv\", #manon\n",
    "                       compression=\"infer\", sep=\"\\t\", chunksize=chunksize, )\n",
    "                        # nrows = 10000000)  # uncomment this to only use the first 10 million comments, for testing\n",
    "                                            # (remove the paranthesis above as well)"
   ]
  },
  {
   "cell_type": "markdown",
   "metadata": {},
   "source": [
    "# Intro : topics distribution on YouTube\n",
    "**Note for us:** (the actual analysis is still a **todo**) \n",
    "With this analysis we want to investigate how popular the News&Politics category is both in videos and channels. This could possibly be used to justify our choice, but can also just be an interesting view, to see how big the fraction of YouTube that we are analyzing actually is."
   ]
  },
  {
   "cell_type": "code",
   "execution_count": null,
   "metadata": {},
   "outputs": [
    {
     "name": "stdout",
     "output_type": "stream",
     "text": [
      "Loaded data from file\n"
     ]
    },
    {
     "data": {
      "text/html": [
       "<div>\n",
       "<style scoped>\n",
       "    .dataframe tbody tr th:only-of-type {\n",
       "        vertical-align: middle;\n",
       "    }\n",
       "\n",
       "    .dataframe tbody tr th {\n",
       "        vertical-align: top;\n",
       "    }\n",
       "\n",
       "    .dataframe thead th {\n",
       "        text-align: right;\n",
       "    }\n",
       "</style>\n",
       "<table border=\"1\" class=\"dataframe\">\n",
       "  <thead>\n",
       "    <tr style=\"text-align: right;\">\n",
       "      <th></th>\n",
       "      <th>Unnamed: 0</th>\n",
       "      <th>category_cc</th>\n",
       "      <th>number_of_channels</th>\n",
       "    </tr>\n",
       "  </thead>\n",
       "  <tbody>\n",
       "    <tr>\n",
       "      <th>0</th>\n",
       "      <td>0</td>\n",
       "      <td>Autos &amp; Vehicles</td>\n",
       "      <td>3705</td>\n",
       "    </tr>\n",
       "    <tr>\n",
       "      <th>1</th>\n",
       "      <td>1</td>\n",
       "      <td>Comedy</td>\n",
       "      <td>3767</td>\n",
       "    </tr>\n",
       "    <tr>\n",
       "      <th>2</th>\n",
       "      <td>2</td>\n",
       "      <td>Education</td>\n",
       "      <td>7803</td>\n",
       "    </tr>\n",
       "    <tr>\n",
       "      <th>3</th>\n",
       "      <td>3</td>\n",
       "      <td>Entertainment</td>\n",
       "      <td>22951</td>\n",
       "    </tr>\n",
       "    <tr>\n",
       "      <th>4</th>\n",
       "      <td>4</td>\n",
       "      <td>Film and Animation</td>\n",
       "      <td>6875</td>\n",
       "    </tr>\n",
       "    <tr>\n",
       "      <th>5</th>\n",
       "      <td>5</td>\n",
       "      <td>Gaming</td>\n",
       "      <td>20143</td>\n",
       "    </tr>\n",
       "    <tr>\n",
       "      <th>6</th>\n",
       "      <td>6</td>\n",
       "      <td>Howto &amp; Style</td>\n",
       "      <td>11875</td>\n",
       "    </tr>\n",
       "    <tr>\n",
       "      <th>7</th>\n",
       "      <td>7</td>\n",
       "      <td>Music</td>\n",
       "      <td>24285</td>\n",
       "    </tr>\n",
       "    <tr>\n",
       "      <th>8</th>\n",
       "      <td>8</td>\n",
       "      <td>News &amp; Politics</td>\n",
       "      <td>2263</td>\n",
       "    </tr>\n",
       "    <tr>\n",
       "      <th>9</th>\n",
       "      <td>9</td>\n",
       "      <td>Nonprofits &amp; Activism</td>\n",
       "      <td>969</td>\n",
       "    </tr>\n",
       "    <tr>\n",
       "      <th>10</th>\n",
       "      <td>10</td>\n",
       "      <td>People &amp; Blogs</td>\n",
       "      <td>18413</td>\n",
       "    </tr>\n",
       "    <tr>\n",
       "      <th>11</th>\n",
       "      <td>11</td>\n",
       "      <td>Pets &amp; Animals</td>\n",
       "      <td>1292</td>\n",
       "    </tr>\n",
       "    <tr>\n",
       "      <th>12</th>\n",
       "      <td>12</td>\n",
       "      <td>Science &amp; Technology</td>\n",
       "      <td>4864</td>\n",
       "    </tr>\n",
       "    <tr>\n",
       "      <th>13</th>\n",
       "      <td>13</td>\n",
       "      <td>Sports</td>\n",
       "      <td>5148</td>\n",
       "    </tr>\n",
       "    <tr>\n",
       "      <th>14</th>\n",
       "      <td>14</td>\n",
       "      <td>Travel &amp; Events</td>\n",
       "      <td>1989</td>\n",
       "    </tr>\n",
       "  </tbody>\n",
       "</table>\n",
       "</div>"
      ],
      "text/plain": [
       "    Unnamed: 0            category_cc  number_of_channels\n",
       "0            0       Autos & Vehicles                3705\n",
       "1            1                 Comedy                3767\n",
       "2            2              Education                7803\n",
       "3            3          Entertainment               22951\n",
       "4            4     Film and Animation                6875\n",
       "5            5                 Gaming               20143\n",
       "6            6          Howto & Style               11875\n",
       "7            7                  Music               24285\n",
       "8            8        News & Politics                2263\n",
       "9            9  Nonprofits & Activism                 969\n",
       "10          10         People & Blogs               18413\n",
       "11          11         Pets & Animals                1292\n",
       "12          12   Science & Technology                4864\n",
       "13          13                 Sports                5148\n",
       "14          14        Travel & Events                1989"
      ]
     },
     "metadata": {},
     "output_type": "display_data"
    },
    {
     "data": {
      "image/png": "[encoded data removed]",
      "text/plain": [
       "<Figure size 640x480 with 1 Axes>"
      ]
     },
     "metadata": {},
     "output_type": "display_data"
    }
   ],
   "source": [
    "#distribution of categories for the channels\n",
    "\n",
    "channels_by_category_filepath = dataset_root_path + \"../generated_data/channel_count_per_category.csv\"\n",
    "\n",
    "try:  # try to read data from file\n",
    "    channels_per_category = pd.read_csv(channels_by_category_filepath)\n",
    "    print(\"Loaded data from file\")\n",
    "except FileNotFoundError:  # if file does not exist, generate it and save\n",
    "    channels_per_category = df_channels_clean.groupby('category_cc').agg(number_of_channels=('category_cc', 'size')).reset_index()\n",
    "    channels_per_category.to_csv(channels_by_category_filepath)\n",
    "\n",
    "display(channels_per_category)\n",
    "\n",
    "\n",
    "ax = sns.barplot(x=\"category_cc\", y=\"number_of_channels\", data=channels_per_category,hue=\"category_cc\", palette='Set2')\n",
    "plt.xticks(rotation=90)\n",
    "plt.title(\"Distribution of channels in the different available categories on YouTube.\")\n",
    "plt.xlabel(\"Channel category (most frequent category of the channel's videos)\")\n",
    "plt.ylabel(\"Number of channels\")\n",
    "plt.show()"
   ]
  },
  {
   "cell_type": "code",
   "execution_count": null,
   "metadata": {
    "collapsed": true,
    "jupyter": {
     "outputs_hidden": true
    }
   },
   "outputs": [
    {
     "name": "stdout",
     "output_type": "stream",
     "text": [
      "Data read from file\n",
      "    Unnamed: 0               category  total_count\n",
      "0            0          Entertainment   12276397.0\n",
      "1            1                 Gaming   13720303.0\n",
      "2            2                  Music    8305003.0\n",
      "3            3         People & Blogs    6910666.0\n",
      "4            4        News & Politics    8881022.0\n",
      "5            5          Howto & Style    3968127.0\n",
      "6            6        Travel & Events    1096565.0\n",
      "7            7   Science & Technology    2403004.0\n",
      "8            8                 Comedy    1172503.0\n",
      "9            9              Education    3795564.0\n",
      "10          10                 Sports    4354412.0\n",
      "11          11       Film & Animation    2359736.0\n",
      "12          12         Pets & Animals     645508.0\n",
      "13          13       Autos & Vehicles    2256967.0\n",
      "14          14  Nonprofits & Activism     777449.0\n",
      "15          15                    NaN       1522.0\n",
      "16          16                  Shows         41.0\n",
      "17          17                 Movies          5.0\n"
     ]
    },
    {
     "data": {
      "image/png": "[encoded data removed]",
      "text/plain": [
       "<Figure size 640x480 with 1 Axes>"
      ]
     },
     "metadata": {},
     "output_type": "display_data"
    }
   ],
   "source": [
    "#distribution categories of videos over the whole dataset per chunck\n",
    "\n",
    "# Define a function that processes a single chunk (AND CLEANS)\n",
    "def count_videos_by_category(chunk):\n",
    "    #clean chunk for NaN and ''\n",
    "    #print(len(chunk))\n",
    "    clean(chunk, save = True)\n",
    "    #print(len(chunk))   \n",
    "    \n",
    "    # Count videos in each category within the chunk\n",
    "    category_counts = chunk['categories'].value_counts().to_frame().T  # Get counts and transpose for one-row DataFrame\n",
    "    category_counts.columns.name = None  # Remove column name for easy concatenation\n",
    "    return category_counts\n",
    "\n",
    "videos_by_category_filepath = dataset_root_path + \"../generated_data/video_count_by_category.csv\"\n",
    "\n",
    "try:  # try to read the data from file\n",
    "    videos_per_category_counts_total = pd.read_csv(videos_by_category_filepath)\n",
    "    print(\"Data read from file\")\n",
    "except FileNotFoundError:  # otherwise, generate it and save\n",
    "\n",
    "    # Apply the function to all chunks and get the results concatenated\n",
    "    videos_per_category_counts_per_chunk = dp.run_simple_function_on_chunks_concat(\n",
    "        videos_in_chunks_clean(chunksize=100000), \n",
    "        count_videos_by_category,\n",
    "        print_time=(100000, 72924794)\n",
    "        )\n",
    "\n",
    "    # Sum the counts across all chunks to get the total count of videos per category\n",
    "    videos_per_category_counts_total = videos_per_category_counts_per_chunk.sum().to_frame(name='total_count').reset_index()\n",
    "    videos_per_category_counts_total.columns = ['category', 'total_count']\n",
    "\n",
    "    videos_per_category_counts_total.to_csv()  # save the created dataframe so we don't have to generate it again\n",
    "\n",
    "\n",
    "# Display the final distribution\n",
    "print(videos_per_category_counts_total)\n",
    "\n",
    "# The commented code doesn't make any sense, right?\n",
    "\n",
    "# category_videos_whole_dataset= videos_per_category_counts_total.groupby('category').agg(\n",
    "#     number_of_videos=('category', 'size')).reset_index()\n",
    "\n",
    "# display(category_videos_whole_dataset)\n",
    "\n",
    "\n",
    "ax = sns.barplot(x=\"category\", y=\"total_count\", data=videos_per_category_counts_total,hue=\"category\", palette='Set2')\n",
    "plt.xticks(rotation=90)\n",
    "plt.title(\"Distribution of videos in the different available categories on YouTube.\")\n",
    "plt.xlabel(\"Video category\")\n",
    "plt.ylabel(\"Number of videos\")\n",
    "plt.show()"
   ]
  },
  {
   "cell_type": "markdown",
   "metadata": {},
   "source": [
    "## TODO\n",
    "We still need an interpretation/analysis of what we see here (in the above plots).\n",
    "\n",
    "Something like (check this, this is just from the top of my head) \"we see that there are not that many News & Politics channels compared to the other categories, however there are a much larger fraction of News & Politics *videos*. Therefore, we conclude that the News & Politics channels post videos rather actively.\"\n",
    "\n",
    "Here is also an idea which Mila (I think) wrote: instead of saying it goes in our way we could say , that it is already a small category which can lead to more isolation as people are less interested \n",
    "and there exists less various sources thus clustering can happen more easily \n",
    "\n",
    "\n",
    "\n",
    "Is there something else which we want to analyze based on the results here which we still want to analyze?\n",
    "\n",
    "**Also**: There seem to be videos without a category (however no channels without a category). This must be adressed, either in a general NaN filtering in the beginning (if we do that) or here. We could for instance look at what videos they are, are they all old, do they have something else in common?\n",
    "\n"
   ]
  },
  {
   "cell_type": "code",
   "execution_count": 41,
   "metadata": {},
   "outputs": [],
   "source": [
    "# delete the datasets, as we don't need them anymore\n",
    "\n",
    "del videos_per_category_counts_total\n",
    "del channels_per_category"
   ]
  },
  {
   "cell_type": "markdown",
   "metadata": {},
   "source": [
    "## Filtering the datasets to our needs\n",
    "\n",
    "### Filtering **videos** by category 'News & Politics'"
   ]
  },
  {
   "cell_type": "code",
   "execution_count": null,
   "metadata": {},
   "outputs": [
    {
     "name": "stdout",
     "output_type": "stream",
     "text": [
      "File already exists, no need to generate again.\n",
      "Delete or rename the existing file in order to regenerate it.\n"
     ]
    }
   ],
   "source": [
    "# filter the video dataframe to only include videos from n&p category\n",
    "\n",
    "videos_in_news_pol_filepath = dataset_root_path + \"/../generated_data/videos_in_news_pol.csv\"\n",
    "\n",
    "if os.path.isfile(videos_in_news_pol_filepath):  # if the file already exists\n",
    "    print(\"File already exists, no need to generate again.\\nDelete or rename the existing file in order to regenerate it.\")\n",
    "else:  # if not, generate the file. The data is directly saved to a new dataframe, \n",
    "       # because it would be to big to load in memory at once\n",
    "    dp.run_simple_function_on_chunks_save_csv(videos_in_chunks_clean(chunksize=100000),\n",
    "                                              lambda x: x[x.categories == \"News & Politics\"], \n",
    "                                              filename=videos_in_news_pol_filepath,\n",
    "                                              overwrite=False,  # will not overwrite existing files\n",
    "                                              every=30,  # will save to the csv every 30 chunks\n",
    "                                              print_time=(100000, 72924794))"
   ]
  },
  {
   "cell_type": "code",
   "execution_count": null,
   "metadata": {},
   "outputs": [
    {
     "name": "stdout",
     "output_type": "stream",
     "text": [
      "News and politics videos:\n",
      "\n",
      "Head of chunk 0: \n"
     ]
    },
    {
     "data": {
      "text/html": [
       "<div>\n",
       "<style scoped>\n",
       "    .dataframe tbody tr th:only-of-type {\n",
       "        vertical-align: middle;\n",
       "    }\n",
       "\n",
       "    .dataframe tbody tr th {\n",
       "        vertical-align: top;\n",
       "    }\n",
       "\n",
       "    .dataframe thead th {\n",
       "        text-align: right;\n",
       "    }\n",
       "</style>\n",
       "<table border=\"1\" class=\"dataframe\">\n",
       "  <thead>\n",
       "    <tr style=\"text-align: right;\">\n",
       "      <th></th>\n",
       "      <th>categories</th>\n",
       "      <th>channel_id</th>\n",
       "      <th>crawl_date</th>\n",
       "      <th>description</th>\n",
       "      <th>dislike_count</th>\n",
       "      <th>display_id</th>\n",
       "      <th>duration</th>\n",
       "      <th>like_count</th>\n",
       "      <th>tags</th>\n",
       "      <th>title</th>\n",
       "      <th>upload_date</th>\n",
       "      <th>view_count</th>\n",
       "    </tr>\n",
       "  </thead>\n",
       "  <tbody>\n",
       "    <tr>\n",
       "      <th>0</th>\n",
       "      <td>Film &amp; Animation</td>\n",
       "      <td>UCzWrhkg9eK5I8Bm3HfV-unA</td>\n",
       "      <td>2019-10-31 20:19:26.270363</td>\n",
       "      <td>Lego City Police Lego Firetruck Cartoons about...</td>\n",
       "      <td>1.0</td>\n",
       "      <td>SBqSc91Hn9g</td>\n",
       "      <td>1159</td>\n",
       "      <td>8.0</td>\n",
       "      <td>lego city,lego police,lego city police,lego ci...</td>\n",
       "      <td>Lego City Police Lego Firetruck Cartoons about...</td>\n",
       "      <td>2016-09-28 00:00:00</td>\n",
       "      <td>1057</td>\n",
       "    </tr>\n",
       "    <tr>\n",
       "      <th>1</th>\n",
       "      <td>Film &amp; Animation</td>\n",
       "      <td>UCzWrhkg9eK5I8Bm3HfV-unA</td>\n",
       "      <td>2019-10-31 20:19:26.914516</td>\n",
       "      <td>Lego Marvel SuperHeroes Lego Hulk Smash Iron-M...</td>\n",
       "      <td>1.0</td>\n",
       "      <td>UuugEl86ESY</td>\n",
       "      <td>2681</td>\n",
       "      <td>23.0</td>\n",
       "      <td>Lego superheroes,lego hulk,hulk smash,lego mar...</td>\n",
       "      <td>Lego Marvel SuperHeroes Lego Hulk Smash Iron-M...</td>\n",
       "      <td>2016-09-28 00:00:00</td>\n",
       "      <td>12894</td>\n",
       "    </tr>\n",
       "    <tr>\n",
       "      <th>2</th>\n",
       "      <td>Film &amp; Animation</td>\n",
       "      <td>UCzWrhkg9eK5I8Bm3HfV-unA</td>\n",
       "      <td>2019-10-31 20:19:26.531203</td>\n",
       "      <td>Lego City Police Lego Fireman Cartoons about L...</td>\n",
       "      <td>779.0</td>\n",
       "      <td>oB4c-yvnbjs</td>\n",
       "      <td>1394</td>\n",
       "      <td>1607.0</td>\n",
       "      <td>lego city,lego police,lego city police,lego fi...</td>\n",
       "      <td>Lego City Police Lego Fireman Cartoons about L...</td>\n",
       "      <td>2016-09-28 00:00:00</td>\n",
       "      <td>1800602</td>\n",
       "    </tr>\n",
       "    <tr>\n",
       "      <th>3</th>\n",
       "      <td>Film &amp; Animation</td>\n",
       "      <td>UCzWrhkg9eK5I8Bm3HfV-unA</td>\n",
       "      <td>2019-10-31 20:19:28.335329</td>\n",
       "      <td>Lego Harry Potter Complete Lego New Movie for ...</td>\n",
       "      <td>24.0</td>\n",
       "      <td>ZaV-gTCMV8E</td>\n",
       "      <td>5064</td>\n",
       "      <td>227.0</td>\n",
       "      <td>Lego harry potter,new harry potter,harry potte...</td>\n",
       "      <td>Lego Harry Potter Complete Lego New Movie for ...</td>\n",
       "      <td>2016-09-28 00:00:00</td>\n",
       "      <td>57640</td>\n",
       "    </tr>\n",
       "    <tr>\n",
       "      <th>4</th>\n",
       "      <td>Film &amp; Animation</td>\n",
       "      <td>UCzWrhkg9eK5I8Bm3HfV-unA</td>\n",
       "      <td>2019-10-31 20:19:30.328487</td>\n",
       "      <td>Lego City Police LONG VIDEO for kids Lego Fire...</td>\n",
       "      <td>13.0</td>\n",
       "      <td>cGvL7AvMfM0</td>\n",
       "      <td>3554</td>\n",
       "      <td>105.0</td>\n",
       "      <td>lego city,lego police,lego city police,lego fi...</td>\n",
       "      <td>Lego City Police 1 HOUR LONG VIDEO for kids Le...</td>\n",
       "      <td>2016-09-28 00:00:00</td>\n",
       "      <td>86368</td>\n",
       "    </tr>\n",
       "  </tbody>\n",
       "</table>\n",
       "</div>"
      ],
      "text/plain": [
       "         categories                channel_id                  crawl_date  \\\n",
       "0  Film & Animation  UCzWrhkg9eK5I8Bm3HfV-unA  2019-10-31 20:19:26.270363   \n",
       "1  Film & Animation  UCzWrhkg9eK5I8Bm3HfV-unA  2019-10-31 20:19:26.914516   \n",
       "2  Film & Animation  UCzWrhkg9eK5I8Bm3HfV-unA  2019-10-31 20:19:26.531203   \n",
       "3  Film & Animation  UCzWrhkg9eK5I8Bm3HfV-unA  2019-10-31 20:19:28.335329   \n",
       "4  Film & Animation  UCzWrhkg9eK5I8Bm3HfV-unA  2019-10-31 20:19:30.328487   \n",
       "\n",
       "                                         description  dislike_count  \\\n",
       "0  Lego City Police Lego Firetruck Cartoons about...            1.0   \n",
       "1  Lego Marvel SuperHeroes Lego Hulk Smash Iron-M...            1.0   \n",
       "2  Lego City Police Lego Fireman Cartoons about L...          779.0   \n",
       "3  Lego Harry Potter Complete Lego New Movie for ...           24.0   \n",
       "4  Lego City Police LONG VIDEO for kids Lego Fire...           13.0   \n",
       "\n",
       "    display_id  duration  like_count  \\\n",
       "0  SBqSc91Hn9g      1159         8.0   \n",
       "1  UuugEl86ESY      2681        23.0   \n",
       "2  oB4c-yvnbjs      1394      1607.0   \n",
       "3  ZaV-gTCMV8E      5064       227.0   \n",
       "4  cGvL7AvMfM0      3554       105.0   \n",
       "\n",
       "                                                tags  \\\n",
       "0  lego city,lego police,lego city police,lego ci...   \n",
       "1  Lego superheroes,lego hulk,hulk smash,lego mar...   \n",
       "2  lego city,lego police,lego city police,lego fi...   \n",
       "3  Lego harry potter,new harry potter,harry potte...   \n",
       "4  lego city,lego police,lego city police,lego fi...   \n",
       "\n",
       "                                               title          upload_date  \\\n",
       "0  Lego City Police Lego Firetruck Cartoons about...  2016-09-28 00:00:00   \n",
       "1  Lego Marvel SuperHeroes Lego Hulk Smash Iron-M...  2016-09-28 00:00:00   \n",
       "2  Lego City Police Lego Fireman Cartoons about L...  2016-09-28 00:00:00   \n",
       "3  Lego Harry Potter Complete Lego New Movie for ...  2016-09-28 00:00:00   \n",
       "4  Lego City Police 1 HOUR LONG VIDEO for kids Le...  2016-09-28 00:00:00   \n",
       "\n",
       "   view_count  \n",
       "0        1057  \n",
       "1       12894  \n",
       "2     1800602  \n",
       "3       57640  \n",
       "4       86368  "
      ]
     },
     "metadata": {},
     "output_type": "display_data"
    },
    {
     "name": "stdout",
     "output_type": "stream",
     "text": [
      "The shapes of all chunks:\n",
      "Shape of chunk number 0: (100000, 12)\n",
      "Shape of chunk number 1: (100000, 12)\n",
      "Shape of chunk number 2: (100000, 12)\n",
      "Shape of chunk number 3: (100000, 12)\n",
      "Shape of chunk number 4: (100000, 12)\n",
      "Shape of chunk number 5: (100000, 12)\n"
     ]
    },
    {
     "ename": "KeyboardInterrupt",
     "evalue": "",
     "output_type": "error",
     "traceback": [
      "\u001b[0;31m---------------------------------------------------------------------------\u001b[0m",
      "\u001b[0;31mKeyboardInterrupt\u001b[0m                         Traceback (most recent call last)",
      "Cell \u001b[0;32mIn[34], line 8\u001b[0m\n\u001b[1;32m      6\u001b[0m total_length \u001b[38;5;241m=\u001b[39m \u001b[38;5;241m0\u001b[39m\n\u001b[1;32m      7\u001b[0m \u001b[38;5;66;03m# for i, chunk in enumerate(pd.read_csv(dataset_root_path + \"/../generated_data/videos_in_news_pol.csv\", chunksize=100000)):\u001b[39;00m\n\u001b[0;32m----> 8\u001b[0m \u001b[38;5;28;43;01mfor\u001b[39;49;00m\u001b[43m \u001b[49m\u001b[43mi\u001b[49m\u001b[43m,\u001b[49m\u001b[43m \u001b[49m\u001b[43mchunk\u001b[49m\u001b[43m \u001b[49m\u001b[38;5;129;43;01min\u001b[39;49;00m\u001b[43m \u001b[49m\u001b[38;5;28;43menumerate\u001b[39;49m\u001b[43m(\u001b[49m\u001b[43mvideos_in_chunks\u001b[49m\u001b[43m(\u001b[49m\u001b[43m)\u001b[49m\u001b[43m)\u001b[49m\u001b[43m:\u001b[49m\u001b[43m    \u001b[49m\n\u001b[1;32m      9\u001b[0m \u001b[43m    \u001b[49m\u001b[38;5;28;43;01mif\u001b[39;49;00m\u001b[43m \u001b[49m\u001b[43mi\u001b[49m\u001b[43m \u001b[49m\u001b[38;5;241;43m==\u001b[39;49m\u001b[43m \u001b[49m\u001b[38;5;241;43m0\u001b[39;49m\u001b[43m:\u001b[49m\n\u001b[1;32m     10\u001b[0m \u001b[43m        \u001b[49m\u001b[38;5;28;43mprint\u001b[39;49m\u001b[43m(\u001b[49m\u001b[38;5;124;43mf\u001b[39;49m\u001b[38;5;124;43m\"\u001b[39;49m\u001b[38;5;124;43mHead of chunk 0: \u001b[39;49m\u001b[38;5;124;43m\"\u001b[39;49m\u001b[43m)\u001b[49m\n",
      "File \u001b[0;32m~/miniforge3/envs/ada/lib/python3.11/site-packages/pandas/io/json/_json.py:1090\u001b[0m, in \u001b[0;36mJsonReader.__next__\u001b[0;34m(self)\u001b[0m\n\u001b[1;32m   1087\u001b[0m     \u001b[38;5;28mself\u001b[39m\u001b[38;5;241m.\u001b[39mclose()\n\u001b[1;32m   1088\u001b[0m     \u001b[38;5;28;01mraise\u001b[39;00m \u001b[38;5;167;01mStopIteration\u001b[39;00m\n\u001b[0;32m-> 1090\u001b[0m lines \u001b[38;5;241m=\u001b[39m \u001b[38;5;28mlist\u001b[39m(islice(\u001b[38;5;28mself\u001b[39m\u001b[38;5;241m.\u001b[39mdata, \u001b[38;5;28mself\u001b[39m\u001b[38;5;241m.\u001b[39mchunksize))\n\u001b[1;32m   1091\u001b[0m \u001b[38;5;28;01mif\u001b[39;00m \u001b[38;5;129;01mnot\u001b[39;00m lines:\n\u001b[1;32m   1092\u001b[0m     \u001b[38;5;28mself\u001b[39m\u001b[38;5;241m.\u001b[39mclose()\n",
      "File \u001b[0;32m~/miniforge3/envs/ada/lib/python3.11/gzip.py:314\u001b[0m, in \u001b[0;36mGzipFile.read1\u001b[0;34m(self, size)\u001b[0m\n\u001b[1;32m    312\u001b[0m \u001b[38;5;28;01mif\u001b[39;00m size \u001b[38;5;241m<\u001b[39m \u001b[38;5;241m0\u001b[39m:\n\u001b[1;32m    313\u001b[0m     size \u001b[38;5;241m=\u001b[39m io\u001b[38;5;241m.\u001b[39mDEFAULT_BUFFER_SIZE\n\u001b[0;32m--> 314\u001b[0m \u001b[38;5;28;01mreturn\u001b[39;00m \u001b[38;5;28mself\u001b[39m\u001b[38;5;241m.\u001b[39m_buffer\u001b[38;5;241m.\u001b[39mread1(size)\n",
      "File \u001b[0;32m~/miniforge3/envs/ada/lib/python3.11/_compression.py:68\u001b[0m, in \u001b[0;36mDecompressReader.readinto\u001b[0;34m(self, b)\u001b[0m\n\u001b[1;32m     66\u001b[0m \u001b[38;5;28;01mdef\u001b[39;00m \u001b[38;5;21mreadinto\u001b[39m(\u001b[38;5;28mself\u001b[39m, b):\n\u001b[1;32m     67\u001b[0m     \u001b[38;5;28;01mwith\u001b[39;00m \u001b[38;5;28mmemoryview\u001b[39m(b) \u001b[38;5;28;01mas\u001b[39;00m view, view\u001b[38;5;241m.\u001b[39mcast(\u001b[38;5;124m\"\u001b[39m\u001b[38;5;124mB\u001b[39m\u001b[38;5;124m\"\u001b[39m) \u001b[38;5;28;01mas\u001b[39;00m byte_view:\n\u001b[0;32m---> 68\u001b[0m         data \u001b[38;5;241m=\u001b[39m \u001b[38;5;28;43mself\u001b[39;49m\u001b[38;5;241;43m.\u001b[39;49m\u001b[43mread\u001b[49m\u001b[43m(\u001b[49m\u001b[38;5;28;43mlen\u001b[39;49m\u001b[43m(\u001b[49m\u001b[43mbyte_view\u001b[49m\u001b[43m)\u001b[49m\u001b[43m)\u001b[49m\n\u001b[1;32m     69\u001b[0m         byte_view[:\u001b[38;5;28mlen\u001b[39m(data)] \u001b[38;5;241m=\u001b[39m data\n\u001b[1;32m     70\u001b[0m     \u001b[38;5;28;01mreturn\u001b[39;00m \u001b[38;5;28mlen\u001b[39m(data)\n",
      "File \u001b[0;32m~/miniforge3/envs/ada/lib/python3.11/gzip.py:521\u001b[0m, in \u001b[0;36m_GzipReader.read\u001b[0;34m(self, size)\u001b[0m\n\u001b[1;32m    517\u001b[0m     \u001b[38;5;28;01mif\u001b[39;00m buf \u001b[38;5;241m==\u001b[39m \u001b[38;5;124mb\u001b[39m\u001b[38;5;124m\"\u001b[39m\u001b[38;5;124m\"\u001b[39m:\n\u001b[1;32m    518\u001b[0m         \u001b[38;5;28;01mraise\u001b[39;00m \u001b[38;5;167;01mEOFError\u001b[39;00m(\u001b[38;5;124m\"\u001b[39m\u001b[38;5;124mCompressed file ended before the \u001b[39m\u001b[38;5;124m\"\u001b[39m\n\u001b[1;32m    519\u001b[0m                        \u001b[38;5;124m\"\u001b[39m\u001b[38;5;124mend-of-stream marker was reached\u001b[39m\u001b[38;5;124m\"\u001b[39m)\n\u001b[0;32m--> 521\u001b[0m \u001b[38;5;28;43mself\u001b[39;49m\u001b[38;5;241;43m.\u001b[39;49m\u001b[43m_add_read_data\u001b[49m\u001b[43m(\u001b[49m\u001b[43m \u001b[49m\u001b[43muncompress\u001b[49m\u001b[43m \u001b[49m\u001b[43m)\u001b[49m\n\u001b[1;32m    522\u001b[0m \u001b[38;5;28mself\u001b[39m\u001b[38;5;241m.\u001b[39m_pos \u001b[38;5;241m+\u001b[39m\u001b[38;5;241m=\u001b[39m \u001b[38;5;28mlen\u001b[39m(uncompress)\n\u001b[1;32m    523\u001b[0m \u001b[38;5;28;01mreturn\u001b[39;00m uncompress\n",
      "File \u001b[0;32m~/miniforge3/envs/ada/lib/python3.11/gzip.py:526\u001b[0m, in \u001b[0;36m_GzipReader._add_read_data\u001b[0;34m(self, data)\u001b[0m\n\u001b[1;32m    525\u001b[0m \u001b[38;5;28;01mdef\u001b[39;00m \u001b[38;5;21m_add_read_data\u001b[39m(\u001b[38;5;28mself\u001b[39m, data):\n\u001b[0;32m--> 526\u001b[0m     \u001b[38;5;28mself\u001b[39m\u001b[38;5;241m.\u001b[39m_crc \u001b[38;5;241m=\u001b[39m zlib\u001b[38;5;241m.\u001b[39mcrc32(data, \u001b[38;5;28mself\u001b[39m\u001b[38;5;241m.\u001b[39m_crc)\n\u001b[1;32m    527\u001b[0m     \u001b[38;5;28mself\u001b[39m\u001b[38;5;241m.\u001b[39m_stream_size \u001b[38;5;241m=\u001b[39m \u001b[38;5;28mself\u001b[39m\u001b[38;5;241m.\u001b[39m_stream_size \u001b[38;5;241m+\u001b[39m \u001b[38;5;28mlen\u001b[39m(data)\n",
      "\u001b[0;31mKeyboardInterrupt\u001b[0m: "
     ]
    }
   ],
   "source": [
    "# load the (large) csv file that was just written, containing the videos in news and politics, in chunks, \n",
    "# and print the head of the first chunk and the shape of each chunk (this is just to show that it works)\n",
    "\n",
    "print(\"News and politics videos:\\n\")\n",
    "\n",
    "total_length = 0\n",
    "for i, chunk in enumerate(pd.read_csv(dataset_root_path + \"/../generated_data/videos_in_news_pol.csv\", chunksize=100000)):\n",
    "    if i == 0:\n",
    "        print(f\"Head of chunk 0: \")\n",
    "        display(chunk.head())\n",
    "        print(\"The shapes of all chunks:\")\n",
    "\n",
    "    print(f\"Shape of chunk number {i}: {chunk.shape}\")\n",
    "    total_length += chunk.shape[0]\n",
    "\n",
    "print(f\"In total {total_length} rows, which takes up {i+1} chunks.\")\n",
    "del chunk\n",
    "\n",
    "print(f\"{gc.collect()} garbages collected.\")"
   ]
  },
  {
   "cell_type": "markdown",
   "metadata": {},
   "source": [
    "### Filtering **channels** by category News & Politics"
   ]
  },
  {
   "cell_type": "code",
   "execution_count": 44,
   "metadata": {},
   "outputs": [
    {
     "name": "stdout",
     "output_type": "stream",
     "text": [
      "Read data from file\n"
     ]
    }
   ],
   "source": [
    "#filter channels dataset to only include n&p\n",
    "\n",
    "# Note: because the channel dataset is much smaller than the video dataset, we don't need to worry about chunks here\n",
    "# Also, the results can be saved in a single file without a problem.\n",
    "\n",
    "channels_news_pol_filepath = dataset_root_path + \"../generated_data/channels_in_news_pol.csv\"\n",
    "\n",
    "try:\n",
    "    df_channels_news_pol = pd.read_csv(channels_news_pol_filepath)\n",
    "    print(\"Read data from file\")\n",
    "except FileNotFoundError:\n",
    "    df_channels_news_pol = df_channels[df_channels.category_cc == \"News & Politics\"]\n",
    "    df_channels_news_pol.to_csv(channels_news_pol_filepath)"
   ]
  },
  {
   "cell_type": "code",
   "execution_count": 45,
   "metadata": {},
   "outputs": [
    {
     "data": {
      "text/html": [
       "<div>\n",
       "<style scoped>\n",
       "    .dataframe tbody tr th:only-of-type {\n",
       "        vertical-align: middle;\n",
       "    }\n",
       "\n",
       "    .dataframe tbody tr th {\n",
       "        vertical-align: top;\n",
       "    }\n",
       "\n",
       "    .dataframe thead th {\n",
       "        text-align: right;\n",
       "    }\n",
       "</style>\n",
       "<table border=\"1\" class=\"dataframe\">\n",
       "  <thead>\n",
       "    <tr style=\"text-align: right;\">\n",
       "      <th></th>\n",
       "      <th>Unnamed: 0</th>\n",
       "      <th>category_cc</th>\n",
       "      <th>join_date</th>\n",
       "      <th>channel</th>\n",
       "      <th>name_cc</th>\n",
       "      <th>subscribers_cc</th>\n",
       "      <th>videos_cc</th>\n",
       "      <th>subscriber_rank_sb</th>\n",
       "      <th>weights</th>\n",
       "    </tr>\n",
       "  </thead>\n",
       "  <tbody>\n",
       "    <tr>\n",
       "      <th>0</th>\n",
       "      <td>129</td>\n",
       "      <td>News &amp; Politics</td>\n",
       "      <td>2006-08-26</td>\n",
       "      <td>UCttspZesZIDEwwpVIgoZtWQ</td>\n",
       "      <td>IndiaTV</td>\n",
       "      <td>15177282</td>\n",
       "      <td>139814</td>\n",
       "      <td>199.0</td>\n",
       "      <td>2.087</td>\n",
       "    </tr>\n",
       "    <tr>\n",
       "      <th>1</th>\n",
       "      <td>133</td>\n",
       "      <td>News &amp; Politics</td>\n",
       "      <td>2012-06-01</td>\n",
       "      <td>UCRWFSbif-RFENbBrSiez1DA</td>\n",
       "      <td>ABP NEWS</td>\n",
       "      <td>16274836</td>\n",
       "      <td>129027</td>\n",
       "      <td>207.0</td>\n",
       "      <td>2.087</td>\n",
       "    </tr>\n",
       "    <tr>\n",
       "      <th>2</th>\n",
       "      <td>212</td>\n",
       "      <td>News &amp; Politics</td>\n",
       "      <td>2017-03-03</td>\n",
       "      <td>UCmphdqZNmqL72WJ2uyiNw5w</td>\n",
       "      <td>ABP NEWS HINDI</td>\n",
       "      <td>10800000</td>\n",
       "      <td>51298</td>\n",
       "      <td>340.0</td>\n",
       "      <td>2.087</td>\n",
       "    </tr>\n",
       "    <tr>\n",
       "      <th>3</th>\n",
       "      <td>268</td>\n",
       "      <td>News &amp; Politics</td>\n",
       "      <td>2015-03-23</td>\n",
       "      <td>UCx8Z14PpntdaxCt2hakbQLQ</td>\n",
       "      <td>The Lallantop</td>\n",
       "      <td>9120000</td>\n",
       "      <td>9423</td>\n",
       "      <td>438.0</td>\n",
       "      <td>2.087</td>\n",
       "    </tr>\n",
       "    <tr>\n",
       "      <th>4</th>\n",
       "      <td>337</td>\n",
       "      <td>News &amp; Politics</td>\n",
       "      <td>2007-06-19</td>\n",
       "      <td>UCIvaYmXn910QMdemBG3v1pQ</td>\n",
       "      <td>Zee News</td>\n",
       "      <td>9280000</td>\n",
       "      <td>102648</td>\n",
       "      <td>549.0</td>\n",
       "      <td>2.087</td>\n",
       "    </tr>\n",
       "  </tbody>\n",
       "</table>\n",
       "</div>"
      ],
      "text/plain": [
       "   Unnamed: 0      category_cc   join_date                   channel  \\\n",
       "0         129  News & Politics  2006-08-26  UCttspZesZIDEwwpVIgoZtWQ   \n",
       "1         133  News & Politics  2012-06-01  UCRWFSbif-RFENbBrSiez1DA   \n",
       "2         212  News & Politics  2017-03-03  UCmphdqZNmqL72WJ2uyiNw5w   \n",
       "3         268  News & Politics  2015-03-23  UCx8Z14PpntdaxCt2hakbQLQ   \n",
       "4         337  News & Politics  2007-06-19  UCIvaYmXn910QMdemBG3v1pQ   \n",
       "\n",
       "          name_cc  subscribers_cc  videos_cc  subscriber_rank_sb  weights  \n",
       "0         IndiaTV        15177282     139814               199.0    2.087  \n",
       "1        ABP NEWS        16274836     129027               207.0    2.087  \n",
       "2  ABP NEWS HINDI        10800000      51298               340.0    2.087  \n",
       "3   The Lallantop         9120000       9423               438.0    2.087  \n",
       "4        Zee News         9280000     102648               549.0    2.087  "
      ]
     },
     "metadata": {},
     "output_type": "display_data"
    },
    {
     "data": {
      "text/plain": [
       "(2263, 9)"
      ]
     },
     "metadata": {},
     "output_type": "display_data"
    }
   ],
   "source": [
    "display(df_channels_news_pol.head())\n",
    "display(df_channels_news_pol.shape)"
   ]
  },
  {
   "cell_type": "markdown",
   "metadata": {},
   "source": [
    "### Checking whether all videos in News and Politics are also uploaded by a channel in that category"
   ]
  },
  {
   "cell_type": "code",
   "execution_count": 46,
   "metadata": {},
   "outputs": [
    {
     "name": "stdout",
     "output_type": "stream",
     "text": [
      "Read data from file\n"
     ]
    },
    {
     "data": {
      "text/html": [
       "<div>\n",
       "<style scoped>\n",
       "    .dataframe tbody tr th:only-of-type {\n",
       "        vertical-align: middle;\n",
       "    }\n",
       "\n",
       "    .dataframe tbody tr th {\n",
       "        vertical-align: top;\n",
       "    }\n",
       "\n",
       "    .dataframe thead th {\n",
       "        text-align: right;\n",
       "    }\n",
       "</style>\n",
       "<table border=\"1\" class=\"dataframe\">\n",
       "  <thead>\n",
       "    <tr style=\"text-align: right;\">\n",
       "      <th></th>\n",
       "      <th>Unnamed: 0.1</th>\n",
       "      <th>Unnamed: 0</th>\n",
       "      <th>categories</th>\n",
       "      <th>channel_id</th>\n",
       "      <th>crawl_date</th>\n",
       "      <th>description</th>\n",
       "      <th>dislike_count</th>\n",
       "      <th>display_id</th>\n",
       "      <th>duration</th>\n",
       "      <th>like_count</th>\n",
       "      <th>tags</th>\n",
       "      <th>title</th>\n",
       "      <th>upload_date</th>\n",
       "      <th>view_count</th>\n",
       "    </tr>\n",
       "  </thead>\n",
       "  <tbody>\n",
       "    <tr>\n",
       "      <th>0</th>\n",
       "      <td>0</td>\n",
       "      <td>1827</td>\n",
       "      <td>News &amp; Politics</td>\n",
       "      <td>UCzWm1-4XF7AHxVUTkHCM1uw</td>\n",
       "      <td>2019-11-17 06:28:42.593675</td>\n",
       "      <td>retrogamer3.com</td>\n",
       "      <td>16.0</td>\n",
       "      <td>dfa8RRkKoa4</td>\n",
       "      <td>9251</td>\n",
       "      <td>25.0</td>\n",
       "      <td>RetroGamer3,Live Stream,politics,Trump</td>\n",
       "      <td>Retrogamer3 Political Stream</td>\n",
       "      <td>2018-08-23 00:00:00</td>\n",
       "      <td>478.0</td>\n",
       "    </tr>\n",
       "    <tr>\n",
       "      <th>1</th>\n",
       "      <td>1</td>\n",
       "      <td>7605</td>\n",
       "      <td>News &amp; Politics</td>\n",
       "      <td>UCzWLsxDD373D4tY8kN-0LGQ</td>\n",
       "      <td>2019-11-05 00:42:33.012228</td>\n",
       "      <td>What are the forces at work that have created ...</td>\n",
       "      <td>0.0</td>\n",
       "      <td>_dIIEMvH86k</td>\n",
       "      <td>309</td>\n",
       "      <td>9.0</td>\n",
       "      <td>NWO,Ebola,Ukraine,Mainstream,Media,Pyschology</td>\n",
       "      <td>Adam Curtis describes the Surkow Strategy of M...</td>\n",
       "      <td>2015-01-04 00:00:00</td>\n",
       "      <td>865.0</td>\n",
       "    </tr>\n",
       "    <tr>\n",
       "      <th>2</th>\n",
       "      <td>2</td>\n",
       "      <td>18005</td>\n",
       "      <td>News &amp; Politics</td>\n",
       "      <td>UCzVBu6oqlrAix0oq9T2rBFg</td>\n",
       "      <td>2019-11-19 20:40:22.403775</td>\n",
       "      <td>Social Media:\\n\\nFacebook.com/thebookoflaura\\n...</td>\n",
       "      <td>89.0</td>\n",
       "      <td>eWXefhNB2po</td>\n",
       "      <td>707</td>\n",
       "      <td>625.0</td>\n",
       "      <td>michael jackson,lyrics,music video,court,child...</td>\n",
       "      <td>my thoughts on the michael jackson documentary.</td>\n",
       "      <td>2019-04-24 00:00:00</td>\n",
       "      <td>12780.0</td>\n",
       "    </tr>\n",
       "    <tr>\n",
       "      <th>3</th>\n",
       "      <td>1035</td>\n",
       "      <td>28840</td>\n",
       "      <td>News &amp; Politics</td>\n",
       "      <td>UCzTmNzBxLEHbpZNOCpUTWbA</td>\n",
       "      <td>2019-11-03 04:38:01.617657</td>\n",
       "      <td>A young man is living a normal life with no ca...</td>\n",
       "      <td>16.0</td>\n",
       "      <td>ck6Yl8TNoWs</td>\n",
       "      <td>1257</td>\n",
       "      <td>452.0</td>\n",
       "      <td>JoiRida,Cheatham,JoiRidaCheatham,Accepted,Detr...</td>\n",
       "      <td>Accepted - Award Winning Short Film</td>\n",
       "      <td>2013-10-13 00:00:00</td>\n",
       "      <td>27366.0</td>\n",
       "    </tr>\n",
       "    <tr>\n",
       "      <th>4</th>\n",
       "      <td>1036</td>\n",
       "      <td>28860</td>\n",
       "      <td>News &amp; Politics</td>\n",
       "      <td>UCzTmNzBxLEHbpZNOCpUTWbA</td>\n",
       "      <td>2019-11-03 04:38:06.565138</td>\n",
       "      <td>Short Film</td>\n",
       "      <td>1.0</td>\n",
       "      <td>tjUajxZAIZ8</td>\n",
       "      <td>422</td>\n",
       "      <td>15.0</td>\n",
       "      <td>Joi.Rida,Cheatham,joiridacheatham,dread,loc,up...</td>\n",
       "      <td>JoiRida Twin Visit (Introducing Jive Viper)</td>\n",
       "      <td>2010-03-04 00:00:00</td>\n",
       "      <td>987.0</td>\n",
       "    </tr>\n",
       "  </tbody>\n",
       "</table>\n",
       "</div>"
      ],
      "text/plain": [
       "   Unnamed: 0.1  Unnamed: 0       categories                channel_id  \\\n",
       "0             0        1827  News & Politics  UCzWm1-4XF7AHxVUTkHCM1uw   \n",
       "1             1        7605  News & Politics  UCzWLsxDD373D4tY8kN-0LGQ   \n",
       "2             2       18005  News & Politics  UCzVBu6oqlrAix0oq9T2rBFg   \n",
       "3          1035       28840  News & Politics  UCzTmNzBxLEHbpZNOCpUTWbA   \n",
       "4          1036       28860  News & Politics  UCzTmNzBxLEHbpZNOCpUTWbA   \n",
       "\n",
       "                   crawl_date  \\\n",
       "0  2019-11-17 06:28:42.593675   \n",
       "1  2019-11-05 00:42:33.012228   \n",
       "2  2019-11-19 20:40:22.403775   \n",
       "3  2019-11-03 04:38:01.617657   \n",
       "4  2019-11-03 04:38:06.565138   \n",
       "\n",
       "                                         description  dislike_count  \\\n",
       "0                                    retrogamer3.com           16.0   \n",
       "1  What are the forces at work that have created ...            0.0   \n",
       "2  Social Media:\\n\\nFacebook.com/thebookoflaura\\n...           89.0   \n",
       "3  A young man is living a normal life with no ca...           16.0   \n",
       "4                                         Short Film            1.0   \n",
       "\n",
       "    display_id  duration  like_count  \\\n",
       "0  dfa8RRkKoa4      9251        25.0   \n",
       "1  _dIIEMvH86k       309         9.0   \n",
       "2  eWXefhNB2po       707       625.0   \n",
       "3  ck6Yl8TNoWs      1257       452.0   \n",
       "4  tjUajxZAIZ8       422        15.0   \n",
       "\n",
       "                                                tags  \\\n",
       "0             RetroGamer3,Live Stream,politics,Trump   \n",
       "1      NWO,Ebola,Ukraine,Mainstream,Media,Pyschology   \n",
       "2  michael jackson,lyrics,music video,court,child...   \n",
       "3  JoiRida,Cheatham,JoiRidaCheatham,Accepted,Detr...   \n",
       "4  Joi.Rida,Cheatham,joiridacheatham,dread,loc,up...   \n",
       "\n",
       "                                               title          upload_date  \\\n",
       "0                       Retrogamer3 Political Stream  2018-08-23 00:00:00   \n",
       "1  Adam Curtis describes the Surkow Strategy of M...  2015-01-04 00:00:00   \n",
       "2    my thoughts on the michael jackson documentary.  2019-04-24 00:00:00   \n",
       "3                Accepted - Award Winning Short Film  2013-10-13 00:00:00   \n",
       "4        JoiRida Twin Visit (Introducing Jive Viper)  2010-03-04 00:00:00   \n",
       "\n",
       "   view_count  \n",
       "0       478.0  \n",
       "1       865.0  \n",
       "2     12780.0  \n",
       "3     27366.0  \n",
       "4       987.0  "
      ]
     },
     "metadata": {},
     "output_type": "display_data"
    },
    {
     "data": {
      "text/plain": [
       "(619635, 14)"
      ]
     },
     "metadata": {},
     "output_type": "display_data"
    }
   ],
   "source": [
    "# check if all videos we found in news&pol are also published by a channel in category n&p\n",
    "\n",
    "videos_news_pol__channel_not_news_pol_filepath = dataset_root_path + \"../generated_data/videos_in_news_pol__channel_not_in_news_pol.csv\"\n",
    "\n",
    "try:\n",
    "    df_videos_news_pol__channel_not_news_pol = pd.read_csv(videos_news_pol__channel_not_news_pol_filepath)\n",
    "    print(\"Read data from file\")\n",
    "except FileNotFoundError:\n",
    "    # go through the large file of news and politics videos in chunks, \n",
    "    # and extract all videos which were not uploaded by a News & Politics channel\n",
    "\n",
    "    df_videos_news_pol__channel_not_news_pol = dp.run_simple_function_on_chunks_concat(\n",
    "        reader=pd.read_csv(dataset_root_path + \"../generated_data/videos_in_news_pol.csv\", chunksize=100000),\n",
    "        fct=lambda chunk: chunk[np.logical_not(chunk.channel_id.isin(df_channels_news_pol.channel))],\n",
    "        print_time=True\n",
    "        )\n",
    "\n",
    "    # save the resuls to a csv\n",
    "    df_videos_news_pol__channel_not_news_pol.to_csv(videos_news_pol__channel_not_news_pol_filepath)\n",
    "\n",
    "        \n",
    "display(df_videos_news_pol__channel_not_news_pol.head())\n",
    "display(df_videos_news_pol__channel_not_news_pol.shape)\n",
    "\n"
   ]
  },
  {
   "cell_type": "markdown",
   "metadata": {},
   "source": [
    "**We see that indeed, not all videos in the news and politics category belong to a channel in this category!**\n",
    "A google search shows that apparently, you don't have to have the same category for all videos, but you set a \"default\" channel category which will be used for videos if you don't change it manually. Also, you can probably change the default category after a while if you want.\n",
    "\n",
    "This is the reason why most of the news&pol videos are uploaded by a news&pol channel, but not all.\n",
    "\n",
    "In the paper about the dataset, the authors say that the channel category is actually the \"most frequent category\", so I guess the video categories are the most relevant, as they are the true categories."
   ]
  },
  {
   "cell_type": "markdown",
   "metadata": {},
   "source": [
    "We could try to verify this, if we want to."
   ]
  },
  {
   "cell_type": "markdown",
   "metadata": {},
   "source": [
    "### Filtering the N&P videos by a list of channels"
   ]
  },
  {
   "cell_type": "code",
   "execution_count": 62,
   "metadata": {},
   "outputs": [],
   "source": [
    "# define variables for the channel ids of CNN, ABC, BBC, Al Jazeera English and Fox\n",
    "channel_id_cnn = \"UCupvZG-5ko_eiXAupbDfxWw\",  # CNN\n",
    "channel_id_abc = \"UCBi2mrWuNuyYy4gbM6fU18Q\",  # ABC News\n",
    "channel_id_bbc = \"UC16niRr50-MSBwiO3YDb3RA\",  # BBC News\n",
    "channel_id_aje = \"UCNye-wNBqNL5ZzHSJj3l8Bg\",  # Al Jazeera English\n",
    "channel_id_fox = \"UCXIJgqnII2ZOINSWNOGFThA\",  # Fox News\n",
    "\n",
    "selected_channel_ids = [channel_id_cnn,\n",
    "                        channel_id_abc,\n",
    "                        channel_id_bbc,\n",
    "                        channel_id_aje,\n",
    "                        channel_id_fox]"
   ]
  },
  {
   "cell_type": "code",
   "execution_count": 63,
   "metadata": {},
   "outputs": [
    {
     "name": "stdout",
     "output_type": "stream",
     "text": [
      "Read data from file\n"
     ]
    },
    {
     "data": {
      "text/html": [
       "<div>\n",
       "<style scoped>\n",
       "    .dataframe tbody tr th:only-of-type {\n",
       "        vertical-align: middle;\n",
       "    }\n",
       "\n",
       "    .dataframe tbody tr th {\n",
       "        vertical-align: top;\n",
       "    }\n",
       "\n",
       "    .dataframe thead th {\n",
       "        text-align: right;\n",
       "    }\n",
       "</style>\n",
       "<table border=\"1\" class=\"dataframe\">\n",
       "  <thead>\n",
       "    <tr style=\"text-align: right;\">\n",
       "      <th></th>\n",
       "      <th>Unnamed: 0.1</th>\n",
       "      <th>Unnamed: 0</th>\n",
       "      <th>categories</th>\n",
       "      <th>channel_id</th>\n",
       "      <th>crawl_date</th>\n",
       "      <th>description</th>\n",
       "      <th>dislike_count</th>\n",
       "      <th>display_id</th>\n",
       "      <th>duration</th>\n",
       "      <th>like_count</th>\n",
       "      <th>tags</th>\n",
       "      <th>title</th>\n",
       "      <th>upload_date</th>\n",
       "      <th>view_count</th>\n",
       "    </tr>\n",
       "  </thead>\n",
       "  <tbody>\n",
       "    <tr>\n",
       "      <th>0</th>\n",
       "      <td>3094188</td>\n",
       "      <td>26952027</td>\n",
       "      <td>News &amp; Politics</td>\n",
       "      <td>UCXIJgqnII2ZOINSWNOGFThA</td>\n",
       "      <td>2019-11-01 09:25:52.312339</td>\n",
       "      <td>God's not Dead' now available on DVD\\nWatch th...</td>\n",
       "      <td>3.0</td>\n",
       "      <td>Tu8LeamtOmc</td>\n",
       "      <td>252</td>\n",
       "      <td>6.0</td>\n",
       "      <td>Fox Friends,Clayton Morris,Famous Faces,Faith,...</td>\n",
       "      <td>'Duck Dynasty' stars talk faith in entertainment</td>\n",
       "      <td>2014-12-29 00:00:00</td>\n",
       "      <td>344.0</td>\n",
       "    </tr>\n",
       "    <tr>\n",
       "      <th>1</th>\n",
       "      <td>3094189</td>\n",
       "      <td>26952028</td>\n",
       "      <td>News &amp; Politics</td>\n",
       "      <td>UCXIJgqnII2ZOINSWNOGFThA</td>\n",
       "      <td>2019-11-01 09:25:55.983188</td>\n",
       "      <td>Shocking new tape reveals 15-year-old woman di...</td>\n",
       "      <td>2.0</td>\n",
       "      <td>a9RXcMkahu8</td>\n",
       "      <td>347</td>\n",
       "      <td>11.0</td>\n",
       "      <td>Bill Oreilly,Oreilly Factor,Personal Freedoms,...</td>\n",
       "      <td>Planned Parenthood Controversy</td>\n",
       "      <td>2014-12-29 00:00:00</td>\n",
       "      <td>1057.0</td>\n",
       "    </tr>\n",
       "    <tr>\n",
       "      <th>2</th>\n",
       "      <td>3094190</td>\n",
       "      <td>26952029</td>\n",
       "      <td>News &amp; Politics</td>\n",
       "      <td>UCXIJgqnII2ZOINSWNOGFThA</td>\n",
       "      <td>2019-11-01 09:26:01.107518</td>\n",
       "      <td>Watters asks the folks of Cambridge, Massachus...</td>\n",
       "      <td>89.0</td>\n",
       "      <td>KrQu5grf5v8</td>\n",
       "      <td>277</td>\n",
       "      <td>1958.0</td>\n",
       "      <td>Oreilly Factor,Bill Oreilly,Jesse Watters,Watt...</td>\n",
       "      <td>Watters' World: Free stuff edition</td>\n",
       "      <td>2014-12-29 00:00:00</td>\n",
       "      <td>244169.0</td>\n",
       "    </tr>\n",
       "    <tr>\n",
       "      <th>3</th>\n",
       "      <td>3094191</td>\n",
       "      <td>26952030</td>\n",
       "      <td>News &amp; Politics</td>\n",
       "      <td>UCXIJgqnII2ZOINSWNOGFThA</td>\n",
       "      <td>2019-11-01 09:26:07.440358</td>\n",
       "      <td>New Pew poll shows 44 percent say they are not...</td>\n",
       "      <td>6.0</td>\n",
       "      <td>CVzmKWI2OXQ</td>\n",
       "      <td>283</td>\n",
       "      <td>12.0</td>\n",
       "      <td>Bill Oreilly,Charles Krauthammer,Oreilly Facto...</td>\n",
       "      <td>What happened to patriotism?</td>\n",
       "      <td>2014-12-29 00:00:00</td>\n",
       "      <td>798.0</td>\n",
       "    </tr>\n",
       "    <tr>\n",
       "      <th>4</th>\n",
       "      <td>3094192</td>\n",
       "      <td>26952031</td>\n",
       "      <td>News &amp; Politics</td>\n",
       "      <td>UCXIJgqnII2ZOINSWNOGFThA</td>\n",
       "      <td>2019-11-01 09:25:50.948588</td>\n",
       "      <td>Jesse Watters ventures into the National Organ...</td>\n",
       "      <td>12.0</td>\n",
       "      <td>J9A7_Gjjzzg</td>\n",
       "      <td>294</td>\n",
       "      <td>448.0</td>\n",
       "      <td>Oreilly Factor,Bill Oreilly,Jesse Watters,Watt...</td>\n",
       "      <td>Watters' World: NOW edition</td>\n",
       "      <td>2014-12-29 00:00:00</td>\n",
       "      <td>43412.0</td>\n",
       "    </tr>\n",
       "  </tbody>\n",
       "</table>\n",
       "</div>"
      ],
      "text/plain": [
       "   Unnamed: 0.1  Unnamed: 0       categories                channel_id  \\\n",
       "0       3094188    26952027  News & Politics  UCXIJgqnII2ZOINSWNOGFThA   \n",
       "1       3094189    26952028  News & Politics  UCXIJgqnII2ZOINSWNOGFThA   \n",
       "2       3094190    26952029  News & Politics  UCXIJgqnII2ZOINSWNOGFThA   \n",
       "3       3094191    26952030  News & Politics  UCXIJgqnII2ZOINSWNOGFThA   \n",
       "4       3094192    26952031  News & Politics  UCXIJgqnII2ZOINSWNOGFThA   \n",
       "\n",
       "                   crawl_date  \\\n",
       "0  2019-11-01 09:25:52.312339   \n",
       "1  2019-11-01 09:25:55.983188   \n",
       "2  2019-11-01 09:26:01.107518   \n",
       "3  2019-11-01 09:26:07.440358   \n",
       "4  2019-11-01 09:25:50.948588   \n",
       "\n",
       "                                         description  dislike_count  \\\n",
       "0  God's not Dead' now available on DVD\\nWatch th...            3.0   \n",
       "1  Shocking new tape reveals 15-year-old woman di...            2.0   \n",
       "2  Watters asks the folks of Cambridge, Massachus...           89.0   \n",
       "3  New Pew poll shows 44 percent say they are not...            6.0   \n",
       "4  Jesse Watters ventures into the National Organ...           12.0   \n",
       "\n",
       "    display_id  duration  like_count  \\\n",
       "0  Tu8LeamtOmc       252         6.0   \n",
       "1  a9RXcMkahu8       347        11.0   \n",
       "2  KrQu5grf5v8       277      1958.0   \n",
       "3  CVzmKWI2OXQ       283        12.0   \n",
       "4  J9A7_Gjjzzg       294       448.0   \n",
       "\n",
       "                                                tags  \\\n",
       "0  Fox Friends,Clayton Morris,Famous Faces,Faith,...   \n",
       "1  Bill Oreilly,Oreilly Factor,Personal Freedoms,...   \n",
       "2  Oreilly Factor,Bill Oreilly,Jesse Watters,Watt...   \n",
       "3  Bill Oreilly,Charles Krauthammer,Oreilly Facto...   \n",
       "4  Oreilly Factor,Bill Oreilly,Jesse Watters,Watt...   \n",
       "\n",
       "                                              title          upload_date  \\\n",
       "0  'Duck Dynasty' stars talk faith in entertainment  2014-12-29 00:00:00   \n",
       "1                    Planned Parenthood Controversy  2014-12-29 00:00:00   \n",
       "2                Watters' World: Free stuff edition  2014-12-29 00:00:00   \n",
       "3                      What happened to patriotism?  2014-12-29 00:00:00   \n",
       "4                       Watters' World: NOW edition  2014-12-29 00:00:00   \n",
       "\n",
       "   view_count  \n",
       "0       344.0  \n",
       "1      1057.0  \n",
       "2    244169.0  \n",
       "3       798.0  \n",
       "4     43412.0  "
      ]
     },
     "metadata": {},
     "output_type": "display_data"
    },
    {
     "data": {
      "text/plain": [
       "(164129, 14)"
      ]
     },
     "metadata": {},
     "output_type": "display_data"
    }
   ],
   "source": [
    "# form the filtered N&P videos dataframe, keep those posted by channels manually selected (here CNN, ABC News, BBC News, Al Jazeera English and Fox News)\n",
    "\n",
    "videos_news_pol_manual_selection_filepath = dataset_root_path + \"../generated_data/videos_from_news_pol_from_selected_channels.csv\"\n",
    "\n",
    "try:\n",
    "    df_videos_news_pol_manually_selected = pd.read_csv(videos_news_pol_manual_selection_filepath)\n",
    "    print(\"Read data from file\")\n",
    "except FileNotFoundError:\n",
    "    # go through the large file with videos in news and politics, \n",
    "    # and select those videos which are uploaded by one of our selected channels\n",
    "\n",
    "    df_videos_news_pol_manually_selected = dp.run_simple_function_on_chunks_concat(\n",
    "        reader=pd.read_csv(dataset_root_path + \"../generated_data/videos_in_news_pol.csv\", \n",
    "                           chunksize=100000),\n",
    "        fct=lambda chunk: chunk[chunk.channel_id.isin(selected_channel_ids)],\n",
    "        print_time=True)\n",
    "    \n",
    "    # save the results to a csv\n",
    "    df_videos_news_pol_manually_selected.to_csv()\n",
    "\n",
    "display(df_videos_news_pol_manually_selected.head())\n",
    "display(df_videos_news_pol_manually_selected.shape)"
   ]
  },
  {
   "cell_type": "markdown",
   "metadata": {},
   "source": [
    "### Doing our own ranking of N&P channels (not necessary)"
   ]
  },
  {
   "cell_type": "markdown",
   "metadata": {},
   "source": [
    "We don't have to do an analysis of channel popularity to justify our choice of channels.\n",
    "\n",
    "We could however do some simple thing like showing where they are on the ranking in the dataset (as the statistic we used is from 2024 (I guess) and the dataset is older)\n",
    "\n",
    "### Todo?? "
   ]
  },
  {
   "cell_type": "code",
   "execution_count": null,
   "metadata": {},
   "outputs": [],
   "source": [
    "# sort the previously filtered n&p channels by subscriber count according to channel crawler\n",
    "#df_channels_news_pol_sort_subscribers = df_channels_news_pol.sort_values(by=\"subscribers_cc\", ascending=False)"
   ]
  },
  {
   "cell_type": "code",
   "execution_count": null,
   "metadata": {},
   "outputs": [],
   "source": [
    "#display(df_channels_news_pol_sort_subscribers)"
   ]
  },
  {
   "cell_type": "markdown",
   "metadata": {},
   "source": [
    "### Filtering news & pol **videos** in a specific channel"
   ]
  },
  {
   "cell_type": "code",
   "execution_count": 61,
   "metadata": {},
   "outputs": [
    {
     "name": "stdout",
     "output_type": "stream",
     "text": [
      "Data read from file\n",
      "Data read from file\n",
      "Data read from file\n",
      "Data read from file\n",
      "Data read from file\n"
     ]
    }
   ],
   "source": [
    "# filter the video dataset to get only videos from each of our selected channels\n",
    "\n",
    "# define the filepaths for the data\n",
    "videos_news_pol_cnn_filepath = dataset_root_path + \"../generated_data/videos_news_pol_cnn.csv\"\n",
    "videos_news_pol_abc_filepath = dataset_root_path + \"../generated_data/videos_news_pol_abc.csv\"\n",
    "videos_news_pol_bbc_filepath = dataset_root_path + \"../generated_data/videos_news_pol_bbc.csv\"\n",
    "videos_news_pol_aje_filepath = dataset_root_path + \"../generated_data/videos_news_pol_aje.csv\"\n",
    "videos_news_pol_fox_filepath = dataset_root_path + \"../generated_data/videos_news_pol_fox.csv\"\n",
    "\n",
    "# for each of the 5 channels...\n",
    "# CNN\n",
    "try:  # ... try to load the data from file\n",
    "    df_videos_news_pol_cnn = pd.read_csv(videos_news_pol_cnn_filepath)\n",
    "    print(\"Data read from file\")\n",
    "except FileNotFoundError:  # otherwise, generate it and save\n",
    "    df_videos_news_pol_cnn = df_videos_news_pol_manually_selected.loc[\n",
    "        df_videos_news_pol_manually_selected.channel_id == channel_id_cnn]\n",
    "    df_videos_news_pol_cnn.to_csv(videos_news_pol_cnn_filepath)\n",
    "\n",
    "# ABC News\n",
    "try:\n",
    "    df_videos_news_pol_abc = pd.read_csv(videos_news_pol_cnn_filepath)\n",
    "    print(\"Data read from file\")\n",
    "except FileNotFoundError:\n",
    "    df_videos_news_pol_abc = df_videos_news_pol_manually_selected.loc[\n",
    "        df_videos_news_pol_manually_selected.channel_id == channel_id_abc]\n",
    "    df_videos_news_pol_abc.to_csv(videos_news_pol_abc_filepath)\n",
    "    \n",
    "# BBC News\n",
    "try:\n",
    "    df_videos_news_pol_bbc = pd.read_csv(videos_news_pol_cnn_filepath)\n",
    "    print(\"Data read from file\")\n",
    "except FileNotFoundError:\n",
    "    df_videos_news_pol_bbc = df_videos_news_pol_manually_selected.loc[\n",
    "        df_videos_news_pol_manually_selected.channel_id == channel_id_bbc]\n",
    "    df_videos_news_pol_bbc.to_csv(videos_news_pol_bbc_filepath)\n",
    "\n",
    "# Al Jazeera English\n",
    "try:\n",
    "    df_videos_news_pol_aje = pd.read_csv(videos_news_pol_cnn_filepath)\n",
    "    print(\"Data read from file\")\n",
    "except FileNotFoundError:\n",
    "    df_videos_news_pol_aje = df_videos_news_pol_manually_selected.loc[\n",
    "        df_videos_news_pol_manually_selected.channel_id == channel_id_aje]\n",
    "    df_videos_news_pol_aje.to_csv(videos_news_pol_aje_filepath)\n",
    "\n",
    "# Fox News\n",
    "try:\n",
    "    df_videos_news_pol_fox = pd.read_csv(videos_news_pol_cnn_filepath)\n",
    "    print(\"Data read from file\")\n",
    "except FileNotFoundError:\n",
    "    df_videos_news_pol_fox = df_videos_news_pol_manually_selected.loc[\n",
    "        df_videos_news_pol_manually_selected.channel_id == channel_id_fox]\n",
    "    df_videos_news_pol_fox.to_csv(videos_news_pol_fox_filepath)"
   ]
  },
  {
   "cell_type": "markdown",
   "metadata": {},
   "source": [
    "### Filtering **comments** from news & pol videos in a specific channel"
   ]
  },
  {
   "cell_type": "markdown",
   "metadata": {},
   "source": [
    "## Todo:\n",
    "Maybe, we will also have to filter for NaN and empty values here.\n",
    "Unless we already did that earlier.\n",
    "\n",
    "In that case, we would just call Milas clean() fct here.\n",
    "But, probably we will have already done it above, and filtered the entire dataset. Right?"
   ]
  },
  {
   "cell_type": "code",
   "execution_count": null,
   "metadata": {},
   "outputs": [
    {
     "name": "stdout",
     "output_type": "stream",
     "text": [
      "Going through chunk 0...\n",
      "The first 1000000 entries have been processed. 8599000000 left.\n",
      "1.016 secs per chunk on average. Meaning  145.540 minutes left.\n",
      "Going through chunk 1...\n",
      "The first 2000000 entries have been processed. 8598000000 left.\n",
      "1.006 secs per chunk on average. Meaning  144.210 minutes left.\n",
      "Going through chunk 2...\n",
      "The first 3000000 entries have been processed. 8597000000 left.\n",
      "1.228 secs per chunk on average. Meaning  175.932 minutes left.\n",
      "Going through chunk 3...\n",
      "The first 4000000 entries have been processed. 8596000000 left.\n",
      "1.202 secs per chunk on average. Meaning  172.259 minutes left.\n",
      "Going through chunk 4...\n",
      "The first 5000000 entries have been processed. 8595000000 left.\n",
      "1.192 secs per chunk on average. Meaning  170.741 minutes left.\n",
      "Going through chunk 5...\n",
      "The first 6000000 entries have been processed. 8594000000 left.\n",
      "1.161 secs per chunk on average. Meaning  166.234 minutes left.\n",
      "Going through chunk 6...\n",
      "The first 7000000 entries have been processed. 8593000000 left.\n",
      "1.155 secs per chunk on average. Meaning  165.459 minutes left.\n",
      "Going through chunk 7...\n",
      "The first 8000000 entries have been processed. 8592000000 left.\n",
      "1.148 secs per chunk on average. Meaning  164.359 minutes left.\n",
      "Going through chunk 8...\n",
      "The first 9000000 entries have been processed. 8591000000 left.\n",
      "1.134 secs per chunk on average. Meaning  162.397 minutes left.\n",
      "Going through chunk 9...\n",
      "The first 10000000 entries have been processed. 8590000000 left.\n",
      "1.126 secs per chunk on average. Meaning  161.214 minutes left.\n",
      "Going through chunk 10...\n",
      "The first 11000000 entries have been processed. 8589000000 left.\n",
      "1.128 secs per chunk on average. Meaning  161.457 minutes left.\n",
      "Going through chunk 11...\n",
      "The first 12000000 entries have been processed. 8588000000 left.\n",
      "1.123 secs per chunk on average. Meaning  160.759 minutes left.\n",
      "Going through chunk 12...\n"
     ]
    },
    {
     "ename": "KeyboardInterrupt",
     "evalue": "",
     "output_type": "error",
     "traceback": [
      "\u001b[0;31m---------------------------------------------------------------------------\u001b[0m",
      "\u001b[0;31mFileNotFoundError\u001b[0m                         Traceback (most recent call last)",
      "Cell \u001b[0;32mIn[58], line 6\u001b[0m\n\u001b[1;32m      5\u001b[0m \u001b[38;5;28;01mtry\u001b[39;00m:\n\u001b[0;32m----> 6\u001b[0m     df_comments_news_pol_manually_selected \u001b[38;5;241m=\u001b[39m \u001b[43mpd\u001b[49m\u001b[38;5;241;43m.\u001b[39;49m\u001b[43mread_csv\u001b[49m\u001b[43m(\u001b[49m\u001b[43mcomments_news_pol_selected_channels_filepath\u001b[49m\u001b[43m)\u001b[49m\n\u001b[1;32m      7\u001b[0m     \u001b[38;5;28mprint\u001b[39m(\u001b[38;5;124m\"\u001b[39m\u001b[38;5;124mRead data from file\u001b[39m\u001b[38;5;124m\"\u001b[39m)\n",
      "File \u001b[0;32m~/miniforge3/envs/ada/lib/python3.11/site-packages/pandas/io/parsers/readers.py:1026\u001b[0m, in \u001b[0;36mread_csv\u001b[0;34m(filepath_or_buffer, sep, delimiter, header, names, index_col, usecols, dtype, engine, converters, true_values, false_values, skipinitialspace, skiprows, skipfooter, nrows, na_values, keep_default_na, na_filter, verbose, skip_blank_lines, parse_dates, infer_datetime_format, keep_date_col, date_parser, date_format, dayfirst, cache_dates, iterator, chunksize, compression, thousands, decimal, lineterminator, quotechar, quoting, doublequote, escapechar, comment, encoding, encoding_errors, dialect, on_bad_lines, delim_whitespace, low_memory, memory_map, float_precision, storage_options, dtype_backend)\u001b[0m\n\u001b[1;32m   1024\u001b[0m kwds\u001b[38;5;241m.\u001b[39mupdate(kwds_defaults)\n\u001b[0;32m-> 1026\u001b[0m \u001b[38;5;28;01mreturn\u001b[39;00m \u001b[43m_read\u001b[49m\u001b[43m(\u001b[49m\u001b[43mfilepath_or_buffer\u001b[49m\u001b[43m,\u001b[49m\u001b[43m \u001b[49m\u001b[43mkwds\u001b[49m\u001b[43m)\u001b[49m\n",
      "File \u001b[0;32m~/miniforge3/envs/ada/lib/python3.11/site-packages/pandas/io/parsers/readers.py:620\u001b[0m, in \u001b[0;36m_read\u001b[0;34m(filepath_or_buffer, kwds)\u001b[0m\n\u001b[1;32m    619\u001b[0m \u001b[38;5;66;03m# Create the parser.\u001b[39;00m\n\u001b[0;32m--> 620\u001b[0m parser \u001b[38;5;241m=\u001b[39m \u001b[43mTextFileReader\u001b[49m\u001b[43m(\u001b[49m\u001b[43mfilepath_or_buffer\u001b[49m\u001b[43m,\u001b[49m\u001b[43m \u001b[49m\u001b[38;5;241;43m*\u001b[39;49m\u001b[38;5;241;43m*\u001b[39;49m\u001b[43mkwds\u001b[49m\u001b[43m)\u001b[49m\n\u001b[1;32m    622\u001b[0m \u001b[38;5;28;01mif\u001b[39;00m chunksize \u001b[38;5;129;01mor\u001b[39;00m iterator:\n",
      "File \u001b[0;32m~/miniforge3/envs/ada/lib/python3.11/site-packages/pandas/io/parsers/readers.py:1620\u001b[0m, in \u001b[0;36mTextFileReader.__init__\u001b[0;34m(self, f, engine, **kwds)\u001b[0m\n\u001b[1;32m   1619\u001b[0m \u001b[38;5;28mself\u001b[39m\u001b[38;5;241m.\u001b[39mhandles: IOHandles \u001b[38;5;241m|\u001b[39m \u001b[38;5;28;01mNone\u001b[39;00m \u001b[38;5;241m=\u001b[39m \u001b[38;5;28;01mNone\u001b[39;00m\n\u001b[0;32m-> 1620\u001b[0m \u001b[38;5;28mself\u001b[39m\u001b[38;5;241m.\u001b[39m_engine \u001b[38;5;241m=\u001b[39m \u001b[38;5;28;43mself\u001b[39;49m\u001b[38;5;241;43m.\u001b[39;49m\u001b[43m_make_engine\u001b[49m\u001b[43m(\u001b[49m\u001b[43mf\u001b[49m\u001b[43m,\u001b[49m\u001b[43m \u001b[49m\u001b[38;5;28;43mself\u001b[39;49m\u001b[38;5;241;43m.\u001b[39;49m\u001b[43mengine\u001b[49m\u001b[43m)\u001b[49m\n",
      "File \u001b[0;32m~/miniforge3/envs/ada/lib/python3.11/site-packages/pandas/io/parsers/readers.py:1880\u001b[0m, in \u001b[0;36mTextFileReader._make_engine\u001b[0;34m(self, f, engine)\u001b[0m\n\u001b[1;32m   1879\u001b[0m         mode \u001b[38;5;241m+\u001b[39m\u001b[38;5;241m=\u001b[39m \u001b[38;5;124m\"\u001b[39m\u001b[38;5;124mb\u001b[39m\u001b[38;5;124m\"\u001b[39m\n\u001b[0;32m-> 1880\u001b[0m \u001b[38;5;28mself\u001b[39m\u001b[38;5;241m.\u001b[39mhandles \u001b[38;5;241m=\u001b[39m \u001b[43mget_handle\u001b[49m\u001b[43m(\u001b[49m\n\u001b[1;32m   1881\u001b[0m \u001b[43m    \u001b[49m\u001b[43mf\u001b[49m\u001b[43m,\u001b[49m\n\u001b[1;32m   1882\u001b[0m \u001b[43m    \u001b[49m\u001b[43mmode\u001b[49m\u001b[43m,\u001b[49m\n\u001b[1;32m   1883\u001b[0m \u001b[43m    \u001b[49m\u001b[43mencoding\u001b[49m\u001b[38;5;241;43m=\u001b[39;49m\u001b[38;5;28;43mself\u001b[39;49m\u001b[38;5;241;43m.\u001b[39;49m\u001b[43moptions\u001b[49m\u001b[38;5;241;43m.\u001b[39;49m\u001b[43mget\u001b[49m\u001b[43m(\u001b[49m\u001b[38;5;124;43m\"\u001b[39;49m\u001b[38;5;124;43mencoding\u001b[39;49m\u001b[38;5;124;43m\"\u001b[39;49m\u001b[43m,\u001b[49m\u001b[43m \u001b[49m\u001b[38;5;28;43;01mNone\u001b[39;49;00m\u001b[43m)\u001b[49m\u001b[43m,\u001b[49m\n\u001b[1;32m   1884\u001b[0m \u001b[43m    \u001b[49m\u001b[43mcompression\u001b[49m\u001b[38;5;241;43m=\u001b[39;49m\u001b[38;5;28;43mself\u001b[39;49m\u001b[38;5;241;43m.\u001b[39;49m\u001b[43moptions\u001b[49m\u001b[38;5;241;43m.\u001b[39;49m\u001b[43mget\u001b[49m\u001b[43m(\u001b[49m\u001b[38;5;124;43m\"\u001b[39;49m\u001b[38;5;124;43mcompression\u001b[39;49m\u001b[38;5;124;43m\"\u001b[39;49m\u001b[43m,\u001b[49m\u001b[43m \u001b[49m\u001b[38;5;28;43;01mNone\u001b[39;49;00m\u001b[43m)\u001b[49m\u001b[43m,\u001b[49m\n\u001b[1;32m   1885\u001b[0m \u001b[43m    \u001b[49m\u001b[43mmemory_map\u001b[49m\u001b[38;5;241;43m=\u001b[39;49m\u001b[38;5;28;43mself\u001b[39;49m\u001b[38;5;241;43m.\u001b[39;49m\u001b[43moptions\u001b[49m\u001b[38;5;241;43m.\u001b[39;49m\u001b[43mget\u001b[49m\u001b[43m(\u001b[49m\u001b[38;5;124;43m\"\u001b[39;49m\u001b[38;5;124;43mmemory_map\u001b[39;49m\u001b[38;5;124;43m\"\u001b[39;49m\u001b[43m,\u001b[49m\u001b[43m \u001b[49m\u001b[38;5;28;43;01mFalse\u001b[39;49;00m\u001b[43m)\u001b[49m\u001b[43m,\u001b[49m\n\u001b[1;32m   1886\u001b[0m \u001b[43m    \u001b[49m\u001b[43mis_text\u001b[49m\u001b[38;5;241;43m=\u001b[39;49m\u001b[43mis_text\u001b[49m\u001b[43m,\u001b[49m\n\u001b[1;32m   1887\u001b[0m \u001b[43m    \u001b[49m\u001b[43merrors\u001b[49m\u001b[38;5;241;43m=\u001b[39;49m\u001b[38;5;28;43mself\u001b[39;49m\u001b[38;5;241;43m.\u001b[39;49m\u001b[43moptions\u001b[49m\u001b[38;5;241;43m.\u001b[39;49m\u001b[43mget\u001b[49m\u001b[43m(\u001b[49m\u001b[38;5;124;43m\"\u001b[39;49m\u001b[38;5;124;43mencoding_errors\u001b[39;49m\u001b[38;5;124;43m\"\u001b[39;49m\u001b[43m,\u001b[49m\u001b[43m \u001b[49m\u001b[38;5;124;43m\"\u001b[39;49m\u001b[38;5;124;43mstrict\u001b[39;49m\u001b[38;5;124;43m\"\u001b[39;49m\u001b[43m)\u001b[49m\u001b[43m,\u001b[49m\n\u001b[1;32m   1888\u001b[0m \u001b[43m    \u001b[49m\u001b[43mstorage_options\u001b[49m\u001b[38;5;241;43m=\u001b[39;49m\u001b[38;5;28;43mself\u001b[39;49m\u001b[38;5;241;43m.\u001b[39;49m\u001b[43moptions\u001b[49m\u001b[38;5;241;43m.\u001b[39;49m\u001b[43mget\u001b[49m\u001b[43m(\u001b[49m\u001b[38;5;124;43m\"\u001b[39;49m\u001b[38;5;124;43mstorage_options\u001b[39;49m\u001b[38;5;124;43m\"\u001b[39;49m\u001b[43m,\u001b[49m\u001b[43m \u001b[49m\u001b[38;5;28;43;01mNone\u001b[39;49;00m\u001b[43m)\u001b[49m\u001b[43m,\u001b[49m\n\u001b[1;32m   1889\u001b[0m \u001b[43m\u001b[49m\u001b[43m)\u001b[49m\n\u001b[1;32m   1890\u001b[0m \u001b[38;5;28;01massert\u001b[39;00m \u001b[38;5;28mself\u001b[39m\u001b[38;5;241m.\u001b[39mhandles \u001b[38;5;129;01mis\u001b[39;00m \u001b[38;5;129;01mnot\u001b[39;00m \u001b[38;5;28;01mNone\u001b[39;00m\n",
      "File \u001b[0;32m~/miniforge3/envs/ada/lib/python3.11/site-packages/pandas/io/common.py:873\u001b[0m, in \u001b[0;36mget_handle\u001b[0;34m(path_or_buf, mode, encoding, compression, memory_map, is_text, errors, storage_options)\u001b[0m\n\u001b[1;32m    871\u001b[0m \u001b[38;5;28;01mif\u001b[39;00m ioargs\u001b[38;5;241m.\u001b[39mencoding \u001b[38;5;129;01mand\u001b[39;00m \u001b[38;5;124m\"\u001b[39m\u001b[38;5;124mb\u001b[39m\u001b[38;5;124m\"\u001b[39m \u001b[38;5;129;01mnot\u001b[39;00m \u001b[38;5;129;01min\u001b[39;00m ioargs\u001b[38;5;241m.\u001b[39mmode:\n\u001b[1;32m    872\u001b[0m     \u001b[38;5;66;03m# Encoding\u001b[39;00m\n\u001b[0;32m--> 873\u001b[0m     handle \u001b[38;5;241m=\u001b[39m \u001b[38;5;28mopen\u001b[39m(\n\u001b[1;32m    874\u001b[0m         handle,\n\u001b[1;32m    875\u001b[0m         ioargs\u001b[38;5;241m.\u001b[39mmode,\n\u001b[1;32m    876\u001b[0m         encoding\u001b[38;5;241m=\u001b[39mioargs\u001b[38;5;241m.\u001b[39mencoding,\n\u001b[1;32m    877\u001b[0m         errors\u001b[38;5;241m=\u001b[39merrors,\n\u001b[1;32m    878\u001b[0m         newline\u001b[38;5;241m=\u001b[39m\u001b[38;5;124m\"\u001b[39m\u001b[38;5;124m\"\u001b[39m,\n\u001b[1;32m    879\u001b[0m     )\n\u001b[1;32m    880\u001b[0m \u001b[38;5;28;01melse\u001b[39;00m:\n\u001b[1;32m    881\u001b[0m     \u001b[38;5;66;03m# Binary mode\u001b[39;00m\n",
      "\u001b[0;31mFileNotFoundError\u001b[0m: [Errno 2] No such file or directory: '/media/andreas/Backup Plus/Ada/youniverse_dataset/../generated_data/comments_news_pol_selected_channels.csv'",
      "\nDuring handling of the above exception, another exception occurred:\n",
      "\u001b[0;31mKeyboardInterrupt\u001b[0m                         Traceback (most recent call last)",
      "Cell \u001b[0;32mIn[58], line 10\u001b[0m\n\u001b[1;32m      7\u001b[0m     \u001b[38;5;28mprint\u001b[39m(\u001b[38;5;124m\"\u001b[39m\u001b[38;5;124mRead data from file\u001b[39m\u001b[38;5;124m\"\u001b[39m)\n\u001b[1;32m      8\u001b[0m \u001b[38;5;28;01mexcept\u001b[39;00m \u001b[38;5;167;01mFileNotFoundError\u001b[39;00m:\n\u001b[1;32m      9\u001b[0m     \u001b[38;5;66;03m# get all the comments made on a video uploaded by one of our selected channels\u001b[39;00m\n\u001b[0;32m---> 10\u001b[0m     df_comments_news_pol_manually_selected \u001b[38;5;241m=\u001b[39m \u001b[43mdp\u001b[49m\u001b[38;5;241;43m.\u001b[39;49m\u001b[43mrun_simple_function_on_chunks_concat\u001b[49m\u001b[43m(\u001b[49m\n\u001b[1;32m     11\u001b[0m \u001b[43m        \u001b[49m\u001b[43mcomments_in_chunks\u001b[49m\u001b[43m(\u001b[49m\u001b[43mchunksize\u001b[49m\u001b[38;5;241;43m=\u001b[39;49m\u001b[38;5;241;43m1000000\u001b[39;49m\u001b[43m)\u001b[49m\u001b[43m,\u001b[49m\u001b[43m \u001b[49m\n\u001b[1;32m     12\u001b[0m \u001b[43m        \u001b[49m\u001b[38;5;28;43;01mlambda\u001b[39;49;00m\u001b[43m \u001b[49m\u001b[43mcomment_df\u001b[49m\u001b[43m:\u001b[49m\u001b[43m \u001b[49m\u001b[43mcomment_df\u001b[49m\u001b[43m[\u001b[49m\u001b[43mcomment_df\u001b[49m\u001b[38;5;241;43m.\u001b[39;49m\u001b[43mvideo_id\u001b[49m\u001b[38;5;241;43m.\u001b[39;49m\u001b[43misin\u001b[49m\u001b[43m(\u001b[49m\u001b[43mdf_videos_news_pol_manually_selected\u001b[49m\u001b[38;5;241;43m.\u001b[39;49m\u001b[43mdisplay_id\u001b[49m\u001b[43m)\u001b[49m\u001b[43m]\u001b[49m\u001b[43m,\u001b[49m\n\u001b[1;32m     13\u001b[0m \u001b[43m        \u001b[49m\u001b[43mprint_time\u001b[49m\u001b[38;5;241;43m=\u001b[39;49m\u001b[43m(\u001b[49m\u001b[38;5;241;43m1000000\u001b[39;49m\u001b[43m,\u001b[49m\u001b[43m \u001b[49m\u001b[38;5;241;43m8600000000\u001b[39;49m\u001b[43m)\u001b[49m\u001b[43m)\u001b[49m\n\u001b[1;32m     14\u001b[0m     \u001b[38;5;66;03m# merge it with the video data of the selected channels, to get the channel id directly in the comment df\u001b[39;00m\n\u001b[1;32m     15\u001b[0m     df_comments_news_pol_manually_selected\u001b[38;5;241m.\u001b[39mmerge(\n\u001b[1;32m     16\u001b[0m         df_videos_news_pol_manually_selected\u001b[38;5;241m.\u001b[39mloc[[\u001b[38;5;124m\"\u001b[39m\u001b[38;5;124mdisplay_id\u001b[39m\u001b[38;5;124m\"\u001b[39m, \u001b[38;5;124m\"\u001b[39m\u001b[38;5;124mchannel_id\u001b[39m\u001b[38;5;124m\"\u001b[39m]], \n\u001b[1;32m     17\u001b[0m         left_on\u001b[38;5;241m=\u001b[39m\u001b[38;5;124m\"\u001b[39m\u001b[38;5;124mvideo_id\u001b[39m\u001b[38;5;124m\"\u001b[39m, right_on\u001b[38;5;241m=\u001b[39m\u001b[38;5;124m\"\u001b[39m\u001b[38;5;124mdisplay_id\u001b[39m\u001b[38;5;124m\"\u001b[39m)\n",
      "File \u001b[0;32m~/Nextcloud/Dokumente/Uni/Module/3sem-EPFL/ada/Project/ada-2024-project-thedataminions/analysis/data_processing.py:83\u001b[0m, in \u001b[0;36mrun_simple_function_on_chunks_concat\u001b[0;34m(reader, fct, print_time, save, save_every, compress)\u001b[0m\n\u001b[1;32m     81\u001b[0m \u001b[38;5;28;01mfor\u001b[39;00m i, chunk \u001b[38;5;129;01min\u001b[39;00m \u001b[38;5;28menumerate\u001b[39m(reader):\n\u001b[1;32m     82\u001b[0m     \u001b[38;5;28mprint\u001b[39m(\u001b[38;5;124mf\u001b[39m\u001b[38;5;124m\"\u001b[39m\u001b[38;5;124mGoing through chunk \u001b[39m\u001b[38;5;132;01m{\u001b[39;00mi\u001b[38;5;132;01m}\u001b[39;00m\u001b[38;5;124m...\u001b[39m\u001b[38;5;124m\"\u001b[39m)\n\u001b[0;32m---> 83\u001b[0m     result \u001b[38;5;241m=\u001b[39m pd\u001b[38;5;241m.\u001b[39mconcat([result, \u001b[43mfct\u001b[49m\u001b[43m(\u001b[49m\u001b[43mchunk\u001b[49m\u001b[43m)\u001b[49m])\n\u001b[1;32m     84\u001b[0m     \u001b[38;5;28;01mif\u001b[39;00m \u001b[38;5;129;01mnot\u001b[39;00m \u001b[38;5;129;01mnot\u001b[39;00m save_every:\n\u001b[1;32m     85\u001b[0m         \u001b[38;5;28;01mif\u001b[39;00m (i\u001b[38;5;241m+\u001b[39m\u001b[38;5;241m1\u001b[39m) \u001b[38;5;241m%\u001b[39m save_every \u001b[38;5;241m==\u001b[39m \u001b[38;5;241m0\u001b[39m:\n",
      "Cell \u001b[0;32mIn[58], line 12\u001b[0m, in \u001b[0;36m<lambda>\u001b[0;34m(comment_df)\u001b[0m\n\u001b[1;32m      7\u001b[0m     \u001b[38;5;28mprint\u001b[39m(\u001b[38;5;124m\"\u001b[39m\u001b[38;5;124mRead data from file\u001b[39m\u001b[38;5;124m\"\u001b[39m)\n\u001b[1;32m      8\u001b[0m \u001b[38;5;28;01mexcept\u001b[39;00m \u001b[38;5;167;01mFileNotFoundError\u001b[39;00m:\n\u001b[1;32m      9\u001b[0m     \u001b[38;5;66;03m# get all the comments made on a video uploaded by one of our selected channels\u001b[39;00m\n\u001b[1;32m     10\u001b[0m     df_comments_news_pol_manually_selected \u001b[38;5;241m=\u001b[39m dp\u001b[38;5;241m.\u001b[39mrun_simple_function_on_chunks_concat(\n\u001b[1;32m     11\u001b[0m         comments_in_chunks(chunksize\u001b[38;5;241m=\u001b[39m\u001b[38;5;241m1000000\u001b[39m), \n\u001b[0;32m---> 12\u001b[0m         \u001b[38;5;28;01mlambda\u001b[39;00m comment_df: comment_df[\u001b[43mcomment_df\u001b[49m\u001b[38;5;241;43m.\u001b[39;49m\u001b[43mvideo_id\u001b[49m\u001b[38;5;241;43m.\u001b[39;49m\u001b[43misin\u001b[49m\u001b[43m(\u001b[49m\u001b[43mdf_videos_news_pol_manually_selected\u001b[49m\u001b[38;5;241;43m.\u001b[39;49m\u001b[43mdisplay_id\u001b[49m\u001b[43m)\u001b[49m],\n\u001b[1;32m     13\u001b[0m         print_time\u001b[38;5;241m=\u001b[39m(\u001b[38;5;241m1000000\u001b[39m, \u001b[38;5;241m8600000000\u001b[39m))\n\u001b[1;32m     14\u001b[0m     \u001b[38;5;66;03m# merge it with the video data of the selected channels, to get the channel id directly in the comment df\u001b[39;00m\n\u001b[1;32m     15\u001b[0m     df_comments_news_pol_manually_selected\u001b[38;5;241m.\u001b[39mmerge(\n\u001b[1;32m     16\u001b[0m         df_videos_news_pol_manually_selected\u001b[38;5;241m.\u001b[39mloc[[\u001b[38;5;124m\"\u001b[39m\u001b[38;5;124mdisplay_id\u001b[39m\u001b[38;5;124m\"\u001b[39m, \u001b[38;5;124m\"\u001b[39m\u001b[38;5;124mchannel_id\u001b[39m\u001b[38;5;124m\"\u001b[39m]], \n\u001b[1;32m     17\u001b[0m         left_on\u001b[38;5;241m=\u001b[39m\u001b[38;5;124m\"\u001b[39m\u001b[38;5;124mvideo_id\u001b[39m\u001b[38;5;124m\"\u001b[39m, right_on\u001b[38;5;241m=\u001b[39m\u001b[38;5;124m\"\u001b[39m\u001b[38;5;124mdisplay_id\u001b[39m\u001b[38;5;124m\"\u001b[39m)\n",
      "File \u001b[0;32m~/miniforge3/envs/ada/lib/python3.11/site-packages/pandas/core/series.py:5559\u001b[0m, in \u001b[0;36mSeries.isin\u001b[0;34m(self, values)\u001b[0m\n\u001b[1;32m   5486\u001b[0m \u001b[38;5;28;01mdef\u001b[39;00m \u001b[38;5;21misin\u001b[39m(\u001b[38;5;28mself\u001b[39m, values) \u001b[38;5;241m-\u001b[39m\u001b[38;5;241m>\u001b[39m Series:\n\u001b[1;32m   5487\u001b[0m \u001b[38;5;250m    \u001b[39m\u001b[38;5;124;03m\"\"\"\u001b[39;00m\n\u001b[1;32m   5488\u001b[0m \u001b[38;5;124;03m    Whether elements in Series are contained in `values`.\u001b[39;00m\n\u001b[1;32m   5489\u001b[0m \n\u001b[0;32m   (...)\u001b[0m\n\u001b[1;32m   5557\u001b[0m \u001b[38;5;124;03m    dtype: bool\u001b[39;00m\n\u001b[1;32m   5558\u001b[0m \u001b[38;5;124;03m    \"\"\"\u001b[39;00m\n\u001b[0;32m-> 5559\u001b[0m     result \u001b[38;5;241m=\u001b[39m \u001b[43malgorithms\u001b[49m\u001b[38;5;241;43m.\u001b[39;49m\u001b[43misin\u001b[49m\u001b[43m(\u001b[49m\u001b[38;5;28;43mself\u001b[39;49m\u001b[38;5;241;43m.\u001b[39;49m\u001b[43m_values\u001b[49m\u001b[43m,\u001b[49m\u001b[43m \u001b[49m\u001b[43mvalues\u001b[49m\u001b[43m)\u001b[49m\n\u001b[1;32m   5560\u001b[0m     \u001b[38;5;28;01mreturn\u001b[39;00m \u001b[38;5;28mself\u001b[39m\u001b[38;5;241m.\u001b[39m_constructor(result, index\u001b[38;5;241m=\u001b[39m\u001b[38;5;28mself\u001b[39m\u001b[38;5;241m.\u001b[39mindex, copy\u001b[38;5;241m=\u001b[39m\u001b[38;5;28;01mFalse\u001b[39;00m)\u001b[38;5;241m.\u001b[39m__finalize__(\n\u001b[1;32m   5561\u001b[0m         \u001b[38;5;28mself\u001b[39m, method\u001b[38;5;241m=\u001b[39m\u001b[38;5;124m\"\u001b[39m\u001b[38;5;124misin\u001b[39m\u001b[38;5;124m\"\u001b[39m\n\u001b[1;32m   5562\u001b[0m     )\n",
      "File \u001b[0;32m~/miniforge3/envs/ada/lib/python3.11/site-packages/pandas/core/algorithms.py:545\u001b[0m, in \u001b[0;36misin\u001b[0;34m(comps, values)\u001b[0m\n\u001b[1;32m    542\u001b[0m     comps_array \u001b[38;5;241m=\u001b[39m comps_array\u001b[38;5;241m.\u001b[39mastype(common, copy\u001b[38;5;241m=\u001b[39m\u001b[38;5;28;01mFalse\u001b[39;00m)\n\u001b[1;32m    543\u001b[0m     f \u001b[38;5;241m=\u001b[39m htable\u001b[38;5;241m.\u001b[39mismember\n\u001b[0;32m--> 545\u001b[0m \u001b[38;5;28;01mreturn\u001b[39;00m \u001b[43mf\u001b[49m\u001b[43m(\u001b[49m\u001b[43mcomps_array\u001b[49m\u001b[43m,\u001b[49m\u001b[43m \u001b[49m\u001b[43mvalues\u001b[49m\u001b[43m)\u001b[49m\n",
      "\u001b[0;31mKeyboardInterrupt\u001b[0m: "
     ]
    }
   ],
   "source": [
    "# get comments on (n&p) videos from our selected channels using the ids from filtered video dataset from the selected channels\n",
    "\n",
    "comments_news_pol_selected_channels_filepath = dataset_root_path + \"../generated_data/comments_news_pol_selected_channels.csv\"\n",
    "\n",
    "try:\n",
    "    df_comments_news_pol_manually_selected = pd.read_csv(comments_news_pol_selected_channels_filepath)\n",
    "    print(\"Read data from file\")\n",
    "except FileNotFoundError:\n",
    "\n",
    "    # get all the comments made on a video uploaded by one of our selected channels\n",
    "    df_comments_news_pol_manually_selected = dp.run_simple_function_on_chunks_concat(\n",
    "        comments_in_chunks_clean(chunksize=1000000), \n",
    "        lambda comment_df: comment_df[comment_df.video_id.isin(df_videos_news_pol_manually_selected.display_id)],\n",
    "        print_time=(1000000, 8600000000))\n",
    "    \n",
    "    # merge it with the video data of the selected channels, to get the channel id directly in the comment df\n",
    "    df_comments_news_pol_manually_selected.merge(\n",
    "        df_videos_news_pol_manually_selected.loc[[\"display_id\", \"channel_id\"]], \n",
    "        left_on=\"video_id\", right_on=\"display_id\")\n",
    "    # save as csv\n",
    "    df_comments_news_pol_manually_selected.to_csv(comments_news_pol_selected_channels_filepath)"
   ]
  },
  {
   "cell_type": "code",
   "execution_count": null,
   "metadata": {},
   "outputs": [
    {
     "data": {
      "text/html": [
       "<div>\n",
       "<style scoped>\n",
       "    .dataframe tbody tr th:only-of-type {\n",
       "        vertical-align: middle;\n",
       "    }\n",
       "\n",
       "    .dataframe tbody tr th {\n",
       "        vertical-align: top;\n",
       "    }\n",
       "\n",
       "    .dataframe thead th {\n",
       "        text-align: right;\n",
       "    }\n",
       "</style>\n",
       "<table border=\"1\" class=\"dataframe\">\n",
       "  <thead>\n",
       "    <tr style=\"text-align: right;\">\n",
       "      <th></th>\n",
       "      <th>author</th>\n",
       "      <th>video_id</th>\n",
       "      <th>likes</th>\n",
       "      <th>replies</th>\n",
       "    </tr>\n",
       "  </thead>\n",
       "  <tbody>\n",
       "    <tr>\n",
       "      <th>6868268</th>\n",
       "      <td>453667</td>\n",
       "      <td>3vQK78eUg2A</td>\n",
       "      <td>2</td>\n",
       "      <td>1</td>\n",
       "    </tr>\n",
       "    <tr>\n",
       "      <th>7094579</th>\n",
       "      <td>468696</td>\n",
       "      <td>SWZG-ba1qDk</td>\n",
       "      <td>15</td>\n",
       "      <td>18</td>\n",
       "    </tr>\n",
       "    <tr>\n",
       "      <th>8912192</th>\n",
       "      <td>594074</td>\n",
       "      <td>hn2zYwqSINY</td>\n",
       "      <td>0</td>\n",
       "      <td>1</td>\n",
       "    </tr>\n",
       "  </tbody>\n",
       "</table>\n",
       "</div>"
      ],
      "text/plain": [
       "         author     video_id  likes  replies\n",
       "6868268  453667  3vQK78eUg2A      2        1\n",
       "7094579  468696  SWZG-ba1qDk     15       18\n",
       "8912192  594074  hn2zYwqSINY      0        1"
      ]
     },
     "metadata": {},
     "output_type": "display_data"
    }
   ],
   "source": [
    "display(df_comments_news_pol_manually_selected.head())\n",
    "display(df_comments_news_pol_manually_selected.shape)"
   ]
  },
  {
   "cell_type": "code",
   "execution_count": null,
   "metadata": {},
   "outputs": [],
   "source": [
    "# define the file paths for the files for comments from each of the channels\n",
    "\n",
    "comments_news_pol_selected_channels_filepaths = [\n",
    "    dataset_root_path + \"../generated_data/comments_news_pol_\" + channel + \".csv\" \n",
    "    for channel in [\"cnn\", \"abc\", \"bbc\", \"aje\", \"fox\"]\n",
    "    ]\n",
    "\n",
    "# check if all of the files already exist\n",
    "if np.all([os.path.isfile(filepath) for filepath in comments_news_pol_selected_channels_filepaths]):\n",
    "    df_comments_news_pol_cnn = pd.read_csv(comments_news_pol_selected_channels_filepaths[0])\n",
    "    df_comments_news_pol_abc = pd.read_csv(comments_news_pol_selected_channels_filepaths[1])\n",
    "    df_comments_news_pol_bbc = pd.read_csv(comments_news_pol_selected_channels_filepaths[2])\n",
    "    df_comments_news_pol_aje = pd.read_csv(comments_news_pol_selected_channels_filepaths[3])\n",
    "    df_comments_news_pol_fox = pd.read_csv(comments_news_pol_selected_channels_filepaths[4])\n",
    "    print(\"Read 5 dfs from file\")\n",
    "else:\n",
    "    # group the comments by channel\n",
    "    df_comments_news_pol_manually_selected_grouped = df_comments_news_pol_manually_selected.groupby(\"channel_id\")\n",
    "    \n",
    "    # save the groups to new dfs\n",
    "    (df_comments_news_pol_cnn,\n",
    "     df_comments_news_pol_abc,\n",
    "     df_comments_news_pol_bbc,\n",
    "     df_comments_news_pol_aje,\n",
    "     df_comments_news_pol_fox) = (df_comments_news_pol_manually_selected_grouped.get_group(x) \n",
    "                                  for x in df_comments_news_pol_manually_selected_grouped)\n",
    "    \n",
    "    # save the new dfs to csv\n",
    "    df_comments_news_pol_cnn.to_csv(comments_news_pol_selected_channels_filepaths[0])\n",
    "    df_comments_news_pol_cnn.to_csv(comments_news_pol_selected_channels_filepaths[1])\n",
    "    df_comments_news_pol_cnn.to_csv(comments_news_pol_selected_channels_filepaths[2])\n",
    "    df_comments_news_pol_cnn.to_csv(comments_news_pol_selected_channels_filepaths[3])\n",
    "    df_comments_news_pol_cnn.to_csv(comments_news_pol_selected_channels_filepaths[4])"
   ]
  },
  {
   "cell_type": "markdown",
   "metadata": {},
   "source": [
    "### Plots \n",
    "1. Using the previous functions, plot the tot nb of comments and/or subscribers in the selected channels (all on same plot).\n",
    "\n",
    "2. For each channel, plot the distribution of comments for all the users."
   ]
  },
  {
   "cell_type": "markdown",
   "metadata": {},
   "source": [
    "## Selecting the cluster of users in a specific channel \n",
    "\n",
    "(flexible function where you give the threshold of x comments)\n"
   ]
  },
  {
   "cell_type": "code",
   "execution_count": null,
   "metadata": {},
   "outputs": [
    {
     "data": {
      "text/html": [
       "<div>\n",
       "<style scoped>\n",
       "    .dataframe tbody tr th:only-of-type {\n",
       "        vertical-align: middle;\n",
       "    }\n",
       "\n",
       "    .dataframe tbody tr th {\n",
       "        vertical-align: top;\n",
       "    }\n",
       "\n",
       "    .dataframe thead th {\n",
       "        text-align: right;\n",
       "    }\n",
       "</style>\n",
       "<table border=\"1\" class=\"dataframe\">\n",
       "  <thead>\n",
       "    <tr style=\"text-align: right;\">\n",
       "      <th></th>\n",
       "      <th>author</th>\n",
       "      <th>number_of_comments</th>\n",
       "      <th>number_of_videos</th>\n",
       "    </tr>\n",
       "  </thead>\n",
       "  <tbody>\n",
       "    <tr>\n",
       "      <th>0</th>\n",
       "      <td>453667</td>\n",
       "      <td>1</td>\n",
       "      <td>1</td>\n",
       "    </tr>\n",
       "    <tr>\n",
       "      <th>1</th>\n",
       "      <td>468696</td>\n",
       "      <td>1</td>\n",
       "      <td>1</td>\n",
       "    </tr>\n",
       "    <tr>\n",
       "      <th>2</th>\n",
       "      <td>594074</td>\n",
       "      <td>1</td>\n",
       "      <td>1</td>\n",
       "    </tr>\n",
       "  </tbody>\n",
       "</table>\n",
       "</div>"
      ],
      "text/plain": [
       "   author  number_of_comments  number_of_videos\n",
       "0  453667                   1                 1\n",
       "1  468696                   1                 1\n",
       "2  594074                   1                 1"
      ]
     },
     "metadata": {},
     "output_type": "display_data"
    }
   ],
   "source": [
    "#returns df with users_id and total number of comments made in a specific channel\n",
    "def get_metadata_commenters(comment_data: pd.DataFrame, threshold: int = 0) -> pd.DataFrame:\n",
    "    \"\"\"\n",
    "    Generates a dataframe with comment count and number of videos commented under, \n",
    "    for each person that has commented.\n",
    "    Works on any df containing a set of comment data \n",
    "    (e.g., filtered to contain only comments under videos from a certain channel).\n",
    "\n",
    "    Args:\n",
    "        comment_data: df containing the comments for which to generate metadata\n",
    "        threshold: (default 0) only commenters with more than this amount of comments \n",
    "            will be included in the dataframe.\n",
    "\n",
    "    Returns:\n",
    "        df with columns author, number of comments and number of videos\n",
    "    \"\"\"\n",
    "\n",
    "    metadata_commenters = comment_data.groupby('author').agg(number_of_comments=('author', 'size')).reset_index()\n",
    "    metadata_commenters['number_of_videos']= comment_data.groupby('author')['video_id'].nunique().values\n",
    "    \n",
    "    #keep users that wrote more than <threshold> comments \n",
    "    metadata_commenters=metadata_commenters[metadata_commenters['number_of_comments']>=threshold]\n",
    "    return metadata_commenters\n",
    "\n",
    "#test with threshold=0\n",
    "metadata_commenters_news_pol_cnn = get_metadata_commenters(df_comments_news_pol_cnn,0)\n",
    "\n",
    "metadata_commenters_news_pol_cnn.to_csv(dataset_root_path + \"../generated_data/commenter_metadata_news_pol_cnn.csv\")\n",
    "\n",
    "display(metadata_commenters_news_pol_cnn.head())\n",
    "display(metadata_commenters_news_pol_cnn.shape)"
   ]
  },
  {
   "cell_type": "markdown",
   "metadata": {},
   "source": [
    "### Plots\n",
    "1. Venn diagram with clusters of the channels and underline overlaps"
   ]
  },
  {
   "cell_type": "markdown",
   "metadata": {},
   "source": [
    "# Deeper analysis and statistics\n",
    "Todo: \n",
    "create dataset of all comments which are under a video in the news and politics category\n",
    "\n",
    "use this dataset to get the list of videos under which each of the users we found (above) have made a comment\n",
    "\n",
    "for each pair of users, calculate \"number of videos in common (under which both have commented) / min number of videos both users have commented on\"\n",
    "(example: mila commented on 10 videos, andreas on 100 videos, they have 8 videos they both commented on, so the value we calculate is 8/10 = 0.8)\n"
   ]
  }
 ],
 "metadata": {
  "kernelspec": {
   "display_name": "ada",
   "language": "python",
   "name": "python3"
  },
  "language_info": {
   "codemirror_mode": {
    "name": "ipython",
    "version": 3
   },
   "file_extension": ".py",
   "mimetype": "text/x-python",
   "name": "python",
   "nbconvert_exporter": "python",
   "pygments_lexer": "ipython3",
   "version": "3.11.9"
  }
 },
 "nbformat": 4,
 "nbformat_minor": 4
}
